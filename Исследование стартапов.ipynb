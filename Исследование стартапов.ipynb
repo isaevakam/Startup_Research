{
 "cells": [
  {
   "cell_type": "markdown",
   "metadata": {
    "id": "4mJbK1knrJgz"
   },
   "source": [
    "# Проект: Исследование стартапов\n",
    "\n",
    "- Автор: Исаева Камилла \n",
    "- Дата: 06.07.2025"
   ]
  },
  {
   "cell_type": "markdown",
   "metadata": {
    "id": "P6j0r3worJg0"
   },
   "source": [
    "### Цели и задачи проекта"
   ]
  },
  {
   "cell_type": "markdown",
   "metadata": {},
   "source": [
    "**Цель:** Подготовить датасет, проверить соответствие данных здравому смыслу и ответить на вопросы заказчика о предобработке данных и их значении для бизнеса.\n",
    "\n",
    "**Задачи:**\n",
    "1. Определить столбцы для объединения данных из разных таблиц. \n",
    "2. Оценить достоверность данных о сотрудниках стартапов и их образовании. \n",
    "3. Проанализировать значение покупок за 0 или за 1 доллар. \n",
    "4. Изучить зависимость цены от категории стартапов и количества раундов финансирования перед покупкой. \n",
    "5. Рассчитать и отобразить численные показатели и динамику. \n",
    "6. Выявить показатели и признаки, указывающие на повышенную вероятность успешной сделки по покупке компании."
   ]
  },
  {
   "cell_type": "markdown",
   "metadata": {},
   "source": [
    "### Описание данных\n",
    "\n",
    "Для анализа поступили исторические данные о стартапах:\n",
    "\n",
    "**Основные таблицы:**\n",
    "\n",
    "- `/dataset/company_and_rounds.csv` - информация о компаниях и раундах финансирования;\n",
    "- `/dataset/acquisition.csv` - информация о покупках одними компаниями других компаний;\n",
    "- `/dataset/people.csv` - информация о сотрудниках;\n",
    "- `/dataset/education.csv` - информация об образовании сотрудника;\n",
    "- `/dataset/degrees.csv` - информация о типе образования сотрудника.\n",
    "\n",
    "**Дополнительные таблицы:**\n",
    "\n",
    "- `/dataset/fund.csv` - информация о фондах;\n",
    "- `/dataset/investment.csv` - информация о раундах инвестирования.\n",
    "\n",
    "**Описание датасета `company_and_rounds`**\n",
    "- `company ID` — идентификатор компании.\n",
    "- `name` — название компании.\n",
    "- `category code` — категория области деятельности компании.\n",
    "- `status` — статус компании.\n",
    "- `founded at` — дата инвестирования.\n",
    "- `closed at` — дата закрытия компании.\n",
    "- `domain` — официальный сайт компании.\n",
    "- `network username` — ник компании в сети.\n",
    "- `country code` — код страны компании.\n",
    "- `investment rounds` — число инвестиционных раундов.\n",
    "- `funding rounds` — число раундов финансирования.\n",
    "- `funding total` — сумма финансирования.\n",
    "- `milestones` — вехи финансирования.\n",
    "- `funding round id` — идентификатор этапа финансирования.\n",
    "- `company id` — идентификатор компании.\n",
    "- `funded at` — дата финансирования.\n",
    "- `funding round type` — тип финансирования.\n",
    "- `raised amount` — сумма финансирования.\n",
    "- `pre money valuation` — предварительная денежная оценка.\n",
    "- `participants` — число участников.\n",
    "- `is first round` — является ли раунд первым.\n",
    "- `is last round` — является раунд последним.\n",
    "\n",
    "**Описание датасета `acquisition`**\n",
    "- `id` — идентификатор покупки.\n",
    "- `acquiring_company_id` — идентификатор покупающей компании.\n",
    "- `acquired_company_id` — идентификатор покупаемой компании.\n",
    "- `term_code` — варианты расчёта.\n",
    "- `price_amount` — сумма сделки.\n",
    "- `acquired_at` — дата сделки.\n",
    "\n",
    "**Описание датасета `people`**\n",
    "- `id` — идентификатор сотрудника.\n",
    "- `first_name` — имя сотрудника.\n",
    "- `last_name` — фамилия сотрудника.\n",
    "- `company_id` — идентификатор компании.\n",
    "- `network_username` — ник в социальных сетях.\n",
    "\n",
    "**Описание датасета `education`**\n",
    "- `id` — идентификатор записи об образовании.\n",
    "- `person_id` — идентификатор работника.\n",
    "- `instituition` — название учебного заведения.\n",
    "- `graduated_at` — дата получения образования.\n",
    "\n",
    "**Описание датасета `degrees`**\n",
    "- `id` — идентификатор записи.\n",
    "- `object_id` — идентификатор сотрудника.\n",
    "- `degree_type` — тип образования.\n",
    "- `subject` — специальность.\n",
    "\n",
    "\n",
    "\n",
    "**Описание датасета `fund`**\n",
    "- `id` — идентификатор фонда.\n",
    "- `name` — название фонда.\n",
    "- `category_code` — категория области деятельности компании.\n",
    "- `founded_at` — дата создания фонда.\n",
    "- `domain` — сайт фонда.\n",
    "- `network_username` — ник фонда в сети.\n",
    "- `country_code` — код страны фонда.\n",
    "- `investment_rounds` — число инвестиционных раундов.\n",
    "- `invested_companies` — число профинансированных компаний.\n",
    "- `milestones` — вехи финансирования.\n",
    "\n",
    "\n",
    "**Описание датасета `investment`**\n",
    "- `id` — идентификатор этапа инвестирования.\n",
    "- `funding_round_id` — идентификатор раунда инвестирования.\n",
    "- `company_id` — индентификатор компании.\n",
    "- `funding_round_type` — тип финансирования.\n",
    "- `fund_id` — идентификатор фонда."
   ]
  },
  {
   "cell_type": "markdown",
   "metadata": {},
   "source": [
    "### Структура проекта\n",
    "**1. Знакомство с данными и их первичная предобработка:**\n",
    " - 1.1 Вывод общей информации и исправление названий столбцов.\n",
    " - 1.2 Смена типов данных и анализ пропусков.\n",
    "\n",
    "**2. Предобработка данных и предварительное исследование:**\n",
    "- 2.1 Анализ раундов финансирования по годам.\n",
    "- 2.2 Исследование зависимости полноты сведений о сотрудниках от размера компаний.\n",
    "- 2.3 Оценка возможности объединения данных по различным столбцам.\n",
    "- 2.4 Анализ проблемного датасета и причин возникновения пропусков.\n",
    "\n",
    "**3. Исследовательский анализ объединённых таблиц:**\n",
    "- 3.1 Объединение данных для ответа на вопросы заказчика.\n",
    "- 3.2 Анализ выбросов в столбце funding_total.\n",
    "- 3.3 Исследование компаний, проданных за ноль или один доллар.\n",
    "- 3.4 Выделение категорий стартапов с типично высокими ценами и разбросом цен.\n",
    "- 3.5 Анализ количества раундов финансирования перед покупкой стартапа.\n",
    "\n",
    "**4. Итоговый вывод**"
   ]
  },
  {
   "cell_type": "markdown",
   "metadata": {
    "id": "xqr6uttCrJg0"
   },
   "source": [
    "\n",
    "## 1. Знакомство с данными: загрузка и первичная предобработка\n",
    "\n",
    "### 1.1. Вывод общей информации, исправление названия столбцов\n",
    "\n",
    "- Загрузим все данные по проекту.\n",
    "- Проверим названия столбцов.\n",
    "- Выведем информацию, которая необходима вам для принятия решений о предобработке, для каждого из датасетов.\n",
    "\n",
    "---"
   ]
  },
  {
   "cell_type": "markdown",
   "metadata": {
    "colab": {
     "base_uri": "https://localhost:8080/"
    },
    "id": "W_W4jRazrJg0",
    "outputId": "d2409aad-233f-4bb4-ec71-7da96594f9df",
    "vscode": {
     "languageId": "plaintext"
    }
   },
   "source": [
    "Начнём с загрузки библиотек и датасетов. Будем использовать pandas и библиотеки визуализации данных matplotlib и seaborn, а также phik для построения матрицы корреляции. Данные датасетов сохраним переменных: \n",
    "`company_and_rounds_df`,\n",
    "`acquisition_df`,\n",
    "`people_df`,\n",
    "`education_df`, \n",
    "`degrees_df`, \n",
    "`fund_df` и \n",
    "`investment_df`. Далее проверим названия столбцов и выведем информацию, которая необходима нам для принятия решений о предобработке, для каждого из датасетов."
   ]
  },
  {
   "cell_type": "code",
   "execution_count": 1,
   "metadata": {
    "id": "2Tm4Pk__Felf"
   },
   "outputs": [
    {
     "name": "stdout",
     "output_type": "stream",
     "text": [
      "Requirement already satisfied: phik in /opt/anaconda3/lib/python3.12/site-packages (0.12.4)\n",
      "Requirement already satisfied: numpy>=1.18.0 in /opt/anaconda3/lib/python3.12/site-packages (from phik) (1.26.4)\n",
      "Requirement already satisfied: scipy>=1.5.2 in /opt/anaconda3/lib/python3.12/site-packages (from phik) (1.13.1)\n",
      "Requirement already satisfied: pandas>=0.25.1 in /opt/anaconda3/lib/python3.12/site-packages (from phik) (2.2.2)\n",
      "Requirement already satisfied: matplotlib>=2.2.3 in /opt/anaconda3/lib/python3.12/site-packages (from phik) (3.9.2)\n",
      "Requirement already satisfied: joblib>=0.14.1 in /opt/anaconda3/lib/python3.12/site-packages (from phik) (1.4.2)\n",
      "Requirement already satisfied: contourpy>=1.0.1 in /opt/anaconda3/lib/python3.12/site-packages (from matplotlib>=2.2.3->phik) (1.2.0)\n",
      "Requirement already satisfied: cycler>=0.10 in /opt/anaconda3/lib/python3.12/site-packages (from matplotlib>=2.2.3->phik) (0.11.0)\n",
      "Requirement already satisfied: fonttools>=4.22.0 in /opt/anaconda3/lib/python3.12/site-packages (from matplotlib>=2.2.3->phik) (4.51.0)\n",
      "Requirement already satisfied: kiwisolver>=1.3.1 in /opt/anaconda3/lib/python3.12/site-packages (from matplotlib>=2.2.3->phik) (1.4.4)\n",
      "Requirement already satisfied: packaging>=20.0 in /opt/anaconda3/lib/python3.12/site-packages (from matplotlib>=2.2.3->phik) (24.1)\n",
      "Requirement already satisfied: pillow>=8 in /opt/anaconda3/lib/python3.12/site-packages (from matplotlib>=2.2.3->phik) (10.4.0)\n",
      "Requirement already satisfied: pyparsing>=2.3.1 in /opt/anaconda3/lib/python3.12/site-packages (from matplotlib>=2.2.3->phik) (3.1.2)\n",
      "Requirement already satisfied: python-dateutil>=2.7 in /opt/anaconda3/lib/python3.12/site-packages (from matplotlib>=2.2.3->phik) (2.9.0.post0)\n",
      "Requirement already satisfied: pytz>=2020.1 in /opt/anaconda3/lib/python3.12/site-packages (from pandas>=0.25.1->phik) (2024.1)\n",
      "Requirement already satisfied: tzdata>=2022.7 in /opt/anaconda3/lib/python3.12/site-packages (from pandas>=0.25.1->phik) (2023.3)\n",
      "Requirement already satisfied: six>=1.5 in /opt/anaconda3/lib/python3.12/site-packages (from python-dateutil>=2.7->matplotlib>=2.2.3->phik) (1.16.0)\n"
     ]
    }
   ],
   "source": [
    "# Установим phik\n",
    "!pip install phik"
   ]
  },
  {
   "cell_type": "code",
   "execution_count": 2,
   "metadata": {},
   "outputs": [
    {
     "name": "stdout",
     "output_type": "stream",
     "text": [
      "Requirement already satisfied: matplotlib-venn in /opt/anaconda3/lib/python3.12/site-packages (1.1.2)\n",
      "Requirement already satisfied: matplotlib in /opt/anaconda3/lib/python3.12/site-packages (from matplotlib-venn) (3.9.2)\n",
      "Requirement already satisfied: numpy in /opt/anaconda3/lib/python3.12/site-packages (from matplotlib-venn) (1.26.4)\n",
      "Requirement already satisfied: scipy in /opt/anaconda3/lib/python3.12/site-packages (from matplotlib-venn) (1.13.1)\n",
      "Requirement already satisfied: contourpy>=1.0.1 in /opt/anaconda3/lib/python3.12/site-packages (from matplotlib->matplotlib-venn) (1.2.0)\n",
      "Requirement already satisfied: cycler>=0.10 in /opt/anaconda3/lib/python3.12/site-packages (from matplotlib->matplotlib-venn) (0.11.0)\n",
      "Requirement already satisfied: fonttools>=4.22.0 in /opt/anaconda3/lib/python3.12/site-packages (from matplotlib->matplotlib-venn) (4.51.0)\n",
      "Requirement already satisfied: kiwisolver>=1.3.1 in /opt/anaconda3/lib/python3.12/site-packages (from matplotlib->matplotlib-venn) (1.4.4)\n",
      "Requirement already satisfied: packaging>=20.0 in /opt/anaconda3/lib/python3.12/site-packages (from matplotlib->matplotlib-venn) (24.1)\n",
      "Requirement already satisfied: pillow>=8 in /opt/anaconda3/lib/python3.12/site-packages (from matplotlib->matplotlib-venn) (10.4.0)\n",
      "Requirement already satisfied: pyparsing>=2.3.1 in /opt/anaconda3/lib/python3.12/site-packages (from matplotlib->matplotlib-venn) (3.1.2)\n",
      "Requirement already satisfied: python-dateutil>=2.7 in /opt/anaconda3/lib/python3.12/site-packages (from matplotlib->matplotlib-venn) (2.9.0.post0)\n",
      "Requirement already satisfied: six>=1.5 in /opt/anaconda3/lib/python3.12/site-packages (from python-dateutil>=2.7->matplotlib->matplotlib-venn) (1.16.0)\n"
     ]
    }
   ],
   "source": [
    "# Установим matplotlib-venn\n",
    "!pip install matplotlib-venn"
   ]
  },
  {
   "cell_type": "code",
   "execution_count": 3,
   "metadata": {
    "id": "oNqJ2qpRFebv"
   },
   "outputs": [],
   "source": [
    "# Импортируем библиотеки\n",
    "import pandas as pd\n",
    "\n",
    "# Загружаем библиотеки для визуализации данных\n",
    "import matplotlib.pyplot as plt\n",
    "import seaborn as sns\n",
    "\n",
    "# Загружаем библиотеку для расчёта коэффициента корреляции phi_k\n",
    "from phik import phik_matrix\n",
    "\n",
    "# Загружаем библиотеку для визуализации диаграммы Венна\n",
    "from matplotlib_venn import venn2"
   ]
  },
  {
   "cell_type": "code",
   "execution_count": 4,
   "metadata": {},
   "outputs": [],
   "source": [
    "# Выгружаем данные датасетов в переменные\n",
    "company_and_rounds_df = pd.read_csv('https://code.s3.yandex.net/datasets/company_and_rounds.csv')\n",
    "acquisition_df = pd.read_csv('https://code.s3.yandex.net/datasets/acquisition.csv')\n",
    "people_df = pd.read_csv('https://code.s3.yandex.net/datasets/people.csv')\n",
    "education_df = pd.read_csv('https://code.s3.yandex.net/datasets/education.csv')\n",
    "degrees_df = pd.read_csv('https://code.s3.yandex.net/datasets/degrees.csv')\n",
    "\n",
    "fund_df = pd.read_csv('https://code.s3.yandex.net/datasets/fund.csv')\n",
    "investment_df = pd.read_csv('https://code.s3.yandex.net/datasets/investment.csv')\n"
   ]
  },
  {
   "cell_type": "markdown",
   "metadata": {},
   "source": [
    "Познакомимся с данными основных датасетов (необязательные таблицы затрагивать не будем) — выведем первые строки методом `head()`, а информацию о датафреймах методом `info()`:"
   ]
  },
  {
   "cell_type": "code",
   "execution_count": 5,
   "metadata": {},
   "outputs": [
    {
     "data": {
      "text/html": [
       "<div>\n",
       "<style scoped>\n",
       "    .dataframe tbody tr th:only-of-type {\n",
       "        vertical-align: middle;\n",
       "    }\n",
       "\n",
       "    .dataframe tbody tr th {\n",
       "        vertical-align: top;\n",
       "    }\n",
       "\n",
       "    .dataframe thead th {\n",
       "        text-align: right;\n",
       "    }\n",
       "</style>\n",
       "<table border=\"1\" class=\"dataframe\">\n",
       "  <thead>\n",
       "    <tr style=\"text-align: right;\">\n",
       "      <th></th>\n",
       "      <th>company  ID</th>\n",
       "      <th>name</th>\n",
       "      <th>category  code</th>\n",
       "      <th>status</th>\n",
       "      <th>founded  at</th>\n",
       "      <th>closed  at</th>\n",
       "      <th>domain</th>\n",
       "      <th>network  username</th>\n",
       "      <th>country  code</th>\n",
       "      <th>investment  rounds</th>\n",
       "      <th>...</th>\n",
       "      <th>milestones</th>\n",
       "      <th>funding  round  id</th>\n",
       "      <th>company  id</th>\n",
       "      <th>funded  at</th>\n",
       "      <th>funding  round  type</th>\n",
       "      <th>raised  amount</th>\n",
       "      <th>pre  money  valuation</th>\n",
       "      <th>participants</th>\n",
       "      <th>is  first  round</th>\n",
       "      <th>is  last  round</th>\n",
       "    </tr>\n",
       "  </thead>\n",
       "  <tbody>\n",
       "    <tr>\n",
       "      <th>0</th>\n",
       "      <td>1.0</td>\n",
       "      <td>Wetpaint</td>\n",
       "      <td>web</td>\n",
       "      <td>operating</td>\n",
       "      <td>2005-10-17</td>\n",
       "      <td>NaN</td>\n",
       "      <td>wetpaint-inc.com</td>\n",
       "      <td>BachelrWetpaint</td>\n",
       "      <td>USA</td>\n",
       "      <td>0.0</td>\n",
       "      <td>...</td>\n",
       "      <td>5.0</td>\n",
       "      <td>888.0</td>\n",
       "      <td>1.0</td>\n",
       "      <td>2005-10-01</td>\n",
       "      <td>series-a</td>\n",
       "      <td>5250000.0</td>\n",
       "      <td>0.0</td>\n",
       "      <td>2.0</td>\n",
       "      <td>0.0</td>\n",
       "      <td>1.0</td>\n",
       "    </tr>\n",
       "    <tr>\n",
       "      <th>1</th>\n",
       "      <td>1.0</td>\n",
       "      <td>Wetpaint</td>\n",
       "      <td>web</td>\n",
       "      <td>operating</td>\n",
       "      <td>2005-10-17</td>\n",
       "      <td>NaN</td>\n",
       "      <td>wetpaint-inc.com</td>\n",
       "      <td>BachelrWetpaint</td>\n",
       "      <td>USA</td>\n",
       "      <td>0.0</td>\n",
       "      <td>...</td>\n",
       "      <td>5.0</td>\n",
       "      <td>889.0</td>\n",
       "      <td>1.0</td>\n",
       "      <td>2007-01-01</td>\n",
       "      <td>series-b</td>\n",
       "      <td>9500000.0</td>\n",
       "      <td>0.0</td>\n",
       "      <td>3.0</td>\n",
       "      <td>0.0</td>\n",
       "      <td>0.0</td>\n",
       "    </tr>\n",
       "    <tr>\n",
       "      <th>2</th>\n",
       "      <td>1.0</td>\n",
       "      <td>Wetpaint</td>\n",
       "      <td>web</td>\n",
       "      <td>operating</td>\n",
       "      <td>2005-10-17</td>\n",
       "      <td>NaN</td>\n",
       "      <td>wetpaint-inc.com</td>\n",
       "      <td>BachelrWetpaint</td>\n",
       "      <td>USA</td>\n",
       "      <td>0.0</td>\n",
       "      <td>...</td>\n",
       "      <td>5.0</td>\n",
       "      <td>2312.0</td>\n",
       "      <td>1.0</td>\n",
       "      <td>2008-05-19</td>\n",
       "      <td>series-c+</td>\n",
       "      <td>25000000.0</td>\n",
       "      <td>0.0</td>\n",
       "      <td>4.0</td>\n",
       "      <td>1.0</td>\n",
       "      <td>0.0</td>\n",
       "    </tr>\n",
       "    <tr>\n",
       "      <th>3</th>\n",
       "      <td>10.0</td>\n",
       "      <td>Flektor</td>\n",
       "      <td>games_video</td>\n",
       "      <td>acquired</td>\n",
       "      <td>NaN</td>\n",
       "      <td>NaN</td>\n",
       "      <td>flektor.com</td>\n",
       "      <td>NaN</td>\n",
       "      <td>USA</td>\n",
       "      <td>0.0</td>\n",
       "      <td>...</td>\n",
       "      <td>0.0</td>\n",
       "      <td>NaN</td>\n",
       "      <td>NaN</td>\n",
       "      <td>NaN</td>\n",
       "      <td>NaN</td>\n",
       "      <td>NaN</td>\n",
       "      <td>NaN</td>\n",
       "      <td>NaN</td>\n",
       "      <td>NaN</td>\n",
       "      <td>NaN</td>\n",
       "    </tr>\n",
       "    <tr>\n",
       "      <th>4</th>\n",
       "      <td>100.0</td>\n",
       "      <td>There</td>\n",
       "      <td>games_video</td>\n",
       "      <td>acquired</td>\n",
       "      <td>NaN</td>\n",
       "      <td>NaN</td>\n",
       "      <td>there.com</td>\n",
       "      <td>NaN</td>\n",
       "      <td>USA</td>\n",
       "      <td>0.0</td>\n",
       "      <td>...</td>\n",
       "      <td>4.0</td>\n",
       "      <td>NaN</td>\n",
       "      <td>NaN</td>\n",
       "      <td>NaN</td>\n",
       "      <td>NaN</td>\n",
       "      <td>NaN</td>\n",
       "      <td>NaN</td>\n",
       "      <td>NaN</td>\n",
       "      <td>NaN</td>\n",
       "      <td>NaN</td>\n",
       "    </tr>\n",
       "  </tbody>\n",
       "</table>\n",
       "<p>5 rows × 22 columns</p>\n",
       "</div>"
      ],
      "text/plain": [
       "   company  ID      name category  code     status founded  at closed  at  \\\n",
       "0          1.0  Wetpaint            web  operating  2005-10-17        NaN   \n",
       "1          1.0  Wetpaint            web  operating  2005-10-17        NaN   \n",
       "2          1.0  Wetpaint            web  operating  2005-10-17        NaN   \n",
       "3         10.0   Flektor    games_video   acquired         NaN        NaN   \n",
       "4        100.0     There    games_video   acquired         NaN        NaN   \n",
       "\n",
       "             domain network  username country  code  investment  rounds  ...  \\\n",
       "0  wetpaint-inc.com   BachelrWetpaint           USA                 0.0  ...   \n",
       "1  wetpaint-inc.com   BachelrWetpaint           USA                 0.0  ...   \n",
       "2  wetpaint-inc.com   BachelrWetpaint           USA                 0.0  ...   \n",
       "3       flektor.com               NaN           USA                 0.0  ...   \n",
       "4         there.com               NaN           USA                 0.0  ...   \n",
       "\n",
       "   milestones  funding  round  id  company  id  funded  at  \\\n",
       "0         5.0               888.0          1.0  2005-10-01   \n",
       "1         5.0               889.0          1.0  2007-01-01   \n",
       "2         5.0              2312.0          1.0  2008-05-19   \n",
       "3         0.0                 NaN          NaN         NaN   \n",
       "4         4.0                 NaN          NaN         NaN   \n",
       "\n",
       "   funding  round  type raised  amount pre  money  valuation  participants  \\\n",
       "0              series-a      5250000.0                   0.0           2.0   \n",
       "1              series-b      9500000.0                   0.0           3.0   \n",
       "2             series-c+     25000000.0                   0.0           4.0   \n",
       "3                   NaN            NaN                   NaN           NaN   \n",
       "4                   NaN            NaN                   NaN           NaN   \n",
       "\n",
       "   is  first  round  is  last  round  \n",
       "0               0.0              1.0  \n",
       "1               0.0              0.0  \n",
       "2               1.0              0.0  \n",
       "3               NaN              NaN  \n",
       "4               NaN              NaN  \n",
       "\n",
       "[5 rows x 22 columns]"
      ]
     },
     "execution_count": 5,
     "metadata": {},
     "output_type": "execute_result"
    }
   ],
   "source": [
    "# Выводим первые строки датафрейма company_df на экран\n",
    "company_and_rounds_df.head()"
   ]
  },
  {
   "cell_type": "markdown",
   "metadata": {},
   "source": [
    "Видим, что в датафрейме `company_and_rounds_df` есть одинаковые наименования столбцов: `company ID` и `company id`. Переименуем `company ID` в `company_id_1`, а `company id` в `company_id_2`. Также уберём лишние пробелы в столбцах датафрейма."
   ]
  },
  {
   "cell_type": "code",
   "execution_count": 6,
   "metadata": {},
   "outputs": [],
   "source": [
    "# Убираем лишние пробелы\n",
    "company_and_rounds_df.columns = company_and_rounds_df.columns.map(lambda x: x.replace('  ', '_'))"
   ]
  },
  {
   "cell_type": "code",
   "execution_count": 7,
   "metadata": {},
   "outputs": [],
   "source": [
    "# Меняем названия для столбцов\n",
    "company_and_rounds_df = company_and_rounds_df.rename(columns={'company_ID':'company_id_1',\n",
    "                          'company_id':'company_id_2'})"
   ]
  },
  {
   "cell_type": "code",
   "execution_count": 8,
   "metadata": {},
   "outputs": [
    {
     "name": "stdout",
     "output_type": "stream",
     "text": [
      "<class 'pandas.core.frame.DataFrame'>\n",
      "RangeIndex: 217774 entries, 0 to 217773\n",
      "Data columns (total 22 columns):\n",
      " #   Column               Non-Null Count   Dtype  \n",
      "---  ------               --------------   -----  \n",
      " 0   company_id_1         217472 non-null  float64\n",
      " 1   name                 217471 non-null  object \n",
      " 2   category_code        143886 non-null  object \n",
      " 3   status               217472 non-null  object \n",
      " 4   founded_at           109956 non-null  object \n",
      " 5   closed_at            3449 non-null    object \n",
      " 6   domain               147159 non-null  object \n",
      " 7   network_username     95534 non-null   object \n",
      " 8   country_code         108607 non-null  object \n",
      " 9   investment_rounds    217472 non-null  float64\n",
      " 10  funding_rounds       217472 non-null  float64\n",
      " 11  funding_total        217472 non-null  float64\n",
      " 12  milestones           217472 non-null  float64\n",
      " 13  funding_round_id     52928 non-null   float64\n",
      " 14  company_id_2         52928 non-null   float64\n",
      " 15  funded_at            52680 non-null   object \n",
      " 16  funding_round_type   52928 non-null   object \n",
      " 17  raised_amount        52928 non-null   float64\n",
      " 18  pre_money_valuation  52928 non-null   float64\n",
      " 19  participants         52928 non-null   float64\n",
      " 20  is_first_round       52928 non-null   float64\n",
      " 21  is_last_round        52928 non-null   float64\n",
      "dtypes: float64(12), object(10)\n",
      "memory usage: 36.6+ MB\n"
     ]
    }
   ],
   "source": [
    "# Выводим информацию о датафрейме company_and_rounds_df\n",
    "company_and_rounds_df.info()"
   ]
  },
  {
   "cell_type": "code",
   "execution_count": 9,
   "metadata": {},
   "outputs": [
    {
     "data": {
      "text/html": [
       "<div>\n",
       "<style scoped>\n",
       "    .dataframe tbody tr th:only-of-type {\n",
       "        vertical-align: middle;\n",
       "    }\n",
       "\n",
       "    .dataframe tbody tr th {\n",
       "        vertical-align: top;\n",
       "    }\n",
       "\n",
       "    .dataframe thead th {\n",
       "        text-align: right;\n",
       "    }\n",
       "</style>\n",
       "<table border=\"1\" class=\"dataframe\">\n",
       "  <thead>\n",
       "    <tr style=\"text-align: right;\">\n",
       "      <th></th>\n",
       "      <th>id</th>\n",
       "      <th>acquiring_company_id</th>\n",
       "      <th>acquired_company_id</th>\n",
       "      <th>term_code</th>\n",
       "      <th>price_amount</th>\n",
       "      <th>acquired_at</th>\n",
       "    </tr>\n",
       "  </thead>\n",
       "  <tbody>\n",
       "    <tr>\n",
       "      <th>0</th>\n",
       "      <td>1</td>\n",
       "      <td>11</td>\n",
       "      <td>10</td>\n",
       "      <td>NaN</td>\n",
       "      <td>20000000</td>\n",
       "      <td>2007-05-30</td>\n",
       "    </tr>\n",
       "    <tr>\n",
       "      <th>1</th>\n",
       "      <td>7</td>\n",
       "      <td>59</td>\n",
       "      <td>72</td>\n",
       "      <td>cash</td>\n",
       "      <td>60000000</td>\n",
       "      <td>2007-07-01</td>\n",
       "    </tr>\n",
       "    <tr>\n",
       "      <th>2</th>\n",
       "      <td>8</td>\n",
       "      <td>24</td>\n",
       "      <td>132</td>\n",
       "      <td>cash</td>\n",
       "      <td>280000000</td>\n",
       "      <td>2007-05-01</td>\n",
       "    </tr>\n",
       "    <tr>\n",
       "      <th>3</th>\n",
       "      <td>9</td>\n",
       "      <td>59</td>\n",
       "      <td>155</td>\n",
       "      <td>cash</td>\n",
       "      <td>100000000</td>\n",
       "      <td>2007-06-01</td>\n",
       "    </tr>\n",
       "    <tr>\n",
       "      <th>4</th>\n",
       "      <td>10</td>\n",
       "      <td>212</td>\n",
       "      <td>215</td>\n",
       "      <td>cash</td>\n",
       "      <td>25000000</td>\n",
       "      <td>2007-07-01</td>\n",
       "    </tr>\n",
       "  </tbody>\n",
       "</table>\n",
       "</div>"
      ],
      "text/plain": [
       "   id  acquiring_company_id  acquired_company_id term_code  price_amount  \\\n",
       "0   1                    11                   10       NaN      20000000   \n",
       "1   7                    59                   72      cash      60000000   \n",
       "2   8                    24                  132      cash     280000000   \n",
       "3   9                    59                  155      cash     100000000   \n",
       "4  10                   212                  215      cash      25000000   \n",
       "\n",
       "  acquired_at  \n",
       "0  2007-05-30  \n",
       "1  2007-07-01  \n",
       "2  2007-05-01  \n",
       "3  2007-06-01  \n",
       "4  2007-07-01  "
      ]
     },
     "execution_count": 9,
     "metadata": {},
     "output_type": "execute_result"
    }
   ],
   "source": [
    "# Выводим первые строки датафрейма acquisition_df на экран\n",
    "acquisition_df.head()"
   ]
  },
  {
   "cell_type": "code",
   "execution_count": 10,
   "metadata": {},
   "outputs": [
    {
     "name": "stdout",
     "output_type": "stream",
     "text": [
      "<class 'pandas.core.frame.DataFrame'>\n",
      "RangeIndex: 9407 entries, 0 to 9406\n",
      "Data columns (total 6 columns):\n",
      " #   Column                Non-Null Count  Dtype \n",
      "---  ------                --------------  ----- \n",
      " 0   id                    9407 non-null   int64 \n",
      " 1   acquiring_company_id  9407 non-null   int64 \n",
      " 2   acquired_company_id   9407 non-null   int64 \n",
      " 3   term_code             1831 non-null   object\n",
      " 4   price_amount          9407 non-null   int64 \n",
      " 5   acquired_at           9378 non-null   object\n",
      "dtypes: int64(4), object(2)\n",
      "memory usage: 441.1+ KB\n"
     ]
    }
   ],
   "source": [
    "# Выводим информацию о датафрейме acquisition_df\n",
    "acquisition_df.info()"
   ]
  },
  {
   "cell_type": "code",
   "execution_count": 11,
   "metadata": {},
   "outputs": [
    {
     "data": {
      "text/html": [
       "<div>\n",
       "<style scoped>\n",
       "    .dataframe tbody tr th:only-of-type {\n",
       "        vertical-align: middle;\n",
       "    }\n",
       "\n",
       "    .dataframe tbody tr th {\n",
       "        vertical-align: top;\n",
       "    }\n",
       "\n",
       "    .dataframe thead th {\n",
       "        text-align: right;\n",
       "    }\n",
       "</style>\n",
       "<table border=\"1\" class=\"dataframe\">\n",
       "  <thead>\n",
       "    <tr style=\"text-align: right;\">\n",
       "      <th></th>\n",
       "      <th>id</th>\n",
       "      <th>first_name</th>\n",
       "      <th>last_name</th>\n",
       "      <th>company_id</th>\n",
       "      <th>network_username</th>\n",
       "    </tr>\n",
       "  </thead>\n",
       "  <tbody>\n",
       "    <tr>\n",
       "      <th>0</th>\n",
       "      <td>10</td>\n",
       "      <td>Mark</td>\n",
       "      <td>Zuckerberg</td>\n",
       "      <td>5.0</td>\n",
       "      <td>NaN</td>\n",
       "    </tr>\n",
       "    <tr>\n",
       "      <th>1</th>\n",
       "      <td>100</td>\n",
       "      <td>Peter</td>\n",
       "      <td>Lester</td>\n",
       "      <td>27.0</td>\n",
       "      <td>NaN</td>\n",
       "    </tr>\n",
       "    <tr>\n",
       "      <th>2</th>\n",
       "      <td>1000</td>\n",
       "      <td>Dr. Steven</td>\n",
       "      <td>E. Saunders</td>\n",
       "      <td>292.0</td>\n",
       "      <td>NaN</td>\n",
       "    </tr>\n",
       "    <tr>\n",
       "      <th>3</th>\n",
       "      <td>10000</td>\n",
       "      <td>Neil</td>\n",
       "      <td>Capel</td>\n",
       "      <td>2526.0</td>\n",
       "      <td>NaN</td>\n",
       "    </tr>\n",
       "    <tr>\n",
       "      <th>4</th>\n",
       "      <td>100000</td>\n",
       "      <td>Sue</td>\n",
       "      <td>Pilsch</td>\n",
       "      <td>NaN</td>\n",
       "      <td>NaN</td>\n",
       "    </tr>\n",
       "  </tbody>\n",
       "</table>\n",
       "</div>"
      ],
      "text/plain": [
       "       id  first_name    last_name  company_id network_username\n",
       "0      10        Mark   Zuckerberg         5.0              NaN\n",
       "1     100       Peter       Lester        27.0              NaN\n",
       "2    1000  Dr. Steven  E. Saunders       292.0              NaN\n",
       "3   10000        Neil        Capel      2526.0              NaN\n",
       "4  100000         Sue       Pilsch         NaN              NaN"
      ]
     },
     "execution_count": 11,
     "metadata": {},
     "output_type": "execute_result"
    }
   ],
   "source": [
    "# Выводим первые строки датафрейма people_df на экран\n",
    "people_df.head()"
   ]
  },
  {
   "cell_type": "code",
   "execution_count": 12,
   "metadata": {},
   "outputs": [
    {
     "name": "stdout",
     "output_type": "stream",
     "text": [
      "<class 'pandas.core.frame.DataFrame'>\n",
      "RangeIndex: 226709 entries, 0 to 226708\n",
      "Data columns (total 5 columns):\n",
      " #   Column            Non-Null Count   Dtype  \n",
      "---  ------            --------------   -----  \n",
      " 0   id                226709 non-null  int64  \n",
      " 1   first_name        226700 non-null  object \n",
      " 2   last_name         226705 non-null  object \n",
      " 3   company_id        34615 non-null   float64\n",
      " 4   network_username  38867 non-null   object \n",
      "dtypes: float64(1), int64(1), object(3)\n",
      "memory usage: 8.6+ MB\n"
     ]
    }
   ],
   "source": [
    "# Выводим информацию о датафрейме people_df\n",
    "people_df.info()"
   ]
  },
  {
   "cell_type": "code",
   "execution_count": 13,
   "metadata": {},
   "outputs": [
    {
     "data": {
      "text/html": [
       "<div>\n",
       "<style scoped>\n",
       "    .dataframe tbody tr th:only-of-type {\n",
       "        vertical-align: middle;\n",
       "    }\n",
       "\n",
       "    .dataframe tbody tr th {\n",
       "        vertical-align: top;\n",
       "    }\n",
       "\n",
       "    .dataframe thead th {\n",
       "        text-align: right;\n",
       "    }\n",
       "</style>\n",
       "<table border=\"1\" class=\"dataframe\">\n",
       "  <thead>\n",
       "    <tr style=\"text-align: right;\">\n",
       "      <th></th>\n",
       "      <th>id</th>\n",
       "      <th>person_id</th>\n",
       "      <th>instituition</th>\n",
       "      <th>graduated_at</th>\n",
       "    </tr>\n",
       "  </thead>\n",
       "  <tbody>\n",
       "    <tr>\n",
       "      <th>0</th>\n",
       "      <td>1</td>\n",
       "      <td>6117</td>\n",
       "      <td>NaN</td>\n",
       "      <td>NaN</td>\n",
       "    </tr>\n",
       "    <tr>\n",
       "      <th>1</th>\n",
       "      <td>2</td>\n",
       "      <td>6136</td>\n",
       "      <td>Washington University, St. Louis</td>\n",
       "      <td>1990-01-01</td>\n",
       "    </tr>\n",
       "    <tr>\n",
       "      <th>2</th>\n",
       "      <td>3</td>\n",
       "      <td>6136</td>\n",
       "      <td>Boston University</td>\n",
       "      <td>1992-01-01</td>\n",
       "    </tr>\n",
       "    <tr>\n",
       "      <th>3</th>\n",
       "      <td>4</td>\n",
       "      <td>6005</td>\n",
       "      <td>University of Greenwich</td>\n",
       "      <td>2006-01-01</td>\n",
       "    </tr>\n",
       "    <tr>\n",
       "      <th>4</th>\n",
       "      <td>5</td>\n",
       "      <td>5832</td>\n",
       "      <td>Rice University</td>\n",
       "      <td>NaN</td>\n",
       "    </tr>\n",
       "  </tbody>\n",
       "</table>\n",
       "</div>"
      ],
      "text/plain": [
       "   id  person_id                      instituition graduated_at\n",
       "0   1       6117                               NaN          NaN\n",
       "1   2       6136  Washington University, St. Louis   1990-01-01\n",
       "2   3       6136                 Boston University   1992-01-01\n",
       "3   4       6005           University of Greenwich   2006-01-01\n",
       "4   5       5832                   Rice University          NaN"
      ]
     },
     "execution_count": 13,
     "metadata": {},
     "output_type": "execute_result"
    }
   ],
   "source": [
    "# Выводим первые строки датафрейма education_df на экран\n",
    "education_df.head()"
   ]
  },
  {
   "cell_type": "code",
   "execution_count": 14,
   "metadata": {},
   "outputs": [
    {
     "name": "stdout",
     "output_type": "stream",
     "text": [
      "<class 'pandas.core.frame.DataFrame'>\n",
      "RangeIndex: 109610 entries, 0 to 109609\n",
      "Data columns (total 4 columns):\n",
      " #   Column        Non-Null Count   Dtype \n",
      "---  ------        --------------   ----- \n",
      " 0   id            109610 non-null  int64 \n",
      " 1   person_id     109610 non-null  int64 \n",
      " 2   instituition  109555 non-null  object\n",
      " 3   graduated_at  58054 non-null   object\n",
      "dtypes: int64(2), object(2)\n",
      "memory usage: 3.3+ MB\n"
     ]
    }
   ],
   "source": [
    "# Выводим информацию о датафрейме education_df\n",
    "education_df.info()"
   ]
  },
  {
   "cell_type": "code",
   "execution_count": 15,
   "metadata": {},
   "outputs": [
    {
     "data": {
      "text/html": [
       "<div>\n",
       "<style scoped>\n",
       "    .dataframe tbody tr th:only-of-type {\n",
       "        vertical-align: middle;\n",
       "    }\n",
       "\n",
       "    .dataframe tbody tr th {\n",
       "        vertical-align: top;\n",
       "    }\n",
       "\n",
       "    .dataframe thead th {\n",
       "        text-align: right;\n",
       "    }\n",
       "</style>\n",
       "<table border=\"1\" class=\"dataframe\">\n",
       "  <thead>\n",
       "    <tr style=\"text-align: right;\">\n",
       "      <th></th>\n",
       "      <th>id</th>\n",
       "      <th>object_id</th>\n",
       "      <th>degree_type</th>\n",
       "      <th>subject</th>\n",
       "    </tr>\n",
       "  </thead>\n",
       "  <tbody>\n",
       "    <tr>\n",
       "      <th>0</th>\n",
       "      <td>1</td>\n",
       "      <td>p:6117</td>\n",
       "      <td>MBA</td>\n",
       "      <td>NaN</td>\n",
       "    </tr>\n",
       "    <tr>\n",
       "      <th>1</th>\n",
       "      <td>2</td>\n",
       "      <td>p:6136</td>\n",
       "      <td>BA</td>\n",
       "      <td>English, French</td>\n",
       "    </tr>\n",
       "    <tr>\n",
       "      <th>2</th>\n",
       "      <td>3</td>\n",
       "      <td>p:6136</td>\n",
       "      <td>MS</td>\n",
       "      <td>Mass Communication</td>\n",
       "    </tr>\n",
       "    <tr>\n",
       "      <th>3</th>\n",
       "      <td>4</td>\n",
       "      <td>p:6005</td>\n",
       "      <td>MS</td>\n",
       "      <td>Internet Technology</td>\n",
       "    </tr>\n",
       "    <tr>\n",
       "      <th>4</th>\n",
       "      <td>5</td>\n",
       "      <td>p:5832</td>\n",
       "      <td>BCS</td>\n",
       "      <td>Computer Science, Psychology</td>\n",
       "    </tr>\n",
       "  </tbody>\n",
       "</table>\n",
       "</div>"
      ],
      "text/plain": [
       "   id object_id degree_type                       subject\n",
       "0   1    p:6117         MBA                           NaN\n",
       "1   2    p:6136          BA               English, French\n",
       "2   3    p:6136          MS            Mass Communication\n",
       "3   4    p:6005          MS           Internet Technology\n",
       "4   5    p:5832         BCS  Computer Science, Psychology"
      ]
     },
     "execution_count": 15,
     "metadata": {},
     "output_type": "execute_result"
    }
   ],
   "source": [
    "# Выводим первые строки датафрейма degrees_df на экран\n",
    "degrees_df.head()"
   ]
  },
  {
   "cell_type": "code",
   "execution_count": 16,
   "metadata": {},
   "outputs": [
    {
     "name": "stdout",
     "output_type": "stream",
     "text": [
      "<class 'pandas.core.frame.DataFrame'>\n",
      "RangeIndex: 109610 entries, 0 to 109609\n",
      "Data columns (total 4 columns):\n",
      " #   Column       Non-Null Count   Dtype \n",
      "---  ------       --------------   ----- \n",
      " 0   id           109610 non-null  int64 \n",
      " 1   object_id    109610 non-null  object\n",
      " 2   degree_type  98389 non-null   object\n",
      " 3   subject      81298 non-null   object\n",
      "dtypes: int64(1), object(3)\n",
      "memory usage: 3.3+ MB\n"
     ]
    }
   ],
   "source": [
    "# Выводим информацию о датафрейме degrees_df\n",
    "degrees_df.info()"
   ]
  },
  {
   "cell_type": "markdown",
   "metadata": {},
   "source": [
    "Мы загрузили необходимые библиотеки и датасеты. Проверили названия столбцов. Вывели информацию, которая необходима для принятия решений о предобработке, для каждого из датасетов."
   ]
  },
  {
   "cell_type": "markdown",
   "metadata": {
    "id": "mg2gEwh0rJg0"
   },
   "source": [
    "### 1.2. Смена типов и анализ пропусков\n",
    "\n",
    "- Обработаем типы данных в столбцах, которые хранят значения даты и времени.\n",
    "- Оценим полноту данных — сделаем предварительный вывод, достаточно ли данных для решения задач проекта.\n",
    "\n",
    "---"
   ]
  },
  {
   "cell_type": "markdown",
   "metadata": {},
   "source": [
    "**Датафрейм `company_df`**"
   ]
  },
  {
   "cell_type": "code",
   "execution_count": 17,
   "metadata": {},
   "outputs": [
    {
     "name": "stdout",
     "output_type": "stream",
     "text": [
      "<class 'pandas.core.frame.DataFrame'>\n",
      "RangeIndex: 217774 entries, 0 to 217773\n",
      "Data columns (total 22 columns):\n",
      " #   Column               Non-Null Count   Dtype         \n",
      "---  ------               --------------   -----         \n",
      " 0   company_id_1         217472 non-null  float64       \n",
      " 1   name                 217471 non-null  object        \n",
      " 2   category_code        143886 non-null  object        \n",
      " 3   status               217472 non-null  object        \n",
      " 4   founded_at           109956 non-null  datetime64[ns]\n",
      " 5   closed_at            3449 non-null    datetime64[ns]\n",
      " 6   domain               147159 non-null  object        \n",
      " 7   network_username     95534 non-null   object        \n",
      " 8   country_code         108607 non-null  object        \n",
      " 9   investment_rounds    217472 non-null  float64       \n",
      " 10  funding_rounds       217472 non-null  float64       \n",
      " 11  funding_total        217472 non-null  float64       \n",
      " 12  milestones           217472 non-null  float64       \n",
      " 13  funding_round_id     52928 non-null   float64       \n",
      " 14  company_id_2         52928 non-null   float64       \n",
      " 15  funded_at            52680 non-null   datetime64[ns]\n",
      " 16  funding_round_type   52928 non-null   object        \n",
      " 17  raised_amount        52928 non-null   float64       \n",
      " 18  pre_money_valuation  52928 non-null   float64       \n",
      " 19  participants         52928 non-null   float64       \n",
      " 20  is_first_round       52928 non-null   float64       \n",
      " 21  is_last_round        52928 non-null   float64       \n",
      "dtypes: datetime64[ns](3), float64(12), object(7)\n",
      "memory usage: 36.6+ MB\n"
     ]
    }
   ],
   "source": [
    "# Поменяем тип данных для столбцов с датой и временем в датафрейме company_df\n",
    "company_and_rounds_df[['founded_at', 'closed_at', 'funded_at']] = company_and_rounds_df[['founded_at', 'closed_at', 'funded_at']].astype('datetime64[ns]')\n",
    "company_and_rounds_df.info()"
   ]
  },
  {
   "cell_type": "code",
   "execution_count": 18,
   "metadata": {},
   "outputs": [
    {
     "data": {
      "text/plain": [
       "company_id_1              302\n",
       "name                      303\n",
       "category_code           73888\n",
       "status                    302\n",
       "founded_at             107818\n",
       "closed_at              214325\n",
       "domain                  70615\n",
       "network_username       122240\n",
       "country_code           109167\n",
       "investment_rounds         302\n",
       "funding_rounds            302\n",
       "funding_total             302\n",
       "milestones                302\n",
       "funding_round_id       164846\n",
       "company_id_2           164846\n",
       "funded_at              165094\n",
       "funding_round_type     164846\n",
       "raised_amount          164846\n",
       "pre_money_valuation    164846\n",
       "participants           164846\n",
       "is_first_round         164846\n",
       "is_last_round          164846\n",
       "dtype: int64"
      ]
     },
     "execution_count": 18,
     "metadata": {},
     "output_type": "execute_result"
    }
   ],
   "source": [
    "# Проверим наличие пропусков в датафрейме company_df\n",
    "company_and_rounds_df.isna().sum() "
   ]
  },
  {
   "cell_type": "code",
   "execution_count": 19,
   "metadata": {},
   "outputs": [
    {
     "data": {
      "text/plain": [
       "closed_at              98.416248\n",
       "funded_at              75.809784\n",
       "is_last_round          75.695905\n",
       "funding_round_type     75.695905\n",
       "is_first_round         75.695905\n",
       "participants           75.695905\n",
       "pre_money_valuation    75.695905\n",
       "raised_amount          75.695905\n",
       "funding_round_id       75.695905\n",
       "company_id_2           75.695905\n",
       "network_username       56.131586\n",
       "country_code           50.128574\n",
       "founded_at             49.509124\n",
       "category_code          33.928752\n",
       "domain                 32.425818\n",
       "name                    0.139135\n",
       "company_id_1            0.138676\n",
       "milestones              0.138676\n",
       "funding_rounds          0.138676\n",
       "investment_rounds       0.138676\n",
       "status                  0.138676\n",
       "funding_total           0.138676\n",
       "dtype: float64"
      ]
     },
     "execution_count": 19,
     "metadata": {},
     "output_type": "execute_result"
    }
   ],
   "source": [
    "# Подсчитываем процент строк с пропусками в датафрейме company_df\n",
    "grouped_df = company_and_rounds_df.isna().sum() / company_and_rounds_df.shape[0] * 100\n",
    "grouped_df.sort_values(ascending=False)"
   ]
  },
  {
   "cell_type": "markdown",
   "metadata": {},
   "source": [
    "**Датафрейм `acquisition_df`**"
   ]
  },
  {
   "cell_type": "code",
   "execution_count": 20,
   "metadata": {
    "id": "46VskrGyFeJ-"
   },
   "outputs": [
    {
     "name": "stdout",
     "output_type": "stream",
     "text": [
      "<class 'pandas.core.frame.DataFrame'>\n",
      "RangeIndex: 9407 entries, 0 to 9406\n",
      "Data columns (total 6 columns):\n",
      " #   Column                Non-Null Count  Dtype         \n",
      "---  ------                --------------  -----         \n",
      " 0   id                    9407 non-null   int64         \n",
      " 1   acquiring_company_id  9407 non-null   int64         \n",
      " 2   acquired_company_id   9407 non-null   int64         \n",
      " 3   term_code             1831 non-null   object        \n",
      " 4   price_amount          9407 non-null   int64         \n",
      " 5   acquired_at           9378 non-null   datetime64[ns]\n",
      "dtypes: datetime64[ns](1), int64(4), object(1)\n",
      "memory usage: 441.1+ KB\n"
     ]
    }
   ],
   "source": [
    "# Поменяем тип данных для столбцов с датой и временем в датафрейме acquisition_df\n",
    "acquisition_df['acquired_at'] = acquisition_df['acquired_at'].astype('datetime64[ns]')\n",
    "acquisition_df.info()"
   ]
  },
  {
   "cell_type": "code",
   "execution_count": 21,
   "metadata": {},
   "outputs": [
    {
     "data": {
      "text/plain": [
       "id                         0\n",
       "acquiring_company_id       0\n",
       "acquired_company_id        0\n",
       "term_code               7576\n",
       "price_amount               0\n",
       "acquired_at               29\n",
       "dtype: int64"
      ]
     },
     "execution_count": 21,
     "metadata": {},
     "output_type": "execute_result"
    }
   ],
   "source": [
    "# Проверим наличие пропусков в датафрейме acquisition_df\n",
    "acquisition_df.isna().sum() "
   ]
  },
  {
   "cell_type": "code",
   "execution_count": 22,
   "metadata": {},
   "outputs": [
    {
     "data": {
      "text/plain": [
       "id                       0.000000\n",
       "acquiring_company_id     0.000000\n",
       "acquired_company_id      0.000000\n",
       "term_code               80.535771\n",
       "price_amount             0.000000\n",
       "acquired_at              0.308281\n",
       "dtype: float64"
      ]
     },
     "execution_count": 22,
     "metadata": {},
     "output_type": "execute_result"
    }
   ],
   "source": [
    "# Подсчитываем процент строк с пропусками в датафрейме acquisition_df\n",
    "acquisition_df.isna().sum() / acquisition_df.shape[0] * 100"
   ]
  },
  {
   "cell_type": "markdown",
   "metadata": {},
   "source": [
    "**Датафрейм `education_df`**"
   ]
  },
  {
   "cell_type": "code",
   "execution_count": 23,
   "metadata": {},
   "outputs": [
    {
     "name": "stdout",
     "output_type": "stream",
     "text": [
      "<class 'pandas.core.frame.DataFrame'>\n",
      "RangeIndex: 109610 entries, 0 to 109609\n",
      "Data columns (total 4 columns):\n",
      " #   Column        Non-Null Count   Dtype         \n",
      "---  ------        --------------   -----         \n",
      " 0   id            109610 non-null  int64         \n",
      " 1   person_id     109610 non-null  int64         \n",
      " 2   instituition  109555 non-null  object        \n",
      " 3   graduated_at  58054 non-null   datetime64[ns]\n",
      "dtypes: datetime64[ns](1), int64(2), object(1)\n",
      "memory usage: 3.3+ MB\n"
     ]
    }
   ],
   "source": [
    "# Поменяем тип данных для столбцов с датой и временем в датафрейме education_df\n",
    "education_df['graduated_at'] = education_df['graduated_at'].astype('datetime64[ns]')\n",
    "education_df.info()"
   ]
  },
  {
   "cell_type": "code",
   "execution_count": 24,
   "metadata": {},
   "outputs": [
    {
     "data": {
      "text/plain": [
       "id                  0\n",
       "person_id           0\n",
       "instituition       55\n",
       "graduated_at    51556\n",
       "dtype: int64"
      ]
     },
     "execution_count": 24,
     "metadata": {},
     "output_type": "execute_result"
    }
   ],
   "source": [
    "# Проверим наличие пропусков в датафрейме education_df\n",
    "education_df.isna().sum() "
   ]
  },
  {
   "cell_type": "code",
   "execution_count": 25,
   "metadata": {},
   "outputs": [
    {
     "data": {
      "text/plain": [
       "id               0.000000\n",
       "person_id        0.000000\n",
       "instituition     0.050178\n",
       "graduated_at    47.035854\n",
       "dtype: float64"
      ]
     },
     "execution_count": 25,
     "metadata": {},
     "output_type": "execute_result"
    }
   ],
   "source": [
    "# Подсчитываем процент строк с пропусками в датафрейме education_df\n",
    "education_df.isna().sum() / education_df.shape[0] * 100"
   ]
  },
  {
   "cell_type": "markdown",
   "metadata": {},
   "source": [
    "**Датафрейм `people_df`**"
   ]
  },
  {
   "cell_type": "code",
   "execution_count": 26,
   "metadata": {},
   "outputs": [
    {
     "data": {
      "text/plain": [
       "id                       0\n",
       "first_name               9\n",
       "last_name                4\n",
       "company_id          192094\n",
       "network_username    187842\n",
       "dtype: int64"
      ]
     },
     "execution_count": 26,
     "metadata": {},
     "output_type": "execute_result"
    }
   ],
   "source": [
    "# Проверим наличие пропусков в датафрейме people_df\n",
    "people_df.isna().sum() "
   ]
  },
  {
   "cell_type": "code",
   "execution_count": 27,
   "metadata": {},
   "outputs": [
    {
     "data": {
      "text/plain": [
       "id                   0.000000\n",
       "first_name           0.003970\n",
       "last_name            0.001764\n",
       "company_id          84.731528\n",
       "network_username    82.855996\n",
       "dtype: float64"
      ]
     },
     "execution_count": 27,
     "metadata": {},
     "output_type": "execute_result"
    }
   ],
   "source": [
    "# Подсчитываем процент строк с пропусками в датафрейме people_df\n",
    "people_df.isna().sum() / people_df.shape[0] * 100"
   ]
  },
  {
   "cell_type": "markdown",
   "metadata": {},
   "source": [
    "**Датафрейм `degrees_df`**"
   ]
  },
  {
   "cell_type": "code",
   "execution_count": 28,
   "metadata": {},
   "outputs": [
    {
     "data": {
      "text/plain": [
       "id                 0\n",
       "object_id          0\n",
       "degree_type    11221\n",
       "subject        28312\n",
       "dtype: int64"
      ]
     },
     "execution_count": 28,
     "metadata": {},
     "output_type": "execute_result"
    }
   ],
   "source": [
    "# Проверим наличие пропусков в датафрейме degrees_df\n",
    "degrees_df.isna().sum()"
   ]
  },
  {
   "cell_type": "code",
   "execution_count": 29,
   "metadata": {},
   "outputs": [
    {
     "data": {
      "text/plain": [
       "id              0.000000\n",
       "object_id       0.000000\n",
       "degree_type    10.237205\n",
       "subject        25.829760\n",
       "dtype: float64"
      ]
     },
     "execution_count": 29,
     "metadata": {},
     "output_type": "execute_result"
    }
   ],
   "source": [
    "# Подсчитываем процент строк с пропусками в датафрейме degrees_df\n",
    "degrees_df.isna().sum() / degrees_df.shape[0] * 100"
   ]
  },
  {
   "cell_type": "markdown",
   "metadata": {},
   "source": [
    "Мы обработали типы данных в столбцах, которые хранят значения даты и времени, а именно привели их типу данных `datetime64[ns]`.\n",
    "Больше всего пропусков в датафрейме `company_and_rounds_df`, но при этом данных достаточно для решения задач проекта."
   ]
  },
  {
   "cell_type": "markdown",
   "metadata": {
    "id": "u60cHsn6rJg1"
   },
   "source": [
    "## 2. Предобработка данных, предварительное исследование"
   ]
  },
  {
   "cell_type": "markdown",
   "metadata": {
    "id": "g2bHIIjcrJg1"
   },
   "source": [
    "\n",
    "### 2.1. Раунды финансирования по годам\n",
    "\n",
    "- Составим сводную таблицу по годам, в которой на основании столбца `raised_amount` для каждого года указан:\n",
    "    - типичный размер средств, выделяемый в рамках одного раунда;\n",
    "    - общее количество раундов финансирования за этот год.\n",
    "    \n",
    "- Оставим в таблице информацию только для тех лет, для которых есть информация о более чем 50 раундах финансирования.\n",
    "- На основе получившейся таблицы построим график, который будет отражать динамику типичного размера средств, которые стартапы получали в рамках одного раунда финансирования.\n",
    "\n",
    "На основе полученных данных ответим на вопросы:\n",
    "\n",
    "- В каком году типичный размер собранных в рамках одного раунда средств был максимален?\n",
    "- Какая тенденция по количеству раундов и выделяемых в рамках каждого раунда средств наблюдалась в 2013 году?\n",
    "\n",
    "---"
   ]
  },
  {
   "cell_type": "markdown",
   "metadata": {},
   "source": [
    "Составим сводную таблицу:"
   ]
  },
  {
   "cell_type": "code",
   "execution_count": 30,
   "metadata": {
    "id": "Cf5IjfOQrJg1",
    "vscode": {
     "languageId": "plaintext"
    }
   },
   "outputs": [
    {
     "name": "stdout",
     "output_type": "stream",
     "text": [
      "                   median         count\n",
      "            raised_amount raised_amount\n",
      "funded_year                            \n",
      "1999.0          2000000.0            76\n",
      "2000.0          4200000.0           125\n",
      "2001.0          3000000.0            96\n",
      "2002.0          4200000.0           116\n",
      "2003.0          3000000.0           159\n",
      "2004.0          5000000.0           291\n",
      "2005.0          5500000.0          1633\n",
      "2006.0          5000000.0          2436\n",
      "2007.0          3973320.0          3279\n",
      "2008.0          3110000.0          3774\n",
      "2009.0          2000000.0          4151\n",
      "2010.0          1602500.0          6221\n",
      "2011.0          1200000.0          9204\n",
      "2012.0          1000000.0          9970\n",
      "2013.0          1200000.0         11072\n"
     ]
    }
   ],
   "source": [
    "# Извлекаем год из столбца 'funded_at'\n",
    "company_and_rounds_df['funded_year'] = company_and_rounds_df['funded_at'].dt.year\n",
    "\n",
    "# Создаём сводную таблицу\n",
    "pivot_raised_amount = pd.pivot_table(company_and_rounds_df,\n",
    "                                     index='funded_year',\n",
    "                                     values='raised_amount',\n",
    "                                     aggfunc=['median', 'count'])\n",
    "\n",
    "# Оставим в таблице информацию только для тех лет, для которых есть информация о более чем 50 раундах финансировани\n",
    "filtered_pivot = pivot_raised_amount[pivot_raised_amount[('count', 'raised_amount')] > 50].copy()\n",
    "\n",
    "print(filtered_pivot)"
   ]
  },
  {
   "cell_type": "markdown",
   "metadata": {
    "id": "8Fbz6KmzFdYP"
   },
   "source": [
    "Построим график, который будет отражать динамику типичного размера средств, которые стартапы получали в рамках одного раунда финансирования."
   ]
  },
  {
   "cell_type": "code",
   "execution_count": 31,
   "metadata": {},
   "outputs": [
    {
     "data": {
      "image/png": "[encoded data removed]",
      "text/plain": [
       "<Figure size 1000x500 with 1 Axes>"
      ]
     },
     "metadata": {},
     "output_type": "display_data"
    }
   ],
   "source": [
    "plt.rcParams[\"figure.figsize\"] = (10, 5)\n",
    "filtered_pivot['median'].plot(kind='line')\n",
    "plt.title('Динамика типичного размера средств, выделяемых в рамках раунда')\n",
    "plt.xlabel('Год')\n",
    "plt.ylabel('Типичный размер средств (млн.)')\n",
    "plt.grid()\n",
    "plt.show()\n"
   ]
  },
  {
   "cell_type": "markdown",
   "metadata": {},
   "source": [
    "На графике видим, что в 2005 году типичный размер собранных в рамках одного раунда средств был максимален."
   ]
  },
  {
   "cell_type": "markdown",
   "metadata": {},
   "source": [
    "Далее более детально рассмотрим 2013 год по количеству раундов и выделяемых в рамках каждого раунда средств."
   ]
  },
  {
   "cell_type": "code",
   "execution_count": 32,
   "metadata": {},
   "outputs": [
    {
     "name": "stdout",
     "output_type": "stream",
     "text": [
      "         median_raised_amount  count_raised_amount\n",
      "month                                             \n",
      "2013-01              700000.0                 1024\n",
      "2013-02             1000000.0                  740\n",
      "2013-03              750000.0                  865\n",
      "2013-04             1100000.0                  927\n",
      "2013-05             1037500.0                  951\n",
      "2013-06             1200000.0                 1039\n",
      "2013-07             1500000.0                 1017\n",
      "2013-08             1000000.0                  977\n",
      "2013-09             1400000.0                 1064\n",
      "2013-10             1500000.0                 1100\n",
      "2013-11             1571950.0                  944\n",
      "2013-12             3000000.0                  424\n"
     ]
    }
   ],
   "source": [
    "# Создадим таблицу, в которой будут данные только для 2013 года\n",
    "new_table = company_and_rounds_df.loc[company_and_rounds_df['funded_at'].dt.year == 2013, ['raised_amount', 'funded_at']]\n",
    "\n",
    "# С помощью акцессора `dt` создаём новый столбец 'month' вида YYYY-MM\n",
    "new_table['month'] = new_table['funded_at'].dt.to_period('M')\n",
    "\n",
    "# Сгруппируем данные по месяцам и посчитаем количество значений raised_amount и медиану\n",
    "grouped_by_month = new_table.groupby('month').agg({'raised_amount': ['median', 'count']})\n",
    "\n",
    "# Переименовываем столбец count для наглядности\n",
    "grouped_by_month.columns = ['median_raised_amount', 'count_raised_amount']\n",
    "\n",
    "print(grouped_by_month)\n"
   ]
  },
  {
   "cell_type": "markdown",
   "metadata": {},
   "source": [
    "Построим линейный график для данных 2013 года."
   ]
  },
  {
   "cell_type": "code",
   "execution_count": 33,
   "metadata": {},
   "outputs": [
    {
     "data": {
      "text/plain": [
       "array([<Axes: title={'center': 'Выделяемые в рамках каждого раунда средства'}, xlabel='Месяц'>,\n",
       "       <Axes: title={'center': 'Количество раундов'}, xlabel='Месяц'>],\n",
       "      dtype=object)"
      ]
     },
     "execution_count": 33,
     "metadata": {},
     "output_type": "execute_result"
    },
    {
     "data": {
      "image/png": "[encoded data removed]",
      "text/plain": [
       "<Figure size 1000x500 with 2 Axes>"
      ]
     },
     "metadata": {},
     "output_type": "display_data"
    }
   ],
   "source": [
    "grouped_by_month.plot(kind='line',\n",
    "            subplots=True,\n",
    "            sharex=True,\n",
    "            sharey=False,\n",
    "            legend=False,\n",
    "            grid = True,\n",
    "            title=['Выделяемые в рамках каждого раунда средства', 'Количество раундов'],\n",
    "            xlabel='Месяц')"
   ]
  },
  {
   "cell_type": "markdown",
   "metadata": {},
   "source": [
    "Тенденция по выделяемым в рамках каждого раунда средств в 2013 году наблюдалась положительная. Количество раудов с февраля по октябрь имеют положительную тенденцию, а с октября по декабрь 2013 года - отрицательную."
   ]
  },
  {
   "cell_type": "markdown",
   "metadata": {
    "id": "45if1en1rJg2"
   },
   "source": [
    "\n",
    "### 2.2. Люди и их образование\n",
    "\n",
    "Заказчик хочет понять, зависит ли полнота сведений о сотрудниках (например, об их образовании) от размера компаний.\n",
    "\n",
    "- Оценим, насколько информация об образовании сотрудников полна. Используя датасеты `people.csv` и `education.csv`, разделим все компании на несколько групп по количеству сотрудников и оценим среднюю долю сотрудников без информации об образовании в каждой из групп.\n",
    "- Оценим, возможно ли для выполнения задания присоединить к этим таблицам ещё и таблицу `degrees.csv`.\n",
    "\n",
    "---"
   ]
  },
  {
   "cell_type": "code",
   "execution_count": 34,
   "metadata": {},
   "outputs": [
    {
     "data": {
      "text/html": [
       "<div>\n",
       "<style scoped>\n",
       "    .dataframe tbody tr th:only-of-type {\n",
       "        vertical-align: middle;\n",
       "    }\n",
       "\n",
       "    .dataframe tbody tr th {\n",
       "        vertical-align: top;\n",
       "    }\n",
       "\n",
       "    .dataframe thead th {\n",
       "        text-align: right;\n",
       "    }\n",
       "</style>\n",
       "<table border=\"1\" class=\"dataframe\">\n",
       "  <thead>\n",
       "    <tr style=\"text-align: right;\">\n",
       "      <th></th>\n",
       "      <th>id</th>\n",
       "      <th>person_id</th>\n",
       "      <th>instituition</th>\n",
       "      <th>graduated_at</th>\n",
       "    </tr>\n",
       "  </thead>\n",
       "  <tbody>\n",
       "    <tr>\n",
       "      <th>0</th>\n",
       "      <td>1</td>\n",
       "      <td>6117</td>\n",
       "      <td>NaN</td>\n",
       "      <td>NaT</td>\n",
       "    </tr>\n",
       "    <tr>\n",
       "      <th>1</th>\n",
       "      <td>2</td>\n",
       "      <td>6136</td>\n",
       "      <td>Washington University, St. Louis</td>\n",
       "      <td>1990-01-01</td>\n",
       "    </tr>\n",
       "    <tr>\n",
       "      <th>2</th>\n",
       "      <td>3</td>\n",
       "      <td>6136</td>\n",
       "      <td>Boston University</td>\n",
       "      <td>1992-01-01</td>\n",
       "    </tr>\n",
       "    <tr>\n",
       "      <th>3</th>\n",
       "      <td>4</td>\n",
       "      <td>6005</td>\n",
       "      <td>University of Greenwich</td>\n",
       "      <td>2006-01-01</td>\n",
       "    </tr>\n",
       "    <tr>\n",
       "      <th>4</th>\n",
       "      <td>5</td>\n",
       "      <td>5832</td>\n",
       "      <td>Rice University</td>\n",
       "      <td>NaT</td>\n",
       "    </tr>\n",
       "  </tbody>\n",
       "</table>\n",
       "</div>"
      ],
      "text/plain": [
       "   id  person_id                      instituition graduated_at\n",
       "0   1       6117                               NaN          NaT\n",
       "1   2       6136  Washington University, St. Louis   1990-01-01\n",
       "2   3       6136                 Boston University   1992-01-01\n",
       "3   4       6005           University of Greenwich   2006-01-01\n",
       "4   5       5832                   Rice University          NaT"
      ]
     },
     "execution_count": 34,
     "metadata": {},
     "output_type": "execute_result"
    }
   ],
   "source": [
    "education_df.head()"
   ]
  },
  {
   "cell_type": "code",
   "execution_count": 35,
   "metadata": {},
   "outputs": [
    {
     "data": {
      "text/html": [
       "<div>\n",
       "<style scoped>\n",
       "    .dataframe tbody tr th:only-of-type {\n",
       "        vertical-align: middle;\n",
       "    }\n",
       "\n",
       "    .dataframe tbody tr th {\n",
       "        vertical-align: top;\n",
       "    }\n",
       "\n",
       "    .dataframe thead th {\n",
       "        text-align: right;\n",
       "    }\n",
       "</style>\n",
       "<table border=\"1\" class=\"dataframe\">\n",
       "  <thead>\n",
       "    <tr style=\"text-align: right;\">\n",
       "      <th></th>\n",
       "      <th>id_x</th>\n",
       "      <th>first_name</th>\n",
       "      <th>last_name</th>\n",
       "      <th>company_id</th>\n",
       "      <th>network_username</th>\n",
       "      <th>id_y</th>\n",
       "      <th>person_id</th>\n",
       "      <th>instituition</th>\n",
       "      <th>graduated_at</th>\n",
       "    </tr>\n",
       "  </thead>\n",
       "  <tbody>\n",
       "    <tr>\n",
       "      <th>0</th>\n",
       "      <td>10</td>\n",
       "      <td>Mark</td>\n",
       "      <td>Zuckerberg</td>\n",
       "      <td>5.0</td>\n",
       "      <td>NaN</td>\n",
       "      <td>2415.0</td>\n",
       "      <td>10.0</td>\n",
       "      <td>Harvard University</td>\n",
       "      <td>NaT</td>\n",
       "    </tr>\n",
       "    <tr>\n",
       "      <th>1</th>\n",
       "      <td>100</td>\n",
       "      <td>Peter</td>\n",
       "      <td>Lester</td>\n",
       "      <td>27.0</td>\n",
       "      <td>NaN</td>\n",
       "      <td>NaN</td>\n",
       "      <td>NaN</td>\n",
       "      <td>NaN</td>\n",
       "      <td>NaT</td>\n",
       "    </tr>\n",
       "    <tr>\n",
       "      <th>2</th>\n",
       "      <td>1000</td>\n",
       "      <td>Dr. Steven</td>\n",
       "      <td>E. Saunders</td>\n",
       "      <td>292.0</td>\n",
       "      <td>NaN</td>\n",
       "      <td>NaN</td>\n",
       "      <td>NaN</td>\n",
       "      <td>NaN</td>\n",
       "      <td>NaT</td>\n",
       "    </tr>\n",
       "    <tr>\n",
       "      <th>3</th>\n",
       "      <td>10000</td>\n",
       "      <td>Neil</td>\n",
       "      <td>Capel</td>\n",
       "      <td>2526.0</td>\n",
       "      <td>NaN</td>\n",
       "      <td>NaN</td>\n",
       "      <td>NaN</td>\n",
       "      <td>NaN</td>\n",
       "      <td>NaT</td>\n",
       "    </tr>\n",
       "    <tr>\n",
       "      <th>4</th>\n",
       "      <td>100000</td>\n",
       "      <td>Sue</td>\n",
       "      <td>Pilsch</td>\n",
       "      <td>NaN</td>\n",
       "      <td>NaN</td>\n",
       "      <td>NaN</td>\n",
       "      <td>NaN</td>\n",
       "      <td>NaN</td>\n",
       "      <td>NaT</td>\n",
       "    </tr>\n",
       "  </tbody>\n",
       "</table>\n",
       "</div>"
      ],
      "text/plain": [
       "     id_x  first_name    last_name  company_id network_username    id_y  \\\n",
       "0      10        Mark   Zuckerberg         5.0              NaN  2415.0   \n",
       "1     100       Peter       Lester        27.0              NaN     NaN   \n",
       "2    1000  Dr. Steven  E. Saunders       292.0              NaN     NaN   \n",
       "3   10000        Neil        Capel      2526.0              NaN     NaN   \n",
       "4  100000         Sue       Pilsch         NaN              NaN     NaN   \n",
       "\n",
       "   person_id        instituition graduated_at  \n",
       "0       10.0  Harvard University          NaT  \n",
       "1        NaN                 NaN          NaT  \n",
       "2        NaN                 NaN          NaT  \n",
       "3        NaN                 NaN          NaT  \n",
       "4        NaN                 NaN          NaT  "
      ]
     },
     "execution_count": 35,
     "metadata": {},
     "output_type": "execute_result"
    }
   ],
   "source": [
    "# Объединим данные о сотрудниках их образовании\n",
    "\n",
    "people_education = people_df.merge(education_df, how = 'left', left_on='id', right_on='person_id')\n",
    "people_education.head()"
   ]
  },
  {
   "cell_type": "code",
   "execution_count": 36,
   "metadata": {
    "id": "BThTjpLqFcsm"
   },
   "outputs": [
    {
     "data": {
      "text/html": [
       "<div>\n",
       "<style scoped>\n",
       "    .dataframe tbody tr th:only-of-type {\n",
       "        vertical-align: middle;\n",
       "    }\n",
       "\n",
       "    .dataframe tbody tr th {\n",
       "        vertical-align: top;\n",
       "    }\n",
       "\n",
       "    .dataframe thead th {\n",
       "        text-align: right;\n",
       "    }\n",
       "</style>\n",
       "<table border=\"1\" class=\"dataframe\">\n",
       "  <thead>\n",
       "    <tr style=\"text-align: right;\">\n",
       "      <th></th>\n",
       "      <th>id_x</th>\n",
       "      <th>first_name</th>\n",
       "      <th>last_name</th>\n",
       "      <th>company_id</th>\n",
       "      <th>network_username</th>\n",
       "      <th>id_y</th>\n",
       "      <th>person_id</th>\n",
       "      <th>instituition</th>\n",
       "      <th>graduated_at</th>\n",
       "      <th>is_educated</th>\n",
       "    </tr>\n",
       "  </thead>\n",
       "  <tbody>\n",
       "    <tr>\n",
       "      <th>0</th>\n",
       "      <td>10</td>\n",
       "      <td>Mark</td>\n",
       "      <td>Zuckerberg</td>\n",
       "      <td>5.0</td>\n",
       "      <td>NaN</td>\n",
       "      <td>2415.0</td>\n",
       "      <td>10.0</td>\n",
       "      <td>Harvard University</td>\n",
       "      <td>NaT</td>\n",
       "      <td>True</td>\n",
       "    </tr>\n",
       "    <tr>\n",
       "      <th>1</th>\n",
       "      <td>100</td>\n",
       "      <td>Peter</td>\n",
       "      <td>Lester</td>\n",
       "      <td>27.0</td>\n",
       "      <td>NaN</td>\n",
       "      <td>NaN</td>\n",
       "      <td>NaN</td>\n",
       "      <td>NaN</td>\n",
       "      <td>NaT</td>\n",
       "      <td>False</td>\n",
       "    </tr>\n",
       "    <tr>\n",
       "      <th>2</th>\n",
       "      <td>1000</td>\n",
       "      <td>Dr. Steven</td>\n",
       "      <td>E. Saunders</td>\n",
       "      <td>292.0</td>\n",
       "      <td>NaN</td>\n",
       "      <td>NaN</td>\n",
       "      <td>NaN</td>\n",
       "      <td>NaN</td>\n",
       "      <td>NaT</td>\n",
       "      <td>False</td>\n",
       "    </tr>\n",
       "    <tr>\n",
       "      <th>3</th>\n",
       "      <td>10000</td>\n",
       "      <td>Neil</td>\n",
       "      <td>Capel</td>\n",
       "      <td>2526.0</td>\n",
       "      <td>NaN</td>\n",
       "      <td>NaN</td>\n",
       "      <td>NaN</td>\n",
       "      <td>NaN</td>\n",
       "      <td>NaT</td>\n",
       "      <td>False</td>\n",
       "    </tr>\n",
       "    <tr>\n",
       "      <th>4</th>\n",
       "      <td>100000</td>\n",
       "      <td>Sue</td>\n",
       "      <td>Pilsch</td>\n",
       "      <td>NaN</td>\n",
       "      <td>NaN</td>\n",
       "      <td>NaN</td>\n",
       "      <td>NaN</td>\n",
       "      <td>NaN</td>\n",
       "      <td>NaT</td>\n",
       "      <td>False</td>\n",
       "    </tr>\n",
       "  </tbody>\n",
       "</table>\n",
       "</div>"
      ],
      "text/plain": [
       "     id_x  first_name    last_name  company_id network_username    id_y  \\\n",
       "0      10        Mark   Zuckerberg         5.0              NaN  2415.0   \n",
       "1     100       Peter       Lester        27.0              NaN     NaN   \n",
       "2    1000  Dr. Steven  E. Saunders       292.0              NaN     NaN   \n",
       "3   10000        Neil        Capel      2526.0              NaN     NaN   \n",
       "4  100000         Sue       Pilsch         NaN              NaN     NaN   \n",
       "\n",
       "   person_id        instituition graduated_at  is_educated  \n",
       "0       10.0  Harvard University          NaT         True  \n",
       "1        NaN                 NaN          NaT        False  \n",
       "2        NaN                 NaN          NaT        False  \n",
       "3        NaN                 NaN          NaT        False  \n",
       "4        NaN                 NaN          NaT        False  "
      ]
     },
     "execution_count": 36,
     "metadata": {},
     "output_type": "execute_result"
    }
   ],
   "source": [
    "# Создадим новый столбец, в котором будет метка есть ли информация об образовании сотрудника\n",
    "people_education['is_educated']= people_education['instituition'].notna() | people_education['graduated_at'].notna()\n",
    "people_education.head()"
   ]
  },
  {
   "cell_type": "code",
   "execution_count": 37,
   "metadata": {},
   "outputs": [
    {
     "name": "stdout",
     "output_type": "stream",
     "text": [
      "<class 'pandas.core.frame.DataFrame'>\n",
      "RangeIndex: 267694 entries, 0 to 267693\n",
      "Data columns (total 10 columns):\n",
      " #   Column            Non-Null Count   Dtype         \n",
      "---  ------            --------------   -----         \n",
      " 0   id_x              267694 non-null  int64         \n",
      " 1   first_name        267685 non-null  object        \n",
      " 2   last_name         267690 non-null  object        \n",
      " 3   company_id        44789 non-null   float64       \n",
      " 4   network_username  50775 non-null   object        \n",
      " 5   id_y              109056 non-null  float64       \n",
      " 6   person_id         109056 non-null  float64       \n",
      " 7   instituition      109002 non-null  object        \n",
      " 8   graduated_at      57691 non-null   datetime64[ns]\n",
      " 9   is_educated       267694 non-null  bool          \n",
      "dtypes: bool(1), datetime64[ns](1), float64(3), int64(1), object(4)\n",
      "memory usage: 18.6+ MB\n"
     ]
    }
   ],
   "source": [
    "people_education.info()"
   ]
  },
  {
   "cell_type": "markdown",
   "metadata": {},
   "source": [
    "Далее оценим полноту информации об образовании. Мы сможем определить, у каких сотрудников нет данных об образовании, и посчитать их долю."
   ]
  },
  {
   "cell_type": "code",
   "execution_count": 38,
   "metadata": {},
   "outputs": [
    {
     "data": {
      "text/plain": [
       "0.5926804485718769"
      ]
     },
     "execution_count": 38,
     "metadata": {},
     "output_type": "execute_result"
    }
   ],
   "source": [
    "# Посчитаем долю сотрудников, у которых нет образования\n",
    "1 - people_education['is_educated'].mean()"
   ]
  },
  {
   "cell_type": "markdown",
   "metadata": {},
   "source": [
    "Больше чем у половины сотрудников нет информации об образовании."
   ]
  },
  {
   "cell_type": "markdown",
   "metadata": {},
   "source": [
    "Далее будем делить все компании на несколько групп по количеству сотрудников и оценим среднюю долю сотрудников без информации об образовании в каждой из групп."
   ]
  },
  {
   "cell_type": "code",
   "execution_count": 39,
   "metadata": {},
   "outputs": [
    {
     "data": {
      "text/plain": [
       "count    44789.000000\n",
       "mean        10.503673\n",
       "std         40.478166\n",
       "min          1.000000\n",
       "25%          1.000000\n",
       "50%          2.000000\n",
       "75%          5.000000\n",
       "max        376.000000\n",
       "Name: staff, dtype: float64"
      ]
     },
     "execution_count": 39,
     "metadata": {},
     "output_type": "execute_result"
    }
   ],
   "source": [
    "# Посчитаем количество сотрудников в каждой компании и выведем статистику этого столбца\n",
    "people_education['staff'] = people_education.groupby('company_id')['id_x'].transform('count')\n",
    "people_education['staff'].describe()"
   ]
  },
  {
   "cell_type": "code",
   "execution_count": 40,
   "metadata": {},
   "outputs": [
    {
     "data": {
      "image/png": "[encoded data removed]",
      "text/plain": [
       "<Figure size 1200x1000 with 1 Axes>"
      ]
     },
     "metadata": {},
     "output_type": "display_data"
    }
   ],
   "source": [
    "# Строим диаграмму размаха методом boxplot()\n",
    "boxplot = people_education.boxplot(column='staff',\n",
    "                     vert=False, \n",
    "                     figsize=(12, 10))\n",
    "\n",
    "# Добавляем заголовок и метку оси X\n",
    "boxplot.set_title('Распределение количества сотрудников')\n",
    "boxplot.set_xlabel('кол-во сотрудников')\n",
    "\n",
    "plt.show()"
   ]
  },
  {
   "cell_type": "markdown",
   "metadata": {},
   "source": [
    "Исходя из данных, можно предложить следующую категоризацию:\n",
    "- Малые компании: 1–5 сотрудников (соответствует 75% значений).\n",
    "- Средние компании: 6–10 сотрудников (примерно среднее значение).\n",
    "- Крупные компании: более 10 сотрудников.\n",
    "- Также можно добавить категорию для компаний с очень большим количеством сотрудников - Крупнейшие компании: более 25–30 сотрудников (учитывая стандартное отклонение и максимальное значение)."
   ]
  },
  {
   "cell_type": "code",
   "execution_count": 41,
   "metadata": {},
   "outputs": [],
   "source": [
    "# Разбиваем на категории с помощью pd.cut\n",
    "people_education['staff_group'] = pd.cut(people_education['staff'], bins=[0, 5, 10, 30, 376], labels=[\"Малые компании\", \"Средние компании\", \"Крупные компании\", \"Крупнейшие компании\"])"
   ]
  },
  {
   "cell_type": "code",
   "execution_count": 42,
   "metadata": {},
   "outputs": [
    {
     "data": {
      "text/html": [
       "<div>\n",
       "<style scoped>\n",
       "    .dataframe tbody tr th:only-of-type {\n",
       "        vertical-align: middle;\n",
       "    }\n",
       "\n",
       "    .dataframe tbody tr th {\n",
       "        vertical-align: top;\n",
       "    }\n",
       "\n",
       "    .dataframe thead th {\n",
       "        text-align: right;\n",
       "    }\n",
       "</style>\n",
       "<table border=\"1\" class=\"dataframe\">\n",
       "  <thead>\n",
       "    <tr style=\"text-align: right;\">\n",
       "      <th></th>\n",
       "      <th>id_x</th>\n",
       "      <th>first_name</th>\n",
       "      <th>last_name</th>\n",
       "      <th>company_id</th>\n",
       "      <th>network_username</th>\n",
       "      <th>id_y</th>\n",
       "      <th>person_id</th>\n",
       "      <th>instituition</th>\n",
       "      <th>graduated_at</th>\n",
       "      <th>is_educated</th>\n",
       "      <th>staff</th>\n",
       "      <th>staff_group</th>\n",
       "      <th>edu_share</th>\n",
       "    </tr>\n",
       "  </thead>\n",
       "  <tbody>\n",
       "    <tr>\n",
       "      <th>0</th>\n",
       "      <td>10</td>\n",
       "      <td>Mark</td>\n",
       "      <td>Zuckerberg</td>\n",
       "      <td>5.0</td>\n",
       "      <td>NaN</td>\n",
       "      <td>2415.0</td>\n",
       "      <td>10.0</td>\n",
       "      <td>Harvard University</td>\n",
       "      <td>NaT</td>\n",
       "      <td>True</td>\n",
       "      <td>84.0</td>\n",
       "      <td>Крупнейшие компании</td>\n",
       "      <td>0.82</td>\n",
       "    </tr>\n",
       "    <tr>\n",
       "      <th>1</th>\n",
       "      <td>100</td>\n",
       "      <td>Peter</td>\n",
       "      <td>Lester</td>\n",
       "      <td>27.0</td>\n",
       "      <td>NaN</td>\n",
       "      <td>NaN</td>\n",
       "      <td>NaN</td>\n",
       "      <td>NaN</td>\n",
       "      <td>NaT</td>\n",
       "      <td>False</td>\n",
       "      <td>14.0</td>\n",
       "      <td>Крупные компании</td>\n",
       "      <td>0.71</td>\n",
       "    </tr>\n",
       "    <tr>\n",
       "      <th>2</th>\n",
       "      <td>1000</td>\n",
       "      <td>Dr. Steven</td>\n",
       "      <td>E. Saunders</td>\n",
       "      <td>292.0</td>\n",
       "      <td>NaN</td>\n",
       "      <td>NaN</td>\n",
       "      <td>NaN</td>\n",
       "      <td>NaN</td>\n",
       "      <td>NaT</td>\n",
       "      <td>False</td>\n",
       "      <td>3.0</td>\n",
       "      <td>Малые компании</td>\n",
       "      <td>0.62</td>\n",
       "    </tr>\n",
       "    <tr>\n",
       "      <th>3</th>\n",
       "      <td>10000</td>\n",
       "      <td>Neil</td>\n",
       "      <td>Capel</td>\n",
       "      <td>2526.0</td>\n",
       "      <td>NaN</td>\n",
       "      <td>NaN</td>\n",
       "      <td>NaN</td>\n",
       "      <td>NaN</td>\n",
       "      <td>NaT</td>\n",
       "      <td>False</td>\n",
       "      <td>2.0</td>\n",
       "      <td>Малые компании</td>\n",
       "      <td>0.62</td>\n",
       "    </tr>\n",
       "    <tr>\n",
       "      <th>4</th>\n",
       "      <td>100000</td>\n",
       "      <td>Sue</td>\n",
       "      <td>Pilsch</td>\n",
       "      <td>NaN</td>\n",
       "      <td>NaN</td>\n",
       "      <td>NaN</td>\n",
       "      <td>NaN</td>\n",
       "      <td>NaN</td>\n",
       "      <td>NaT</td>\n",
       "      <td>False</td>\n",
       "      <td>NaN</td>\n",
       "      <td>NaN</td>\n",
       "      <td>NaN</td>\n",
       "    </tr>\n",
       "    <tr>\n",
       "      <th>5</th>\n",
       "      <td>100002</td>\n",
       "      <td>Keith</td>\n",
       "      <td>Kurzendoerfer</td>\n",
       "      <td>NaN</td>\n",
       "      <td>NaN</td>\n",
       "      <td>NaN</td>\n",
       "      <td>NaN</td>\n",
       "      <td>NaN</td>\n",
       "      <td>NaT</td>\n",
       "      <td>False</td>\n",
       "      <td>NaN</td>\n",
       "      <td>NaN</td>\n",
       "      <td>NaN</td>\n",
       "    </tr>\n",
       "    <tr>\n",
       "      <th>6</th>\n",
       "      <td>100006</td>\n",
       "      <td>Courtney</td>\n",
       "      <td>Homer</td>\n",
       "      <td>81558.0</td>\n",
       "      <td>jobsbostontech</td>\n",
       "      <td>83604.0</td>\n",
       "      <td>100006.0</td>\n",
       "      <td>MIT Sloan School of Management</td>\n",
       "      <td>2004-01-01</td>\n",
       "      <td>True</td>\n",
       "      <td>2.0</td>\n",
       "      <td>Малые компании</td>\n",
       "      <td>0.62</td>\n",
       "    </tr>\n",
       "    <tr>\n",
       "      <th>7</th>\n",
       "      <td>100009</td>\n",
       "      <td>Eddy</td>\n",
       "      <td>Badrina</td>\n",
       "      <td>NaN</td>\n",
       "      <td>NaN</td>\n",
       "      <td>NaN</td>\n",
       "      <td>NaN</td>\n",
       "      <td>NaN</td>\n",
       "      <td>NaT</td>\n",
       "      <td>False</td>\n",
       "      <td>NaN</td>\n",
       "      <td>NaN</td>\n",
       "      <td>NaN</td>\n",
       "    </tr>\n",
       "    <tr>\n",
       "      <th>8</th>\n",
       "      <td>100010</td>\n",
       "      <td>Michael</td>\n",
       "      <td>Dadashyan</td>\n",
       "      <td>NaN</td>\n",
       "      <td>fbroulette</td>\n",
       "      <td>NaN</td>\n",
       "      <td>NaN</td>\n",
       "      <td>NaN</td>\n",
       "      <td>NaT</td>\n",
       "      <td>False</td>\n",
       "      <td>NaN</td>\n",
       "      <td>NaN</td>\n",
       "      <td>NaN</td>\n",
       "    </tr>\n",
       "    <tr>\n",
       "      <th>9</th>\n",
       "      <td>100011</td>\n",
       "      <td>Jeff</td>\n",
       "      <td>Grell</td>\n",
       "      <td>NaN</td>\n",
       "      <td>NaN</td>\n",
       "      <td>NaN</td>\n",
       "      <td>NaN</td>\n",
       "      <td>NaN</td>\n",
       "      <td>NaT</td>\n",
       "      <td>False</td>\n",
       "      <td>NaN</td>\n",
       "      <td>NaN</td>\n",
       "      <td>NaN</td>\n",
       "    </tr>\n",
       "  </tbody>\n",
       "</table>\n",
       "</div>"
      ],
      "text/plain": [
       "     id_x  first_name      last_name  company_id network_username     id_y  \\\n",
       "0      10        Mark     Zuckerberg         5.0              NaN   2415.0   \n",
       "1     100       Peter         Lester        27.0              NaN      NaN   \n",
       "2    1000  Dr. Steven    E. Saunders       292.0              NaN      NaN   \n",
       "3   10000        Neil          Capel      2526.0              NaN      NaN   \n",
       "4  100000         Sue         Pilsch         NaN              NaN      NaN   \n",
       "5  100002       Keith  Kurzendoerfer         NaN              NaN      NaN   \n",
       "6  100006    Courtney          Homer     81558.0   jobsbostontech  83604.0   \n",
       "7  100009        Eddy        Badrina         NaN              NaN      NaN   \n",
       "8  100010     Michael      Dadashyan         NaN       fbroulette      NaN   \n",
       "9  100011        Jeff          Grell         NaN              NaN      NaN   \n",
       "\n",
       "   person_id                    instituition graduated_at  is_educated  staff  \\\n",
       "0       10.0              Harvard University          NaT         True   84.0   \n",
       "1        NaN                             NaN          NaT        False   14.0   \n",
       "2        NaN                             NaN          NaT        False    3.0   \n",
       "3        NaN                             NaN          NaT        False    2.0   \n",
       "4        NaN                             NaN          NaT        False    NaN   \n",
       "5        NaN                             NaN          NaT        False    NaN   \n",
       "6   100006.0  MIT Sloan School of Management   2004-01-01         True    2.0   \n",
       "7        NaN                             NaN          NaT        False    NaN   \n",
       "8        NaN                             NaN          NaT        False    NaN   \n",
       "9        NaN                             NaN          NaT        False    NaN   \n",
       "\n",
       "           staff_group  edu_share  \n",
       "0  Крупнейшие компании       0.82  \n",
       "1     Крупные компании       0.71  \n",
       "2       Малые компании       0.62  \n",
       "3       Малые компании       0.62  \n",
       "4                  NaN        NaN  \n",
       "5                  NaN        NaN  \n",
       "6       Малые компании       0.62  \n",
       "7                  NaN        NaN  \n",
       "8                  NaN        NaN  \n",
       "9                  NaN        NaN  "
      ]
     },
     "execution_count": 42,
     "metadata": {},
     "output_type": "execute_result"
    }
   ],
   "source": [
    "# Добавим столбец, в котором определим долю сотрудников без информации об образовании в каждой из групп\n",
    "people_education['edu_share'] = people_education.groupby('staff_group', observed=False)['is_educated'].transform('mean')\n",
    "people_education['edu_share'] = people_education['edu_share'].round(2)\n",
    "people_education.head(10)"
   ]
  },
  {
   "cell_type": "code",
   "execution_count": 43,
   "metadata": {},
   "outputs": [
    {
     "name": "stdout",
     "output_type": "stream",
     "text": [
      "           staff_group  average_edu_share\n",
      "0       Малые компании               0.62\n",
      "1     Средние компании               0.68\n",
      "2     Крупные компании               0.71\n",
      "3  Крупнейшие компании               0.82\n"
     ]
    }
   ],
   "source": [
    "# Сгруппируем данные по категориям и вычислим средние значения\n",
    "summary = people_education.groupby('staff_group', observed=False).agg(\n",
    "    average_edu_share=('edu_share', 'mean')\n",
    ").reset_index()\n",
    "\n",
    "print(summary)\n"
   ]
  },
  {
   "cell_type": "markdown",
   "metadata": {},
   "source": [
    "Проверим, возможно ли для выполнения задания присоединить к таблице `people_education` ещё и таблицу `degrees.csv`."
   ]
  },
  {
   "cell_type": "code",
   "execution_count": 44,
   "metadata": {},
   "outputs": [],
   "source": [
    "# Попробуем поменять тип данных для столбцов, которые участвуют в присоединении датафреймов\n",
    "people_education['id_x'] = people_education['id_x'].astype(str) \n",
    "degrees_df['object_id'] = degrees_df['object_id'].astype(str)\n",
    "edu_tab = people_education.merge(degrees_df, how = 'left', left_on='id_x', right_on='object_id')"
   ]
  },
  {
   "cell_type": "code",
   "execution_count": 45,
   "metadata": {},
   "outputs": [
    {
     "name": "stdout",
     "output_type": "stream",
     "text": [
      "<class 'pandas.core.frame.DataFrame'>\n",
      "RangeIndex: 267694 entries, 0 to 267693\n",
      "Data columns (total 17 columns):\n",
      " #   Column            Non-Null Count   Dtype         \n",
      "---  ------            --------------   -----         \n",
      " 0   id_x              267694 non-null  object        \n",
      " 1   first_name        267685 non-null  object        \n",
      " 2   last_name         267690 non-null  object        \n",
      " 3   company_id        44789 non-null   float64       \n",
      " 4   network_username  50775 non-null   object        \n",
      " 5   id_y              109056 non-null  float64       \n",
      " 6   person_id         109056 non-null  float64       \n",
      " 7   instituition      109002 non-null  object        \n",
      " 8   graduated_at      57691 non-null   datetime64[ns]\n",
      " 9   is_educated       267694 non-null  bool          \n",
      " 10  staff             44789 non-null   float64       \n",
      " 11  staff_group       44789 non-null   category      \n",
      " 12  edu_share         44789 non-null   float64       \n",
      " 13  id                0 non-null       float64       \n",
      " 14  object_id         0 non-null       object        \n",
      " 15  degree_type       0 non-null       object        \n",
      " 16  subject           0 non-null       object        \n",
      "dtypes: bool(1), category(1), datetime64[ns](1), float64(6), object(8)\n",
      "memory usage: 31.1+ MB\n"
     ]
    }
   ],
   "source": [
    "# Выводим информацию о получившемся датафрейме\n",
    "edu_tab.info()"
   ]
  },
  {
   "cell_type": "markdown",
   "metadata": {},
   "source": [
    "Видим, что столбцы таблицы `degrees.csv` не совпали с данными таблиц `people` и `education`. Это значит, что невозможно для выполнения задания присоединить к таблице `people_education` ещё и таблицу `degrees.csv`."
   ]
  },
  {
   "cell_type": "markdown",
   "metadata": {
    "id": "Lz7qjM32xglW"
   },
   "source": [
    "### 2.3. Объединять или не объединять — вот в чём вопрос\n",
    "\n",
    "Некоторые названия столбцов встречаются в датасетах чаще других. В результате предварительной проверки датасетов было выяснено, что столбец `company_id` подходит для объединения данных.\n",
    "\n",
    "- Установим, подходит ли для объединения данных столбец `network_username`, который встречается в нескольких датасетах. Нам необходимо понимать, дублируется ли для разных датасетов информация в столбцах с таким названием, и если да — то насколько часто.\n",
    "- Оценим, можно ли использовать столбцы с именем `network_username` для объединения данных.\n",
    "\n",
    "---"
   ]
  },
  {
   "cell_type": "markdown",
   "metadata": {},
   "source": [
    "Для ответа на поставленные вопросы будет удобно визуализировать отношения между разными множествами с помощью диаграммы Венна."
   ]
  },
  {
   "cell_type": "markdown",
   "metadata": {},
   "source": [
    "Сравним датафреймы 'company_and_rounds_df' и 'people_df'"
   ]
  },
  {
   "cell_type": "code",
   "execution_count": 46,
   "metadata": {},
   "outputs": [
    {
     "data": {
      "image/png": "[encoded data removed]",
      "text/plain": [
       "<Figure size 1000x500 with 1 Axes>"
      ]
     },
     "metadata": {},
     "output_type": "display_data"
    }
   ],
   "source": [
    "set1 = set(company_and_rounds_df['network_username'])\n",
    "set2 = set(people_df['network_username'])\n",
    "\n",
    "venn2([set1, set2], ('company_and_rounds_df', 'people_df'))\n",
    "\n",
    "plt.title('Сходство и различие датафреймов по столбцу \"network_username\"')\n",
    "plt.show()\n"
   ]
  },
  {
   "cell_type": "markdown",
   "metadata": {},
   "source": [
    "Видим, что совпадает только 2200 записей.\n",
    "\n",
    "Далее сравним датафреймы `company_and_rounds_df` и `fund_df`."
   ]
  },
  {
   "cell_type": "code",
   "execution_count": 47,
   "metadata": {
    "id": "RxOS5rwmFcNW"
   },
   "outputs": [
    {
     "data": {
      "image/png": "[encoded data removed]",
      "text/plain": [
       "<Figure size 1000x500 with 1 Axes>"
      ]
     },
     "metadata": {},
     "output_type": "display_data"
    }
   ],
   "source": [
    "set1 = set(company_and_rounds_df['network_username'])\n",
    "set2 = set(fund_df['network_username'])\n",
    "\n",
    "venn2([set1, set2], ('company_and_rounds_df', 'fund_df'))\n",
    "\n",
    "plt.title('Сходство и различие датафреймов по столбцу \"network_username\"')\n",
    "plt.show()\n"
   ]
  },
  {
   "cell_type": "markdown",
   "metadata": {
    "id": "_7gjdrGOFcB2"
   },
   "source": [
    "Только 71 запись дублируется в обоих датафреймах. Следовательно использовать столбцы с именем `network_username` для объединения данных нельзя."
   ]
  },
  {
   "cell_type": "markdown",
   "metadata": {
    "id": "EHcODomVrJg1"
   },
   "source": [
    "\n",
    "### 2.4. Проблемный датасет и причина возникновения пропусков\n",
    "\n",
    "Во время собственного анализа данных у заказчика больше всего вопросов возникло к датасету `company_and_rounds.csv`. В нём много пропусков как раз в информации о раундах, которая заказчику важна.\n",
    "\n",
    "- Любым удобным способом приведем данные в вид, который позволит в дальнейшем проводить анализ в разрезе отдельных компаний.\n",
    "\n",
    "По гипотезе заказчика данные по компаниям из этой таблицы раньше хранились иначе, более удобным для исследования образом.\n",
    "\n",
    "- Максимальным образом сохраняя данные, сохранив их связность и исключив возможные возникающие при этом ошибки, подготовим данные так, чтобы удобно было отобрать компании по параметрам и рассчитать показатели из расчёта на одну компанию без промежуточных агрегаций.\n",
    "\n",
    "---"
   ]
  },
  {
   "cell_type": "markdown",
   "metadata": {},
   "source": [
    "Выведем информацию о датафрейме `company_and_rounds_df`, чтобы выявить какие-то несостыковки в таблице."
   ]
  },
  {
   "cell_type": "code",
   "execution_count": 48,
   "metadata": {},
   "outputs": [
    {
     "name": "stdout",
     "output_type": "stream",
     "text": [
      "<class 'pandas.core.frame.DataFrame'>\n",
      "RangeIndex: 217774 entries, 0 to 217773\n",
      "Data columns (total 23 columns):\n",
      " #   Column               Non-Null Count   Dtype         \n",
      "---  ------               --------------   -----         \n",
      " 0   company_id_1         217472 non-null  float64       \n",
      " 1   name                 217471 non-null  object        \n",
      " 2   category_code        143886 non-null  object        \n",
      " 3   status               217472 non-null  object        \n",
      " 4   founded_at           109956 non-null  datetime64[ns]\n",
      " 5   closed_at            3449 non-null    datetime64[ns]\n",
      " 6   domain               147159 non-null  object        \n",
      " 7   network_username     95534 non-null   object        \n",
      " 8   country_code         108607 non-null  object        \n",
      " 9   investment_rounds    217472 non-null  float64       \n",
      " 10  funding_rounds       217472 non-null  float64       \n",
      " 11  funding_total        217472 non-null  float64       \n",
      " 12  milestones           217472 non-null  float64       \n",
      " 13  funding_round_id     52928 non-null   float64       \n",
      " 14  company_id_2         52928 non-null   float64       \n",
      " 15  funded_at            52680 non-null   datetime64[ns]\n",
      " 16  funding_round_type   52928 non-null   object        \n",
      " 17  raised_amount        52928 non-null   float64       \n",
      " 18  pre_money_valuation  52928 non-null   float64       \n",
      " 19  participants         52928 non-null   float64       \n",
      " 20  is_first_round       52928 non-null   float64       \n",
      " 21  is_last_round        52928 non-null   float64       \n",
      " 22  funded_year          52680 non-null   float64       \n",
      "dtypes: datetime64[ns](3), float64(13), object(7)\n",
      "memory usage: 38.2+ MB\n"
     ]
    }
   ],
   "source": [
    "company_and_rounds_df.info()"
   ]
  },
  {
   "cell_type": "markdown",
   "metadata": {},
   "source": [
    "Можем заметить, что количество записей различается начиная с 13 строки - `funding_round_id`. Возможно 2 разные таблицы были объединены в датасет `company_and_rounds.csv` "
   ]
  },
  {
   "cell_type": "code",
   "execution_count": 49,
   "metadata": {
    "id": "oSk7xqu_FbaN"
   },
   "outputs": [],
   "source": [
    "# Разделим датафрейм company_and_rounds_df на 2 части \n",
    "company_df = company_and_rounds_df.iloc[:, :13]  # Выбираем все строки и столбцы до 13-го (не включая его)\n",
    "rounds_df = company_and_rounds_df.iloc[:, 13:]  # Выбираем все строки и столбцы начиная с 13-го"
   ]
  },
  {
   "cell_type": "markdown",
   "metadata": {
    "id": "9BY9lTUcFbJ-"
   },
   "source": [
    "Сначала рассмотрим датафрейм `company_df`"
   ]
  },
  {
   "cell_type": "code",
   "execution_count": 50,
   "metadata": {},
   "outputs": [
    {
     "data": {
      "text/plain": [
       "company_id_1            302\n",
       "name                    303\n",
       "category_code         73888\n",
       "status                  302\n",
       "founded_at           107818\n",
       "closed_at            214325\n",
       "domain                70615\n",
       "network_username     122240\n",
       "country_code         109167\n",
       "investment_rounds       302\n",
       "funding_rounds          302\n",
       "funding_total           302\n",
       "milestones              302\n",
       "dtype: int64"
      ]
     },
     "execution_count": 50,
     "metadata": {},
     "output_type": "execute_result"
    }
   ],
   "source": [
    "# Проверим наличие пропусков в датафрейме company_df\n",
    "company_df.isna().sum() "
   ]
  },
  {
   "cell_type": "code",
   "execution_count": 51,
   "metadata": {},
   "outputs": [
    {
     "data": {
      "text/plain": [
       "company_id_1          0.138676\n",
       "name                  0.139135\n",
       "category_code        33.928752\n",
       "status                0.138676\n",
       "founded_at           49.509124\n",
       "closed_at            98.416248\n",
       "domain               32.425818\n",
       "network_username     56.131586\n",
       "country_code         50.128574\n",
       "investment_rounds     0.138676\n",
       "funding_rounds        0.138676\n",
       "funding_total         0.138676\n",
       "milestones            0.138676\n",
       "dtype: float64"
      ]
     },
     "execution_count": 51,
     "metadata": {},
     "output_type": "execute_result"
    }
   ],
   "source": [
    "# Подсчитываем процент строк с пропусками в датафрейме company_df\n",
    "company_df.isna().sum() / company_df.shape[0] * 100"
   ]
  },
  {
   "cell_type": "markdown",
   "metadata": {},
   "source": [
    "Удалим пропуски в столбце `company_id_1`, так как без id компаний, мы не можем идентифицировать запись."
   ]
  },
  {
   "cell_type": "code",
   "execution_count": 52,
   "metadata": {},
   "outputs": [
    {
     "data": {
      "text/plain": [
       "company_id_1          0.000000\n",
       "name                  0.000460\n",
       "category_code        33.837000\n",
       "status                0.000000\n",
       "founded_at           49.439008\n",
       "closed_at            98.414049\n",
       "domain               32.331978\n",
       "network_username     56.070667\n",
       "country_code         50.059318\n",
       "investment_rounds     0.000000\n",
       "funding_rounds        0.000000\n",
       "funding_total         0.000000\n",
       "milestones            0.000000\n",
       "dtype: float64"
      ]
     },
     "execution_count": 52,
     "metadata": {},
     "output_type": "execute_result"
    }
   ],
   "source": [
    "company_df = company_df.dropna(subset = ['company_id_1'])\n",
    "company_df.isna().sum() / company_df.shape[0] * 100"
   ]
  },
  {
   "cell_type": "markdown",
   "metadata": {},
   "source": [
    "Оставшиеся пропуски оставим как есть, так как пропусков слишком много, восстановить данные мы не можем, а удаление приведет потере данных в других строках.\n",
    "\n",
    "Далее проверим дубликаты и удалим, если таковые есть."
   ]
  },
  {
   "cell_type": "code",
   "execution_count": 53,
   "metadata": {},
   "outputs": [
    {
     "data": {
      "text/plain": [
       "20919"
      ]
     },
     "execution_count": 53,
     "metadata": {},
     "output_type": "execute_result"
    }
   ],
   "source": [
    "# Проверяем явные дубликаты в датафрейме company_df\n",
    "company_df.duplicated().sum()"
   ]
  },
  {
   "cell_type": "code",
   "execution_count": 54,
   "metadata": {},
   "outputs": [
    {
     "data": {
      "text/plain": [
       "0"
      ]
     },
     "execution_count": 54,
     "metadata": {},
     "output_type": "execute_result"
    }
   ],
   "source": [
    "# Удаляем дубликаты в датафрейме company_df\n",
    "company_df = company_df.drop_duplicates(subset=None, keep='first', inplace=False)\n",
    "company_df.duplicated().sum()"
   ]
  },
  {
   "cell_type": "markdown",
   "metadata": {},
   "source": [
    "В датафрейме теперь нет полных дубликатов строк. Проверим неявные дубликаты — значения по 'company_id_1' компаний должны быть уникальными, то есть каждая строка в данных — уникальная компания:"
   ]
  },
  {
   "cell_type": "code",
   "execution_count": 55,
   "metadata": {},
   "outputs": [
    {
     "data": {
      "text/plain": [
       "0"
      ]
     },
     "execution_count": 55,
     "metadata": {},
     "output_type": "execute_result"
    }
   ],
   "source": [
    "# Проверяем неявные дубликаты в датафрейме company_df\n",
    "company_df.duplicated(subset='company_id_1').sum()"
   ]
  },
  {
   "cell_type": "markdown",
   "metadata": {},
   "source": [
    "Предоработаем датафрейм `rounds_df`."
   ]
  },
  {
   "cell_type": "code",
   "execution_count": 56,
   "metadata": {},
   "outputs": [
    {
     "name": "stdout",
     "output_type": "stream",
     "text": [
      "<class 'pandas.core.frame.DataFrame'>\n",
      "RangeIndex: 217774 entries, 0 to 217773\n",
      "Data columns (total 10 columns):\n",
      " #   Column               Non-Null Count  Dtype         \n",
      "---  ------               --------------  -----         \n",
      " 0   funding_round_id     52928 non-null  float64       \n",
      " 1   company_id_2         52928 non-null  float64       \n",
      " 2   funded_at            52680 non-null  datetime64[ns]\n",
      " 3   funding_round_type   52928 non-null  object        \n",
      " 4   raised_amount        52928 non-null  float64       \n",
      " 5   pre_money_valuation  52928 non-null  float64       \n",
      " 6   participants         52928 non-null  float64       \n",
      " 7   is_first_round       52928 non-null  float64       \n",
      " 8   is_last_round        52928 non-null  float64       \n",
      " 9   funded_year          52680 non-null  float64       \n",
      "dtypes: datetime64[ns](1), float64(8), object(1)\n",
      "memory usage: 16.6+ MB\n"
     ]
    }
   ],
   "source": [
    "rounds_df.info()"
   ]
  },
  {
   "cell_type": "code",
   "execution_count": 57,
   "metadata": {},
   "outputs": [
    {
     "data": {
      "text/plain": [
       "funding_round_id       164846\n",
       "company_id_2           164846\n",
       "funded_at              165094\n",
       "funding_round_type     164846\n",
       "raised_amount          164846\n",
       "pre_money_valuation    164846\n",
       "participants           164846\n",
       "is_first_round         164846\n",
       "is_last_round          164846\n",
       "funded_year            165094\n",
       "dtype: int64"
      ]
     },
     "execution_count": 57,
     "metadata": {},
     "output_type": "execute_result"
    }
   ],
   "source": [
    "# Проверим наличие пропусков в датафрейме rounds_df\n",
    "rounds_df.isna().sum() "
   ]
  },
  {
   "cell_type": "code",
   "execution_count": 58,
   "metadata": {},
   "outputs": [
    {
     "data": {
      "text/plain": [
       "funding_round_id       75.695905\n",
       "company_id_2           75.695905\n",
       "funded_at              75.809784\n",
       "funding_round_type     75.695905\n",
       "raised_amount          75.695905\n",
       "pre_money_valuation    75.695905\n",
       "participants           75.695905\n",
       "is_first_round         75.695905\n",
       "is_last_round          75.695905\n",
       "funded_year            75.809784\n",
       "dtype: float64"
      ]
     },
     "execution_count": 58,
     "metadata": {},
     "output_type": "execute_result"
    }
   ],
   "source": [
    "# Подсчитываем процент строк с пропусками в датафрейме rounds_df\n",
    "rounds_df.isna().sum() / rounds_df.shape[0] * 100"
   ]
  },
  {
   "cell_type": "markdown",
   "metadata": {},
   "source": [
    "Также удалим пропуски в столбце `company_id_2`, без id мы не можем идентифицировать компании."
   ]
  },
  {
   "cell_type": "code",
   "execution_count": 59,
   "metadata": {},
   "outputs": [
    {
     "data": {
      "text/plain": [
       "funding_round_id       0.0\n",
       "company_id_2           0.0\n",
       "funded_at              0.0\n",
       "funding_round_type     0.0\n",
       "raised_amount          0.0\n",
       "pre_money_valuation    0.0\n",
       "participants           0.0\n",
       "is_first_round         0.0\n",
       "is_last_round          0.0\n",
       "funded_year            0.0\n",
       "dtype: float64"
      ]
     },
     "execution_count": 59,
     "metadata": {},
     "output_type": "execute_result"
    }
   ],
   "source": [
    "rounds_df = rounds_df.dropna()\n",
    "rounds_df.isna().sum() / rounds_df.shape[0] * 100"
   ]
  },
  {
   "cell_type": "code",
   "execution_count": 60,
   "metadata": {},
   "outputs": [
    {
     "data": {
      "text/plain": [
       "0"
      ]
     },
     "execution_count": 60,
     "metadata": {},
     "output_type": "execute_result"
    }
   ],
   "source": [
    "# Проверяем явные дубликаты в датафрейме rounds_df\n",
    "rounds_df.duplicated().sum()"
   ]
  },
  {
   "cell_type": "markdown",
   "metadata": {},
   "source": [
    "Для дальнейшего анализа данных в разрезе отдельных компаний, мы разделили датасет`company_and_rounds.csv` на два отдельных датафрейма: `company_df` и `rounds_df`  \n",
    "\n",
    "Также максимальным образом сохраняя данные, сохранив их связность и исключив возможные возникающие при этом ошибки, мы подготовили данные так, чтобы удобно было отобрать компании по параметрам и рассчитать показатели из расчёта на одну компанию без промежуточных агрегаций."
   ]
  },
  {
   "cell_type": "markdown",
   "metadata": {
    "id": "bmVYhphNrJg2"
   },
   "source": [
    "\n",
    "## 3. Исследовательский анализ объединённых таблиц\n"
   ]
  },
  {
   "cell_type": "markdown",
   "metadata": {
    "id": "3Di6tCT3rJg2"
   },
   "source": [
    "\n",
    "### 3.1. Объединение данных\n",
    "\n",
    "Объединим данные для ответа на вопросы заказчика, которые касаются интересующих его компаний. Заказчика прежде всего интересуют те компании, которые меняли или готовы менять владельцев. Получение инвестиций или финансирования, по мнению заказчика, означает интерес к покупке или продаже компании.\n",
    "\n",
    "В качестве основы для объединённой таблицы возьмем данные из обработанного датасета `company_and_rounds.csv` — выберем только те компании, у которых указаны значения `funding_rounds` или `investment_rounds` больше нуля, или те, у которых в колонке `status` указано `acquired`. \n",
    "\n",
    "---"
   ]
  },
  {
   "cell_type": "markdown",
   "metadata": {},
   "source": [
    "Нам нужна информация о покупке одних компаний другими. Объединим датафреймы `company_df` и `acquisition_df`:"
   ]
  },
  {
   "cell_type": "code",
   "execution_count": 61,
   "metadata": {},
   "outputs": [
    {
     "data": {
      "text/html": [
       "<div>\n",
       "<style scoped>\n",
       "    .dataframe tbody tr th:only-of-type {\n",
       "        vertical-align: middle;\n",
       "    }\n",
       "\n",
       "    .dataframe tbody tr th {\n",
       "        vertical-align: top;\n",
       "    }\n",
       "\n",
       "    .dataframe thead th {\n",
       "        text-align: right;\n",
       "    }\n",
       "</style>\n",
       "<table border=\"1\" class=\"dataframe\">\n",
       "  <thead>\n",
       "    <tr style=\"text-align: right;\">\n",
       "      <th></th>\n",
       "      <th>company_id_1</th>\n",
       "      <th>name</th>\n",
       "      <th>category_code</th>\n",
       "      <th>status</th>\n",
       "      <th>founded_at</th>\n",
       "      <th>closed_at</th>\n",
       "      <th>domain</th>\n",
       "      <th>network_username</th>\n",
       "      <th>country_code</th>\n",
       "      <th>investment_rounds</th>\n",
       "      <th>funding_rounds</th>\n",
       "      <th>funding_total</th>\n",
       "      <th>milestones</th>\n",
       "      <th>id</th>\n",
       "      <th>acquiring_company_id</th>\n",
       "      <th>acquired_company_id</th>\n",
       "      <th>term_code</th>\n",
       "      <th>price_amount</th>\n",
       "      <th>acquired_at</th>\n",
       "    </tr>\n",
       "  </thead>\n",
       "  <tbody>\n",
       "    <tr>\n",
       "      <th>0</th>\n",
       "      <td>1.0</td>\n",
       "      <td>Wetpaint</td>\n",
       "      <td>web</td>\n",
       "      <td>operating</td>\n",
       "      <td>2005-10-17</td>\n",
       "      <td>NaT</td>\n",
       "      <td>wetpaint-inc.com</td>\n",
       "      <td>BachelrWetpaint</td>\n",
       "      <td>USA</td>\n",
       "      <td>0.0</td>\n",
       "      <td>3.0</td>\n",
       "      <td>39750000.0</td>\n",
       "      <td>5.0</td>\n",
       "      <td>NaN</td>\n",
       "      <td>NaN</td>\n",
       "      <td>NaN</td>\n",
       "      <td>NaN</td>\n",
       "      <td>NaN</td>\n",
       "      <td>NaT</td>\n",
       "    </tr>\n",
       "    <tr>\n",
       "      <th>1</th>\n",
       "      <td>10.0</td>\n",
       "      <td>Flektor</td>\n",
       "      <td>games_video</td>\n",
       "      <td>acquired</td>\n",
       "      <td>NaT</td>\n",
       "      <td>NaT</td>\n",
       "      <td>flektor.com</td>\n",
       "      <td>NaN</td>\n",
       "      <td>USA</td>\n",
       "      <td>0.0</td>\n",
       "      <td>0.0</td>\n",
       "      <td>0.0</td>\n",
       "      <td>0.0</td>\n",
       "      <td>NaN</td>\n",
       "      <td>NaN</td>\n",
       "      <td>NaN</td>\n",
       "      <td>NaN</td>\n",
       "      <td>NaN</td>\n",
       "      <td>NaT</td>\n",
       "    </tr>\n",
       "    <tr>\n",
       "      <th>2</th>\n",
       "      <td>100.0</td>\n",
       "      <td>There</td>\n",
       "      <td>games_video</td>\n",
       "      <td>acquired</td>\n",
       "      <td>NaT</td>\n",
       "      <td>NaT</td>\n",
       "      <td>there.com</td>\n",
       "      <td>NaN</td>\n",
       "      <td>USA</td>\n",
       "      <td>0.0</td>\n",
       "      <td>0.0</td>\n",
       "      <td>0.0</td>\n",
       "      <td>4.0</td>\n",
       "      <td>NaN</td>\n",
       "      <td>NaN</td>\n",
       "      <td>NaN</td>\n",
       "      <td>NaN</td>\n",
       "      <td>NaN</td>\n",
       "      <td>NaT</td>\n",
       "    </tr>\n",
       "    <tr>\n",
       "      <th>3</th>\n",
       "      <td>10000.0</td>\n",
       "      <td>MYWEBBO</td>\n",
       "      <td>network_hosting</td>\n",
       "      <td>operating</td>\n",
       "      <td>2008-07-26</td>\n",
       "      <td>NaT</td>\n",
       "      <td>mywebbo.com</td>\n",
       "      <td>NaN</td>\n",
       "      <td>NaN</td>\n",
       "      <td>0.0</td>\n",
       "      <td>0.0</td>\n",
       "      <td>0.0</td>\n",
       "      <td>0.0</td>\n",
       "      <td>NaN</td>\n",
       "      <td>NaN</td>\n",
       "      <td>NaN</td>\n",
       "      <td>NaN</td>\n",
       "      <td>NaN</td>\n",
       "      <td>NaT</td>\n",
       "    </tr>\n",
       "    <tr>\n",
       "      <th>4</th>\n",
       "      <td>10001.0</td>\n",
       "      <td>THE Movie Streamer</td>\n",
       "      <td>games_video</td>\n",
       "      <td>operating</td>\n",
       "      <td>2008-07-26</td>\n",
       "      <td>NaT</td>\n",
       "      <td>themoviestreamer.com</td>\n",
       "      <td>NaN</td>\n",
       "      <td>NaN</td>\n",
       "      <td>0.0</td>\n",
       "      <td>0.0</td>\n",
       "      <td>0.0</td>\n",
       "      <td>0.0</td>\n",
       "      <td>NaN</td>\n",
       "      <td>NaN</td>\n",
       "      <td>NaN</td>\n",
       "      <td>NaN</td>\n",
       "      <td>NaN</td>\n",
       "      <td>NaT</td>\n",
       "    </tr>\n",
       "  </tbody>\n",
       "</table>\n",
       "</div>"
      ],
      "text/plain": [
       "   company_id_1                name    category_code     status founded_at  \\\n",
       "0           1.0            Wetpaint              web  operating 2005-10-17   \n",
       "1          10.0             Flektor      games_video   acquired        NaT   \n",
       "2         100.0               There      games_video   acquired        NaT   \n",
       "3       10000.0             MYWEBBO  network_hosting  operating 2008-07-26   \n",
       "4       10001.0  THE Movie Streamer      games_video  operating 2008-07-26   \n",
       "\n",
       "  closed_at                domain network_username country_code  \\\n",
       "0       NaT      wetpaint-inc.com  BachelrWetpaint          USA   \n",
       "1       NaT           flektor.com              NaN          USA   \n",
       "2       NaT             there.com              NaN          USA   \n",
       "3       NaT           mywebbo.com              NaN          NaN   \n",
       "4       NaT  themoviestreamer.com              NaN          NaN   \n",
       "\n",
       "   investment_rounds  funding_rounds  funding_total  milestones  id  \\\n",
       "0                0.0             3.0     39750000.0         5.0 NaN   \n",
       "1                0.0             0.0            0.0         0.0 NaN   \n",
       "2                0.0             0.0            0.0         4.0 NaN   \n",
       "3                0.0             0.0            0.0         0.0 NaN   \n",
       "4                0.0             0.0            0.0         0.0 NaN   \n",
       "\n",
       "   acquiring_company_id  acquired_company_id term_code  price_amount  \\\n",
       "0                   NaN                  NaN       NaN           NaN   \n",
       "1                   NaN                  NaN       NaN           NaN   \n",
       "2                   NaN                  NaN       NaN           NaN   \n",
       "3                   NaN                  NaN       NaN           NaN   \n",
       "4                   NaN                  NaN       NaN           NaN   \n",
       "\n",
       "  acquired_at  \n",
       "0         NaT  \n",
       "1         NaT  \n",
       "2         NaT  \n",
       "3         NaT  \n",
       "4         NaT  "
      ]
     },
     "execution_count": 61,
     "metadata": {},
     "output_type": "execute_result"
    }
   ],
   "source": [
    "company_acquisition_df = company_df.merge(acquisition_df, how = 'left', right_on = 'acquiring_company_id', left_on = 'company_id_1')\n",
    "company_acquisition_df.head()"
   ]
  },
  {
   "cell_type": "code",
   "execution_count": 62,
   "metadata": {
    "id": "kuV1b5MXFg3_"
   },
   "outputs": [
    {
     "name": "stdout",
     "output_type": "stream",
     "text": [
      "Количество компаний: 44161\n"
     ]
    }
   ],
   "source": [
    "# Фильтрация компаний\n",
    "company_acquisition_df  = company_acquisition_df [(company_acquisition_df ['funding_rounds'] > 0) | (company_acquisition_df ['investment_rounds'] > 0) | (company_acquisition_df ['status'] == 'acquired')]\n",
    "\n",
    "# Проверка количества компаний\n",
    "print(\"Количество компаний:\", len(company_acquisition_df ))"
   ]
  },
  {
   "cell_type": "code",
   "execution_count": 63,
   "metadata": {
    "id": "93v3fEX5FgtP"
   },
   "outputs": [
    {
     "data": {
      "text/html": [
       "<div>\n",
       "<style scoped>\n",
       "    .dataframe tbody tr th:only-of-type {\n",
       "        vertical-align: middle;\n",
       "    }\n",
       "\n",
       "    .dataframe tbody tr th {\n",
       "        vertical-align: top;\n",
       "    }\n",
       "\n",
       "    .dataframe thead th {\n",
       "        text-align: right;\n",
       "    }\n",
       "</style>\n",
       "<table border=\"1\" class=\"dataframe\">\n",
       "  <thead>\n",
       "    <tr style=\"text-align: right;\">\n",
       "      <th></th>\n",
       "      <th>company_id_1</th>\n",
       "      <th>name</th>\n",
       "      <th>category_code</th>\n",
       "      <th>status</th>\n",
       "      <th>founded_at</th>\n",
       "      <th>closed_at</th>\n",
       "      <th>domain</th>\n",
       "      <th>network_username</th>\n",
       "      <th>country_code</th>\n",
       "      <th>investment_rounds</th>\n",
       "      <th>funding_rounds</th>\n",
       "      <th>funding_total</th>\n",
       "      <th>milestones</th>\n",
       "      <th>id</th>\n",
       "      <th>acquiring_company_id</th>\n",
       "      <th>acquired_company_id</th>\n",
       "      <th>term_code</th>\n",
       "      <th>price_amount</th>\n",
       "      <th>acquired_at</th>\n",
       "    </tr>\n",
       "  </thead>\n",
       "  <tbody>\n",
       "    <tr>\n",
       "      <th>0</th>\n",
       "      <td>1.0</td>\n",
       "      <td>Wetpaint</td>\n",
       "      <td>web</td>\n",
       "      <td>operating</td>\n",
       "      <td>2005-10-17</td>\n",
       "      <td>NaT</td>\n",
       "      <td>wetpaint-inc.com</td>\n",
       "      <td>BachelrWetpaint</td>\n",
       "      <td>USA</td>\n",
       "      <td>0.0</td>\n",
       "      <td>3.0</td>\n",
       "      <td>39750000.0</td>\n",
       "      <td>5.0</td>\n",
       "      <td>NaN</td>\n",
       "      <td>NaN</td>\n",
       "      <td>NaN</td>\n",
       "      <td>NaN</td>\n",
       "      <td>NaN</td>\n",
       "      <td>NaT</td>\n",
       "    </tr>\n",
       "    <tr>\n",
       "      <th>1</th>\n",
       "      <td>10.0</td>\n",
       "      <td>Flektor</td>\n",
       "      <td>games_video</td>\n",
       "      <td>acquired</td>\n",
       "      <td>NaT</td>\n",
       "      <td>NaT</td>\n",
       "      <td>flektor.com</td>\n",
       "      <td>NaN</td>\n",
       "      <td>USA</td>\n",
       "      <td>0.0</td>\n",
       "      <td>0.0</td>\n",
       "      <td>0.0</td>\n",
       "      <td>0.0</td>\n",
       "      <td>NaN</td>\n",
       "      <td>NaN</td>\n",
       "      <td>NaN</td>\n",
       "      <td>NaN</td>\n",
       "      <td>NaN</td>\n",
       "      <td>NaT</td>\n",
       "    </tr>\n",
       "    <tr>\n",
       "      <th>2</th>\n",
       "      <td>100.0</td>\n",
       "      <td>There</td>\n",
       "      <td>games_video</td>\n",
       "      <td>acquired</td>\n",
       "      <td>NaT</td>\n",
       "      <td>NaT</td>\n",
       "      <td>there.com</td>\n",
       "      <td>NaN</td>\n",
       "      <td>USA</td>\n",
       "      <td>0.0</td>\n",
       "      <td>0.0</td>\n",
       "      <td>0.0</td>\n",
       "      <td>4.0</td>\n",
       "      <td>NaN</td>\n",
       "      <td>NaN</td>\n",
       "      <td>NaN</td>\n",
       "      <td>NaN</td>\n",
       "      <td>NaN</td>\n",
       "      <td>NaT</td>\n",
       "    </tr>\n",
       "    <tr>\n",
       "      <th>13</th>\n",
       "      <td>1001.0</td>\n",
       "      <td>FriendFeed</td>\n",
       "      <td>web</td>\n",
       "      <td>acquired</td>\n",
       "      <td>2007-10-01</td>\n",
       "      <td>NaT</td>\n",
       "      <td>friendfeed.com</td>\n",
       "      <td>friendfeed</td>\n",
       "      <td>USA</td>\n",
       "      <td>0.0</td>\n",
       "      <td>1.0</td>\n",
       "      <td>5000000.0</td>\n",
       "      <td>3.0</td>\n",
       "      <td>NaN</td>\n",
       "      <td>NaN</td>\n",
       "      <td>NaN</td>\n",
       "      <td>NaN</td>\n",
       "      <td>NaN</td>\n",
       "      <td>NaT</td>\n",
       "    </tr>\n",
       "    <tr>\n",
       "      <th>18</th>\n",
       "      <td>10014.0</td>\n",
       "      <td>Mobclix</td>\n",
       "      <td>mobile</td>\n",
       "      <td>acquired</td>\n",
       "      <td>2008-03-01</td>\n",
       "      <td>NaT</td>\n",
       "      <td>mobclix.com</td>\n",
       "      <td>mobclix</td>\n",
       "      <td>USA</td>\n",
       "      <td>0.0</td>\n",
       "      <td>1.0</td>\n",
       "      <td>0.0</td>\n",
       "      <td>4.0</td>\n",
       "      <td>3727.0</td>\n",
       "      <td>10014.0</td>\n",
       "      <td>31658.0</td>\n",
       "      <td>NaN</td>\n",
       "      <td>0.0</td>\n",
       "      <td>2010-03-01</td>\n",
       "    </tr>\n",
       "  </tbody>\n",
       "</table>\n",
       "</div>"
      ],
      "text/plain": [
       "    company_id_1        name category_code     status founded_at closed_at  \\\n",
       "0            1.0    Wetpaint           web  operating 2005-10-17       NaT   \n",
       "1           10.0     Flektor   games_video   acquired        NaT       NaT   \n",
       "2          100.0       There   games_video   acquired        NaT       NaT   \n",
       "13        1001.0  FriendFeed           web   acquired 2007-10-01       NaT   \n",
       "18       10014.0     Mobclix        mobile   acquired 2008-03-01       NaT   \n",
       "\n",
       "              domain network_username country_code  investment_rounds  \\\n",
       "0   wetpaint-inc.com  BachelrWetpaint          USA                0.0   \n",
       "1        flektor.com              NaN          USA                0.0   \n",
       "2          there.com              NaN          USA                0.0   \n",
       "13    friendfeed.com       friendfeed          USA                0.0   \n",
       "18       mobclix.com          mobclix          USA                0.0   \n",
       "\n",
       "    funding_rounds  funding_total  milestones      id  acquiring_company_id  \\\n",
       "0              3.0     39750000.0         5.0     NaN                   NaN   \n",
       "1              0.0            0.0         0.0     NaN                   NaN   \n",
       "2              0.0            0.0         4.0     NaN                   NaN   \n",
       "13             1.0      5000000.0         3.0     NaN                   NaN   \n",
       "18             1.0            0.0         4.0  3727.0               10014.0   \n",
       "\n",
       "    acquired_company_id term_code  price_amount acquired_at  \n",
       "0                   NaN       NaN           NaN         NaT  \n",
       "1                   NaN       NaN           NaN         NaT  \n",
       "2                   NaN       NaN           NaN         NaT  \n",
       "13                  NaN       NaN           NaN         NaT  \n",
       "18              31658.0       NaN           0.0  2010-03-01  "
      ]
     },
     "execution_count": 63,
     "metadata": {},
     "output_type": "execute_result"
    }
   ],
   "source": [
    "# Анализ данных\n",
    "company_acquisition_df .head()"
   ]
  },
  {
   "cell_type": "markdown",
   "metadata": {
    "id": "DFHINkV3rJg2"
   },
   "source": [
    "\n",
    "### 3.2. Анализ выбросов\n",
    "\n",
    "Заказчика интересует обычный для рассматриваемого периода размер средств, который предоставлялся компаниям.\n",
    "\n",
    "По предобработанному столбцу `funding_total` графическим способом оценим, какой размер общего финансирования для одной компании будет типичным, а какой — выбивающимся.\n",
    "\n",
    "---"
   ]
  },
  {
   "cell_type": "code",
   "execution_count": 64,
   "metadata": {},
   "outputs": [
    {
     "data": {
      "image/png": "[encoded data removed]",
      "text/plain": [
       "<Figure size 1000x800 with 1 Axes>"
      ]
     },
     "metadata": {},
     "output_type": "display_data"
    }
   ],
   "source": [
    "# Строим диаграмму размаха методом boxplot()\n",
    "boxplot = company_acquisition_df.boxplot(column='funding_total',\n",
    "                            vert=False,\n",
    "                            figsize=(10, 8))\n",
    "\n",
    "# Добавляем заголовок и метку оси X\n",
    "boxplot.set_title('Распределение сумм финансирования (млрд. руб.)')\n",
    "boxplot.set_xlabel('Сумма финансирования')\n",
    "\n",
    "plt.show()\n"
   ]
  },
  {
   "cell_type": "markdown",
   "metadata": {},
   "source": [
    "Детализируем график, игнорируя крайние выбросы, чтобы медиана, первый и третий квартили были более заметны."
   ]
  },
  {
   "cell_type": "code",
   "execution_count": 65,
   "metadata": {},
   "outputs": [
    {
     "data": {
      "image/png": "[encoded data removed]",
      "text/plain": [
       "<Figure size 1000x800 with 1 Axes>"
      ]
     },
     "metadata": {},
     "output_type": "display_data"
    }
   ],
   "source": [
    "# Строим диаграмму размаха методом boxplot()\n",
    "boxplot = company_acquisition_df.boxplot(column='funding_total',\n",
    "                            vert=False,\n",
    "                            figsize=(10, 8), showfliers=False)\n",
    "\n",
    "# Добавляем заголовок и метку оси X\n",
    "boxplot.set_title('Распределение сумм финансирования (млрд. руб.)')\n",
    "boxplot.set_xlabel('Сумма финансирования')\n",
    "\n",
    "\n",
    "plt.show()"
   ]
  },
  {
   "cell_type": "markdown",
   "metadata": {},
   "source": [
    "Типичным размером общего финансирования для одной компании будет размер финансирования равный медиане на графиках, а выбивающимся - равный выбросам."
   ]
  },
  {
   "cell_type": "code",
   "execution_count": 66,
   "metadata": {},
   "outputs": [
    {
     "data": {
      "text/html": [
       "<style type=\"text/css\">\n",
       "</style>\n",
       "<table id=\"T_96a9d\">\n",
       "  <thead>\n",
       "    <tr>\n",
       "      <th class=\"blank level0\" >&nbsp;</th>\n",
       "      <th id=\"T_96a9d_level0_col0\" class=\"col_heading level0 col0\" >funding_total</th>\n",
       "    </tr>\n",
       "  </thead>\n",
       "  <tbody>\n",
       "    <tr>\n",
       "      <th id=\"T_96a9d_level0_row0\" class=\"row_heading level0 row0\" >count</th>\n",
       "      <td id=\"T_96a9d_row0_col0\" class=\"data row0 col0\" >44161</td>\n",
       "    </tr>\n",
       "    <tr>\n",
       "      <th id=\"T_96a9d_level0_row1\" class=\"row_heading level0 row1\" >mean</th>\n",
       "      <td id=\"T_96a9d_row1_col0\" class=\"data row1 col0\" >18311633</td>\n",
       "    </tr>\n",
       "    <tr>\n",
       "      <th id=\"T_96a9d_level0_row2\" class=\"row_heading level0 row2\" >std</th>\n",
       "      <td id=\"T_96a9d_row2_col0\" class=\"data row2 col0\" >119671013</td>\n",
       "    </tr>\n",
       "    <tr>\n",
       "      <th id=\"T_96a9d_level0_row3\" class=\"row_heading level0 row3\" >min</th>\n",
       "      <td id=\"T_96a9d_row3_col0\" class=\"data row3 col0\" >0</td>\n",
       "    </tr>\n",
       "    <tr>\n",
       "      <th id=\"T_96a9d_level0_row4\" class=\"row_heading level0 row4\" >25%</th>\n",
       "      <td id=\"T_96a9d_row4_col0\" class=\"data row4 col0\" >0</td>\n",
       "    </tr>\n",
       "    <tr>\n",
       "      <th id=\"T_96a9d_level0_row5\" class=\"row_heading level0 row5\" >50%</th>\n",
       "      <td id=\"T_96a9d_row5_col0\" class=\"data row5 col0\" >643300</td>\n",
       "    </tr>\n",
       "    <tr>\n",
       "      <th id=\"T_96a9d_level0_row6\" class=\"row_heading level0 row6\" >75%</th>\n",
       "      <td id=\"T_96a9d_row6_col0\" class=\"data row6 col0\" >6430000</td>\n",
       "    </tr>\n",
       "    <tr>\n",
       "      <th id=\"T_96a9d_level0_row7\" class=\"row_heading level0 row7\" >max</th>\n",
       "      <td id=\"T_96a9d_row7_col0\" class=\"data row7 col0\" >5700000000</td>\n",
       "    </tr>\n",
       "  </tbody>\n",
       "</table>\n"
      ],
      "text/plain": [
       "<pandas.io.formats.style.Styler at 0x176f3d280>"
      ]
     },
     "execution_count": 66,
     "metadata": {},
     "output_type": "execute_result"
    }
   ],
   "source": [
    "# Рассмотрим статистику, которую выведет метод describe()\n",
    "company_acquisition_df['funding_total'].describe().to_frame().style.format('{:.0f}')"
   ]
  },
  {
   "cell_type": "markdown",
   "metadata": {},
   "source": [
    "Среднее значение общего финансирования для компаний равняется 10135610 рублям.\n",
    "Стандартное отклонение равное 56464360 показывает, насколько значения финансирования отклоняются от среднего. Высокое стандартное отклонение указывает на большой разброс значений. 0-25% компаний имеют финансирование, равное или меньшее 0. Половина компаний имеет финансирование, равное или меньшее 600000 рублям. 75% компаний имеют финансирование, равное или меньшее 5650650. Максимальное финансирование равно 5,7 млрд. рублей. Обычные способы нахождения типичных значений не применимы к данным."
   ]
  },
  {
   "cell_type": "markdown",
   "metadata": {
    "id": "JqkRAQrIrJg2"
   },
   "source": [
    "\n",
    "### 3.3. Куплены забесплатно?\n",
    "\n",
    "- Исследуем компании, которые были проданы за ноль или за один доллар, и при этом известно, что у них был ненулевой общий объём финансирования.\n",
    "\n",
    "- Рассчитаем аналитически верхнюю и нижнюю границу выбросов для столбца `funding_total` и укажем, каким процентилям границы соответствуют.\n",
    "\n",
    "---"
   ]
  },
  {
   "cell_type": "code",
   "execution_count": 67,
   "metadata": {
    "id": "wJHXCBwwrJg2",
    "vscode": {
     "languageId": "plaintext"
    }
   },
   "outputs": [
    {
     "data": {
      "text/html": [
       "<div>\n",
       "<style scoped>\n",
       "    .dataframe tbody tr th:only-of-type {\n",
       "        vertical-align: middle;\n",
       "    }\n",
       "\n",
       "    .dataframe tbody tr th {\n",
       "        vertical-align: top;\n",
       "    }\n",
       "\n",
       "    .dataframe thead th {\n",
       "        text-align: right;\n",
       "    }\n",
       "</style>\n",
       "<table border=\"1\" class=\"dataframe\">\n",
       "  <thead>\n",
       "    <tr style=\"text-align: right;\">\n",
       "      <th></th>\n",
       "      <th>company_id_1</th>\n",
       "      <th>name</th>\n",
       "      <th>category_code</th>\n",
       "      <th>status</th>\n",
       "      <th>founded_at</th>\n",
       "      <th>closed_at</th>\n",
       "      <th>domain</th>\n",
       "      <th>network_username</th>\n",
       "      <th>country_code</th>\n",
       "      <th>investment_rounds</th>\n",
       "      <th>funding_rounds</th>\n",
       "      <th>funding_total</th>\n",
       "      <th>milestones</th>\n",
       "      <th>id</th>\n",
       "      <th>acquiring_company_id</th>\n",
       "      <th>acquired_company_id</th>\n",
       "      <th>term_code</th>\n",
       "      <th>price_amount</th>\n",
       "      <th>acquired_at</th>\n",
       "    </tr>\n",
       "  </thead>\n",
       "  <tbody>\n",
       "    <tr>\n",
       "      <th>51</th>\n",
       "      <td>100331.0</td>\n",
       "      <td>Solectria Renewables</td>\n",
       "      <td>cleantech</td>\n",
       "      <td>operating</td>\n",
       "      <td>NaT</td>\n",
       "      <td>NaT</td>\n",
       "      <td>solren.com</td>\n",
       "      <td>SolectriaRen</td>\n",
       "      <td>USA</td>\n",
       "      <td>0.0</td>\n",
       "      <td>1.0</td>\n",
       "      <td>2100000.0</td>\n",
       "      <td>0.0</td>\n",
       "      <td>6895.0</td>\n",
       "      <td>100331.0</td>\n",
       "      <td>152557.0</td>\n",
       "      <td>NaN</td>\n",
       "      <td>0.0</td>\n",
       "      <td>2012-03-20</td>\n",
       "    </tr>\n",
       "    <tr>\n",
       "      <th>111</th>\n",
       "      <td>100844.0</td>\n",
       "      <td>Attunity</td>\n",
       "      <td>software</td>\n",
       "      <td>ipo</td>\n",
       "      <td>NaT</td>\n",
       "      <td>NaT</td>\n",
       "      <td>attunity.com</td>\n",
       "      <td>attunity</td>\n",
       "      <td>USA</td>\n",
       "      <td>0.0</td>\n",
       "      <td>4.0</td>\n",
       "      <td>10500000.0</td>\n",
       "      <td>1.0</td>\n",
       "      <td>6113.0</td>\n",
       "      <td>100844.0</td>\n",
       "      <td>100840.0</td>\n",
       "      <td>NaN</td>\n",
       "      <td>0.0</td>\n",
       "      <td>2011-09-07</td>\n",
       "    </tr>\n",
       "    <tr>\n",
       "      <th>126</th>\n",
       "      <td>100938.0</td>\n",
       "      <td>The Local</td>\n",
       "      <td>news</td>\n",
       "      <td>operating</td>\n",
       "      <td>2004-04-01</td>\n",
       "      <td>NaT</td>\n",
       "      <td>thelocal.com</td>\n",
       "      <td>NaN</td>\n",
       "      <td>SWE</td>\n",
       "      <td>0.0</td>\n",
       "      <td>3.0</td>\n",
       "      <td>3933520.0</td>\n",
       "      <td>1.0</td>\n",
       "      <td>6114.0</td>\n",
       "      <td>100938.0</td>\n",
       "      <td>100937.0</td>\n",
       "      <td>NaN</td>\n",
       "      <td>0.0</td>\n",
       "      <td>2008-12-01</td>\n",
       "    </tr>\n",
       "    <tr>\n",
       "      <th>172</th>\n",
       "      <td>10120.0</td>\n",
       "      <td>MetaPack</td>\n",
       "      <td>software</td>\n",
       "      <td>operating</td>\n",
       "      <td>1999-01-01</td>\n",
       "      <td>NaT</td>\n",
       "      <td>metapack.com</td>\n",
       "      <td>MetaPack</td>\n",
       "      <td>GBR</td>\n",
       "      <td>0.0</td>\n",
       "      <td>2.0</td>\n",
       "      <td>30772000.0</td>\n",
       "      <td>2.0</td>\n",
       "      <td>10519.0</td>\n",
       "      <td>10120.0</td>\n",
       "      <td>285956.0</td>\n",
       "      <td>NaN</td>\n",
       "      <td>0.0</td>\n",
       "      <td>2013-12-11</td>\n",
       "    </tr>\n",
       "    <tr>\n",
       "      <th>261</th>\n",
       "      <td>10176.0</td>\n",
       "      <td>Yammer</td>\n",
       "      <td>enterprise</td>\n",
       "      <td>acquired</td>\n",
       "      <td>2008-09-10</td>\n",
       "      <td>NaT</td>\n",
       "      <td>yammer.com</td>\n",
       "      <td>yammer</td>\n",
       "      <td>USA</td>\n",
       "      <td>0.0</td>\n",
       "      <td>5.0</td>\n",
       "      <td>142000000.0</td>\n",
       "      <td>3.0</td>\n",
       "      <td>6978.0</td>\n",
       "      <td>10176.0</td>\n",
       "      <td>25170.0</td>\n",
       "      <td>NaN</td>\n",
       "      <td>0.0</td>\n",
       "      <td>2012-04-11</td>\n",
       "    </tr>\n",
       "  </tbody>\n",
       "</table>\n",
       "</div>"
      ],
      "text/plain": [
       "     company_id_1                  name category_code     status founded_at  \\\n",
       "51       100331.0  Solectria Renewables     cleantech  operating        NaT   \n",
       "111      100844.0              Attunity      software        ipo        NaT   \n",
       "126      100938.0             The Local          news  operating 2004-04-01   \n",
       "172       10120.0              MetaPack      software  operating 1999-01-01   \n",
       "261       10176.0                Yammer    enterprise   acquired 2008-09-10   \n",
       "\n",
       "    closed_at        domain network_username country_code  investment_rounds  \\\n",
       "51        NaT    solren.com     SolectriaRen          USA                0.0   \n",
       "111       NaT  attunity.com         attunity          USA                0.0   \n",
       "126       NaT  thelocal.com              NaN          SWE                0.0   \n",
       "172       NaT  metapack.com         MetaPack          GBR                0.0   \n",
       "261       NaT    yammer.com           yammer          USA                0.0   \n",
       "\n",
       "     funding_rounds  funding_total  milestones       id  acquiring_company_id  \\\n",
       "51              1.0      2100000.0         0.0   6895.0              100331.0   \n",
       "111             4.0     10500000.0         1.0   6113.0              100844.0   \n",
       "126             3.0      3933520.0         1.0   6114.0              100938.0   \n",
       "172             2.0     30772000.0         2.0  10519.0               10120.0   \n",
       "261             5.0    142000000.0         3.0   6978.0               10176.0   \n",
       "\n",
       "     acquired_company_id term_code  price_amount acquired_at  \n",
       "51              152557.0       NaN           0.0  2012-03-20  \n",
       "111             100840.0       NaN           0.0  2011-09-07  \n",
       "126             100937.0       NaN           0.0  2008-12-01  \n",
       "172             285956.0       NaN           0.0  2013-12-11  \n",
       "261              25170.0       NaN           0.0  2012-04-11  "
      ]
     },
     "execution_count": 67,
     "metadata": {},
     "output_type": "execute_result"
    }
   ],
   "source": [
    "# Фильтруем данные так, чтобы вывести компании, которые были проданы за ноль или за один доллар и у них ненулевой общий объём финансирования.\n",
    "company_acquisition_df = company_acquisition_df[(company_acquisition_df['funding_total'] > 1) & ((company_acquisition_df['price_amount'] == 0) | (company_acquisition_df['price_amount'] == 1))]\n",
    "company_acquisition_df.head()"
   ]
  },
  {
   "cell_type": "markdown",
   "metadata": {},
   "source": [
    "Рассчитаем аналитически верхнюю и нижнюю границу выбросов для столбца `funding_total`"
   ]
  },
  {
   "cell_type": "code",
   "execution_count": 68,
   "metadata": {
    "id": "9IDTHfYQFhuX"
   },
   "outputs": [
    {
     "name": "stdout",
     "output_type": "stream",
     "text": [
      "Межквартильный размах равен: 66300000.0\n",
      "Нижний порог равен: -92750000.0\n",
      "Верхний порог равен: 172450000.0\n"
     ]
    }
   ],
   "source": [
    "Q1 = company_acquisition_df['funding_total'].quantile(0.25)\n",
    "Q3 = company_acquisition_df['funding_total'].quantile(0.75)\n",
    "IQR = Q3 - Q1\n",
    "lower = Q1 - 1.5 * IQR\n",
    "upper = Q3 + 1.5 * IQR\n",
    "print(f'Межквартильный размах равен: {IQR}')\n",
    "print(f'Нижний порог равен: {lower}')\n",
    "print(f'Верхний порог равен: {upper}')"
   ]
  },
  {
   "cell_type": "markdown",
   "metadata": {},
   "source": [
    "Далее рассчитаем процентили, чтобы определить каким границы выбросов соответствуют:"
   ]
  },
  {
   "cell_type": "code",
   "execution_count": 69,
   "metadata": {},
   "outputs": [
    {
     "data": {
      "text/html": [
       "<style type=\"text/css\">\n",
       "</style>\n",
       "<table id=\"T_e020c\">\n",
       "  <thead>\n",
       "    <tr>\n",
       "      <th class=\"blank level0\" >&nbsp;</th>\n",
       "      <th id=\"T_e020c_level0_col0\" class=\"col_heading level0 col0\" >funding_total</th>\n",
       "    </tr>\n",
       "  </thead>\n",
       "  <tbody>\n",
       "    <tr>\n",
       "      <th id=\"T_e020c_level0_row0\" class=\"row_heading level0 row0\" >count</th>\n",
       "      <td id=\"T_e020c_row0_col0\" class=\"data row0 col0\" >2567</td>\n",
       "    </tr>\n",
       "    <tr>\n",
       "      <th id=\"T_e020c_level0_row1\" class=\"row_heading level0 row1\" >mean</th>\n",
       "      <td id=\"T_e020c_row1_col0\" class=\"data row1 col0\" >139601912</td>\n",
       "    </tr>\n",
       "    <tr>\n",
       "      <th id=\"T_e020c_level0_row2\" class=\"row_heading level0 row2\" >std</th>\n",
       "      <td id=\"T_e020c_row2_col0\" class=\"data row2 col0\" >382338711</td>\n",
       "    </tr>\n",
       "    <tr>\n",
       "      <th id=\"T_e020c_level0_row3\" class=\"row_heading level0 row3\" >min</th>\n",
       "      <td id=\"T_e020c_row3_col0\" class=\"data row3 col0\" >4000</td>\n",
       "    </tr>\n",
       "    <tr>\n",
       "      <th id=\"T_e020c_level0_row4\" class=\"row_heading level0 row4\" >50%</th>\n",
       "      <td id=\"T_e020c_row4_col0\" class=\"data row4 col0\" >25000000</td>\n",
       "    </tr>\n",
       "    <tr>\n",
       "      <th id=\"T_e020c_level0_row5\" class=\"row_heading level0 row5\" >60%</th>\n",
       "      <td id=\"T_e020c_row5_col0\" class=\"data row5 col0\" >35000000</td>\n",
       "    </tr>\n",
       "    <tr>\n",
       "      <th id=\"T_e020c_level0_row6\" class=\"row_heading level0 row6\" >70%</th>\n",
       "      <td id=\"T_e020c_row6_col0\" class=\"data row6 col0\" >56845860</td>\n",
       "    </tr>\n",
       "    <tr>\n",
       "      <th id=\"T_e020c_level0_row7\" class=\"row_heading level0 row7\" >80%</th>\n",
       "      <td id=\"T_e020c_row7_col0\" class=\"data row7 col0\" >97312500</td>\n",
       "    </tr>\n",
       "    <tr>\n",
       "      <th id=\"T_e020c_level0_row8\" class=\"row_heading level0 row8\" >85%</th>\n",
       "      <td id=\"T_e020c_row8_col0\" class=\"data row8 col0\" >147650000</td>\n",
       "    </tr>\n",
       "    <tr>\n",
       "      <th id=\"T_e020c_level0_row9\" class=\"row_heading level0 row9\" >95%</th>\n",
       "      <td id=\"T_e020c_row9_col0\" class=\"data row9 col0\" >1000000000</td>\n",
       "    </tr>\n",
       "    <tr>\n",
       "      <th id=\"T_e020c_level0_row10\" class=\"row_heading level0 row10\" >99%</th>\n",
       "      <td id=\"T_e020c_row10_col0\" class=\"data row10 col0\" >2425700000</td>\n",
       "    </tr>\n",
       "    <tr>\n",
       "      <th id=\"T_e020c_level0_row11\" class=\"row_heading level0 row11\" >max</th>\n",
       "      <td id=\"T_e020c_row11_col0\" class=\"data row11 col0\" >5700000000</td>\n",
       "    </tr>\n",
       "  </tbody>\n",
       "</table>\n"
      ],
      "text/plain": [
       "<pandas.io.formats.style.Styler at 0x107f06630>"
      ]
     },
     "execution_count": 69,
     "metadata": {},
     "output_type": "execute_result"
    }
   ],
   "source": [
    "company_acquisition_df['funding_total'].describe(percentiles=[0.5, 0.6, 0.7, 0.8, 0.85, 0.95, 0.99]).to_frame().style.format('{:.0f}')"
   ]
  },
  {
   "cell_type": "markdown",
   "metadata": {},
   "source": [
    "Верхняя граница выбросов соответствует 85-му процентилю."
   ]
  },
  {
   "cell_type": "markdown",
   "metadata": {
    "id": "mEiWpROjrJg2"
   },
   "source": [
    "\n",
    "### 3.4. Цены стартапов по категориям\n",
    "\n",
    "Категории стартапов с типично высокими ценами покупки стартапов и значительным разбросом цен могут быть привлекательными для крупных инвесторов, которые готовы к высоким рискам ради потенциально больших доходов. Среди категорий стартапов выделим категории стартапов, характеризующиеся:\n",
    "\n",
    "- типично высокими ценами;\n",
    "- и наибольшим разбросом цен за стартап.\n",
    "\n",
    "---"
   ]
  },
  {
   "cell_type": "markdown",
   "metadata": {},
   "source": [
    "Мы хотим сосредоточиться на наиболее значимых категориях, поэтому выберем топ-10. Это позволит нам детально проанализировать ключевые категории без перегрузки информацией.\n",
    "\n",
    "Сначала выведем категории стартапов, характеризующихся типично высокими ценами:"
   ]
  },
  {
   "cell_type": "code",
   "execution_count": 70,
   "metadata": {},
   "outputs": [
    {
     "name": "stdout",
     "output_type": "stream",
     "text": [
      "category_code\n",
      "social            1046670.536\n",
      "nanotech           502860.000\n",
      "hardware           434078.996\n",
      "travel             266283.906\n",
      "web                210247.731\n",
      "mobile             193419.205\n",
      "games_video        172899.501\n",
      "cleantech          155807.232\n",
      "transportation     151902.057\n",
      "fashion            119316.667\n",
      "Name: funding_total, dtype: float64\n"
     ]
    }
   ],
   "source": [
    "top_10 = company_acquisition_df.groupby('category_code')['funding_total'].mean().nlargest(10).round(0) / 1000\n",
    "print(top_10)"
   ]
  },
  {
   "cell_type": "markdown",
   "metadata": {},
   "source": [
    "Наиболее высокой типичной ценой характеризуется категория `social` - это более 1 млрд рублей. На втором месте категория - `nanotech`, при том типичная цена вдвое меньше, чем у `social`. На третьем месте по величине цены компании стоят стартапы категории `hardware` - 434 млн. рублей. Что касается наименьшей цены компаний топ-10 - это стартапы категории `fashion` стоимостью почти 120 млн. рублей. "
   ]
  },
  {
   "cell_type": "code",
   "execution_count": 71,
   "metadata": {},
   "outputs": [
    {
     "name": "stdout",
     "output_type": "stream",
     "text": [
      "category_code\n",
      "social              1015957.977\n",
      "mobile               789705.570\n",
      "hardware             475129.973\n",
      "web                  396601.212\n",
      "games_video          284779.252\n",
      "cleantech            251570.487\n",
      "travel               234416.787\n",
      "public_relations     201298.140\n",
      "ecommerce            194887.209\n",
      "news                 177717.568\n",
      "Name: funding_total, dtype: float64\n"
     ]
    }
   ],
   "source": [
    "top_10_std = company_acquisition_df.groupby('category_code')['funding_total'].std().nlargest(10).round(0) / 1000\n",
    "print(top_10_std)"
   ]
  },
  {
   "cell_type": "markdown",
   "metadata": {
    "id": "ADOfyVY_rJg3"
   },
   "source": [
    "\n",
    "### 3.5. Сколько раундов продержится стартап перед покупкой\n",
    "\n",
    "- Необходимо проанализировать столбец `funding_rounds`. Исследуем значения столбца. Заказчика интересует типичное значение количества раундов для каждого возможного статуса стартапа.\n",
    "- Построим график, который отображает, сколько в среднем раундов финансирования проходило для стартапов из каждой группы.\n",
    "\n",
    "---"
   ]
  },
  {
   "cell_type": "code",
   "execution_count": 72,
   "metadata": {
    "id": "hgXMPC4WrJg3",
    "vscode": {
     "languageId": "plaintext"
    }
   },
   "outputs": [
    {
     "name": "stdout",
     "output_type": "stream",
     "text": [
      "status\n",
      "acquired     2.81\n",
      "closed       1.64\n",
      "ipo          2.78\n",
      "operating    3.04\n",
      "Name: funding_rounds, dtype: float64\n"
     ]
    }
   ],
   "source": [
    "# Рассчитаем типичное значение количества раундов для каждого возможного статуса стартапа\n",
    "mean_rounds_count = company_acquisition_df.groupby('status')['funding_rounds'].mean().round(2)\n",
    "print(mean_rounds_count )"
   ]
  },
  {
   "cell_type": "markdown",
   "metadata": {},
   "source": [
    "Построим график, который отображает, сколько в среднем раундов финансирования проходило для стартапов из каждой группы:"
   ]
  },
  {
   "cell_type": "code",
   "execution_count": 73,
   "metadata": {},
   "outputs": [
    {
     "data": {
      "image/png": "[encoded data removed]",
      "text/plain": [
       "<Figure size 1000x600 with 1 Axes>"
      ]
     },
     "metadata": {},
     "output_type": "display_data"
    }
   ],
   "source": [
    "# Группируем данные по категории и вычисляем среднее количество раундов финансирования\n",
    "average_rounds_by_category = company_acquisition_df.groupby('category_code')['funding_rounds'].mean().reset_index()\n",
    "\n",
    "# Сортируем данные по среднему количеству раундов в порядке убывания\n",
    "sorted_data = average_rounds_by_category.sort_values('funding_rounds', ascending=False)\n",
    "\n",
    "# Строим график\n",
    "plt.figure(figsize=(10, 6))\n",
    "plt.bar(sorted_data['category_code'], sorted_data['funding_rounds'])\n",
    "plt.xlabel('Категория области деятельности')\n",
    "plt.ylabel('Среднее количество раундов финансирования')\n",
    "plt.title('Среднее количество раундов финансирования по категориям')\n",
    "plt.xticks(rotation=90)\n",
    "plt.show()\n"
   ]
  },
  {
   "cell_type": "markdown",
   "metadata": {},
   "source": [
    "Из данных видно, что среднее количество раундов финансирования сильно варьируется в зависимости от категории деятельности компании. Например, категории с наибольшим количеством раундов включают:\n",
    "- Nanotech (8.00)\n",
    "- Social (7.34)\n",
    "- Legal (5.00)\n",
    "- Education (4.86)\n",
    "\n",
    "Это может указывать на то, что стартапы в этих областях требуют больше раундов для привлечения необходимых средств или имеют более сложные пути развития.\n",
    "\n",
    "С другой стороны, категории с наименьшим количеством раундов, такие как:\n",
    "- Sports (1.00)\n",
    "- Nonprofit (1.29)\n",
    "- Other (1.40)\n",
    "- Network_hosting (1.57)\n",
    "\n",
    "Могут свидетельствовать о том, что для стартапов в этих областях требуется меньше раундов финансирования или они могут быстрее достигать своих финансовых целей.\n",
    "В целом, анализ показывает значительное разнообразие подходов к финансированию стартапов в зависимости от их сферы деятельности."
   ]
  },
  {
   "cell_type": "markdown",
   "metadata": {
    "id": "VAFEZ2HBrJg3"
   },
   "source": [
    "\n",
    "## 4. Итоговый вывод\n"
   ]
  },
  {
   "cell_type": "markdown",
   "metadata": {},
   "source": [
    "Мы загрузили все данные по проекту и проверили названия столбцов. Было выявлено, что в таблице `company_and_rounds` между словами в названиях столбцов двойной пробел и что 2 столбца имеют одинаковое наименование. Мы заменили двойные пробелы на нижнее подчеркивание, а также переименовали одинаковые столбцы.\n",
    "\n",
    "Далее мы обработали типы данных и проанализировали пропуски, чтобы понять, достаточно ли данных для решения задач.\n",
    "Типы данных поменяли для столбцов со временем и датой на `datetime64`, согласно заданию.\n",
    "\n",
    "Во второй главе мы составили сводную таблицу по годам с информацией о типичном размере средств и общем количестве раундов финансирования. Выявили, что что в 2005 году типичный размер собранных в рамках одного раунда средств был максимален. Построили график, отражающий динамику типичного размера средств, и более детально рассмотрели данные за 2013 год: тенденция по выделяемым в рамках каждого раунда средств в 2013 году наблюдалась положительная. Количество раудов с февраля по октябрь имеют положительную тенденцию, а с октября по декабрь 2013 года - отрицательную.\n",
    "\n",
    "В пункте 2.2 Проанализировали информацию об образовании сотрудников и оценили зависимость полноты сведений от размера компаний. Получили следующие доли: для малых компаний - 0.62, средних компаний - 0.68, крупные компании  - это 0.71, для крупнейших компаний - 0.82. Чем крупнее компания, тем более полные данные мы имеем.\n",
    "\n",
    "Далее мы привели проблемный датасет `company_and_rounds.csv` в удобный для анализа вид. И провели исслеlовательский анализ данных на его основе:  \n",
    "- Графическим способом оценили типичный и выбивающийся размер общего финансирования для одной компании по столбцу `funding_total`.\n",
    "- Рассчитали аналитически верхнюю и нижнюю границу выбросов для столбца funding_total и указали процентили, которым соответствуют эти границы.\n",
    "- Выделили категории стартапов с типично высокими ценами покупки - это `social`, `nanotech` и`hardware`, а также рассмотрели категории компаний,  чьи стартапы имеют значительный разбросом цен.\n",
    "- Проанализировали столбец `funding_rounds`, исследуя значения для каждого возможного статуса стартапа и построили график, отображающий среднее количество раундов финансирования для стартапов из каждой группы. Категории с наибольшим количеством раундов включают: Nanotech (8.00), Social (7.34), Legal (5.00) и Education (4.86)."
   ]
  }
 ],
 "metadata": {
  "ExecuteTimeLog": [
   {
    "duration": 3384,
    "start_time": "2025-07-03T16:58:27.990Z"
   },
   {
    "duration": 1422,
    "start_time": "2025-07-03T16:58:36.196Z"
   },
   {
    "duration": 1880,
    "start_time": "2025-07-03T17:04:32.388Z"
   },
   {
    "duration": 31,
    "start_time": "2025-07-03T17:05:40.695Z"
   },
   {
    "duration": 100,
    "start_time": "2025-07-03T17:07:13.479Z"
   },
   {
    "duration": 8,
    "start_time": "2025-07-03T17:11:42.411Z"
   },
   {
    "duration": 11,
    "start_time": "2025-07-03T17:12:04.818Z"
   },
   {
    "duration": 9,
    "start_time": "2025-07-03T17:13:34.057Z"
   },
   {
    "duration": 37,
    "start_time": "2025-07-03T17:13:36.714Z"
   },
   {
    "duration": 8,
    "start_time": "2025-07-03T17:16:26.430Z"
   },
   {
    "duration": 19,
    "start_time": "2025-07-03T17:16:51.818Z"
   },
   {
    "duration": 7,
    "start_time": "2025-07-03T17:17:30.139Z"
   },
   {
    "duration": 23,
    "start_time": "2025-07-03T17:17:52.525Z"
   },
   {
    "duration": 2442,
    "start_time": "2025-07-03T17:23:12.817Z"
   },
   {
    "duration": 1180,
    "start_time": "2025-07-03T17:23:15.261Z"
   },
   {
    "duration": 2160,
    "start_time": "2025-07-03T17:23:16.442Z"
   },
   {
    "duration": 25,
    "start_time": "2025-07-03T17:23:18.604Z"
   },
   {
    "duration": 104,
    "start_time": "2025-07-03T17:23:18.631Z"
   },
   {
    "duration": 8,
    "start_time": "2025-07-03T17:23:18.737Z"
   },
   {
    "duration": 41,
    "start_time": "2025-07-03T17:23:18.747Z"
   },
   {
    "duration": 55,
    "start_time": "2025-07-03T17:23:18.790Z"
   },
   {
    "duration": 87,
    "start_time": "2025-07-03T17:23:18.847Z"
   },
   {
    "duration": 8,
    "start_time": "2025-07-03T17:23:18.935Z"
   },
   {
    "duration": 76,
    "start_time": "2025-07-03T17:23:18.944Z"
   },
   {
    "duration": 57,
    "start_time": "2025-07-03T17:23:19.022Z"
   },
   {
    "duration": 41,
    "start_time": "2025-07-03T17:23:19.080Z"
   },
   {
    "duration": 40,
    "start_time": "2025-07-03T17:40:13.977Z"
   },
   {
    "duration": 50,
    "start_time": "2025-07-03T17:40:52.376Z"
   },
   {
    "duration": 23,
    "start_time": "2025-07-03T17:42:16.936Z"
   },
   {
    "duration": 94,
    "start_time": "2025-07-03T17:42:17.652Z"
   },
   {
    "duration": 2420,
    "start_time": "2025-07-03T17:49:31.251Z"
   },
   {
    "duration": 1213,
    "start_time": "2025-07-03T17:49:33.674Z"
   },
   {
    "duration": 1973,
    "start_time": "2025-07-03T17:49:34.888Z"
   },
   {
    "duration": 26,
    "start_time": "2025-07-03T17:49:36.863Z"
   },
   {
    "duration": 46,
    "start_time": "2025-07-03T17:49:36.891Z"
   },
   {
    "duration": 106,
    "start_time": "2025-07-03T17:49:36.939Z"
   },
   {
    "duration": 8,
    "start_time": "2025-07-03T17:49:37.047Z"
   },
   {
    "duration": 51,
    "start_time": "2025-07-03T17:49:37.057Z"
   },
   {
    "duration": 23,
    "start_time": "2025-07-03T17:49:37.109Z"
   },
   {
    "duration": 57,
    "start_time": "2025-07-03T17:49:37.134Z"
   },
   {
    "duration": 11,
    "start_time": "2025-07-03T17:49:37.193Z"
   },
   {
    "duration": 40,
    "start_time": "2025-07-03T17:49:37.206Z"
   },
   {
    "duration": 10,
    "start_time": "2025-07-03T17:49:37.248Z"
   },
   {
    "duration": 43,
    "start_time": "2025-07-03T17:49:37.261Z"
   },
   {
    "duration": 100,
    "start_time": "2025-07-03T17:50:57.581Z"
   },
   {
    "duration": 4,
    "start_time": "2025-07-03T17:51:04.610Z"
   },
   {
    "duration": 83,
    "start_time": "2025-07-03T17:51:36.349Z"
   },
   {
    "duration": 51,
    "start_time": "2025-07-03T17:52:18.645Z"
   },
   {
    "duration": 24,
    "start_time": "2025-07-03T17:52:21.935Z"
   },
   {
    "duration": 100,
    "start_time": "2025-07-03T17:52:23.025Z"
   },
   {
    "duration": 3,
    "start_time": "2025-07-03T18:29:01.554Z"
   },
   {
    "duration": 23,
    "start_time": "2025-07-03T18:29:02.138Z"
   },
   {
    "duration": 3,
    "start_time": "2025-07-03T18:29:12.082Z"
   },
   {
    "duration": 97,
    "start_time": "2025-07-03T18:29:12.886Z"
   },
   {
    "duration": 2492,
    "start_time": "2025-07-03T18:29:25.038Z"
   },
   {
    "duration": 1249,
    "start_time": "2025-07-03T18:29:27.533Z"
   },
   {
    "duration": 2041,
    "start_time": "2025-07-03T18:29:28.783Z"
   },
   {
    "duration": 26,
    "start_time": "2025-07-03T18:29:30.826Z"
   },
   {
    "duration": 33,
    "start_time": "2025-07-03T18:29:30.854Z"
   },
   {
    "duration": 107,
    "start_time": "2025-07-03T18:29:30.888Z"
   },
   {
    "duration": 4,
    "start_time": "2025-07-03T18:29:30.997Z"
   },
   {
    "duration": 20,
    "start_time": "2025-07-03T18:29:31.003Z"
   },
   {
    "duration": 34,
    "start_time": "2025-07-03T18:29:31.025Z"
   },
   {
    "duration": 24,
    "start_time": "2025-07-03T18:29:31.061Z"
   },
   {
    "duration": 55,
    "start_time": "2025-07-03T18:29:31.087Z"
   },
   {
    "duration": 7,
    "start_time": "2025-07-03T18:29:31.144Z"
   },
   {
    "duration": 43,
    "start_time": "2025-07-03T18:29:31.153Z"
   },
   {
    "duration": 31,
    "start_time": "2025-07-03T18:29:31.198Z"
   },
   {
    "duration": 42,
    "start_time": "2025-07-03T18:29:31.231Z"
   },
   {
    "duration": 224,
    "start_time": "2025-07-03T18:31:58.523Z"
   },
   {
    "duration": 217,
    "start_time": "2025-07-03T18:32:42.300Z"
   },
   {
    "duration": 103,
    "start_time": "2025-07-03T18:32:51.977Z"
   },
   {
    "duration": 45,
    "start_time": "2025-07-03T18:33:13.463Z"
   },
   {
    "duration": 102,
    "start_time": "2025-07-03T18:33:16.001Z"
   },
   {
    "duration": 2478,
    "start_time": "2025-07-03T18:36:17.592Z"
   },
   {
    "duration": 1334,
    "start_time": "2025-07-03T18:36:20.072Z"
   },
   {
    "duration": 1782,
    "start_time": "2025-07-03T18:36:21.407Z"
   },
   {
    "duration": 28,
    "start_time": "2025-07-03T18:36:23.191Z"
   },
   {
    "duration": 3,
    "start_time": "2025-07-03T18:36:23.220Z"
   },
   {
    "duration": 61,
    "start_time": "2025-07-03T18:36:23.225Z"
   },
   {
    "duration": 101,
    "start_time": "2025-07-03T18:36:23.288Z"
   },
   {
    "duration": 9,
    "start_time": "2025-07-03T18:36:23.391Z"
   },
   {
    "duration": 9,
    "start_time": "2025-07-03T18:36:23.401Z"
   },
   {
    "duration": 10,
    "start_time": "2025-07-03T18:36:23.412Z"
   },
   {
    "duration": 9,
    "start_time": "2025-07-03T18:36:23.423Z"
   },
   {
    "duration": 68,
    "start_time": "2025-07-03T18:36:23.433Z"
   },
   {
    "duration": 7,
    "start_time": "2025-07-03T18:36:23.503Z"
   },
   {
    "duration": 65,
    "start_time": "2025-07-03T18:36:23.512Z"
   },
   {
    "duration": 7,
    "start_time": "2025-07-03T18:36:23.578Z"
   },
   {
    "duration": 25,
    "start_time": "2025-07-03T18:36:23.587Z"
   },
   {
    "duration": 103,
    "start_time": "2025-07-03T19:04:05.026Z"
   },
   {
    "duration": 130,
    "start_time": "2025-07-03T19:04:25.977Z"
   },
   {
    "duration": 1733,
    "start_time": "2025-07-03T19:05:04.143Z"
   },
   {
    "duration": 156,
    "start_time": "2025-07-03T19:05:24.276Z"
   },
   {
    "duration": 73,
    "start_time": "2025-07-03T19:12:24.391Z"
   },
   {
    "duration": 91,
    "start_time": "2025-07-03T19:12:36.152Z"
   },
   {
    "duration": 40,
    "start_time": "2025-07-03T19:14:29.044Z"
   },
   {
    "duration": 84,
    "start_time": "2025-07-03T19:14:30.517Z"
   },
   {
    "duration": 49,
    "start_time": "2025-07-03T19:15:59.738Z"
   },
   {
    "duration": 78,
    "start_time": "2025-07-03T19:16:02.291Z"
   },
   {
    "duration": 13,
    "start_time": "2025-07-03T19:17:29.032Z"
   },
   {
    "duration": 12,
    "start_time": "2025-07-03T19:17:38.119Z"
   },
   {
    "duration": 11,
    "start_time": "2025-07-03T19:17:41.874Z"
   },
   {
    "duration": 53,
    "start_time": "2025-07-03T19:17:46.693Z"
   },
   {
    "duration": 72,
    "start_time": "2025-07-03T19:17:48.486Z"
   },
   {
    "duration": 9,
    "start_time": "2025-07-03T19:20:24.010Z"
   },
   {
    "duration": 8,
    "start_time": "2025-07-03T19:20:53.863Z"
   },
   {
    "duration": 14,
    "start_time": "2025-07-03T19:20:54.472Z"
   },
   {
    "duration": 11,
    "start_time": "2025-07-03T19:22:48.529Z"
   },
   {
    "duration": 22,
    "start_time": "2025-07-03T19:22:49.396Z"
   },
   {
    "duration": 17,
    "start_time": "2025-07-03T19:22:50.531Z"
   },
   {
    "duration": 2472,
    "start_time": "2025-07-03T19:23:56.253Z"
   },
   {
    "duration": 1253,
    "start_time": "2025-07-03T19:23:58.727Z"
   },
   {
    "duration": 1975,
    "start_time": "2025-07-03T19:23:59.982Z"
   },
   {
    "duration": 29,
    "start_time": "2025-07-03T19:24:01.959Z"
   },
   {
    "duration": 11,
    "start_time": "2025-07-03T19:24:01.992Z"
   },
   {
    "duration": 76,
    "start_time": "2025-07-03T19:24:02.005Z"
   },
   {
    "duration": 99,
    "start_time": "2025-07-03T19:24:02.082Z"
   },
   {
    "duration": 7,
    "start_time": "2025-07-03T19:24:02.183Z"
   },
   {
    "duration": 11,
    "start_time": "2025-07-03T19:24:02.199Z"
   },
   {
    "duration": 10,
    "start_time": "2025-07-03T19:24:02.211Z"
   },
   {
    "duration": 67,
    "start_time": "2025-07-03T19:24:02.222Z"
   },
   {
    "duration": 9,
    "start_time": "2025-07-03T19:24:02.298Z"
   },
   {
    "duration": 196,
    "start_time": "2025-07-03T19:24:02.309Z"
   },
   {
    "duration": 62,
    "start_time": "2025-07-03T19:24:02.508Z"
   },
   {
    "duration": 33,
    "start_time": "2025-07-03T19:24:02.572Z"
   },
   {
    "duration": 284,
    "start_time": "2025-07-03T19:24:02.607Z"
   },
   {
    "duration": 77,
    "start_time": "2025-07-03T19:24:02.893Z"
   },
   {
    "duration": 7,
    "start_time": "2025-07-03T19:24:02.972Z"
   },
   {
    "duration": 28,
    "start_time": "2025-07-03T19:24:02.981Z"
   },
   {
    "duration": 52,
    "start_time": "2025-07-03T19:24:03.010Z"
   },
   {
    "duration": 44,
    "start_time": "2025-07-03T19:24:03.063Z"
   },
   {
    "duration": 74,
    "start_time": "2025-07-03T19:27:04.508Z"
   },
   {
    "duration": 72,
    "start_time": "2025-07-03T19:28:00.122Z"
   },
   {
    "duration": 84,
    "start_time": "2025-07-03T19:28:07.311Z"
   },
   {
    "duration": 97,
    "start_time": "2025-07-03T19:29:09.446Z"
   },
   {
    "duration": 2442,
    "start_time": "2025-07-03T19:29:47.458Z"
   },
   {
    "duration": 1257,
    "start_time": "2025-07-03T19:29:49.902Z"
   },
   {
    "duration": 1949,
    "start_time": "2025-07-03T19:29:51.161Z"
   },
   {
    "duration": 33,
    "start_time": "2025-07-03T19:29:53.112Z"
   },
   {
    "duration": 15,
    "start_time": "2025-07-03T19:29:53.147Z"
   },
   {
    "duration": 67,
    "start_time": "2025-07-03T19:29:53.163Z"
   },
   {
    "duration": 105,
    "start_time": "2025-07-03T19:29:53.232Z"
   },
   {
    "duration": 8,
    "start_time": "2025-07-03T19:29:53.338Z"
   },
   {
    "duration": 31,
    "start_time": "2025-07-03T19:29:53.348Z"
   },
   {
    "duration": 22,
    "start_time": "2025-07-03T19:29:53.382Z"
   },
   {
    "duration": 55,
    "start_time": "2025-07-03T19:29:53.406Z"
   },
   {
    "duration": 7,
    "start_time": "2025-07-03T19:29:53.462Z"
   },
   {
    "duration": 22,
    "start_time": "2025-07-03T19:29:53.471Z"
   },
   {
    "duration": 20,
    "start_time": "2025-07-03T19:29:53.495Z"
   },
   {
    "duration": 37,
    "start_time": "2025-07-03T19:29:53.517Z"
   },
   {
    "duration": 252,
    "start_time": "2025-07-03T19:29:53.555Z"
   },
   {
    "duration": 73,
    "start_time": "2025-07-03T19:29:53.809Z"
   },
   {
    "duration": 86,
    "start_time": "2025-07-03T19:29:53.883Z"
   },
   {
    "duration": 28,
    "start_time": "2025-07-03T19:29:53.971Z"
   },
   {
    "duration": 37,
    "start_time": "2025-07-03T19:29:54.001Z"
   },
   {
    "duration": 8,
    "start_time": "2025-07-03T19:31:15.166Z"
   },
   {
    "duration": 8,
    "start_time": "2025-07-03T19:31:17.724Z"
   },
   {
    "duration": 114,
    "start_time": "2025-07-03T19:35:02.122Z"
   },
   {
    "duration": 12,
    "start_time": "2025-07-03T19:36:48.515Z"
   },
   {
    "duration": 13,
    "start_time": "2025-07-03T19:36:49.276Z"
   },
   {
    "duration": 2426,
    "start_time": "2025-07-03T19:38:34.954Z"
   },
   {
    "duration": 1234,
    "start_time": "2025-07-03T19:38:37.383Z"
   },
   {
    "duration": 2113,
    "start_time": "2025-07-03T19:38:38.619Z"
   },
   {
    "duration": 28,
    "start_time": "2025-07-03T19:38:40.734Z"
   },
   {
    "duration": 52,
    "start_time": "2025-07-03T19:38:40.765Z"
   },
   {
    "duration": 61,
    "start_time": "2025-07-03T19:38:40.819Z"
   },
   {
    "duration": 105,
    "start_time": "2025-07-03T19:38:40.881Z"
   },
   {
    "duration": 13,
    "start_time": "2025-07-03T19:38:40.988Z"
   },
   {
    "duration": 15,
    "start_time": "2025-07-03T19:38:41.003Z"
   },
   {
    "duration": 10,
    "start_time": "2025-07-03T19:38:41.020Z"
   },
   {
    "duration": 70,
    "start_time": "2025-07-03T19:38:41.032Z"
   },
   {
    "duration": 9,
    "start_time": "2025-07-03T19:38:41.104Z"
   },
   {
    "duration": 24,
    "start_time": "2025-07-03T19:38:41.115Z"
   },
   {
    "duration": 7,
    "start_time": "2025-07-03T19:38:41.142Z"
   },
   {
    "duration": 48,
    "start_time": "2025-07-03T19:38:41.151Z"
   },
   {
    "duration": 253,
    "start_time": "2025-07-03T19:38:41.200Z"
   },
   {
    "duration": 79,
    "start_time": "2025-07-03T19:38:41.456Z"
   },
   {
    "duration": 82,
    "start_time": "2025-07-03T19:38:41.537Z"
   },
   {
    "duration": 14,
    "start_time": "2025-07-03T19:38:41.620Z"
   },
   {
    "duration": 6,
    "start_time": "2025-07-03T19:38:41.635Z"
   },
   {
    "duration": 8,
    "start_time": "2025-07-03T19:38:41.642Z"
   },
   {
    "duration": 63,
    "start_time": "2025-07-03T19:38:41.651Z"
   },
   {
    "duration": 101,
    "start_time": "2025-07-03T19:38:41.715Z"
   },
   {
    "duration": 13,
    "start_time": "2025-07-03T19:38:41.817Z"
   },
   {
    "duration": 46,
    "start_time": "2025-07-03T19:38:41.831Z"
   },
   {
    "duration": 35,
    "start_time": "2025-07-03T19:38:41.879Z"
   },
   {
    "duration": 20,
    "start_time": "2025-07-03T19:38:41.915Z"
   },
   {
    "duration": 21,
    "start_time": "2025-07-03T19:38:41.936Z"
   },
   {
    "duration": 2430,
    "start_time": "2025-07-03T19:39:32.114Z"
   },
   {
    "duration": 1241,
    "start_time": "2025-07-03T19:39:34.547Z"
   },
   {
    "duration": 1880,
    "start_time": "2025-07-03T19:39:35.790Z"
   },
   {
    "duration": 26,
    "start_time": "2025-07-03T19:39:37.672Z"
   },
   {
    "duration": 3,
    "start_time": "2025-07-03T19:39:37.701Z"
   },
   {
    "duration": 103,
    "start_time": "2025-07-03T19:39:37.705Z"
   },
   {
    "duration": 92,
    "start_time": "2025-07-03T19:39:37.810Z"
   },
   {
    "duration": 7,
    "start_time": "2025-07-03T19:39:37.904Z"
   },
   {
    "duration": 12,
    "start_time": "2025-07-03T19:39:37.913Z"
   },
   {
    "duration": 9,
    "start_time": "2025-07-03T19:39:37.927Z"
   },
   {
    "duration": 78,
    "start_time": "2025-07-03T19:39:37.937Z"
   },
   {
    "duration": 7,
    "start_time": "2025-07-03T19:39:38.017Z"
   },
   {
    "duration": 20,
    "start_time": "2025-07-03T19:39:38.025Z"
   },
   {
    "duration": 8,
    "start_time": "2025-07-03T19:39:38.047Z"
   },
   {
    "duration": 54,
    "start_time": "2025-07-03T19:39:38.056Z"
   },
   {
    "duration": 249,
    "start_time": "2025-07-03T19:39:38.112Z"
   },
   {
    "duration": 77,
    "start_time": "2025-07-03T19:39:38.363Z"
   },
   {
    "duration": 82,
    "start_time": "2025-07-03T19:39:38.442Z"
   },
   {
    "duration": 41,
    "start_time": "2025-07-03T19:39:38.525Z"
   },
   {
    "duration": 5,
    "start_time": "2025-07-03T19:39:38.568Z"
   },
   {
    "duration": 10,
    "start_time": "2025-07-03T19:39:38.575Z"
   },
   {
    "duration": 31,
    "start_time": "2025-07-03T19:39:38.587Z"
   },
   {
    "duration": 11,
    "start_time": "2025-07-03T19:39:38.619Z"
   },
   {
    "duration": 14,
    "start_time": "2025-07-03T19:39:38.631Z"
   },
   {
    "duration": 58,
    "start_time": "2025-07-03T19:39:38.647Z"
   },
   {
    "duration": 54,
    "start_time": "2025-07-03T19:39:38.708Z"
   },
   {
    "duration": 35,
    "start_time": "2025-07-03T19:39:38.764Z"
   },
   {
    "duration": 44,
    "start_time": "2025-07-03T19:39:38.801Z"
   },
   {
    "duration": 3485,
    "start_time": "2025-07-04T09:29:57.539Z"
   },
   {
    "duration": 1455,
    "start_time": "2025-07-04T09:30:01.027Z"
   },
   {
    "duration": 2782,
    "start_time": "2025-07-04T09:30:02.484Z"
   },
   {
    "duration": 25,
    "start_time": "2025-07-04T09:30:05.268Z"
   },
   {
    "duration": 5,
    "start_time": "2025-07-04T09:30:05.295Z"
   },
   {
    "duration": 49,
    "start_time": "2025-07-04T09:30:05.301Z"
   },
   {
    "duration": 103,
    "start_time": "2025-07-04T09:30:05.352Z"
   },
   {
    "duration": 8,
    "start_time": "2025-07-04T09:30:05.457Z"
   },
   {
    "duration": 92,
    "start_time": "2025-07-04T09:30:05.467Z"
   },
   {
    "duration": 41,
    "start_time": "2025-07-04T09:30:05.560Z"
   },
   {
    "duration": 129,
    "start_time": "2025-07-04T09:30:05.602Z"
   },
   {
    "duration": 7,
    "start_time": "2025-07-04T09:30:05.732Z"
   },
   {
    "duration": 59,
    "start_time": "2025-07-04T09:30:05.741Z"
   },
   {
    "duration": 19,
    "start_time": "2025-07-04T09:30:05.803Z"
   },
   {
    "duration": 85,
    "start_time": "2025-07-04T09:30:05.824Z"
   },
   {
    "duration": 316,
    "start_time": "2025-07-04T09:30:05.911Z"
   },
   {
    "duration": 80,
    "start_time": "2025-07-04T09:30:06.228Z"
   },
   {
    "duration": 171,
    "start_time": "2025-07-04T09:30:06.310Z"
   },
   {
    "duration": 13,
    "start_time": "2025-07-04T09:30:06.483Z"
   },
   {
    "duration": 69,
    "start_time": "2025-07-04T09:30:06.498Z"
   },
   {
    "duration": 32,
    "start_time": "2025-07-04T09:30:06.569Z"
   },
   {
    "duration": 48,
    "start_time": "2025-07-04T09:30:06.603Z"
   },
   {
    "duration": 31,
    "start_time": "2025-07-04T09:30:06.653Z"
   },
   {
    "duration": 27,
    "start_time": "2025-07-04T09:30:06.686Z"
   },
   {
    "duration": 92,
    "start_time": "2025-07-04T09:30:06.715Z"
   },
   {
    "duration": 36,
    "start_time": "2025-07-04T09:30:06.809Z"
   },
   {
    "duration": 44,
    "start_time": "2025-07-04T09:30:06.847Z"
   },
   {
    "duration": 86,
    "start_time": "2025-07-04T09:30:06.893Z"
   },
   {
    "duration": 119,
    "start_time": "2025-07-04T09:45:03.643Z"
   },
   {
    "duration": 30,
    "start_time": "2025-07-04T09:45:19.311Z"
   },
   {
    "duration": 29,
    "start_time": "2025-07-04T09:51:37.003Z"
   },
   {
    "duration": 42,
    "start_time": "2025-07-04T09:51:50.142Z"
   },
   {
    "duration": 18,
    "start_time": "2025-07-04T09:55:49.955Z"
   },
   {
    "duration": 28,
    "start_time": "2025-07-04T09:57:42.434Z"
   },
   {
    "duration": 43,
    "start_time": "2025-07-04T09:57:52.134Z"
   },
   {
    "duration": 33,
    "start_time": "2025-07-04T10:00:14.028Z"
   },
   {
    "duration": 58,
    "start_time": "2025-07-04T10:01:34.897Z"
   },
   {
    "duration": 35,
    "start_time": "2025-07-04T10:02:16.101Z"
   },
   {
    "duration": 57,
    "start_time": "2025-07-04T10:05:00.958Z"
   },
   {
    "duration": 93,
    "start_time": "2025-07-04T10:07:23.834Z"
   },
   {
    "duration": 90,
    "start_time": "2025-07-04T10:07:47.041Z"
   },
   {
    "duration": 80,
    "start_time": "2025-07-04T10:08:03.005Z"
   },
   {
    "duration": 86,
    "start_time": "2025-07-04T10:08:16.392Z"
   },
   {
    "duration": 34,
    "start_time": "2025-07-04T10:08:26.737Z"
   },
   {
    "duration": 121,
    "start_time": "2025-07-04T10:08:49.158Z"
   },
   {
    "duration": 1700,
    "start_time": "2025-07-04T10:09:06.792Z"
   },
   {
    "duration": 1505,
    "start_time": "2025-07-04T10:10:19.151Z"
   },
   {
    "duration": 36,
    "start_time": "2025-07-04T10:11:57.882Z"
   },
   {
    "duration": 34,
    "start_time": "2025-07-04T10:12:20.774Z"
   },
   {
    "duration": 53,
    "start_time": "2025-07-04T10:17:56.002Z"
   },
   {
    "duration": 50,
    "start_time": "2025-07-04T10:18:36.436Z"
   },
   {
    "duration": 33,
    "start_time": "2025-07-04T10:22:57.569Z"
   },
   {
    "duration": 43,
    "start_time": "2025-07-04T10:31:47.658Z"
   },
   {
    "duration": 36,
    "start_time": "2025-07-04T10:32:10.885Z"
   },
   {
    "duration": 37,
    "start_time": "2025-07-04T10:32:24.382Z"
   },
   {
    "duration": 39,
    "start_time": "2025-07-04T10:35:53.630Z"
   },
   {
    "duration": 2475,
    "start_time": "2025-07-04T10:36:01.947Z"
   },
   {
    "duration": 1239,
    "start_time": "2025-07-04T10:36:04.424Z"
   },
   {
    "duration": 2348,
    "start_time": "2025-07-04T10:36:05.665Z"
   },
   {
    "duration": 29,
    "start_time": "2025-07-04T10:36:08.014Z"
   },
   {
    "duration": 6,
    "start_time": "2025-07-04T10:36:08.045Z"
   },
   {
    "duration": 57,
    "start_time": "2025-07-04T10:36:08.053Z"
   },
   {
    "duration": 120,
    "start_time": "2025-07-04T10:36:08.111Z"
   },
   {
    "duration": 8,
    "start_time": "2025-07-04T10:36:08.234Z"
   },
   {
    "duration": 15,
    "start_time": "2025-07-04T10:36:08.244Z"
   },
   {
    "duration": 40,
    "start_time": "2025-07-04T10:36:08.261Z"
   },
   {
    "duration": 74,
    "start_time": "2025-07-04T10:36:08.303Z"
   },
   {
    "duration": 6,
    "start_time": "2025-07-04T10:36:08.379Z"
   },
   {
    "duration": 64,
    "start_time": "2025-07-04T10:36:08.387Z"
   },
   {
    "duration": 20,
    "start_time": "2025-07-04T10:36:08.454Z"
   },
   {
    "duration": 54,
    "start_time": "2025-07-04T10:36:08.476Z"
   },
   {
    "duration": 244,
    "start_time": "2025-07-04T10:36:08.532Z"
   },
   {
    "duration": 77,
    "start_time": "2025-07-04T10:36:08.777Z"
   },
   {
    "duration": 85,
    "start_time": "2025-07-04T10:36:08.856Z"
   },
   {
    "duration": 13,
    "start_time": "2025-07-04T10:36:08.943Z"
   },
   {
    "duration": 11,
    "start_time": "2025-07-04T10:36:08.958Z"
   },
   {
    "duration": 11,
    "start_time": "2025-07-04T10:36:08.971Z"
   },
   {
    "duration": 56,
    "start_time": "2025-07-04T10:36:08.984Z"
   },
   {
    "duration": 10,
    "start_time": "2025-07-04T10:36:09.041Z"
   },
   {
    "duration": 14,
    "start_time": "2025-07-04T10:36:09.053Z"
   },
   {
    "duration": 45,
    "start_time": "2025-07-04T10:36:09.069Z"
   },
   {
    "duration": 39,
    "start_time": "2025-07-04T10:36:09.116Z"
   },
   {
    "duration": 20,
    "start_time": "2025-07-04T10:36:09.157Z"
   },
   {
    "duration": 27,
    "start_time": "2025-07-04T10:36:09.198Z"
   },
   {
    "duration": 79,
    "start_time": "2025-07-04T10:36:09.227Z"
   },
   {
    "duration": 34,
    "start_time": "2025-07-04T10:37:20.423Z"
   },
   {
    "duration": 39,
    "start_time": "2025-07-04T10:37:32.874Z"
   },
   {
    "duration": 1485,
    "start_time": "2025-07-04T10:43:19.066Z"
   },
   {
    "duration": 189,
    "start_time": "2025-07-04T10:47:36.841Z"
   },
   {
    "duration": 35,
    "start_time": "2025-07-04T10:50:04.792Z"
   },
   {
    "duration": 36,
    "start_time": "2025-07-04T10:52:09.586Z"
   },
   {
    "duration": 2451,
    "start_time": "2025-07-04T10:52:17.398Z"
   },
   {
    "duration": 1194,
    "start_time": "2025-07-04T10:52:19.851Z"
   },
   {
    "duration": 2204,
    "start_time": "2025-07-04T10:52:21.047Z"
   },
   {
    "duration": 26,
    "start_time": "2025-07-04T10:52:23.253Z"
   },
   {
    "duration": 3,
    "start_time": "2025-07-04T10:52:23.281Z"
   },
   {
    "duration": 61,
    "start_time": "2025-07-04T10:52:23.285Z"
   },
   {
    "duration": 101,
    "start_time": "2025-07-04T10:52:23.348Z"
   },
   {
    "duration": 8,
    "start_time": "2025-07-04T10:52:23.450Z"
   },
   {
    "duration": 38,
    "start_time": "2025-07-04T10:52:23.460Z"
   },
   {
    "duration": 38,
    "start_time": "2025-07-04T10:52:23.501Z"
   },
   {
    "duration": 112,
    "start_time": "2025-07-04T10:52:23.540Z"
   },
   {
    "duration": 70,
    "start_time": "2025-07-04T10:52:23.653Z"
   },
   {
    "duration": 174,
    "start_time": "2025-07-04T10:52:23.725Z"
   },
   {
    "duration": 144,
    "start_time": "2025-07-04T10:52:23.901Z"
   },
   {
    "duration": 35,
    "start_time": "2025-07-04T10:52:24.046Z"
   },
   {
    "duration": 236,
    "start_time": "2025-07-04T10:52:24.082Z"
   },
   {
    "duration": 81,
    "start_time": "2025-07-04T10:52:24.320Z"
   },
   {
    "duration": 77,
    "start_time": "2025-07-04T10:52:24.402Z"
   },
   {
    "duration": 28,
    "start_time": "2025-07-04T10:52:24.481Z"
   },
   {
    "duration": 56,
    "start_time": "2025-07-04T10:52:24.510Z"
   },
   {
    "duration": 26,
    "start_time": "2025-07-04T10:52:24.568Z"
   },
   {
    "duration": 33,
    "start_time": "2025-07-04T10:52:24.596Z"
   },
   {
    "duration": 21,
    "start_time": "2025-07-04T10:52:24.631Z"
   },
   {
    "duration": 18,
    "start_time": "2025-07-04T10:52:24.653Z"
   },
   {
    "duration": 52,
    "start_time": "2025-07-04T10:52:24.672Z"
   },
   {
    "duration": 74,
    "start_time": "2025-07-04T10:52:24.725Z"
   },
   {
    "duration": 20,
    "start_time": "2025-07-04T10:52:24.802Z"
   },
   {
    "duration": 60,
    "start_time": "2025-07-04T10:52:24.825Z"
   },
   {
    "duration": 59,
    "start_time": "2025-07-04T10:52:24.887Z"
   },
   {
    "duration": 174,
    "start_time": "2025-07-04T10:52:24.948Z"
   },
   {
    "duration": 85,
    "start_time": "2025-07-04T10:54:39.919Z"
   },
   {
    "duration": 80,
    "start_time": "2025-07-04T10:57:51.416Z"
   },
   {
    "duration": 1576,
    "start_time": "2025-07-04T11:00:07.333Z"
   },
   {
    "duration": 32,
    "start_time": "2025-07-04T11:00:47.690Z"
   },
   {
    "duration": 157,
    "start_time": "2025-07-04T11:02:06.661Z"
   },
   {
    "duration": 155,
    "start_time": "2025-07-04T11:02:20.083Z"
   },
   {
    "duration": 166,
    "start_time": "2025-07-04T11:03:29.293Z"
   },
   {
    "duration": 85,
    "start_time": "2025-07-04T11:06:24.520Z"
   },
   {
    "duration": 189,
    "start_time": "2025-07-04T11:06:34.749Z"
   },
   {
    "duration": 163,
    "start_time": "2025-07-04T11:08:41.597Z"
   },
   {
    "duration": 2519,
    "start_time": "2025-07-04T11:10:44.332Z"
   },
   {
    "duration": 1229,
    "start_time": "2025-07-04T11:10:46.854Z"
   },
   {
    "duration": 2084,
    "start_time": "2025-07-04T11:10:48.084Z"
   },
   {
    "duration": 25,
    "start_time": "2025-07-04T11:10:50.170Z"
   },
   {
    "duration": 45,
    "start_time": "2025-07-04T11:10:50.198Z"
   },
   {
    "duration": 56,
    "start_time": "2025-07-04T11:10:50.245Z"
   },
   {
    "duration": 108,
    "start_time": "2025-07-04T11:10:50.303Z"
   },
   {
    "duration": 7,
    "start_time": "2025-07-04T11:10:50.413Z"
   },
   {
    "duration": 32,
    "start_time": "2025-07-04T11:10:50.421Z"
   },
   {
    "duration": 16,
    "start_time": "2025-07-04T11:10:50.455Z"
   },
   {
    "duration": 67,
    "start_time": "2025-07-04T11:10:50.473Z"
   },
   {
    "duration": 9,
    "start_time": "2025-07-04T11:10:50.542Z"
   },
   {
    "duration": 29,
    "start_time": "2025-07-04T11:10:50.553Z"
   },
   {
    "duration": 23,
    "start_time": "2025-07-04T11:10:50.598Z"
   },
   {
    "duration": 71,
    "start_time": "2025-07-04T11:10:50.622Z"
   },
   {
    "duration": 247,
    "start_time": "2025-07-04T11:10:50.695Z"
   },
   {
    "duration": 86,
    "start_time": "2025-07-04T11:10:50.944Z"
   },
   {
    "duration": 87,
    "start_time": "2025-07-04T11:10:51.032Z"
   },
   {
    "duration": 15,
    "start_time": "2025-07-04T11:10:51.122Z"
   },
   {
    "duration": 30,
    "start_time": "2025-07-04T11:10:51.139Z"
   },
   {
    "duration": 7,
    "start_time": "2025-07-04T11:10:51.171Z"
   },
   {
    "duration": 37,
    "start_time": "2025-07-04T11:10:51.180Z"
   },
   {
    "duration": 12,
    "start_time": "2025-07-04T11:10:51.218Z"
   },
   {
    "duration": 59,
    "start_time": "2025-07-04T11:10:51.231Z"
   },
   {
    "duration": 36,
    "start_time": "2025-07-04T11:10:51.292Z"
   },
   {
    "duration": 35,
    "start_time": "2025-07-04T11:10:51.329Z"
   },
   {
    "duration": 35,
    "start_time": "2025-07-04T11:10:51.365Z"
   },
   {
    "duration": 33,
    "start_time": "2025-07-04T11:10:51.402Z"
   },
   {
    "duration": 74,
    "start_time": "2025-07-04T11:10:51.437Z"
   },
   {
    "duration": 186,
    "start_time": "2025-07-04T11:10:51.513Z"
   },
   {
    "duration": 297,
    "start_time": "2025-07-04T11:11:44.628Z"
   },
   {
    "duration": 178,
    "start_time": "2025-07-04T11:12:04.641Z"
   },
   {
    "duration": 154,
    "start_time": "2025-07-04T11:12:25.620Z"
   },
   {
    "duration": 176,
    "start_time": "2025-07-04T11:12:38.171Z"
   },
   {
    "duration": 1428,
    "start_time": "2025-07-04T11:19:52.282Z"
   },
   {
    "duration": 2062,
    "start_time": "2025-07-04T11:20:07.647Z"
   },
   {
    "duration": 165,
    "start_time": "2025-07-04T11:20:38.048Z"
   },
   {
    "duration": 37,
    "start_time": "2025-07-04T11:22:52.740Z"
   },
   {
    "duration": 173,
    "start_time": "2025-07-04T11:26:23.390Z"
   },
   {
    "duration": 2595,
    "start_time": "2025-07-04T11:27:20.692Z"
   },
   {
    "duration": 1282,
    "start_time": "2025-07-04T11:27:23.290Z"
   },
   {
    "duration": 2192,
    "start_time": "2025-07-04T11:27:24.575Z"
   },
   {
    "duration": 27,
    "start_time": "2025-07-04T11:27:26.769Z"
   },
   {
    "duration": 3,
    "start_time": "2025-07-04T11:27:26.798Z"
   },
   {
    "duration": 55,
    "start_time": "2025-07-04T11:27:26.803Z"
   },
   {
    "duration": 98,
    "start_time": "2025-07-04T11:27:26.860Z"
   },
   {
    "duration": 8,
    "start_time": "2025-07-04T11:27:26.960Z"
   },
   {
    "duration": 21,
    "start_time": "2025-07-04T11:27:26.970Z"
   },
   {
    "duration": 12,
    "start_time": "2025-07-04T11:27:26.993Z"
   },
   {
    "duration": 40,
    "start_time": "2025-07-04T11:27:27.007Z"
   },
   {
    "duration": 7,
    "start_time": "2025-07-04T11:27:27.049Z"
   },
   {
    "duration": 47,
    "start_time": "2025-07-04T11:27:27.058Z"
   },
   {
    "duration": 18,
    "start_time": "2025-07-04T11:27:27.109Z"
   },
   {
    "duration": 28,
    "start_time": "2025-07-04T11:27:27.129Z"
   },
   {
    "duration": 255,
    "start_time": "2025-07-04T11:27:27.159Z"
   },
   {
    "duration": 72,
    "start_time": "2025-07-04T11:27:27.416Z"
   },
   {
    "duration": 80,
    "start_time": "2025-07-04T11:27:27.498Z"
   },
   {
    "duration": 26,
    "start_time": "2025-07-04T11:27:27.579Z"
   },
   {
    "duration": 7,
    "start_time": "2025-07-04T11:27:27.607Z"
   },
   {
    "duration": 14,
    "start_time": "2025-07-04T11:27:27.615Z"
   },
   {
    "duration": 48,
    "start_time": "2025-07-04T11:27:27.630Z"
   },
   {
    "duration": 19,
    "start_time": "2025-07-04T11:27:27.698Z"
   },
   {
    "duration": 90,
    "start_time": "2025-07-04T11:27:27.719Z"
   },
   {
    "duration": 42,
    "start_time": "2025-07-04T11:27:27.811Z"
   },
   {
    "duration": 50,
    "start_time": "2025-07-04T11:27:27.855Z"
   },
   {
    "duration": 116,
    "start_time": "2025-07-04T11:27:27.907Z"
   },
   {
    "duration": 119,
    "start_time": "2025-07-04T11:27:28.025Z"
   },
   {
    "duration": 58,
    "start_time": "2025-07-04T11:27:28.146Z"
   },
   {
    "duration": 186,
    "start_time": "2025-07-04T11:27:28.205Z"
   },
   {
    "duration": 184,
    "start_time": "2025-07-04T11:29:35.204Z"
   },
   {
    "duration": 196,
    "start_time": "2025-07-04T11:29:43.414Z"
   },
   {
    "duration": 167,
    "start_time": "2025-07-04T11:29:56.144Z"
   },
   {
    "duration": 161,
    "start_time": "2025-07-04T11:30:26.603Z"
   },
   {
    "duration": 158,
    "start_time": "2025-07-04T11:30:38.661Z"
   },
   {
    "duration": 50,
    "start_time": "2025-07-04T11:36:25.972Z"
   },
   {
    "duration": 2548,
    "start_time": "2025-07-04T11:36:34.629Z"
   },
   {
    "duration": 1292,
    "start_time": "2025-07-04T11:36:37.179Z"
   },
   {
    "duration": 3157,
    "start_time": "2025-07-04T11:36:38.472Z"
   },
   {
    "duration": 27,
    "start_time": "2025-07-04T11:36:41.631Z"
   },
   {
    "duration": 3,
    "start_time": "2025-07-04T11:36:41.661Z"
   },
   {
    "duration": 50,
    "start_time": "2025-07-04T11:36:41.665Z"
   },
   {
    "duration": 115,
    "start_time": "2025-07-04T11:36:41.717Z"
   },
   {
    "duration": 8,
    "start_time": "2025-07-04T11:36:41.833Z"
   },
   {
    "duration": 58,
    "start_time": "2025-07-04T11:36:41.842Z"
   },
   {
    "duration": 19,
    "start_time": "2025-07-04T11:36:41.902Z"
   },
   {
    "duration": 46,
    "start_time": "2025-07-04T11:36:41.923Z"
   },
   {
    "duration": 7,
    "start_time": "2025-07-04T11:36:41.970Z"
   },
   {
    "duration": 36,
    "start_time": "2025-07-04T11:36:41.979Z"
   },
   {
    "duration": 7,
    "start_time": "2025-07-04T11:36:42.018Z"
   },
   {
    "duration": 126,
    "start_time": "2025-07-04T11:36:42.026Z"
   },
   {
    "duration": 288,
    "start_time": "2025-07-04T11:36:42.154Z"
   },
   {
    "duration": 84,
    "start_time": "2025-07-04T11:36:42.444Z"
   },
   {
    "duration": 96,
    "start_time": "2025-07-04T11:36:42.529Z"
   },
   {
    "duration": 14,
    "start_time": "2025-07-04T11:36:42.627Z"
   },
   {
    "duration": 19,
    "start_time": "2025-07-04T11:36:42.642Z"
   },
   {
    "duration": 20,
    "start_time": "2025-07-04T11:36:42.662Z"
   },
   {
    "duration": 36,
    "start_time": "2025-07-04T11:36:42.683Z"
   },
   {
    "duration": 10,
    "start_time": "2025-07-04T11:36:42.721Z"
   },
   {
    "duration": 17,
    "start_time": "2025-07-04T11:36:42.733Z"
   },
   {
    "duration": 62,
    "start_time": "2025-07-04T11:36:42.752Z"
   },
   {
    "duration": 40,
    "start_time": "2025-07-04T11:36:42.816Z"
   },
   {
    "duration": 22,
    "start_time": "2025-07-04T11:36:42.858Z"
   },
   {
    "duration": 37,
    "start_time": "2025-07-04T11:36:42.882Z"
   },
   {
    "duration": 58,
    "start_time": "2025-07-04T11:36:42.920Z"
   },
   {
    "duration": 191,
    "start_time": "2025-07-04T11:36:42.979Z"
   },
   {
    "duration": 32,
    "start_time": "2025-07-04T11:38:08.776Z"
   },
   {
    "duration": 1672,
    "start_time": "2025-07-04T11:40:56.128Z"
   },
   {
    "duration": 31,
    "start_time": "2025-07-04T11:41:24.213Z"
   },
   {
    "duration": 35,
    "start_time": "2025-07-04T11:42:45.512Z"
   },
   {
    "duration": 34,
    "start_time": "2025-07-04T11:43:26.700Z"
   },
   {
    "duration": 2467,
    "start_time": "2025-07-04T11:44:06.200Z"
   },
   {
    "duration": 1206,
    "start_time": "2025-07-04T11:44:08.669Z"
   },
   {
    "duration": 2241,
    "start_time": "2025-07-04T11:44:09.877Z"
   },
   {
    "duration": 27,
    "start_time": "2025-07-04T11:44:12.120Z"
   },
   {
    "duration": 76,
    "start_time": "2025-07-04T11:44:12.148Z"
   },
   {
    "duration": 63,
    "start_time": "2025-07-04T11:44:12.225Z"
   },
   {
    "duration": 95,
    "start_time": "2025-07-04T11:44:12.289Z"
   },
   {
    "duration": 8,
    "start_time": "2025-07-04T11:44:12.386Z"
   },
   {
    "duration": 24,
    "start_time": "2025-07-04T11:44:12.399Z"
   },
   {
    "duration": 13,
    "start_time": "2025-07-04T11:44:12.426Z"
   },
   {
    "duration": 43,
    "start_time": "2025-07-04T11:44:12.441Z"
   },
   {
    "duration": 15,
    "start_time": "2025-07-04T11:44:12.485Z"
   },
   {
    "duration": 23,
    "start_time": "2025-07-04T11:44:12.501Z"
   },
   {
    "duration": 26,
    "start_time": "2025-07-04T11:44:12.525Z"
   },
   {
    "duration": 39,
    "start_time": "2025-07-04T11:44:12.553Z"
   },
   {
    "duration": 234,
    "start_time": "2025-07-04T11:44:12.593Z"
   },
   {
    "duration": 75,
    "start_time": "2025-07-04T11:44:12.828Z"
   },
   {
    "duration": 69,
    "start_time": "2025-07-04T11:44:12.904Z"
   },
   {
    "duration": 30,
    "start_time": "2025-07-04T11:44:12.975Z"
   },
   {
    "duration": 6,
    "start_time": "2025-07-04T11:44:13.007Z"
   },
   {
    "duration": 14,
    "start_time": "2025-07-04T11:44:13.015Z"
   },
   {
    "duration": 62,
    "start_time": "2025-07-04T11:44:13.030Z"
   },
   {
    "duration": 11,
    "start_time": "2025-07-04T11:44:13.093Z"
   },
   {
    "duration": 25,
    "start_time": "2025-07-04T11:44:13.106Z"
   },
   {
    "duration": 47,
    "start_time": "2025-07-04T11:44:13.133Z"
   },
   {
    "duration": 35,
    "start_time": "2025-07-04T11:44:13.182Z"
   },
   {
    "duration": 18,
    "start_time": "2025-07-04T11:44:13.219Z"
   },
   {
    "duration": 24,
    "start_time": "2025-07-04T11:44:13.240Z"
   },
   {
    "duration": 75,
    "start_time": "2025-07-04T11:44:13.266Z"
   },
   {
    "duration": 194,
    "start_time": "2025-07-04T11:44:13.343Z"
   },
   {
    "duration": 34,
    "start_time": "2025-07-04T11:44:13.539Z"
   },
   {
    "duration": 32,
    "start_time": "2025-07-04T11:44:32.955Z"
   },
   {
    "duration": 23,
    "start_time": "2025-07-04T11:45:05.603Z"
   },
   {
    "duration": 39,
    "start_time": "2025-07-04T11:45:29.147Z"
   },
   {
    "duration": 31,
    "start_time": "2025-07-04T11:47:11.017Z"
   },
   {
    "duration": 19,
    "start_time": "2025-07-04T11:47:36.984Z"
   },
   {
    "duration": 5,
    "start_time": "2025-07-04T11:51:23.263Z"
   },
   {
    "duration": 10,
    "start_time": "2025-07-04T11:51:33.787Z"
   },
   {
    "duration": 106,
    "start_time": "2025-07-04T11:58:27.468Z"
   },
   {
    "duration": 21,
    "start_time": "2025-07-04T11:59:28.338Z"
   },
   {
    "duration": 50,
    "start_time": "2025-07-04T12:00:03.467Z"
   },
   {
    "duration": 9,
    "start_time": "2025-07-04T12:01:38.325Z"
   },
   {
    "duration": 24,
    "start_time": "2025-07-04T12:01:41.919Z"
   },
   {
    "duration": 226,
    "start_time": "2025-07-04T12:01:44.692Z"
   },
   {
    "duration": 209,
    "start_time": "2025-07-04T12:03:19.200Z"
   },
   {
    "duration": 24,
    "start_time": "2025-07-04T12:05:54.438Z"
   },
   {
    "duration": 191,
    "start_time": "2025-07-04T12:05:59.236Z"
   },
   {
    "duration": 294,
    "start_time": "2025-07-04T12:07:31.277Z"
   },
   {
    "duration": 25,
    "start_time": "2025-07-04T12:11:26.427Z"
   },
   {
    "duration": 25,
    "start_time": "2025-07-04T12:11:37.488Z"
   },
   {
    "duration": 88,
    "start_time": "2025-07-04T12:12:30.041Z"
   },
   {
    "duration": 312,
    "start_time": "2025-07-04T12:12:42.817Z"
   },
   {
    "duration": 89,
    "start_time": "2025-07-04T12:13:05.416Z"
   },
   {
    "duration": 18,
    "start_time": "2025-07-04T12:13:18.679Z"
   },
   {
    "duration": 13,
    "start_time": "2025-07-04T12:15:33.480Z"
   },
   {
    "duration": 218,
    "start_time": "2025-07-04T12:16:33.302Z"
   },
   {
    "duration": 183,
    "start_time": "2025-07-04T12:16:51.447Z"
   },
   {
    "duration": 2454,
    "start_time": "2025-07-04T12:18:26.570Z"
   },
   {
    "duration": 1242,
    "start_time": "2025-07-04T12:18:29.026Z"
   },
   {
    "duration": 4801,
    "start_time": "2025-07-04T12:18:30.270Z"
   },
   {
    "duration": 28,
    "start_time": "2025-07-04T12:18:35.074Z"
   },
   {
    "duration": 3,
    "start_time": "2025-07-04T12:18:35.104Z"
   },
   {
    "duration": 70,
    "start_time": "2025-07-04T12:18:35.109Z"
   },
   {
    "duration": 103,
    "start_time": "2025-07-04T12:18:35.181Z"
   },
   {
    "duration": 14,
    "start_time": "2025-07-04T12:18:35.286Z"
   },
   {
    "duration": 22,
    "start_time": "2025-07-04T12:18:35.302Z"
   },
   {
    "duration": 70,
    "start_time": "2025-07-04T12:18:35.327Z"
   },
   {
    "duration": 64,
    "start_time": "2025-07-04T12:18:35.399Z"
   },
   {
    "duration": 8,
    "start_time": "2025-07-04T12:18:35.465Z"
   },
   {
    "duration": 69,
    "start_time": "2025-07-04T12:18:35.475Z"
   },
   {
    "duration": 18,
    "start_time": "2025-07-04T12:18:35.545Z"
   },
   {
    "duration": 26,
    "start_time": "2025-07-04T12:18:35.564Z"
   },
   {
    "duration": 274,
    "start_time": "2025-07-04T12:18:35.592Z"
   },
   {
    "duration": 101,
    "start_time": "2025-07-04T12:18:35.869Z"
   },
   {
    "duration": 86,
    "start_time": "2025-07-04T12:18:35.971Z"
   },
   {
    "duration": 52,
    "start_time": "2025-07-04T12:18:36.058Z"
   },
   {
    "duration": 19,
    "start_time": "2025-07-04T12:18:36.112Z"
   },
   {
    "duration": 16,
    "start_time": "2025-07-04T12:18:36.133Z"
   },
   {
    "duration": 60,
    "start_time": "2025-07-04T12:18:36.150Z"
   },
   {
    "duration": 24,
    "start_time": "2025-07-04T12:18:36.212Z"
   },
   {
    "duration": 93,
    "start_time": "2025-07-04T12:18:36.238Z"
   },
   {
    "duration": 185,
    "start_time": "2025-07-04T12:18:36.333Z"
   },
   {
    "duration": 48,
    "start_time": "2025-07-04T12:18:36.520Z"
   },
   {
    "duration": 20,
    "start_time": "2025-07-04T12:18:36.570Z"
   },
   {
    "duration": 37,
    "start_time": "2025-07-04T12:18:36.598Z"
   },
   {
    "duration": 66,
    "start_time": "2025-07-04T12:18:36.637Z"
   },
   {
    "duration": 197,
    "start_time": "2025-07-04T12:18:36.706Z"
   },
   {
    "duration": 117,
    "start_time": "2025-07-04T12:18:36.905Z"
   },
   {
    "duration": 0,
    "start_time": "2025-07-04T12:18:37.024Z"
   },
   {
    "duration": 29,
    "start_time": "2025-07-04T12:19:16.181Z"
   },
   {
    "duration": 27,
    "start_time": "2025-07-04T12:20:18.515Z"
   },
   {
    "duration": 179,
    "start_time": "2025-07-04T12:20:19.595Z"
   },
   {
    "duration": 430,
    "start_time": "2025-07-04T12:24:56.331Z"
   },
   {
    "duration": 244,
    "start_time": "2025-07-04T12:25:28.054Z"
   },
   {
    "duration": 256,
    "start_time": "2025-07-04T12:26:47.348Z"
   },
   {
    "duration": 250,
    "start_time": "2025-07-04T12:27:43.569Z"
   },
   {
    "duration": 81,
    "start_time": "2025-07-04T12:28:29.786Z"
   },
   {
    "duration": 333,
    "start_time": "2025-07-04T12:28:37.390Z"
   },
   {
    "duration": 90,
    "start_time": "2025-07-04T12:30:00.735Z"
   },
   {
    "duration": 257,
    "start_time": "2025-07-04T12:30:06.114Z"
   },
   {
    "duration": 96,
    "start_time": "2025-07-04T12:30:26.477Z"
   },
   {
    "duration": 267,
    "start_time": "2025-07-04T12:30:55.196Z"
   },
   {
    "duration": 25,
    "start_time": "2025-07-04T12:35:36.859Z"
   },
   {
    "duration": 265,
    "start_time": "2025-07-04T12:35:39.699Z"
   },
   {
    "duration": 35,
    "start_time": "2025-07-04T12:53:34.720Z"
   },
   {
    "duration": 10,
    "start_time": "2025-07-04T12:59:55.517Z"
   },
   {
    "duration": 8,
    "start_time": "2025-07-04T12:59:59.688Z"
   },
   {
    "duration": 9,
    "start_time": "2025-07-04T13:00:12.270Z"
   },
   {
    "duration": 9,
    "start_time": "2025-07-04T13:00:27.991Z"
   },
   {
    "duration": 78,
    "start_time": "2025-07-04T13:01:04.257Z"
   },
   {
    "duration": 9,
    "start_time": "2025-07-04T13:01:12.895Z"
   },
   {
    "duration": 78,
    "start_time": "2025-07-04T13:01:23.097Z"
   },
   {
    "duration": 12,
    "start_time": "2025-07-04T13:01:23.737Z"
   },
   {
    "duration": 9,
    "start_time": "2025-07-04T13:07:01.569Z"
   },
   {
    "duration": 11,
    "start_time": "2025-07-04T13:07:10.420Z"
   },
   {
    "duration": 19,
    "start_time": "2025-07-04T13:08:42.962Z"
   },
   {
    "duration": 13,
    "start_time": "2025-07-04T13:08:49.476Z"
   },
   {
    "duration": 12,
    "start_time": "2025-07-04T13:12:31.700Z"
   },
   {
    "duration": 15,
    "start_time": "2025-07-04T13:12:46.643Z"
   },
   {
    "duration": 2429,
    "start_time": "2025-07-04T13:24:46.772Z"
   },
   {
    "duration": 1257,
    "start_time": "2025-07-04T13:24:49.203Z"
   },
   {
    "duration": 1920,
    "start_time": "2025-07-04T13:24:50.462Z"
   },
   {
    "duration": 29,
    "start_time": "2025-07-04T13:24:52.384Z"
   },
   {
    "duration": 25,
    "start_time": "2025-07-04T13:24:52.415Z"
   },
   {
    "duration": 55,
    "start_time": "2025-07-04T13:24:52.442Z"
   },
   {
    "duration": 102,
    "start_time": "2025-07-04T13:24:52.499Z"
   },
   {
    "duration": 19,
    "start_time": "2025-07-04T13:24:52.603Z"
   },
   {
    "duration": 73,
    "start_time": "2025-07-04T13:24:52.623Z"
   },
   {
    "duration": 18,
    "start_time": "2025-07-04T13:24:52.697Z"
   },
   {
    "duration": 64,
    "start_time": "2025-07-04T13:24:52.716Z"
   },
   {
    "duration": 8,
    "start_time": "2025-07-04T13:24:52.783Z"
   },
   {
    "duration": 114,
    "start_time": "2025-07-04T13:24:52.792Z"
   },
   {
    "duration": 15,
    "start_time": "2025-07-04T13:24:52.910Z"
   },
   {
    "duration": 39,
    "start_time": "2025-07-04T13:24:52.927Z"
   },
   {
    "duration": 234,
    "start_time": "2025-07-04T13:24:52.968Z"
   },
   {
    "duration": 73,
    "start_time": "2025-07-04T13:24:53.204Z"
   },
   {
    "duration": 89,
    "start_time": "2025-07-04T13:24:53.279Z"
   },
   {
    "duration": 33,
    "start_time": "2025-07-04T13:24:53.370Z"
   },
   {
    "duration": 8,
    "start_time": "2025-07-04T13:24:53.405Z"
   },
   {
    "duration": 19,
    "start_time": "2025-07-04T13:24:53.415Z"
   },
   {
    "duration": 35,
    "start_time": "2025-07-04T13:24:53.436Z"
   },
   {
    "duration": 36,
    "start_time": "2025-07-04T13:24:53.473Z"
   },
   {
    "duration": 69,
    "start_time": "2025-07-04T13:24:53.511Z"
   },
   {
    "duration": 64,
    "start_time": "2025-07-04T13:24:53.582Z"
   },
   {
    "duration": 37,
    "start_time": "2025-07-04T13:24:53.648Z"
   },
   {
    "duration": 39,
    "start_time": "2025-07-04T13:24:53.687Z"
   },
   {
    "duration": 36,
    "start_time": "2025-07-04T13:24:53.728Z"
   },
   {
    "duration": 61,
    "start_time": "2025-07-04T13:24:53.766Z"
   },
   {
    "duration": 194,
    "start_time": "2025-07-04T13:24:53.829Z"
   },
   {
    "duration": 29,
    "start_time": "2025-07-04T13:24:54.025Z"
   },
   {
    "duration": 274,
    "start_time": "2025-07-04T13:24:54.056Z"
   },
   {
    "duration": 102,
    "start_time": "2025-07-04T13:24:54.332Z"
   },
   {
    "duration": 14,
    "start_time": "2025-07-04T13:24:54.436Z"
   },
   {
    "duration": 135,
    "start_time": "2025-07-04T13:24:54.452Z"
   },
   {
    "duration": 0,
    "start_time": "2025-07-04T13:24:54.590Z"
   },
   {
    "duration": 17,
    "start_time": "2025-07-04T13:25:18.094Z"
   },
   {
    "duration": 14,
    "start_time": "2025-07-04T13:25:22.182Z"
   },
   {
    "duration": 2403,
    "start_time": "2025-07-04T13:28:20.742Z"
   },
   {
    "duration": 1206,
    "start_time": "2025-07-04T13:28:23.148Z"
   },
   {
    "duration": 2134,
    "start_time": "2025-07-04T13:28:24.355Z"
   },
   {
    "duration": 27,
    "start_time": "2025-07-04T13:28:26.492Z"
   },
   {
    "duration": 3,
    "start_time": "2025-07-04T13:28:26.520Z"
   },
   {
    "duration": 52,
    "start_time": "2025-07-04T13:28:26.525Z"
   },
   {
    "duration": 103,
    "start_time": "2025-07-04T13:28:26.578Z"
   },
   {
    "duration": 17,
    "start_time": "2025-07-04T13:28:26.683Z"
   },
   {
    "duration": 14,
    "start_time": "2025-07-04T13:28:26.702Z"
   },
   {
    "duration": 22,
    "start_time": "2025-07-04T13:28:26.719Z"
   },
   {
    "duration": 42,
    "start_time": "2025-07-04T13:28:26.743Z"
   },
   {
    "duration": 13,
    "start_time": "2025-07-04T13:28:26.787Z"
   },
   {
    "duration": 143,
    "start_time": "2025-07-04T13:28:26.802Z"
   },
   {
    "duration": 7,
    "start_time": "2025-07-04T13:28:26.947Z"
   },
   {
    "duration": 26,
    "start_time": "2025-07-04T13:28:26.955Z"
   },
   {
    "duration": 218,
    "start_time": "2025-07-04T13:28:26.982Z"
   },
   {
    "duration": 67,
    "start_time": "2025-07-04T13:28:27.202Z"
   },
   {
    "duration": 82,
    "start_time": "2025-07-04T13:28:27.270Z"
   },
   {
    "duration": 14,
    "start_time": "2025-07-04T13:28:27.353Z"
   },
   {
    "duration": 25,
    "start_time": "2025-07-04T13:28:27.368Z"
   },
   {
    "duration": 19,
    "start_time": "2025-07-04T13:28:27.395Z"
   },
   {
    "duration": 35,
    "start_time": "2025-07-04T13:28:27.416Z"
   },
   {
    "duration": 11,
    "start_time": "2025-07-04T13:28:27.453Z"
   },
   {
    "duration": 11,
    "start_time": "2025-07-04T13:28:27.466Z"
   },
   {
    "duration": 76,
    "start_time": "2025-07-04T13:28:27.478Z"
   },
   {
    "duration": 34,
    "start_time": "2025-07-04T13:28:27.555Z"
   },
   {
    "duration": 22,
    "start_time": "2025-07-04T13:28:27.590Z"
   },
   {
    "duration": 48,
    "start_time": "2025-07-04T13:28:27.615Z"
   },
   {
    "duration": 58,
    "start_time": "2025-07-04T13:28:27.665Z"
   },
   {
    "duration": 178,
    "start_time": "2025-07-04T13:28:27.724Z"
   },
   {
    "duration": 28,
    "start_time": "2025-07-04T13:28:27.904Z"
   },
   {
    "duration": 268,
    "start_time": "2025-07-04T13:28:27.933Z"
   },
   {
    "duration": 86,
    "start_time": "2025-07-04T13:28:28.202Z"
   },
   {
    "duration": 14,
    "start_time": "2025-07-04T13:28:28.298Z"
   },
   {
    "duration": 161,
    "start_time": "2025-07-04T13:28:28.313Z"
   },
   {
    "duration": 14,
    "start_time": "2025-07-04T13:28:28.476Z"
   },
   {
    "duration": 5,
    "start_time": "2025-07-04T13:28:28.491Z"
   },
   {
    "duration": 4,
    "start_time": "2025-07-04T13:52:01.857Z"
   },
   {
    "duration": 4,
    "start_time": "2025-07-04T13:53:24.221Z"
   },
   {
    "duration": 106,
    "start_time": "2025-07-04T14:01:06.277Z"
   },
   {
    "duration": 15,
    "start_time": "2025-07-04T14:01:13.678Z"
   },
   {
    "duration": 62,
    "start_time": "2025-07-04T14:02:35.150Z"
   },
   {
    "duration": 15,
    "start_time": "2025-07-04T14:02:51.600Z"
   },
   {
    "duration": 2494,
    "start_time": "2025-07-04T14:05:01.845Z"
   },
   {
    "duration": 1225,
    "start_time": "2025-07-04T14:05:04.342Z"
   },
   {
    "duration": 2227,
    "start_time": "2025-07-04T14:05:05.569Z"
   },
   {
    "duration": 26,
    "start_time": "2025-07-04T14:05:07.798Z"
   },
   {
    "duration": 3,
    "start_time": "2025-07-04T14:05:07.825Z"
   },
   {
    "duration": 42,
    "start_time": "2025-07-04T14:05:07.830Z"
   },
   {
    "duration": 111,
    "start_time": "2025-07-04T14:05:07.874Z"
   },
   {
    "duration": 16,
    "start_time": "2025-07-04T14:05:07.987Z"
   },
   {
    "duration": 18,
    "start_time": "2025-07-04T14:05:08.005Z"
   },
   {
    "duration": 9,
    "start_time": "2025-07-04T14:05:08.024Z"
   },
   {
    "duration": 55,
    "start_time": "2025-07-04T14:05:08.035Z"
   },
   {
    "duration": 8,
    "start_time": "2025-07-04T14:05:08.091Z"
   },
   {
    "duration": 33,
    "start_time": "2025-07-04T14:05:08.100Z"
   },
   {
    "duration": 7,
    "start_time": "2025-07-04T14:05:08.135Z"
   },
   {
    "duration": 24,
    "start_time": "2025-07-04T14:05:08.144Z"
   },
   {
    "duration": 246,
    "start_time": "2025-07-04T14:05:08.170Z"
   },
   {
    "duration": 80,
    "start_time": "2025-07-04T14:05:08.418Z"
   },
   {
    "duration": 73,
    "start_time": "2025-07-04T14:05:08.500Z"
   },
   {
    "duration": 31,
    "start_time": "2025-07-04T14:05:08.575Z"
   },
   {
    "duration": 19,
    "start_time": "2025-07-04T14:05:08.608Z"
   },
   {
    "duration": 6,
    "start_time": "2025-07-04T14:05:08.628Z"
   },
   {
    "duration": 108,
    "start_time": "2025-07-04T14:05:08.635Z"
   },
   {
    "duration": 118,
    "start_time": "2025-07-04T14:05:08.744Z"
   },
   {
    "duration": 32,
    "start_time": "2025-07-04T14:05:08.864Z"
   },
   {
    "duration": 43,
    "start_time": "2025-07-04T14:05:08.898Z"
   },
   {
    "duration": 49,
    "start_time": "2025-07-04T14:05:08.943Z"
   },
   {
    "duration": 20,
    "start_time": "2025-07-04T14:05:08.994Z"
   },
   {
    "duration": 160,
    "start_time": "2025-07-04T14:05:09.015Z"
   },
   {
    "duration": 61,
    "start_time": "2025-07-04T14:05:09.177Z"
   },
   {
    "duration": 181,
    "start_time": "2025-07-04T14:05:09.240Z"
   },
   {
    "duration": 26,
    "start_time": "2025-07-04T14:05:09.422Z"
   },
   {
    "duration": 264,
    "start_time": "2025-07-04T14:05:09.450Z"
   },
   {
    "duration": 99,
    "start_time": "2025-07-04T14:05:09.715Z"
   },
   {
    "duration": 13,
    "start_time": "2025-07-04T14:05:09.816Z"
   },
   {
    "duration": 46,
    "start_time": "2025-07-04T14:05:09.831Z"
   },
   {
    "duration": 23,
    "start_time": "2025-07-04T14:05:09.878Z"
   },
   {
    "duration": 15,
    "start_time": "2025-07-04T14:05:09.903Z"
   },
   {
    "duration": 6,
    "start_time": "2025-07-04T14:05:09.920Z"
   },
   {
    "duration": 15,
    "start_time": "2025-07-04T14:05:09.928Z"
   },
   {
    "duration": 97,
    "start_time": "2025-07-04T14:06:51.295Z"
   },
   {
    "duration": 26,
    "start_time": "2025-07-04T14:06:52.514Z"
   },
   {
    "duration": 2,
    "start_time": "2025-07-04T14:09:34.054Z"
   },
   {
    "duration": 5,
    "start_time": "2025-07-04T14:09:55.679Z"
   },
   {
    "duration": 3,
    "start_time": "2025-07-04T14:10:32.753Z"
   },
   {
    "duration": 4,
    "start_time": "2025-07-04T14:10:35.255Z"
   },
   {
    "duration": 4,
    "start_time": "2025-07-04T14:10:47.145Z"
   },
   {
    "duration": 5,
    "start_time": "2025-07-04T14:11:02.982Z"
   },
   {
    "duration": 2349,
    "start_time": "2025-07-04T14:13:41.882Z"
   },
   {
    "duration": 1380,
    "start_time": "2025-07-04T14:13:44.233Z"
   },
   {
    "duration": 2438,
    "start_time": "2025-07-04T14:13:45.615Z"
   },
   {
    "duration": 27,
    "start_time": "2025-07-04T14:13:48.055Z"
   },
   {
    "duration": 3,
    "start_time": "2025-07-04T14:13:48.084Z"
   },
   {
    "duration": 51,
    "start_time": "2025-07-04T14:13:48.089Z"
   },
   {
    "duration": 102,
    "start_time": "2025-07-04T14:13:48.141Z"
   },
   {
    "duration": 8,
    "start_time": "2025-07-04T14:13:48.244Z"
   },
   {
    "duration": 11,
    "start_time": "2025-07-04T14:13:48.253Z"
   },
   {
    "duration": 9,
    "start_time": "2025-07-04T14:13:48.265Z"
   },
   {
    "duration": 42,
    "start_time": "2025-07-04T14:13:48.299Z"
   },
   {
    "duration": 8,
    "start_time": "2025-07-04T14:13:48.343Z"
   },
   {
    "duration": 45,
    "start_time": "2025-07-04T14:13:48.353Z"
   },
   {
    "duration": 8,
    "start_time": "2025-07-04T14:13:48.401Z"
   },
   {
    "duration": 64,
    "start_time": "2025-07-04T14:13:48.410Z"
   },
   {
    "duration": 241,
    "start_time": "2025-07-04T14:13:48.476Z"
   },
   {
    "duration": 81,
    "start_time": "2025-07-04T14:13:48.718Z"
   },
   {
    "duration": 146,
    "start_time": "2025-07-04T14:13:48.801Z"
   },
   {
    "duration": 15,
    "start_time": "2025-07-04T14:13:48.949Z"
   },
   {
    "duration": 6,
    "start_time": "2025-07-04T14:13:48.965Z"
   },
   {
    "duration": 6,
    "start_time": "2025-07-04T14:13:48.973Z"
   },
   {
    "duration": 30,
    "start_time": "2025-07-04T14:13:48.999Z"
   },
   {
    "duration": 10,
    "start_time": "2025-07-04T14:13:49.031Z"
   },
   {
    "duration": 12,
    "start_time": "2025-07-04T14:13:49.043Z"
   },
   {
    "duration": 134,
    "start_time": "2025-07-04T14:13:49.056Z"
   },
   {
    "duration": 34,
    "start_time": "2025-07-04T14:13:49.192Z"
   },
   {
    "duration": 34,
    "start_time": "2025-07-04T14:13:49.227Z"
   },
   {
    "duration": 20,
    "start_time": "2025-07-04T14:13:49.263Z"
   },
   {
    "duration": 58,
    "start_time": "2025-07-04T14:13:49.284Z"
   },
   {
    "duration": 177,
    "start_time": "2025-07-04T14:13:49.344Z"
   },
   {
    "duration": 29,
    "start_time": "2025-07-04T14:13:49.523Z"
   },
   {
    "duration": 267,
    "start_time": "2025-07-04T14:13:49.553Z"
   },
   {
    "duration": 105,
    "start_time": "2025-07-04T14:13:49.822Z"
   },
   {
    "duration": 32,
    "start_time": "2025-07-04T14:13:49.929Z"
   },
   {
    "duration": 4,
    "start_time": "2025-07-04T14:13:49.963Z"
   },
   {
    "duration": 105,
    "start_time": "2025-07-04T14:13:49.968Z"
   },
   {
    "duration": 0,
    "start_time": "2025-07-04T14:13:50.075Z"
   },
   {
    "duration": 13,
    "start_time": "2025-07-04T14:14:13.887Z"
   },
   {
    "duration": 13,
    "start_time": "2025-07-04T14:16:26.961Z"
   },
   {
    "duration": 21,
    "start_time": "2025-07-04T14:16:44.745Z"
   },
   {
    "duration": 27,
    "start_time": "2025-07-04T14:25:25.395Z"
   },
   {
    "duration": 22,
    "start_time": "2025-07-04T14:28:05.256Z"
   },
   {
    "duration": 14,
    "start_time": "2025-07-04T14:38:26.415Z"
   },
   {
    "duration": 14,
    "start_time": "2025-07-04T14:38:44.469Z"
   },
   {
    "duration": 17,
    "start_time": "2025-07-04T14:38:51.108Z"
   },
   {
    "duration": 16,
    "start_time": "2025-07-04T14:39:03.205Z"
   },
   {
    "duration": 6,
    "start_time": "2025-07-04T14:39:48.546Z"
   },
   {
    "duration": 5,
    "start_time": "2025-07-04T14:40:00.857Z"
   },
   {
    "duration": 5,
    "start_time": "2025-07-04T14:40:23.018Z"
   },
   {
    "duration": 5,
    "start_time": "2025-07-04T14:40:29.162Z"
   },
   {
    "duration": 5,
    "start_time": "2025-07-04T14:40:33.185Z"
   },
   {
    "duration": 161,
    "start_time": "2025-07-04T14:41:51.403Z"
   },
   {
    "duration": 73,
    "start_time": "2025-07-04T14:42:06.315Z"
   },
   {
    "duration": 70,
    "start_time": "2025-07-04T14:44:26.160Z"
   },
   {
    "duration": 79,
    "start_time": "2025-07-04T14:44:52.309Z"
   },
   {
    "duration": 79,
    "start_time": "2025-07-04T14:46:11.576Z"
   },
   {
    "duration": 113,
    "start_time": "2025-07-04T14:46:54.698Z"
   },
   {
    "duration": 10,
    "start_time": "2025-07-04T14:51:06.620Z"
   },
   {
    "duration": 87,
    "start_time": "2025-07-04T14:51:15.824Z"
   },
   {
    "duration": 79,
    "start_time": "2025-07-04T14:54:43.451Z"
   },
   {
    "duration": 4,
    "start_time": "2025-07-04T14:56:48.172Z"
   },
   {
    "duration": 17,
    "start_time": "2025-07-04T14:57:07.635Z"
   },
   {
    "duration": 2396,
    "start_time": "2025-07-04T14:57:31.636Z"
   },
   {
    "duration": 1240,
    "start_time": "2025-07-04T14:57:34.034Z"
   },
   {
    "duration": 2220,
    "start_time": "2025-07-04T14:57:35.276Z"
   },
   {
    "duration": 28,
    "start_time": "2025-07-04T14:57:37.499Z"
   },
   {
    "duration": 4,
    "start_time": "2025-07-04T14:57:37.529Z"
   },
   {
    "duration": 64,
    "start_time": "2025-07-04T14:57:37.535Z"
   },
   {
    "duration": 106,
    "start_time": "2025-07-04T14:57:37.601Z"
   },
   {
    "duration": 8,
    "start_time": "2025-07-04T14:57:37.709Z"
   },
   {
    "duration": 11,
    "start_time": "2025-07-04T14:57:37.719Z"
   },
   {
    "duration": 19,
    "start_time": "2025-07-04T14:57:37.733Z"
   },
   {
    "duration": 55,
    "start_time": "2025-07-04T14:57:37.754Z"
   },
   {
    "duration": 7,
    "start_time": "2025-07-04T14:57:37.810Z"
   },
   {
    "duration": 18,
    "start_time": "2025-07-04T14:57:37.819Z"
   },
   {
    "duration": 7,
    "start_time": "2025-07-04T14:57:37.839Z"
   },
   {
    "duration": 51,
    "start_time": "2025-07-04T14:57:37.848Z"
   },
   {
    "duration": 235,
    "start_time": "2025-07-04T14:57:37.901Z"
   },
   {
    "duration": 79,
    "start_time": "2025-07-04T14:57:38.138Z"
   },
   {
    "duration": 86,
    "start_time": "2025-07-04T14:57:38.218Z"
   },
   {
    "duration": 16,
    "start_time": "2025-07-04T14:57:38.305Z"
   },
   {
    "duration": 5,
    "start_time": "2025-07-04T14:57:38.323Z"
   },
   {
    "duration": 7,
    "start_time": "2025-07-04T14:57:38.329Z"
   },
   {
    "duration": 54,
    "start_time": "2025-07-04T14:57:38.337Z"
   },
   {
    "duration": 12,
    "start_time": "2025-07-04T14:57:38.399Z"
   },
   {
    "duration": 33,
    "start_time": "2025-07-04T14:57:38.412Z"
   },
   {
    "duration": 48,
    "start_time": "2025-07-04T14:57:38.447Z"
   },
   {
    "duration": 36,
    "start_time": "2025-07-04T14:57:38.496Z"
   },
   {
    "duration": 117,
    "start_time": "2025-07-04T14:57:38.533Z"
   },
   {
    "duration": 24,
    "start_time": "2025-07-04T14:57:38.653Z"
   },
   {
    "duration": 57,
    "start_time": "2025-07-04T14:57:38.678Z"
   },
   {
    "duration": 187,
    "start_time": "2025-07-04T14:57:38.737Z"
   },
   {
    "duration": 27,
    "start_time": "2025-07-04T14:57:38.925Z"
   },
   {
    "duration": 284,
    "start_time": "2025-07-04T14:57:38.953Z"
   },
   {
    "duration": 103,
    "start_time": "2025-07-04T14:57:39.240Z"
   },
   {
    "duration": 27,
    "start_time": "2025-07-04T14:57:39.344Z"
   },
   {
    "duration": 64,
    "start_time": "2025-07-04T14:57:39.372Z"
   },
   {
    "duration": 83,
    "start_time": "2025-07-04T14:57:39.437Z"
   },
   {
    "duration": 93,
    "start_time": "2025-07-04T14:57:39.521Z"
   },
   {
    "duration": 18,
    "start_time": "2025-07-04T14:57:39.615Z"
   },
   {
    "duration": 2456,
    "start_time": "2025-07-04T14:58:47.248Z"
   },
   {
    "duration": 1233,
    "start_time": "2025-07-04T14:58:49.706Z"
   },
   {
    "duration": 2130,
    "start_time": "2025-07-04T14:58:50.941Z"
   },
   {
    "duration": 28,
    "start_time": "2025-07-04T14:58:53.074Z"
   },
   {
    "duration": 3,
    "start_time": "2025-07-04T14:58:53.103Z"
   },
   {
    "duration": 62,
    "start_time": "2025-07-04T14:58:53.107Z"
   },
   {
    "duration": 95,
    "start_time": "2025-07-04T14:58:53.171Z"
   },
   {
    "duration": 7,
    "start_time": "2025-07-04T14:58:53.268Z"
   },
   {
    "duration": 27,
    "start_time": "2025-07-04T14:58:53.276Z"
   },
   {
    "duration": 8,
    "start_time": "2025-07-04T14:58:53.306Z"
   },
   {
    "duration": 70,
    "start_time": "2025-07-04T14:58:53.316Z"
   },
   {
    "duration": 8,
    "start_time": "2025-07-04T14:58:53.388Z"
   },
   {
    "duration": 21,
    "start_time": "2025-07-04T14:58:53.397Z"
   },
   {
    "duration": 7,
    "start_time": "2025-07-04T14:58:53.420Z"
   },
   {
    "duration": 25,
    "start_time": "2025-07-04T14:58:53.428Z"
   },
   {
    "duration": 244,
    "start_time": "2025-07-04T14:58:53.454Z"
   },
   {
    "duration": 70,
    "start_time": "2025-07-04T14:58:53.700Z"
   },
   {
    "duration": 85,
    "start_time": "2025-07-04T14:58:53.772Z"
   },
   {
    "duration": 14,
    "start_time": "2025-07-04T14:58:53.859Z"
   },
   {
    "duration": 25,
    "start_time": "2025-07-04T14:58:53.875Z"
   },
   {
    "duration": 8,
    "start_time": "2025-07-04T14:58:53.901Z"
   },
   {
    "duration": 51,
    "start_time": "2025-07-04T14:58:53.911Z"
   },
   {
    "duration": 12,
    "start_time": "2025-07-04T14:58:53.963Z"
   },
   {
    "duration": 22,
    "start_time": "2025-07-04T14:58:53.977Z"
   },
   {
    "duration": 37,
    "start_time": "2025-07-04T14:58:54.001Z"
   },
   {
    "duration": 36,
    "start_time": "2025-07-04T14:58:54.040Z"
   },
   {
    "duration": 21,
    "start_time": "2025-07-04T14:58:54.099Z"
   },
   {
    "duration": 23,
    "start_time": "2025-07-04T14:58:54.123Z"
   },
   {
    "duration": 75,
    "start_time": "2025-07-04T14:58:54.148Z"
   },
   {
    "duration": 184,
    "start_time": "2025-07-04T14:58:54.224Z"
   },
   {
    "duration": 30,
    "start_time": "2025-07-04T14:58:54.409Z"
   },
   {
    "duration": 295,
    "start_time": "2025-07-04T14:58:54.441Z"
   },
   {
    "duration": 134,
    "start_time": "2025-07-04T14:58:54.738Z"
   },
   {
    "duration": 32,
    "start_time": "2025-07-04T14:58:54.873Z"
   },
   {
    "duration": 36,
    "start_time": "2025-07-04T14:58:54.907Z"
   },
   {
    "duration": 79,
    "start_time": "2025-07-04T14:58:54.945Z"
   },
   {
    "duration": 0,
    "start_time": "2025-07-04T14:58:55.026Z"
   },
   {
    "duration": 0,
    "start_time": "2025-07-04T14:58:55.028Z"
   },
   {
    "duration": 2489,
    "start_time": "2025-07-04T14:59:13.092Z"
   },
   {
    "duration": 1289,
    "start_time": "2025-07-04T14:59:15.583Z"
   },
   {
    "duration": 1814,
    "start_time": "2025-07-04T14:59:16.874Z"
   },
   {
    "duration": 28,
    "start_time": "2025-07-04T14:59:18.690Z"
   },
   {
    "duration": 12,
    "start_time": "2025-07-04T14:59:18.720Z"
   },
   {
    "duration": 51,
    "start_time": "2025-07-04T14:59:18.734Z"
   },
   {
    "duration": 96,
    "start_time": "2025-07-04T14:59:18.787Z"
   },
   {
    "duration": 70,
    "start_time": "2025-07-04T14:59:18.885Z"
   },
   {
    "duration": 13,
    "start_time": "2025-07-04T14:59:18.957Z"
   },
   {
    "duration": 116,
    "start_time": "2025-07-04T14:59:18.973Z"
   },
   {
    "duration": 51,
    "start_time": "2025-07-04T14:59:19.090Z"
   },
   {
    "duration": 7,
    "start_time": "2025-07-04T14:59:19.143Z"
   },
   {
    "duration": 24,
    "start_time": "2025-07-04T14:59:19.152Z"
   },
   {
    "duration": 7,
    "start_time": "2025-07-04T14:59:19.177Z"
   },
   {
    "duration": 36,
    "start_time": "2025-07-04T14:59:19.185Z"
   },
   {
    "duration": 249,
    "start_time": "2025-07-04T14:59:19.223Z"
   },
   {
    "duration": 81,
    "start_time": "2025-07-04T14:59:19.473Z"
   },
   {
    "duration": 82,
    "start_time": "2025-07-04T14:59:19.555Z"
   },
   {
    "duration": 15,
    "start_time": "2025-07-04T14:59:19.639Z"
   },
   {
    "duration": 6,
    "start_time": "2025-07-04T14:59:19.655Z"
   },
   {
    "duration": 6,
    "start_time": "2025-07-04T14:59:19.663Z"
   },
   {
    "duration": 56,
    "start_time": "2025-07-04T14:59:19.671Z"
   },
   {
    "duration": 10,
    "start_time": "2025-07-04T14:59:19.729Z"
   },
   {
    "duration": 50,
    "start_time": "2025-07-04T14:59:19.741Z"
   },
   {
    "duration": 35,
    "start_time": "2025-07-04T14:59:19.793Z"
   },
   {
    "duration": 37,
    "start_time": "2025-07-04T14:59:19.830Z"
   },
   {
    "duration": 32,
    "start_time": "2025-07-04T14:59:19.869Z"
   },
   {
    "duration": 21,
    "start_time": "2025-07-04T14:59:19.904Z"
   },
   {
    "duration": 74,
    "start_time": "2025-07-04T14:59:19.927Z"
   },
   {
    "duration": 196,
    "start_time": "2025-07-04T14:59:20.002Z"
   },
   {
    "duration": 30,
    "start_time": "2025-07-04T14:59:20.200Z"
   },
   {
    "duration": 279,
    "start_time": "2025-07-04T14:59:20.232Z"
   },
   {
    "duration": 108,
    "start_time": "2025-07-04T14:59:20.513Z"
   },
   {
    "duration": 27,
    "start_time": "2025-07-04T14:59:20.623Z"
   },
   {
    "duration": 18,
    "start_time": "2025-07-04T14:59:20.652Z"
   },
   {
    "duration": 119,
    "start_time": "2025-07-04T14:59:20.672Z"
   },
   {
    "duration": 0,
    "start_time": "2025-07-04T14:59:20.793Z"
   },
   {
    "duration": 0,
    "start_time": "2025-07-04T14:59:20.794Z"
   },
   {
    "duration": 2504,
    "start_time": "2025-07-04T14:59:34.140Z"
   },
   {
    "duration": 1221,
    "start_time": "2025-07-04T14:59:36.647Z"
   },
   {
    "duration": 1771,
    "start_time": "2025-07-04T14:59:37.869Z"
   },
   {
    "duration": 26,
    "start_time": "2025-07-04T14:59:39.641Z"
   },
   {
    "duration": 3,
    "start_time": "2025-07-04T14:59:39.669Z"
   },
   {
    "duration": 48,
    "start_time": "2025-07-04T14:59:39.673Z"
   },
   {
    "duration": 102,
    "start_time": "2025-07-04T14:59:39.723Z"
   },
   {
    "duration": 8,
    "start_time": "2025-07-04T14:59:39.827Z"
   },
   {
    "duration": 41,
    "start_time": "2025-07-04T14:59:39.837Z"
   },
   {
    "duration": 11,
    "start_time": "2025-07-04T14:59:39.880Z"
   },
   {
    "duration": 43,
    "start_time": "2025-07-04T14:59:39.893Z"
   },
   {
    "duration": 9,
    "start_time": "2025-07-04T14:59:39.938Z"
   },
   {
    "duration": 24,
    "start_time": "2025-07-04T14:59:39.949Z"
   },
   {
    "duration": 61,
    "start_time": "2025-07-04T14:59:39.978Z"
   },
   {
    "duration": 32,
    "start_time": "2025-07-04T14:59:40.041Z"
   },
   {
    "duration": 243,
    "start_time": "2025-07-04T14:59:40.075Z"
   },
   {
    "duration": 82,
    "start_time": "2025-07-04T14:59:40.321Z"
   },
   {
    "duration": 77,
    "start_time": "2025-07-04T14:59:40.405Z"
   },
   {
    "duration": 30,
    "start_time": "2025-07-04T14:59:40.483Z"
   },
   {
    "duration": 8,
    "start_time": "2025-07-04T14:59:40.515Z"
   },
   {
    "duration": 11,
    "start_time": "2025-07-04T14:59:40.525Z"
   },
   {
    "duration": 125,
    "start_time": "2025-07-04T14:59:40.537Z"
   },
   {
    "duration": 12,
    "start_time": "2025-07-04T14:59:40.664Z"
   },
   {
    "duration": 17,
    "start_time": "2025-07-04T14:59:40.678Z"
   },
   {
    "duration": 37,
    "start_time": "2025-07-04T14:59:40.697Z"
   },
   {
    "duration": 37,
    "start_time": "2025-07-04T14:59:40.736Z"
   },
   {
    "duration": 32,
    "start_time": "2025-07-04T14:59:40.776Z"
   },
   {
    "duration": 140,
    "start_time": "2025-07-04T14:59:40.810Z"
   },
   {
    "duration": 57,
    "start_time": "2025-07-04T14:59:40.952Z"
   },
   {
    "duration": 178,
    "start_time": "2025-07-04T14:59:41.011Z"
   },
   {
    "duration": 27,
    "start_time": "2025-07-04T14:59:41.198Z"
   },
   {
    "duration": 271,
    "start_time": "2025-07-04T14:59:41.227Z"
   },
   {
    "duration": 116,
    "start_time": "2025-07-04T14:59:41.500Z"
   },
   {
    "duration": 25,
    "start_time": "2025-07-04T14:59:41.618Z"
   },
   {
    "duration": 4,
    "start_time": "2025-07-04T14:59:41.644Z"
   },
   {
    "duration": 93,
    "start_time": "2025-07-04T14:59:41.650Z"
   },
   {
    "duration": 87,
    "start_time": "2025-07-04T14:59:41.745Z"
   },
   {
    "duration": 15,
    "start_time": "2025-07-04T14:59:41.834Z"
   },
   {
    "duration": 71,
    "start_time": "2025-07-04T15:01:45.924Z"
   },
   {
    "duration": 18,
    "start_time": "2025-07-04T15:02:41.273Z"
   },
   {
    "duration": 27,
    "start_time": "2025-07-04T15:03:29.343Z"
   },
   {
    "duration": 1535,
    "start_time": "2025-07-04T15:04:30.999Z"
   },
   {
    "duration": 1624,
    "start_time": "2025-07-04T15:04:43.928Z"
   },
   {
    "duration": 39,
    "start_time": "2025-07-04T15:06:51.045Z"
   },
   {
    "duration": 30,
    "start_time": "2025-07-04T15:07:08.397Z"
   },
   {
    "duration": 40,
    "start_time": "2025-07-04T15:07:19.652Z"
   },
   {
    "duration": 9,
    "start_time": "2025-07-04T15:10:50.974Z"
   },
   {
    "duration": 14,
    "start_time": "2025-07-04T15:11:01.528Z"
   },
   {
    "duration": 34,
    "start_time": "2025-07-04T15:11:39.909Z"
   },
   {
    "duration": 1992,
    "start_time": "2025-07-04T15:12:00.831Z"
   },
   {
    "duration": 23,
    "start_time": "2025-07-04T15:12:15.676Z"
   },
   {
    "duration": 21,
    "start_time": "2025-07-04T15:12:18.062Z"
   },
   {
    "duration": 22,
    "start_time": "2025-07-04T15:12:58.148Z"
   },
   {
    "duration": 12,
    "start_time": "2025-07-04T15:14:35.446Z"
   },
   {
    "duration": 26,
    "start_time": "2025-07-04T15:14:46.106Z"
   },
   {
    "duration": 24,
    "start_time": "2025-07-04T15:15:12.531Z"
   },
   {
    "duration": 25,
    "start_time": "2025-07-04T15:15:39.743Z"
   },
   {
    "duration": 8,
    "start_time": "2025-07-04T15:16:05.412Z"
   },
   {
    "duration": 14,
    "start_time": "2025-07-04T15:16:12.014Z"
   },
   {
    "duration": 17,
    "start_time": "2025-07-04T15:17:22.751Z"
   },
   {
    "duration": 19,
    "start_time": "2025-07-04T15:18:04.063Z"
   },
   {
    "duration": 1617,
    "start_time": "2025-07-04T15:18:48.576Z"
   },
   {
    "duration": 1749,
    "start_time": "2025-07-04T15:18:54.518Z"
   },
   {
    "duration": 58,
    "start_time": "2025-07-04T15:19:38.610Z"
   },
   {
    "duration": 17,
    "start_time": "2025-07-04T15:25:11.009Z"
   },
   {
    "duration": 2421,
    "start_time": "2025-07-04T15:25:47.736Z"
   },
   {
    "duration": 1199,
    "start_time": "2025-07-04T15:25:50.159Z"
   },
   {
    "duration": 2334,
    "start_time": "2025-07-04T15:25:51.360Z"
   },
   {
    "duration": 29,
    "start_time": "2025-07-04T15:25:53.696Z"
   },
   {
    "duration": 3,
    "start_time": "2025-07-04T15:25:53.727Z"
   },
   {
    "duration": 65,
    "start_time": "2025-07-04T15:25:53.732Z"
   },
   {
    "duration": 101,
    "start_time": "2025-07-04T15:25:53.799Z"
   },
   {
    "duration": 7,
    "start_time": "2025-07-04T15:25:53.902Z"
   },
   {
    "duration": 18,
    "start_time": "2025-07-04T15:25:53.910Z"
   },
   {
    "duration": 8,
    "start_time": "2025-07-04T15:25:53.929Z"
   },
   {
    "duration": 51,
    "start_time": "2025-07-04T15:25:53.939Z"
   },
   {
    "duration": 12,
    "start_time": "2025-07-04T15:25:53.992Z"
   },
   {
    "duration": 22,
    "start_time": "2025-07-04T15:25:54.006Z"
   },
   {
    "duration": 9,
    "start_time": "2025-07-04T15:25:54.031Z"
   },
   {
    "duration": 40,
    "start_time": "2025-07-04T15:25:54.042Z"
   },
   {
    "duration": 246,
    "start_time": "2025-07-04T15:25:54.084Z"
   },
   {
    "duration": 88,
    "start_time": "2025-07-04T15:25:54.332Z"
   },
   {
    "duration": 92,
    "start_time": "2025-07-04T15:25:54.423Z"
   },
   {
    "duration": 18,
    "start_time": "2025-07-04T15:25:54.517Z"
   },
   {
    "duration": 7,
    "start_time": "2025-07-04T15:25:54.537Z"
   },
   {
    "duration": 9,
    "start_time": "2025-07-04T15:25:54.546Z"
   },
   {
    "duration": 64,
    "start_time": "2025-07-04T15:25:54.556Z"
   },
   {
    "duration": 13,
    "start_time": "2025-07-04T15:25:54.622Z"
   },
   {
    "duration": 13,
    "start_time": "2025-07-04T15:25:54.637Z"
   },
   {
    "duration": 68,
    "start_time": "2025-07-04T15:25:54.652Z"
   },
   {
    "duration": 77,
    "start_time": "2025-07-04T15:25:54.722Z"
   },
   {
    "duration": 23,
    "start_time": "2025-07-04T15:25:54.801Z"
   },
   {
    "duration": 22,
    "start_time": "2025-07-04T15:25:54.826Z"
   },
   {
    "duration": 88,
    "start_time": "2025-07-04T15:25:54.850Z"
   },
   {
    "duration": 194,
    "start_time": "2025-07-04T15:25:54.939Z"
   },
   {
    "duration": 27,
    "start_time": "2025-07-04T15:25:55.135Z"
   },
   {
    "duration": 295,
    "start_time": "2025-07-04T15:25:55.164Z"
   },
   {
    "duration": 118,
    "start_time": "2025-07-04T15:25:55.461Z"
   },
   {
    "duration": 32,
    "start_time": "2025-07-04T15:25:55.581Z"
   },
   {
    "duration": 4,
    "start_time": "2025-07-04T15:25:55.614Z"
   },
   {
    "duration": 127,
    "start_time": "2025-07-04T15:25:55.620Z"
   },
   {
    "duration": 0,
    "start_time": "2025-07-04T15:25:55.750Z"
   },
   {
    "duration": 0,
    "start_time": "2025-07-04T15:25:55.752Z"
   },
   {
    "duration": 2425,
    "start_time": "2025-07-04T15:26:26.514Z"
   },
   {
    "duration": 1216,
    "start_time": "2025-07-04T15:26:28.941Z"
   },
   {
    "duration": 2174,
    "start_time": "2025-07-04T15:26:30.158Z"
   },
   {
    "duration": 26,
    "start_time": "2025-07-04T15:26:32.334Z"
   },
   {
    "duration": 2,
    "start_time": "2025-07-04T15:26:32.363Z"
   },
   {
    "duration": 92,
    "start_time": "2025-07-04T15:26:32.367Z"
   },
   {
    "duration": 103,
    "start_time": "2025-07-04T15:26:32.461Z"
   },
   {
    "duration": 8,
    "start_time": "2025-07-04T15:26:32.566Z"
   },
   {
    "duration": 43,
    "start_time": "2025-07-04T15:26:32.575Z"
   },
   {
    "duration": 12,
    "start_time": "2025-07-04T15:26:32.619Z"
   },
   {
    "duration": 60,
    "start_time": "2025-07-04T15:26:32.632Z"
   },
   {
    "duration": 83,
    "start_time": "2025-07-04T15:26:32.693Z"
   },
   {
    "duration": 35,
    "start_time": "2025-07-04T15:26:32.778Z"
   },
   {
    "duration": 14,
    "start_time": "2025-07-04T15:26:32.816Z"
   },
   {
    "duration": 36,
    "start_time": "2025-07-04T15:26:32.831Z"
   },
   {
    "duration": 232,
    "start_time": "2025-07-04T15:26:32.868Z"
   },
   {
    "duration": 71,
    "start_time": "2025-07-04T15:26:33.101Z"
   },
   {
    "duration": 92,
    "start_time": "2025-07-04T15:26:33.174Z"
   },
   {
    "duration": 48,
    "start_time": "2025-07-04T15:26:33.268Z"
   },
   {
    "duration": 10,
    "start_time": "2025-07-04T15:26:33.317Z"
   },
   {
    "duration": 22,
    "start_time": "2025-07-04T15:26:33.329Z"
   },
   {
    "duration": 33,
    "start_time": "2025-07-04T15:26:33.353Z"
   },
   {
    "duration": 42,
    "start_time": "2025-07-04T15:26:33.387Z"
   },
   {
    "duration": 23,
    "start_time": "2025-07-04T15:26:33.431Z"
   },
   {
    "duration": 193,
    "start_time": "2025-07-04T15:26:33.455Z"
   },
   {
    "duration": 35,
    "start_time": "2025-07-04T15:26:33.650Z"
   },
   {
    "duration": 34,
    "start_time": "2025-07-04T15:26:33.686Z"
   },
   {
    "duration": 20,
    "start_time": "2025-07-04T15:26:33.722Z"
   },
   {
    "duration": 64,
    "start_time": "2025-07-04T15:26:33.744Z"
   },
   {
    "duration": 184,
    "start_time": "2025-07-04T15:26:33.809Z"
   },
   {
    "duration": 27,
    "start_time": "2025-07-04T15:26:33.995Z"
   },
   {
    "duration": 279,
    "start_time": "2025-07-04T15:26:34.023Z"
   },
   {
    "duration": 107,
    "start_time": "2025-07-04T15:26:34.304Z"
   },
   {
    "duration": 29,
    "start_time": "2025-07-04T15:26:34.412Z"
   },
   {
    "duration": 17,
    "start_time": "2025-07-04T15:26:34.442Z"
   },
   {
    "duration": 27,
    "start_time": "2025-07-04T15:26:34.461Z"
   },
   {
    "duration": 101,
    "start_time": "2025-07-04T15:26:34.490Z"
   },
   {
    "duration": 18,
    "start_time": "2025-07-04T15:26:34.593Z"
   },
   {
    "duration": 2527,
    "start_time": "2025-07-04T15:27:54.835Z"
   },
   {
    "duration": 1202,
    "start_time": "2025-07-04T15:27:57.364Z"
   },
   {
    "duration": 1937,
    "start_time": "2025-07-04T15:27:58.568Z"
   },
   {
    "duration": 39,
    "start_time": "2025-07-04T15:28:00.507Z"
   },
   {
    "duration": 10,
    "start_time": "2025-07-04T15:28:00.548Z"
   },
   {
    "duration": 68,
    "start_time": "2025-07-04T15:28:00.560Z"
   },
   {
    "duration": 161,
    "start_time": "2025-07-04T15:28:00.630Z"
   },
   {
    "duration": 12,
    "start_time": "2025-07-04T15:28:00.792Z"
   },
   {
    "duration": 30,
    "start_time": "2025-07-04T15:28:00.805Z"
   },
   {
    "duration": 33,
    "start_time": "2025-07-04T15:28:00.837Z"
   },
   {
    "duration": 201,
    "start_time": "2025-07-04T15:28:00.871Z"
   },
   {
    "duration": 8,
    "start_time": "2025-07-04T15:28:01.074Z"
   },
   {
    "duration": 143,
    "start_time": "2025-07-04T15:28:01.083Z"
   },
   {
    "duration": 48,
    "start_time": "2025-07-04T15:28:01.228Z"
   },
   {
    "duration": 38,
    "start_time": "2025-07-04T15:28:01.277Z"
   },
   {
    "duration": 277,
    "start_time": "2025-07-04T15:28:01.317Z"
   },
   {
    "duration": 72,
    "start_time": "2025-07-04T15:28:01.595Z"
   },
   {
    "duration": 89,
    "start_time": "2025-07-04T15:28:01.668Z"
   },
   {
    "duration": 15,
    "start_time": "2025-07-04T15:28:01.759Z"
   },
   {
    "duration": 41,
    "start_time": "2025-07-04T15:28:01.776Z"
   },
   {
    "duration": 48,
    "start_time": "2025-07-04T15:28:01.818Z"
   },
   {
    "duration": 58,
    "start_time": "2025-07-04T15:28:01.867Z"
   },
   {
    "duration": 41,
    "start_time": "2025-07-04T15:28:01.927Z"
   },
   {
    "duration": 69,
    "start_time": "2025-07-04T15:28:01.970Z"
   },
   {
    "duration": 40,
    "start_time": "2025-07-04T15:28:02.041Z"
   },
   {
    "duration": 38,
    "start_time": "2025-07-04T15:28:02.083Z"
   },
   {
    "duration": 64,
    "start_time": "2025-07-04T15:28:02.122Z"
   },
   {
    "duration": 28,
    "start_time": "2025-07-04T15:28:02.189Z"
   },
   {
    "duration": 64,
    "start_time": "2025-07-04T15:28:02.219Z"
   },
   {
    "duration": 189,
    "start_time": "2025-07-04T15:28:02.285Z"
   },
   {
    "duration": 37,
    "start_time": "2025-07-04T15:28:02.476Z"
   },
   {
    "duration": 281,
    "start_time": "2025-07-04T15:28:02.515Z"
   },
   {
    "duration": 106,
    "start_time": "2025-07-04T15:28:02.797Z"
   },
   {
    "duration": 27,
    "start_time": "2025-07-04T15:28:02.905Z"
   },
   {
    "duration": 106,
    "start_time": "2025-07-04T15:28:02.934Z"
   },
   {
    "duration": 40,
    "start_time": "2025-07-04T15:28:03.042Z"
   },
   {
    "duration": 149,
    "start_time": "2025-07-04T15:28:03.084Z"
   },
   {
    "duration": 12,
    "start_time": "2025-07-04T15:28:03.235Z"
   },
   {
    "duration": 1466,
    "start_time": "2025-07-04T15:31:17.038Z"
   },
   {
    "duration": 9,
    "start_time": "2025-07-04T15:31:57.650Z"
   },
   {
    "duration": 2506,
    "start_time": "2025-07-04T15:32:02.557Z"
   },
   {
    "duration": 1197,
    "start_time": "2025-07-04T15:32:05.065Z"
   },
   {
    "duration": 2067,
    "start_time": "2025-07-04T15:32:06.263Z"
   },
   {
    "duration": 30,
    "start_time": "2025-07-04T15:32:08.332Z"
   },
   {
    "duration": 3,
    "start_time": "2025-07-04T15:32:08.364Z"
   },
   {
    "duration": 72,
    "start_time": "2025-07-04T15:32:08.368Z"
   },
   {
    "duration": 109,
    "start_time": "2025-07-04T15:32:08.442Z"
   },
   {
    "duration": 8,
    "start_time": "2025-07-04T15:32:08.552Z"
   },
   {
    "duration": 11,
    "start_time": "2025-07-04T15:32:08.562Z"
   },
   {
    "duration": 30,
    "start_time": "2025-07-04T15:32:08.575Z"
   },
   {
    "duration": 68,
    "start_time": "2025-07-04T15:32:08.607Z"
   },
   {
    "duration": 8,
    "start_time": "2025-07-04T15:32:08.676Z"
   },
   {
    "duration": 80,
    "start_time": "2025-07-04T15:32:08.686Z"
   },
   {
    "duration": 8,
    "start_time": "2025-07-04T15:32:08.769Z"
   },
   {
    "duration": 26,
    "start_time": "2025-07-04T15:32:08.779Z"
   },
   {
    "duration": 264,
    "start_time": "2025-07-04T15:32:08.807Z"
   },
   {
    "duration": 88,
    "start_time": "2025-07-04T15:32:09.073Z"
   },
   {
    "duration": 86,
    "start_time": "2025-07-04T15:32:09.162Z"
   },
   {
    "duration": 19,
    "start_time": "2025-07-04T15:32:09.249Z"
   },
   {
    "duration": 6,
    "start_time": "2025-07-04T15:32:09.270Z"
   },
   {
    "duration": 25,
    "start_time": "2025-07-04T15:32:09.278Z"
   },
   {
    "duration": 36,
    "start_time": "2025-07-04T15:32:09.305Z"
   },
   {
    "duration": 31,
    "start_time": "2025-07-04T15:32:09.343Z"
   },
   {
    "duration": 31,
    "start_time": "2025-07-04T15:32:09.375Z"
   },
   {
    "duration": 44,
    "start_time": "2025-07-04T15:32:09.408Z"
   },
   {
    "duration": 53,
    "start_time": "2025-07-04T15:32:09.454Z"
   },
   {
    "duration": 126,
    "start_time": "2025-07-04T15:32:09.509Z"
   },
   {
    "duration": 28,
    "start_time": "2025-07-04T15:32:09.637Z"
   },
   {
    "duration": 76,
    "start_time": "2025-07-04T15:32:09.667Z"
   },
   {
    "duration": 198,
    "start_time": "2025-07-04T15:32:09.744Z"
   },
   {
    "duration": 29,
    "start_time": "2025-07-04T15:32:09.944Z"
   },
   {
    "duration": 288,
    "start_time": "2025-07-04T15:32:09.975Z"
   },
   {
    "duration": 103,
    "start_time": "2025-07-04T15:32:10.265Z"
   },
   {
    "duration": 30,
    "start_time": "2025-07-04T15:32:10.370Z"
   },
   {
    "duration": 4,
    "start_time": "2025-07-04T15:32:10.402Z"
   },
   {
    "duration": 26,
    "start_time": "2025-07-04T15:32:10.407Z"
   },
   {
    "duration": 88,
    "start_time": "2025-07-04T15:32:10.435Z"
   },
   {
    "duration": 20,
    "start_time": "2025-07-04T15:32:10.525Z"
   },
   {
    "duration": 2456,
    "start_time": "2025-07-04T15:32:55.536Z"
   },
   {
    "duration": 1294,
    "start_time": "2025-07-04T15:32:57.995Z"
   },
   {
    "duration": 1983,
    "start_time": "2025-07-04T15:32:59.291Z"
   },
   {
    "duration": 28,
    "start_time": "2025-07-04T15:33:01.276Z"
   },
   {
    "duration": 35,
    "start_time": "2025-07-04T15:33:01.307Z"
   },
   {
    "duration": 64,
    "start_time": "2025-07-04T15:33:01.344Z"
   },
   {
    "duration": 119,
    "start_time": "2025-07-04T15:33:01.410Z"
   },
   {
    "duration": 7,
    "start_time": "2025-07-04T15:33:01.531Z"
   },
   {
    "duration": 69,
    "start_time": "2025-07-04T15:33:01.540Z"
   },
   {
    "duration": 26,
    "start_time": "2025-07-04T15:33:01.610Z"
   },
   {
    "duration": 48,
    "start_time": "2025-07-04T15:33:01.638Z"
   },
   {
    "duration": 8,
    "start_time": "2025-07-04T15:33:01.688Z"
   },
   {
    "duration": 25,
    "start_time": "2025-07-04T15:33:01.698Z"
   },
   {
    "duration": 37,
    "start_time": "2025-07-04T15:33:01.726Z"
   },
   {
    "duration": 27,
    "start_time": "2025-07-04T15:33:01.764Z"
   },
   {
    "duration": 240,
    "start_time": "2025-07-04T15:33:01.792Z"
   },
   {
    "duration": 84,
    "start_time": "2025-07-04T15:33:02.033Z"
   },
   {
    "duration": 87,
    "start_time": "2025-07-04T15:33:02.118Z"
   },
   {
    "duration": 15,
    "start_time": "2025-07-04T15:33:02.206Z"
   },
   {
    "duration": 63,
    "start_time": "2025-07-04T15:33:02.222Z"
   },
   {
    "duration": 43,
    "start_time": "2025-07-04T15:33:02.286Z"
   },
   {
    "duration": 96,
    "start_time": "2025-07-04T15:33:02.331Z"
   },
   {
    "duration": 77,
    "start_time": "2025-07-04T15:33:02.428Z"
   },
   {
    "duration": 56,
    "start_time": "2025-07-04T15:33:02.507Z"
   },
   {
    "duration": 71,
    "start_time": "2025-07-04T15:33:02.565Z"
   },
   {
    "duration": 38,
    "start_time": "2025-07-04T15:33:02.638Z"
   },
   {
    "duration": 113,
    "start_time": "2025-07-04T15:33:02.678Z"
   },
   {
    "duration": 64,
    "start_time": "2025-07-04T15:33:02.792Z"
   },
   {
    "duration": 63,
    "start_time": "2025-07-04T15:33:02.858Z"
   },
   {
    "duration": 190,
    "start_time": "2025-07-04T15:33:02.923Z"
   },
   {
    "duration": 29,
    "start_time": "2025-07-04T15:33:03.114Z"
   },
   {
    "duration": 372,
    "start_time": "2025-07-04T15:33:03.145Z"
   },
   {
    "duration": 114,
    "start_time": "2025-07-04T15:33:03.519Z"
   },
   {
    "duration": 37,
    "start_time": "2025-07-04T15:33:03.635Z"
   },
   {
    "duration": 31,
    "start_time": "2025-07-04T15:33:03.674Z"
   },
   {
    "duration": 58,
    "start_time": "2025-07-04T15:33:03.709Z"
   },
   {
    "duration": 116,
    "start_time": "2025-07-04T15:33:03.768Z"
   },
   {
    "duration": 22,
    "start_time": "2025-07-04T15:33:03.886Z"
   },
   {
    "duration": 1814,
    "start_time": "2025-07-04T15:47:16.727Z"
   },
   {
    "duration": 8,
    "start_time": "2025-07-04T15:48:24.039Z"
   },
   {
    "duration": 64,
    "start_time": "2025-07-04T15:48:30.927Z"
   },
   {
    "duration": 15,
    "start_time": "2025-07-04T15:48:44.027Z"
   },
   {
    "duration": 73,
    "start_time": "2025-07-04T15:49:14.264Z"
   },
   {
    "duration": 15,
    "start_time": "2025-07-04T15:49:15.553Z"
   },
   {
    "duration": 2546,
    "start_time": "2025-07-04T15:49:30.296Z"
   },
   {
    "duration": 1213,
    "start_time": "2025-07-04T15:49:32.845Z"
   },
   {
    "duration": 2378,
    "start_time": "2025-07-04T15:49:34.060Z"
   },
   {
    "duration": 26,
    "start_time": "2025-07-04T15:49:36.440Z"
   },
   {
    "duration": 3,
    "start_time": "2025-07-04T15:49:36.469Z"
   },
   {
    "duration": 53,
    "start_time": "2025-07-04T15:49:36.473Z"
   },
   {
    "duration": 102,
    "start_time": "2025-07-04T15:49:36.527Z"
   },
   {
    "duration": 7,
    "start_time": "2025-07-04T15:49:36.631Z"
   },
   {
    "duration": 47,
    "start_time": "2025-07-04T15:49:36.639Z"
   },
   {
    "duration": 17,
    "start_time": "2025-07-04T15:49:36.688Z"
   },
   {
    "duration": 45,
    "start_time": "2025-07-04T15:49:36.707Z"
   },
   {
    "duration": 79,
    "start_time": "2025-07-04T15:49:36.753Z"
   },
   {
    "duration": 34,
    "start_time": "2025-07-04T15:49:36.834Z"
   },
   {
    "duration": 8,
    "start_time": "2025-07-04T15:49:36.871Z"
   },
   {
    "duration": 26,
    "start_time": "2025-07-04T15:49:36.880Z"
   },
   {
    "duration": 247,
    "start_time": "2025-07-04T15:49:36.908Z"
   },
   {
    "duration": 80,
    "start_time": "2025-07-04T15:49:37.157Z"
   },
   {
    "duration": 92,
    "start_time": "2025-07-04T15:49:37.239Z"
   },
   {
    "duration": 15,
    "start_time": "2025-07-04T15:49:37.332Z"
   },
   {
    "duration": 51,
    "start_time": "2025-07-04T15:49:37.348Z"
   },
   {
    "duration": 9,
    "start_time": "2025-07-04T15:49:37.401Z"
   },
   {
    "duration": 32,
    "start_time": "2025-07-04T15:49:37.411Z"
   },
   {
    "duration": 15,
    "start_time": "2025-07-04T15:49:37.446Z"
   },
   {
    "duration": 39,
    "start_time": "2025-07-04T15:49:37.463Z"
   },
   {
    "duration": 43,
    "start_time": "2025-07-04T15:49:37.504Z"
   },
   {
    "duration": 46,
    "start_time": "2025-07-04T15:49:37.548Z"
   },
   {
    "duration": 18,
    "start_time": "2025-07-04T15:49:37.599Z"
   },
   {
    "duration": 142,
    "start_time": "2025-07-04T15:49:37.618Z"
   },
   {
    "duration": 82,
    "start_time": "2025-07-04T15:49:37.762Z"
   },
   {
    "duration": 182,
    "start_time": "2025-07-04T15:49:37.846Z"
   },
   {
    "duration": 28,
    "start_time": "2025-07-04T15:49:38.029Z"
   },
   {
    "duration": 274,
    "start_time": "2025-07-04T15:49:38.059Z"
   },
   {
    "duration": 101,
    "start_time": "2025-07-04T15:49:38.335Z"
   },
   {
    "duration": 26,
    "start_time": "2025-07-04T15:49:38.438Z"
   },
   {
    "duration": 4,
    "start_time": "2025-07-04T15:49:38.465Z"
   },
   {
    "duration": 81,
    "start_time": "2025-07-04T15:49:38.471Z"
   },
   {
    "duration": 13,
    "start_time": "2025-07-04T15:49:38.554Z"
   },
   {
    "duration": 60,
    "start_time": "2025-07-04T15:50:10.989Z"
   },
   {
    "duration": 15,
    "start_time": "2025-07-04T15:50:13.401Z"
   },
   {
    "duration": 283,
    "start_time": "2025-07-04T15:51:56.454Z"
   },
   {
    "duration": 16,
    "start_time": "2025-07-04T15:51:57.086Z"
   },
   {
    "duration": 13,
    "start_time": "2025-07-04T15:55:55.678Z"
   },
   {
    "duration": 15,
    "start_time": "2025-07-04T15:55:57.661Z"
   },
   {
    "duration": 30,
    "start_time": "2025-07-04T15:56:16.356Z"
   },
   {
    "duration": 13,
    "start_time": "2025-07-04T15:56:19.202Z"
   },
   {
    "duration": 28,
    "start_time": "2025-07-04T15:56:53.293Z"
   },
   {
    "duration": 67,
    "start_time": "2025-07-04T15:58:10.352Z"
   },
   {
    "duration": 2336,
    "start_time": "2025-07-04T15:58:32.431Z"
   },
   {
    "duration": 1195,
    "start_time": "2025-07-04T15:58:34.770Z"
   },
   {
    "duration": 2267,
    "start_time": "2025-07-04T15:58:35.967Z"
   },
   {
    "duration": 27,
    "start_time": "2025-07-04T15:58:38.236Z"
   },
   {
    "duration": 3,
    "start_time": "2025-07-04T15:58:38.266Z"
   },
   {
    "duration": 48,
    "start_time": "2025-07-04T15:58:38.271Z"
   },
   {
    "duration": 107,
    "start_time": "2025-07-04T15:58:38.321Z"
   },
   {
    "duration": 8,
    "start_time": "2025-07-04T15:58:38.429Z"
   },
   {
    "duration": 16,
    "start_time": "2025-07-04T15:58:38.438Z"
   },
   {
    "duration": 12,
    "start_time": "2025-07-04T15:58:38.455Z"
   },
   {
    "duration": 60,
    "start_time": "2025-07-04T15:58:38.468Z"
   },
   {
    "duration": 8,
    "start_time": "2025-07-04T15:58:38.530Z"
   },
   {
    "duration": 23,
    "start_time": "2025-07-04T15:58:38.540Z"
   },
   {
    "duration": 7,
    "start_time": "2025-07-04T15:58:38.566Z"
   },
   {
    "duration": 24,
    "start_time": "2025-07-04T15:58:38.599Z"
   },
   {
    "duration": 252,
    "start_time": "2025-07-04T15:58:38.625Z"
   },
   {
    "duration": 74,
    "start_time": "2025-07-04T15:58:38.878Z"
   },
   {
    "duration": 71,
    "start_time": "2025-07-04T15:58:38.954Z"
   },
   {
    "duration": 15,
    "start_time": "2025-07-04T15:58:39.027Z"
   },
   {
    "duration": 107,
    "start_time": "2025-07-04T15:58:39.043Z"
   },
   {
    "duration": 8,
    "start_time": "2025-07-04T15:58:39.152Z"
   },
   {
    "duration": 31,
    "start_time": "2025-07-04T15:58:39.161Z"
   },
   {
    "duration": 12,
    "start_time": "2025-07-04T15:58:39.194Z"
   },
   {
    "duration": 110,
    "start_time": "2025-07-04T15:58:39.208Z"
   },
   {
    "duration": 47,
    "start_time": "2025-07-04T15:58:39.319Z"
   },
   {
    "duration": 35,
    "start_time": "2025-07-04T15:58:39.368Z"
   },
   {
    "duration": 20,
    "start_time": "2025-07-04T15:58:39.405Z"
   },
   {
    "duration": 19,
    "start_time": "2025-07-04T15:58:39.427Z"
   },
   {
    "duration": 76,
    "start_time": "2025-07-04T15:58:39.448Z"
   },
   {
    "duration": 185,
    "start_time": "2025-07-04T15:58:39.525Z"
   },
   {
    "duration": 27,
    "start_time": "2025-07-04T15:58:39.718Z"
   },
   {
    "duration": 294,
    "start_time": "2025-07-04T15:58:39.747Z"
   },
   {
    "duration": 100,
    "start_time": "2025-07-04T15:58:40.043Z"
   },
   {
    "duration": 23,
    "start_time": "2025-07-04T15:58:40.144Z"
   },
   {
    "duration": 74,
    "start_time": "2025-07-04T15:58:40.168Z"
   },
   {
    "duration": 16,
    "start_time": "2025-07-04T15:58:40.244Z"
   },
   {
    "duration": 37,
    "start_time": "2025-07-04T15:58:40.262Z"
   },
   {
    "duration": 28,
    "start_time": "2025-07-04T15:58:40.300Z"
   },
   {
    "duration": 33,
    "start_time": "2025-07-04T16:08:57.653Z"
   },
   {
    "duration": 41,
    "start_time": "2025-07-04T16:15:10.332Z"
   },
   {
    "duration": 173,
    "start_time": "2025-07-04T16:18:51.025Z"
   },
   {
    "duration": 1476,
    "start_time": "2025-07-04T17:03:38.193Z"
   },
   {
    "duration": 15,
    "start_time": "2025-07-04T17:04:04.167Z"
   },
   {
    "duration": 11,
    "start_time": "2025-07-04T17:05:59.966Z"
   },
   {
    "duration": 39,
    "start_time": "2025-07-04T17:06:47.249Z"
   },
   {
    "duration": 36,
    "start_time": "2025-07-04T17:08:22.567Z"
   },
   {
    "duration": 30,
    "start_time": "2025-07-04T17:11:04.101Z"
   },
   {
    "duration": 15,
    "start_time": "2025-07-04T17:14:46.577Z"
   },
   {
    "duration": 37,
    "start_time": "2025-07-04T17:15:14.174Z"
   },
   {
    "duration": 38,
    "start_time": "2025-07-04T17:55:37.778Z"
   },
   {
    "duration": 12,
    "start_time": "2025-07-04T17:57:15.088Z"
   },
   {
    "duration": 32,
    "start_time": "2025-07-04T17:57:33.329Z"
   },
   {
    "duration": 25,
    "start_time": "2025-07-04T18:00:12.532Z"
   },
   {
    "duration": 26,
    "start_time": "2025-07-04T18:05:33.584Z"
   },
   {
    "duration": 25,
    "start_time": "2025-07-04T18:06:13.468Z"
   },
   {
    "duration": 366,
    "start_time": "2025-07-04T18:09:27.823Z"
   },
   {
    "duration": 107,
    "start_time": "2025-07-04T18:10:02.177Z"
   },
   {
    "duration": 267,
    "start_time": "2025-07-04T18:10:24.393Z"
   },
   {
    "duration": 103,
    "start_time": "2025-07-04T18:12:51.212Z"
   },
   {
    "duration": 2649,
    "start_time": "2025-07-04T18:12:54.988Z"
   },
   {
    "duration": 1292,
    "start_time": "2025-07-04T18:12:57.640Z"
   },
   {
    "duration": 2558,
    "start_time": "2025-07-04T18:12:58.933Z"
   },
   {
    "duration": 38,
    "start_time": "2025-07-04T18:13:01.493Z"
   },
   {
    "duration": 4,
    "start_time": "2025-07-04T18:13:01.534Z"
   },
   {
    "duration": 199,
    "start_time": "2025-07-04T18:13:01.540Z"
   },
   {
    "duration": 110,
    "start_time": "2025-07-04T18:13:01.741Z"
   },
   {
    "duration": 8,
    "start_time": "2025-07-04T18:13:01.853Z"
   },
   {
    "duration": 126,
    "start_time": "2025-07-04T18:13:01.862Z"
   },
   {
    "duration": 25,
    "start_time": "2025-07-04T18:13:01.990Z"
   },
   {
    "duration": 72,
    "start_time": "2025-07-04T18:13:02.017Z"
   },
   {
    "duration": 34,
    "start_time": "2025-07-04T18:13:02.091Z"
   },
   {
    "duration": 34,
    "start_time": "2025-07-04T18:13:02.127Z"
   },
   {
    "duration": 20,
    "start_time": "2025-07-04T18:13:02.163Z"
   },
   {
    "duration": 37,
    "start_time": "2025-07-04T18:13:02.184Z"
   },
   {
    "duration": 268,
    "start_time": "2025-07-04T18:13:02.223Z"
   },
   {
    "duration": 83,
    "start_time": "2025-07-04T18:13:02.500Z"
   },
   {
    "duration": 97,
    "start_time": "2025-07-04T18:13:02.584Z"
   },
   {
    "duration": 29,
    "start_time": "2025-07-04T18:13:02.683Z"
   },
   {
    "duration": 27,
    "start_time": "2025-07-04T18:13:02.716Z"
   },
   {
    "duration": 22,
    "start_time": "2025-07-04T18:13:02.745Z"
   },
   {
    "duration": 57,
    "start_time": "2025-07-04T18:13:02.769Z"
   },
   {
    "duration": 18,
    "start_time": "2025-07-04T18:13:02.828Z"
   },
   {
    "duration": 32,
    "start_time": "2025-07-04T18:13:02.848Z"
   },
   {
    "duration": 54,
    "start_time": "2025-07-04T18:13:02.882Z"
   },
   {
    "duration": 40,
    "start_time": "2025-07-04T18:13:02.937Z"
   },
   {
    "duration": 41,
    "start_time": "2025-07-04T18:13:02.979Z"
   },
   {
    "duration": 89,
    "start_time": "2025-07-04T18:13:03.023Z"
   },
   {
    "duration": 77,
    "start_time": "2025-07-04T18:13:03.114Z"
   },
   {
    "duration": 196,
    "start_time": "2025-07-04T18:13:03.193Z"
   },
   {
    "duration": 32,
    "start_time": "2025-07-04T18:13:03.398Z"
   },
   {
    "duration": 294,
    "start_time": "2025-07-04T18:13:03.432Z"
   },
   {
    "duration": 113,
    "start_time": "2025-07-04T18:13:03.728Z"
   },
   {
    "duration": 27,
    "start_time": "2025-07-04T18:13:03.843Z"
   },
   {
    "duration": 172,
    "start_time": "2025-07-04T18:13:03.872Z"
   },
   {
    "duration": 5,
    "start_time": "2025-07-04T18:13:04.046Z"
   },
   {
    "duration": 68,
    "start_time": "2025-07-04T18:13:04.052Z"
   },
   {
    "duration": 204,
    "start_time": "2025-07-04T18:13:04.122Z"
   },
   {
    "duration": 11,
    "start_time": "2025-07-04T18:13:04.327Z"
   },
   {
    "duration": 37,
    "start_time": "2025-07-04T18:13:04.340Z"
   },
   {
    "duration": 409,
    "start_time": "2025-07-04T18:13:04.379Z"
   },
   {
    "duration": 121,
    "start_time": "2025-07-04T18:13:04.789Z"
   },
   {
    "duration": 98,
    "start_time": "2025-07-04T18:33:51.533Z"
   },
   {
    "duration": 51,
    "start_time": "2025-07-04T18:34:02.251Z"
   },
   {
    "duration": 53,
    "start_time": "2025-07-04T18:34:58.092Z"
   },
   {
    "duration": 49,
    "start_time": "2025-07-04T18:35:15.751Z"
   },
   {
    "duration": 26,
    "start_time": "2025-07-04T18:37:22.131Z"
   },
   {
    "duration": 19,
    "start_time": "2025-07-04T18:37:46.928Z"
   },
   {
    "duration": 81,
    "start_time": "2025-07-04T18:40:36.491Z"
   },
   {
    "duration": 9,
    "start_time": "2025-07-04T18:41:17.091Z"
   },
   {
    "duration": 8123,
    "start_time": "2025-07-04T18:41:59.838Z"
   },
   {
    "duration": 838,
    "start_time": "2025-07-04T18:42:22.913Z"
   },
   {
    "duration": 76,
    "start_time": "2025-07-04T18:43:04.093Z"
   },
   {
    "duration": 8,
    "start_time": "2025-07-04T18:43:48.679Z"
   },
   {
    "duration": 2530,
    "start_time": "2025-07-04T18:43:59.145Z"
   },
   {
    "duration": 1265,
    "start_time": "2025-07-04T18:44:01.678Z"
   },
   {
    "duration": 2284,
    "start_time": "2025-07-04T18:44:02.944Z"
   },
   {
    "duration": 26,
    "start_time": "2025-07-04T18:44:05.230Z"
   },
   {
    "duration": 3,
    "start_time": "2025-07-04T18:44:05.257Z"
   },
   {
    "duration": 62,
    "start_time": "2025-07-04T18:44:05.261Z"
   },
   {
    "duration": 114,
    "start_time": "2025-07-04T18:44:05.324Z"
   },
   {
    "duration": 8,
    "start_time": "2025-07-04T18:44:05.439Z"
   },
   {
    "duration": 17,
    "start_time": "2025-07-04T18:44:05.448Z"
   },
   {
    "duration": 51,
    "start_time": "2025-07-04T18:44:05.468Z"
   },
   {
    "duration": 89,
    "start_time": "2025-07-04T18:44:05.521Z"
   },
   {
    "duration": 7,
    "start_time": "2025-07-04T18:44:05.612Z"
   },
   {
    "duration": 47,
    "start_time": "2025-07-04T18:44:05.621Z"
   },
   {
    "duration": 9,
    "start_time": "2025-07-04T18:44:05.670Z"
   },
   {
    "duration": 58,
    "start_time": "2025-07-04T18:44:05.681Z"
   },
   {
    "duration": 390,
    "start_time": "2025-07-04T18:44:05.741Z"
   },
   {
    "duration": 86,
    "start_time": "2025-07-04T18:44:06.132Z"
   },
   {
    "duration": 85,
    "start_time": "2025-07-04T18:44:06.220Z"
   },
   {
    "duration": 16,
    "start_time": "2025-07-04T18:44:06.307Z"
   },
   {
    "duration": 24,
    "start_time": "2025-07-04T18:44:06.325Z"
   },
   {
    "duration": 9,
    "start_time": "2025-07-04T18:44:06.351Z"
   },
   {
    "duration": 64,
    "start_time": "2025-07-04T18:44:06.362Z"
   },
   {
    "duration": 26,
    "start_time": "2025-07-04T18:44:06.428Z"
   },
   {
    "duration": 45,
    "start_time": "2025-07-04T18:44:06.456Z"
   },
   {
    "duration": 40,
    "start_time": "2025-07-04T18:44:06.511Z"
   },
   {
    "duration": 35,
    "start_time": "2025-07-04T18:44:06.553Z"
   },
   {
    "duration": 159,
    "start_time": "2025-07-04T18:44:06.590Z"
   },
   {
    "duration": 19,
    "start_time": "2025-07-04T18:44:06.752Z"
   },
   {
    "duration": 57,
    "start_time": "2025-07-04T18:44:06.772Z"
   },
   {
    "duration": 186,
    "start_time": "2025-07-04T18:44:06.831Z"
   },
   {
    "duration": 26,
    "start_time": "2025-07-04T18:44:07.019Z"
   },
   {
    "duration": 269,
    "start_time": "2025-07-04T18:44:07.047Z"
   },
   {
    "duration": 111,
    "start_time": "2025-07-04T18:44:07.318Z"
   },
   {
    "duration": 26,
    "start_time": "2025-07-04T18:44:07.431Z"
   },
   {
    "duration": 80,
    "start_time": "2025-07-04T18:44:07.458Z"
   },
   {
    "duration": 4,
    "start_time": "2025-07-04T18:44:07.540Z"
   },
   {
    "duration": 46,
    "start_time": "2025-07-04T18:44:07.546Z"
   },
   {
    "duration": 191,
    "start_time": "2025-07-04T18:44:07.598Z"
   },
   {
    "duration": 26,
    "start_time": "2025-07-04T18:44:07.791Z"
   },
   {
    "duration": 58,
    "start_time": "2025-07-04T18:44:07.818Z"
   },
   {
    "duration": 383,
    "start_time": "2025-07-04T18:44:07.878Z"
   },
   {
    "duration": 120,
    "start_time": "2025-07-04T18:44:08.263Z"
   },
   {
    "duration": 2593,
    "start_time": "2025-07-04T18:44:08.385Z"
   },
   {
    "duration": 191,
    "start_time": "2025-07-04T18:44:10.981Z"
   },
   {
    "duration": 0,
    "start_time": "2025-07-04T18:44:11.175Z"
   },
   {
    "duration": 55,
    "start_time": "2025-07-04T18:44:48.419Z"
   },
   {
    "duration": 158,
    "start_time": "2025-07-04T18:45:32.712Z"
   },
   {
    "duration": 116,
    "start_time": "2025-07-04T18:46:22.968Z"
   },
   {
    "duration": 3511,
    "start_time": "2025-07-05T20:30:28.039Z"
   },
   {
    "duration": 1508,
    "start_time": "2025-07-05T20:30:31.553Z"
   },
   {
    "duration": 2332,
    "start_time": "2025-07-05T20:30:33.063Z"
   },
   {
    "duration": 28,
    "start_time": "2025-07-05T20:30:35.398Z"
   },
   {
    "duration": 185,
    "start_time": "2025-07-05T20:30:35.427Z"
   },
   {
    "duration": 63,
    "start_time": "2025-07-05T20:30:35.614Z"
   },
   {
    "duration": 100,
    "start_time": "2025-07-05T20:30:35.679Z"
   },
   {
    "duration": 8,
    "start_time": "2025-07-05T20:30:35.781Z"
   },
   {
    "duration": 31,
    "start_time": "2025-07-05T20:30:35.791Z"
   },
   {
    "duration": 62,
    "start_time": "2025-07-05T20:30:35.825Z"
   },
   {
    "duration": 54,
    "start_time": "2025-07-05T20:30:35.890Z"
   },
   {
    "duration": 8,
    "start_time": "2025-07-05T20:30:35.945Z"
   },
   {
    "duration": 70,
    "start_time": "2025-07-05T20:30:35.954Z"
   },
   {
    "duration": 52,
    "start_time": "2025-07-05T20:30:36.026Z"
   },
   {
    "duration": 143,
    "start_time": "2025-07-05T20:30:36.080Z"
   },
   {
    "duration": 667,
    "start_time": "2025-07-05T20:30:36.225Z"
   },
   {
    "duration": 70,
    "start_time": "2025-07-05T20:30:36.894Z"
   },
   {
    "duration": 99,
    "start_time": "2025-07-05T20:30:36.966Z"
   },
   {
    "duration": 16,
    "start_time": "2025-07-05T20:30:37.067Z"
   },
   {
    "duration": 145,
    "start_time": "2025-07-05T20:30:37.085Z"
   },
   {
    "duration": 18,
    "start_time": "2025-07-05T20:30:37.232Z"
   },
   {
    "duration": 43,
    "start_time": "2025-07-05T20:30:37.252Z"
   },
   {
    "duration": 20,
    "start_time": "2025-07-05T20:30:37.297Z"
   },
   {
    "duration": 59,
    "start_time": "2025-07-05T20:30:37.319Z"
   },
   {
    "duration": 45,
    "start_time": "2025-07-05T20:30:37.380Z"
   },
   {
    "duration": 39,
    "start_time": "2025-07-05T20:30:37.427Z"
   },
   {
    "duration": 35,
    "start_time": "2025-07-05T20:30:37.468Z"
   },
   {
    "duration": 23,
    "start_time": "2025-07-05T20:30:37.507Z"
   },
   {
    "duration": 74,
    "start_time": "2025-07-05T20:30:37.532Z"
   },
   {
    "duration": 188,
    "start_time": "2025-07-05T20:30:37.608Z"
   },
   {
    "duration": 28,
    "start_time": "2025-07-05T20:30:37.797Z"
   },
   {
    "duration": 280,
    "start_time": "2025-07-05T20:30:37.826Z"
   },
   {
    "duration": 112,
    "start_time": "2025-07-05T20:30:38.108Z"
   },
   {
    "duration": 28,
    "start_time": "2025-07-05T20:30:38.221Z"
   },
   {
    "duration": 72,
    "start_time": "2025-07-05T20:30:38.251Z"
   },
   {
    "duration": 5,
    "start_time": "2025-07-05T20:30:38.326Z"
   },
   {
    "duration": 54,
    "start_time": "2025-07-05T20:30:38.332Z"
   },
   {
    "duration": 188,
    "start_time": "2025-07-05T20:30:38.388Z"
   },
   {
    "duration": 13,
    "start_time": "2025-07-05T20:30:38.579Z"
   },
   {
    "duration": 51,
    "start_time": "2025-07-05T20:30:38.594Z"
   },
   {
    "duration": 353,
    "start_time": "2025-07-05T20:30:38.647Z"
   },
   {
    "duration": 113,
    "start_time": "2025-07-05T20:30:39.002Z"
   },
   {
    "duration": 8579,
    "start_time": "2025-07-05T20:30:39.116Z"
   },
   {
    "duration": 204,
    "start_time": "2025-07-05T20:30:47.698Z"
   },
   {
    "duration": 137,
    "start_time": "2025-07-05T20:30:47.904Z"
   },
   {
    "duration": 161,
    "start_time": "2025-07-05T20:32:17.026Z"
   },
   {
    "duration": 222,
    "start_time": "2025-07-05T20:32:53.845Z"
   },
   {
    "duration": 2487,
    "start_time": "2025-07-05T20:50:06.878Z"
   },
   {
    "duration": 1274,
    "start_time": "2025-07-05T20:50:09.367Z"
   },
   {
    "duration": 2407,
    "start_time": "2025-07-05T20:50:10.643Z"
   },
   {
    "duration": 27,
    "start_time": "2025-07-05T20:50:13.052Z"
   },
   {
    "duration": 3,
    "start_time": "2025-07-05T20:50:13.080Z"
   },
   {
    "duration": 49,
    "start_time": "2025-07-05T20:50:13.085Z"
   },
   {
    "duration": 111,
    "start_time": "2025-07-05T20:50:13.136Z"
   },
   {
    "duration": 43,
    "start_time": "2025-07-05T20:50:13.248Z"
   },
   {
    "duration": 27,
    "start_time": "2025-07-05T20:50:13.293Z"
   },
   {
    "duration": 25,
    "start_time": "2025-07-05T20:50:13.323Z"
   },
   {
    "duration": 44,
    "start_time": "2025-07-05T20:50:13.350Z"
   },
   {
    "duration": 9,
    "start_time": "2025-07-05T20:50:13.395Z"
   },
   {
    "duration": 42,
    "start_time": "2025-07-05T20:50:13.406Z"
   },
   {
    "duration": 33,
    "start_time": "2025-07-05T20:50:13.450Z"
   },
   {
    "duration": 54,
    "start_time": "2025-07-05T20:50:13.485Z"
   },
   {
    "duration": 335,
    "start_time": "2025-07-05T20:50:13.541Z"
   },
   {
    "duration": 75,
    "start_time": "2025-07-05T20:50:13.878Z"
   },
   {
    "duration": 93,
    "start_time": "2025-07-05T20:50:13.956Z"
   },
   {
    "duration": 29,
    "start_time": "2025-07-05T20:50:14.050Z"
   },
   {
    "duration": 83,
    "start_time": "2025-07-05T20:50:14.081Z"
   },
   {
    "duration": 48,
    "start_time": "2025-07-05T20:50:14.166Z"
   },
   {
    "duration": 53,
    "start_time": "2025-07-05T20:50:14.216Z"
   },
   {
    "duration": 16,
    "start_time": "2025-07-05T20:50:14.271Z"
   },
   {
    "duration": 23,
    "start_time": "2025-07-05T20:50:14.289Z"
   },
   {
    "duration": 37,
    "start_time": "2025-07-05T20:50:14.314Z"
   },
   {
    "duration": 46,
    "start_time": "2025-07-05T20:50:14.353Z"
   },
   {
    "duration": 30,
    "start_time": "2025-07-05T20:50:14.401Z"
   },
   {
    "duration": 52,
    "start_time": "2025-07-05T20:50:14.436Z"
   },
   {
    "duration": 64,
    "start_time": "2025-07-05T20:50:14.490Z"
   },
   {
    "duration": 198,
    "start_time": "2025-07-05T20:50:14.555Z"
   },
   {
    "duration": 41,
    "start_time": "2025-07-05T20:50:14.755Z"
   },
   {
    "duration": 355,
    "start_time": "2025-07-05T20:50:14.799Z"
   },
   {
    "duration": 113,
    "start_time": "2025-07-05T20:50:15.155Z"
   },
   {
    "duration": 497,
    "start_time": "2025-07-05T20:50:15.270Z"
   },
   {
    "duration": 150,
    "start_time": "2025-07-05T20:50:15.769Z"
   },
   {
    "duration": 74,
    "start_time": "2025-07-05T20:50:15.922Z"
   },
   {
    "duration": 151,
    "start_time": "2025-07-05T20:50:15.998Z"
   },
   {
    "duration": 717,
    "start_time": "2025-07-05T20:50:16.151Z"
   },
   {
    "duration": 15,
    "start_time": "2025-07-05T20:50:16.870Z"
   },
   {
    "duration": 196,
    "start_time": "2025-07-05T20:50:16.887Z"
   },
   {
    "duration": 339,
    "start_time": "2025-07-05T20:50:17.085Z"
   },
   {
    "duration": 103,
    "start_time": "2025-07-05T20:50:17.425Z"
   },
   {
    "duration": 79,
    "start_time": "2025-07-05T20:50:17.530Z"
   },
   {
    "duration": 0,
    "start_time": "2025-07-05T20:50:17.610Z"
   },
   {
    "duration": 0,
    "start_time": "2025-07-05T20:50:17.611Z"
   },
   {
    "duration": 2537,
    "start_time": "2025-07-05T20:50:49.378Z"
   },
   {
    "duration": 2418,
    "start_time": "2025-07-05T20:51:18.042Z"
   },
   {
    "duration": 1278,
    "start_time": "2025-07-05T20:51:20.462Z"
   },
   {
    "duration": 1995,
    "start_time": "2025-07-05T20:51:21.741Z"
   },
   {
    "duration": 27,
    "start_time": "2025-07-05T20:51:23.738Z"
   },
   {
    "duration": 3,
    "start_time": "2025-07-05T20:51:23.767Z"
   },
   {
    "duration": 51,
    "start_time": "2025-07-05T20:51:23.772Z"
   },
   {
    "duration": 105,
    "start_time": "2025-07-05T20:51:23.825Z"
   },
   {
    "duration": 8,
    "start_time": "2025-07-05T20:51:23.931Z"
   },
   {
    "duration": 21,
    "start_time": "2025-07-05T20:51:23.941Z"
   },
   {
    "duration": 14,
    "start_time": "2025-07-05T20:51:23.964Z"
   },
   {
    "duration": 47,
    "start_time": "2025-07-05T20:51:23.979Z"
   },
   {
    "duration": 8,
    "start_time": "2025-07-05T20:51:24.027Z"
   },
   {
    "duration": 54,
    "start_time": "2025-07-05T20:51:24.036Z"
   },
   {
    "duration": 25,
    "start_time": "2025-07-05T20:51:24.093Z"
   },
   {
    "duration": 37,
    "start_time": "2025-07-05T20:51:24.119Z"
   },
   {
    "duration": 240,
    "start_time": "2025-07-05T20:51:24.157Z"
   },
   {
    "duration": 80,
    "start_time": "2025-07-05T20:51:24.398Z"
   },
   {
    "duration": 76,
    "start_time": "2025-07-05T20:51:24.480Z"
   },
   {
    "duration": 32,
    "start_time": "2025-07-05T20:51:24.557Z"
   },
   {
    "duration": 74,
    "start_time": "2025-07-05T20:51:24.591Z"
   },
   {
    "duration": 17,
    "start_time": "2025-07-05T20:51:24.666Z"
   },
   {
    "duration": 34,
    "start_time": "2025-07-05T20:51:24.685Z"
   },
   {
    "duration": 13,
    "start_time": "2025-07-05T20:51:24.721Z"
   },
   {
    "duration": 19,
    "start_time": "2025-07-05T20:51:24.736Z"
   },
   {
    "duration": 132,
    "start_time": "2025-07-05T20:51:24.757Z"
   },
   {
    "duration": 38,
    "start_time": "2025-07-05T20:51:24.891Z"
   },
   {
    "duration": 26,
    "start_time": "2025-07-05T20:51:24.932Z"
   },
   {
    "duration": 31,
    "start_time": "2025-07-05T20:51:24.960Z"
   },
   {
    "duration": 64,
    "start_time": "2025-07-05T20:51:24.993Z"
   },
   {
    "duration": 184,
    "start_time": "2025-07-05T20:51:25.075Z"
   },
   {
    "duration": 38,
    "start_time": "2025-07-05T20:51:25.261Z"
   },
   {
    "duration": 282,
    "start_time": "2025-07-05T20:51:25.301Z"
   },
   {
    "duration": 108,
    "start_time": "2025-07-05T20:51:25.585Z"
   },
   {
    "duration": 26,
    "start_time": "2025-07-05T20:51:25.694Z"
   },
   {
    "duration": 114,
    "start_time": "2025-07-05T20:51:25.721Z"
   },
   {
    "duration": 6,
    "start_time": "2025-07-05T20:51:25.837Z"
   },
   {
    "duration": 84,
    "start_time": "2025-07-05T20:51:25.845Z"
   },
   {
    "duration": 179,
    "start_time": "2025-07-05T20:51:25.931Z"
   },
   {
    "duration": 12,
    "start_time": "2025-07-05T20:51:26.112Z"
   },
   {
    "duration": 115,
    "start_time": "2025-07-05T20:51:26.126Z"
   },
   {
    "duration": 356,
    "start_time": "2025-07-05T20:51:26.245Z"
   },
   {
    "duration": 185,
    "start_time": "2025-07-05T20:51:26.603Z"
   },
   {
    "duration": 2463,
    "start_time": "2025-07-05T20:51:26.789Z"
   },
   {
    "duration": 172,
    "start_time": "2025-07-05T20:51:29.254Z"
   },
   {
    "duration": 127,
    "start_time": "2025-07-05T20:51:29.428Z"
   },
   {
    "duration": 58,
    "start_time": "2025-07-05T21:06:02.217Z"
   },
   {
    "duration": 83,
    "start_time": "2025-07-05T21:06:41.685Z"
   },
   {
    "duration": 1529,
    "start_time": "2025-07-05T21:18:51.498Z"
   },
   {
    "duration": 2473,
    "start_time": "2025-07-05T21:19:20.487Z"
   },
   {
    "duration": 1235,
    "start_time": "2025-07-05T21:19:22.963Z"
   },
   {
    "duration": 2026,
    "start_time": "2025-07-05T21:19:24.200Z"
   },
   {
    "duration": 27,
    "start_time": "2025-07-05T21:19:26.228Z"
   },
   {
    "duration": 244,
    "start_time": "2025-07-05T21:19:26.257Z"
   },
   {
    "duration": 339,
    "start_time": "2025-07-05T21:19:26.503Z"
   },
   {
    "duration": 100,
    "start_time": "2025-07-05T21:19:26.843Z"
   },
   {
    "duration": 131,
    "start_time": "2025-07-05T21:19:26.944Z"
   },
   {
    "duration": 23,
    "start_time": "2025-07-05T21:19:27.077Z"
   },
   {
    "duration": 9,
    "start_time": "2025-07-05T21:19:27.103Z"
   },
   {
    "duration": 54,
    "start_time": "2025-07-05T21:19:27.113Z"
   },
   {
    "duration": 16,
    "start_time": "2025-07-05T21:19:27.169Z"
   },
   {
    "duration": 28,
    "start_time": "2025-07-05T21:19:27.187Z"
   },
   {
    "duration": 10,
    "start_time": "2025-07-05T21:19:27.217Z"
   },
   {
    "duration": 27,
    "start_time": "2025-07-05T21:19:27.229Z"
   },
   {
    "duration": 379,
    "start_time": "2025-07-05T21:19:27.258Z"
   },
   {
    "duration": 77,
    "start_time": "2025-07-05T21:19:27.638Z"
   },
   {
    "duration": 87,
    "start_time": "2025-07-05T21:19:27.717Z"
   },
   {
    "duration": 16,
    "start_time": "2025-07-05T21:19:27.806Z"
   },
   {
    "duration": 27,
    "start_time": "2025-07-05T21:19:27.824Z"
   },
   {
    "duration": 17,
    "start_time": "2025-07-05T21:19:27.853Z"
   },
   {
    "duration": 35,
    "start_time": "2025-07-05T21:19:27.872Z"
   },
   {
    "duration": 11,
    "start_time": "2025-07-05T21:19:27.909Z"
   },
   {
    "duration": 12,
    "start_time": "2025-07-05T21:19:27.922Z"
   },
   {
    "duration": 57,
    "start_time": "2025-07-05T21:19:27.936Z"
   },
   {
    "duration": 36,
    "start_time": "2025-07-05T21:19:27.995Z"
   },
   {
    "duration": 20,
    "start_time": "2025-07-05T21:19:28.033Z"
   },
   {
    "duration": 38,
    "start_time": "2025-07-05T21:19:28.057Z"
   },
   {
    "duration": 60,
    "start_time": "2025-07-05T21:19:28.097Z"
   },
   {
    "duration": 201,
    "start_time": "2025-07-05T21:19:28.160Z"
   },
   {
    "duration": 39,
    "start_time": "2025-07-05T21:19:28.364Z"
   },
   {
    "duration": 278,
    "start_time": "2025-07-05T21:19:28.405Z"
   },
   {
    "duration": 109,
    "start_time": "2025-07-05T21:19:28.686Z"
   },
   {
    "duration": 28,
    "start_time": "2025-07-05T21:19:28.797Z"
   },
   {
    "duration": 142,
    "start_time": "2025-07-05T21:19:28.827Z"
   },
   {
    "duration": 5,
    "start_time": "2025-07-05T21:19:28.970Z"
   },
   {
    "duration": 58,
    "start_time": "2025-07-05T21:19:28.976Z"
   },
   {
    "duration": 181,
    "start_time": "2025-07-05T21:19:29.036Z"
   },
   {
    "duration": 11,
    "start_time": "2025-07-05T21:19:29.218Z"
   },
   {
    "duration": 25,
    "start_time": "2025-07-05T21:19:29.231Z"
   },
   {
    "duration": 371,
    "start_time": "2025-07-05T21:19:29.258Z"
   },
   {
    "duration": 103,
    "start_time": "2025-07-05T21:19:29.631Z"
   },
   {
    "duration": 2497,
    "start_time": "2025-07-05T21:19:29.736Z"
   },
   {
    "duration": 177,
    "start_time": "2025-07-05T21:19:32.235Z"
   },
   {
    "duration": 142,
    "start_time": "2025-07-05T21:19:32.414Z"
   },
   {
    "duration": 103,
    "start_time": "2025-07-05T21:19:32.558Z"
   },
   {
    "duration": 54,
    "start_time": "2025-07-05T21:19:32.662Z"
   },
   {
    "duration": 1990,
    "start_time": "2025-07-05T21:19:32.718Z"
   },
   {
    "duration": 17,
    "start_time": "2025-07-05T21:19:36.611Z"
   },
   {
    "duration": 2455,
    "start_time": "2025-07-05T21:25:57.948Z"
   },
   {
    "duration": 1265,
    "start_time": "2025-07-05T21:26:00.405Z"
   },
   {
    "duration": 2043,
    "start_time": "2025-07-05T21:26:01.672Z"
   },
   {
    "duration": 28,
    "start_time": "2025-07-05T21:26:03.717Z"
   },
   {
    "duration": 35,
    "start_time": "2025-07-05T21:26:03.747Z"
   },
   {
    "duration": 76,
    "start_time": "2025-07-05T21:26:03.784Z"
   },
   {
    "duration": 116,
    "start_time": "2025-07-05T21:26:03.861Z"
   },
   {
    "duration": 8,
    "start_time": "2025-07-05T21:26:03.979Z"
   },
   {
    "duration": 15,
    "start_time": "2025-07-05T21:26:03.989Z"
   },
   {
    "duration": 19,
    "start_time": "2025-07-05T21:26:04.006Z"
   },
   {
    "duration": 58,
    "start_time": "2025-07-05T21:26:04.027Z"
   },
   {
    "duration": 7,
    "start_time": "2025-07-05T21:26:04.087Z"
   },
   {
    "duration": 49,
    "start_time": "2025-07-05T21:26:04.095Z"
   },
   {
    "duration": 22,
    "start_time": "2025-07-05T21:26:04.147Z"
   },
   {
    "duration": 32,
    "start_time": "2025-07-05T21:26:04.171Z"
   },
   {
    "duration": 303,
    "start_time": "2025-07-05T21:26:04.205Z"
   },
   {
    "duration": 76,
    "start_time": "2025-07-05T21:26:04.510Z"
   },
   {
    "duration": 74,
    "start_time": "2025-07-05T21:26:04.588Z"
   },
   {
    "duration": 23,
    "start_time": "2025-07-05T21:26:04.664Z"
   },
   {
    "duration": 112,
    "start_time": "2025-07-05T21:26:04.689Z"
   },
   {
    "duration": 85,
    "start_time": "2025-07-05T21:26:04.803Z"
   },
   {
    "duration": 124,
    "start_time": "2025-07-05T21:26:04.890Z"
   },
   {
    "duration": 24,
    "start_time": "2025-07-05T21:26:05.016Z"
   },
   {
    "duration": 56,
    "start_time": "2025-07-05T21:26:05.042Z"
   },
   {
    "duration": 76,
    "start_time": "2025-07-05T21:26:05.100Z"
   },
   {
    "duration": 84,
    "start_time": "2025-07-05T21:26:05.177Z"
   },
   {
    "duration": 136,
    "start_time": "2025-07-05T21:26:05.262Z"
   },
   {
    "duration": 352,
    "start_time": "2025-07-05T21:26:05.400Z"
   },
   {
    "duration": 129,
    "start_time": "2025-07-05T21:26:05.754Z"
   },
   {
    "duration": 199,
    "start_time": "2025-07-05T21:26:05.885Z"
   },
   {
    "duration": 30,
    "start_time": "2025-07-05T21:26:06.086Z"
   },
   {
    "duration": 301,
    "start_time": "2025-07-05T21:26:06.118Z"
   },
   {
    "duration": 285,
    "start_time": "2025-07-05T21:26:06.421Z"
   },
   {
    "duration": 49,
    "start_time": "2025-07-05T21:26:06.708Z"
   },
   {
    "duration": 226,
    "start_time": "2025-07-05T21:26:06.760Z"
   },
   {
    "duration": 149,
    "start_time": "2025-07-05T21:26:06.988Z"
   },
   {
    "duration": 134,
    "start_time": "2025-07-05T21:26:07.139Z"
   },
   {
    "duration": 404,
    "start_time": "2025-07-05T21:26:07.274Z"
   },
   {
    "duration": 11,
    "start_time": "2025-07-05T21:26:07.679Z"
   },
   {
    "duration": 25,
    "start_time": "2025-07-05T21:26:07.692Z"
   },
   {
    "duration": 450,
    "start_time": "2025-07-05T21:26:07.720Z"
   },
   {
    "duration": 107,
    "start_time": "2025-07-05T21:26:08.171Z"
   },
   {
    "duration": 2496,
    "start_time": "2025-07-05T21:26:08.281Z"
   },
   {
    "duration": 190,
    "start_time": "2025-07-05T21:26:10.779Z"
   },
   {
    "duration": 146,
    "start_time": "2025-07-05T21:26:10.971Z"
   },
   {
    "duration": 97,
    "start_time": "2025-07-05T21:26:11.119Z"
   },
   {
    "duration": 61,
    "start_time": "2025-07-05T21:26:11.218Z"
   },
   {
    "duration": 65,
    "start_time": "2025-07-05T21:26:11.281Z"
   },
   {
    "duration": 61,
    "start_time": "2025-07-05T21:27:47.173Z"
   },
   {
    "duration": 115,
    "start_time": "2025-07-05T21:31:17.865Z"
   },
   {
    "duration": 117,
    "start_time": "2025-07-05T21:34:30.213Z"
   },
   {
    "duration": 66,
    "start_time": "2025-07-05T21:35:16.005Z"
   },
   {
    "duration": 64,
    "start_time": "2025-07-05T21:35:27.605Z"
   },
   {
    "duration": 125,
    "start_time": "2025-07-05T21:35:56.063Z"
   },
   {
    "duration": 25,
    "start_time": "2025-07-05T21:36:14.504Z"
   },
   {
    "duration": 285,
    "start_time": "2025-07-05T21:42:46.418Z"
   },
   {
    "duration": 283,
    "start_time": "2025-07-05T21:45:02.599Z"
   },
   {
    "duration": 328,
    "start_time": "2025-07-05T21:45:17.074Z"
   },
   {
    "duration": 302,
    "start_time": "2025-07-05T21:45:45.941Z"
   },
   {
    "duration": 294,
    "start_time": "2025-07-05T21:47:03.342Z"
   },
   {
    "duration": 19,
    "start_time": "2025-07-05T21:47:50.282Z"
   },
   {
    "duration": 496,
    "start_time": "2025-07-05T21:48:36.861Z"
   },
   {
    "duration": 19,
    "start_time": "2025-07-05T21:49:35.331Z"
   },
   {
    "duration": 2526,
    "start_time": "2025-07-05T21:52:26.090Z"
   },
   {
    "duration": 1238,
    "start_time": "2025-07-05T21:52:28.618Z"
   },
   {
    "duration": 2433,
    "start_time": "2025-07-05T21:52:29.858Z"
   },
   {
    "duration": 27,
    "start_time": "2025-07-05T21:52:32.292Z"
   },
   {
    "duration": 3,
    "start_time": "2025-07-05T21:52:32.321Z"
   },
   {
    "duration": 79,
    "start_time": "2025-07-05T21:52:32.325Z"
   },
   {
    "duration": 104,
    "start_time": "2025-07-05T21:52:32.406Z"
   },
   {
    "duration": 8,
    "start_time": "2025-07-05T21:52:32.512Z"
   },
   {
    "duration": 69,
    "start_time": "2025-07-05T21:52:32.521Z"
   },
   {
    "duration": 33,
    "start_time": "2025-07-05T21:52:32.591Z"
   },
   {
    "duration": 74,
    "start_time": "2025-07-05T21:52:32.625Z"
   },
   {
    "duration": 7,
    "start_time": "2025-07-05T21:52:32.701Z"
   },
   {
    "duration": 28,
    "start_time": "2025-07-05T21:52:32.709Z"
   },
   {
    "duration": 20,
    "start_time": "2025-07-05T21:52:32.740Z"
   },
   {
    "duration": 28,
    "start_time": "2025-07-05T21:52:32.762Z"
   },
   {
    "duration": 268,
    "start_time": "2025-07-05T21:52:32.791Z"
   },
   {
    "duration": 80,
    "start_time": "2025-07-05T21:52:33.061Z"
   },
   {
    "duration": 79,
    "start_time": "2025-07-05T21:52:33.142Z"
   },
   {
    "duration": 15,
    "start_time": "2025-07-05T21:52:33.222Z"
   },
   {
    "duration": 35,
    "start_time": "2025-07-05T21:52:33.239Z"
   },
   {
    "duration": 21,
    "start_time": "2025-07-05T21:52:33.276Z"
   },
   {
    "duration": 40,
    "start_time": "2025-07-05T21:52:33.299Z"
   },
   {
    "duration": 240,
    "start_time": "2025-07-05T21:52:33.341Z"
   },
   {
    "duration": 136,
    "start_time": "2025-07-05T21:52:33.582Z"
   },
   {
    "duration": 121,
    "start_time": "2025-07-05T21:52:33.719Z"
   },
   {
    "duration": 54,
    "start_time": "2025-07-05T21:52:33.841Z"
   },
   {
    "duration": 68,
    "start_time": "2025-07-05T21:52:33.896Z"
   },
   {
    "duration": 29,
    "start_time": "2025-07-05T21:52:33.966Z"
   },
   {
    "duration": 73,
    "start_time": "2025-07-05T21:52:33.997Z"
   },
   {
    "duration": 181,
    "start_time": "2025-07-05T21:52:34.071Z"
   },
   {
    "duration": 37,
    "start_time": "2025-07-05T21:52:34.253Z"
   },
   {
    "duration": 328,
    "start_time": "2025-07-05T21:52:34.292Z"
   },
   {
    "duration": 112,
    "start_time": "2025-07-05T21:52:34.621Z"
   },
   {
    "duration": 27,
    "start_time": "2025-07-05T21:52:34.734Z"
   },
   {
    "duration": 69,
    "start_time": "2025-07-05T21:52:34.763Z"
   },
   {
    "duration": 189,
    "start_time": "2025-07-05T21:52:34.834Z"
   },
   {
    "duration": 62,
    "start_time": "2025-07-05T21:52:35.025Z"
   },
   {
    "duration": 185,
    "start_time": "2025-07-05T21:52:35.089Z"
   },
   {
    "duration": 12,
    "start_time": "2025-07-05T21:52:35.276Z"
   },
   {
    "duration": 32,
    "start_time": "2025-07-05T21:52:35.290Z"
   },
   {
    "duration": 353,
    "start_time": "2025-07-05T21:52:35.326Z"
   },
   {
    "duration": 440,
    "start_time": "2025-07-05T21:52:35.681Z"
   },
   {
    "duration": 2463,
    "start_time": "2025-07-05T21:52:36.123Z"
   },
   {
    "duration": 182,
    "start_time": "2025-07-05T21:52:38.588Z"
   },
   {
    "duration": 142,
    "start_time": "2025-07-05T21:52:38.772Z"
   },
   {
    "duration": 211,
    "start_time": "2025-07-05T21:52:38.916Z"
   },
   {
    "duration": 32,
    "start_time": "2025-07-05T21:52:39.128Z"
   },
   {
    "duration": 102,
    "start_time": "2025-07-05T21:52:39.161Z"
   },
   {
    "duration": 62,
    "start_time": "2025-07-05T21:52:39.265Z"
   },
   {
    "duration": 134,
    "start_time": "2025-07-05T21:52:39.329Z"
   },
   {
    "duration": 296,
    "start_time": "2025-07-05T21:52:39.465Z"
   },
   {
    "duration": 426,
    "start_time": "2025-07-05T21:52:39.764Z"
   },
   {
    "duration": 20,
    "start_time": "2025-07-05T21:52:40.193Z"
   },
   {
    "duration": 123,
    "start_time": "2025-07-05T21:55:12.539Z"
   },
   {
    "duration": 18,
    "start_time": "2025-07-05T21:55:48.661Z"
   },
   {
    "duration": 17,
    "start_time": "2025-07-05T21:57:10.704Z"
   },
   {
    "duration": 2498,
    "start_time": "2025-07-05T21:57:39.485Z"
   },
   {
    "duration": 1256,
    "start_time": "2025-07-05T21:57:41.985Z"
   },
   {
    "duration": 2380,
    "start_time": "2025-07-05T21:57:43.242Z"
   },
   {
    "duration": 26,
    "start_time": "2025-07-05T21:57:45.624Z"
   },
   {
    "duration": 140,
    "start_time": "2025-07-05T21:57:45.652Z"
   },
   {
    "duration": 106,
    "start_time": "2025-07-05T21:57:45.794Z"
   },
   {
    "duration": 113,
    "start_time": "2025-07-05T21:57:45.902Z"
   },
   {
    "duration": 9,
    "start_time": "2025-07-05T21:57:46.017Z"
   },
   {
    "duration": 31,
    "start_time": "2025-07-05T21:57:46.029Z"
   },
   {
    "duration": 19,
    "start_time": "2025-07-05T21:57:46.063Z"
   },
   {
    "duration": 48,
    "start_time": "2025-07-05T21:57:46.083Z"
   },
   {
    "duration": 7,
    "start_time": "2025-07-05T21:57:46.133Z"
   },
   {
    "duration": 52,
    "start_time": "2025-07-05T21:57:46.142Z"
   },
   {
    "duration": 379,
    "start_time": "2025-07-05T21:57:46.197Z"
   },
   {
    "duration": 174,
    "start_time": "2025-07-05T21:57:46.577Z"
   },
   {
    "duration": 279,
    "start_time": "2025-07-05T21:57:46.752Z"
   },
   {
    "duration": 79,
    "start_time": "2025-07-05T21:57:47.033Z"
   },
   {
    "duration": 93,
    "start_time": "2025-07-05T21:57:47.114Z"
   },
   {
    "duration": 14,
    "start_time": "2025-07-05T21:57:47.209Z"
   },
   {
    "duration": 17,
    "start_time": "2025-07-05T21:57:47.225Z"
   },
   {
    "duration": 9,
    "start_time": "2025-07-05T21:57:47.243Z"
   },
   {
    "duration": 44,
    "start_time": "2025-07-05T21:57:47.254Z"
   },
   {
    "duration": 12,
    "start_time": "2025-07-05T21:57:47.300Z"
   },
   {
    "duration": 14,
    "start_time": "2025-07-05T21:57:47.314Z"
   },
   {
    "duration": 57,
    "start_time": "2025-07-05T21:57:47.330Z"
   },
   {
    "duration": 36,
    "start_time": "2025-07-05T21:57:47.389Z"
   },
   {
    "duration": 159,
    "start_time": "2025-07-05T21:57:47.427Z"
   },
   {
    "duration": 24,
    "start_time": "2025-07-05T21:57:47.588Z"
   },
   {
    "duration": 86,
    "start_time": "2025-07-05T21:57:47.614Z"
   },
   {
    "duration": 202,
    "start_time": "2025-07-05T21:57:47.702Z"
   },
   {
    "duration": 31,
    "start_time": "2025-07-05T21:57:47.906Z"
   },
   {
    "duration": 287,
    "start_time": "2025-07-05T21:57:47.939Z"
   },
   {
    "duration": 115,
    "start_time": "2025-07-05T21:57:48.228Z"
   },
   {
    "duration": 35,
    "start_time": "2025-07-05T21:57:48.344Z"
   },
   {
    "duration": 63,
    "start_time": "2025-07-05T21:57:48.381Z"
   },
   {
    "duration": 5,
    "start_time": "2025-07-05T21:57:48.446Z"
   },
   {
    "duration": 48,
    "start_time": "2025-07-05T21:57:48.453Z"
   },
   {
    "duration": 195,
    "start_time": "2025-07-05T21:57:48.503Z"
   },
   {
    "duration": 12,
    "start_time": "2025-07-05T21:57:48.701Z"
   },
   {
    "duration": 27,
    "start_time": "2025-07-05T21:57:48.714Z"
   },
   {
    "duration": 373,
    "start_time": "2025-07-05T21:57:48.746Z"
   },
   {
    "duration": 104,
    "start_time": "2025-07-05T21:57:49.121Z"
   },
   {
    "duration": 2540,
    "start_time": "2025-07-05T21:57:49.227Z"
   },
   {
    "duration": 201,
    "start_time": "2025-07-05T21:57:51.770Z"
   },
   {
    "duration": 175,
    "start_time": "2025-07-05T21:57:51.973Z"
   },
   {
    "duration": 100,
    "start_time": "2025-07-05T21:57:52.151Z"
   },
   {
    "duration": 37,
    "start_time": "2025-07-05T21:57:52.252Z"
   },
   {
    "duration": 65,
    "start_time": "2025-07-05T21:57:52.291Z"
   },
   {
    "duration": 80,
    "start_time": "2025-07-05T21:57:52.358Z"
   },
   {
    "duration": 151,
    "start_time": "2025-07-05T21:57:52.440Z"
   },
   {
    "duration": 242,
    "start_time": "2025-07-05T21:57:52.593Z"
   },
   {
    "duration": 447,
    "start_time": "2025-07-05T21:57:52.836Z"
   },
   {
    "duration": 22,
    "start_time": "2025-07-05T21:57:53.285Z"
   },
   {
    "duration": 18,
    "start_time": "2025-07-05T21:57:53.308Z"
   },
   {
    "duration": 49,
    "start_time": "2025-07-05T21:57:53.327Z"
   },
   {
    "duration": 23,
    "start_time": "2025-07-05T21:58:26.980Z"
   },
   {
    "duration": 80,
    "start_time": "2025-07-05T22:02:35.047Z"
   },
   {
    "duration": 2472,
    "start_time": "2025-07-05T22:02:46.770Z"
   },
   {
    "duration": 1243,
    "start_time": "2025-07-05T22:02:49.245Z"
   },
   {
    "duration": 2701,
    "start_time": "2025-07-05T22:02:50.489Z"
   },
   {
    "duration": 28,
    "start_time": "2025-07-05T22:02:53.192Z"
   },
   {
    "duration": 3,
    "start_time": "2025-07-05T22:02:53.223Z"
   },
   {
    "duration": 103,
    "start_time": "2025-07-05T22:02:53.228Z"
   },
   {
    "duration": 98,
    "start_time": "2025-07-05T22:02:53.333Z"
   },
   {
    "duration": 8,
    "start_time": "2025-07-05T22:02:53.433Z"
   },
   {
    "duration": 159,
    "start_time": "2025-07-05T22:02:53.443Z"
   },
   {
    "duration": 16,
    "start_time": "2025-07-05T22:02:53.603Z"
   },
   {
    "duration": 117,
    "start_time": "2025-07-05T22:02:53.621Z"
   },
   {
    "duration": 8,
    "start_time": "2025-07-05T22:02:53.740Z"
   },
   {
    "duration": 28,
    "start_time": "2025-07-05T22:02:53.750Z"
   },
   {
    "duration": 33,
    "start_time": "2025-07-05T22:02:53.781Z"
   },
   {
    "duration": 33,
    "start_time": "2025-07-05T22:02:53.816Z"
   },
   {
    "duration": 246,
    "start_time": "2025-07-05T22:02:53.851Z"
   },
   {
    "duration": 78,
    "start_time": "2025-07-05T22:02:54.099Z"
   },
   {
    "duration": 74,
    "start_time": "2025-07-05T22:02:54.179Z"
   },
   {
    "duration": 29,
    "start_time": "2025-07-05T22:02:54.254Z"
   },
   {
    "duration": 26,
    "start_time": "2025-07-05T22:02:54.284Z"
   },
   {
    "duration": 23,
    "start_time": "2025-07-05T22:02:54.312Z"
   },
   {
    "duration": 40,
    "start_time": "2025-07-05T22:02:54.337Z"
   },
   {
    "duration": 12,
    "start_time": "2025-07-05T22:02:54.378Z"
   },
   {
    "duration": 25,
    "start_time": "2025-07-05T22:02:54.392Z"
   },
   {
    "duration": 63,
    "start_time": "2025-07-05T22:02:54.419Z"
   },
   {
    "duration": 37,
    "start_time": "2025-07-05T22:02:54.484Z"
   },
   {
    "duration": 28,
    "start_time": "2025-07-05T22:02:54.523Z"
   },
   {
    "duration": 35,
    "start_time": "2025-07-05T22:02:54.553Z"
   },
   {
    "duration": 60,
    "start_time": "2025-07-05T22:02:54.589Z"
   },
   {
    "duration": 196,
    "start_time": "2025-07-05T22:02:54.651Z"
   },
   {
    "duration": 36,
    "start_time": "2025-07-05T22:02:54.848Z"
   },
   {
    "duration": 304,
    "start_time": "2025-07-05T22:02:54.886Z"
   },
   {
    "duration": 109,
    "start_time": "2025-07-05T22:02:55.192Z"
   },
   {
    "duration": 27,
    "start_time": "2025-07-05T22:02:55.303Z"
   },
   {
    "duration": 78,
    "start_time": "2025-07-05T22:02:55.331Z"
   },
   {
    "duration": 84,
    "start_time": "2025-07-05T22:02:55.410Z"
   },
   {
    "duration": 308,
    "start_time": "2025-07-05T22:02:55.495Z"
   },
   {
    "duration": 258,
    "start_time": "2025-07-05T22:02:55.804Z"
   },
   {
    "duration": 19,
    "start_time": "2025-07-05T22:02:56.064Z"
   },
   {
    "duration": 99,
    "start_time": "2025-07-05T22:02:56.085Z"
   },
   {
    "duration": 456,
    "start_time": "2025-07-05T22:02:56.188Z"
   },
   {
    "duration": 131,
    "start_time": "2025-07-05T22:02:56.646Z"
   },
   {
    "duration": 2451,
    "start_time": "2025-07-05T22:02:56.779Z"
   },
   {
    "duration": 173,
    "start_time": "2025-07-05T22:02:59.232Z"
   },
   {
    "duration": 144,
    "start_time": "2025-07-05T22:02:59.407Z"
   },
   {
    "duration": 111,
    "start_time": "2025-07-05T22:02:59.553Z"
   },
   {
    "duration": 39,
    "start_time": "2025-07-05T22:02:59.666Z"
   },
   {
    "duration": 73,
    "start_time": "2025-07-05T22:02:59.707Z"
   },
   {
    "duration": 63,
    "start_time": "2025-07-05T22:02:59.782Z"
   },
   {
    "duration": 111,
    "start_time": "2025-07-05T22:02:59.846Z"
   },
   {
    "duration": 241,
    "start_time": "2025-07-05T22:02:59.959Z"
   },
   {
    "duration": 419,
    "start_time": "2025-07-05T22:03:00.202Z"
   },
   {
    "duration": 19,
    "start_time": "2025-07-05T22:03:00.622Z"
   },
   {
    "duration": 137,
    "start_time": "2025-07-05T22:03:00.643Z"
   },
   {
    "duration": 17,
    "start_time": "2025-07-05T22:03:00.782Z"
   },
   {
    "duration": 45,
    "start_time": "2025-07-05T22:03:00.801Z"
   },
   {
    "duration": 219,
    "start_time": "2025-07-05T22:03:00.848Z"
   },
   {
    "duration": 111,
    "start_time": "2025-07-05T22:06:25.097Z"
   },
   {
    "duration": 18,
    "start_time": "2025-07-05T22:06:45.615Z"
   },
   {
    "duration": 29,
    "start_time": "2025-07-05T22:08:38.382Z"
   },
   {
    "duration": 9,
    "start_time": "2025-07-05T22:09:16.262Z"
   },
   {
    "duration": 2458,
    "start_time": "2025-07-05T22:12:41.381Z"
   },
   {
    "duration": 1203,
    "start_time": "2025-07-05T22:12:43.841Z"
   },
   {
    "duration": 2253,
    "start_time": "2025-07-05T22:12:45.046Z"
   },
   {
    "duration": 27,
    "start_time": "2025-07-05T22:12:47.301Z"
   },
   {
    "duration": 3,
    "start_time": "2025-07-05T22:12:47.329Z"
   },
   {
    "duration": 56,
    "start_time": "2025-07-05T22:12:47.333Z"
   },
   {
    "duration": 118,
    "start_time": "2025-07-05T22:12:47.391Z"
   },
   {
    "duration": 8,
    "start_time": "2025-07-05T22:12:47.510Z"
   },
   {
    "duration": 105,
    "start_time": "2025-07-05T22:12:47.519Z"
   },
   {
    "duration": 32,
    "start_time": "2025-07-05T22:12:47.627Z"
   },
   {
    "duration": 53,
    "start_time": "2025-07-05T22:12:47.661Z"
   },
   {
    "duration": 16,
    "start_time": "2025-07-05T22:12:47.716Z"
   },
   {
    "duration": 47,
    "start_time": "2025-07-05T22:12:47.733Z"
   },
   {
    "duration": 8,
    "start_time": "2025-07-05T22:12:47.782Z"
   },
   {
    "duration": 36,
    "start_time": "2025-07-05T22:12:47.791Z"
   },
   {
    "duration": 268,
    "start_time": "2025-07-05T22:12:47.829Z"
   },
   {
    "duration": 90,
    "start_time": "2025-07-05T22:12:48.098Z"
   },
   {
    "duration": 99,
    "start_time": "2025-07-05T22:12:48.190Z"
   },
   {
    "duration": 18,
    "start_time": "2025-07-05T22:12:48.290Z"
   },
   {
    "duration": 22,
    "start_time": "2025-07-05T22:12:48.310Z"
   },
   {
    "duration": 49,
    "start_time": "2025-07-05T22:12:48.334Z"
   },
   {
    "duration": 63,
    "start_time": "2025-07-05T22:12:48.385Z"
   },
   {
    "duration": 25,
    "start_time": "2025-07-05T22:12:48.450Z"
   },
   {
    "duration": 71,
    "start_time": "2025-07-05T22:12:48.477Z"
   },
   {
    "duration": 75,
    "start_time": "2025-07-05T22:12:48.550Z"
   },
   {
    "duration": 41,
    "start_time": "2025-07-05T22:12:48.627Z"
   },
   {
    "duration": 27,
    "start_time": "2025-07-05T22:12:48.670Z"
   },
   {
    "duration": 29,
    "start_time": "2025-07-05T22:12:48.702Z"
   },
   {
    "duration": 87,
    "start_time": "2025-07-05T22:12:48.732Z"
   },
   {
    "duration": 191,
    "start_time": "2025-07-05T22:12:48.821Z"
   },
   {
    "duration": 30,
    "start_time": "2025-07-05T22:12:49.014Z"
   },
   {
    "duration": 303,
    "start_time": "2025-07-05T22:12:49.045Z"
   },
   {
    "duration": 116,
    "start_time": "2025-07-05T22:12:49.350Z"
   },
   {
    "duration": 30,
    "start_time": "2025-07-05T22:12:49.468Z"
   },
   {
    "duration": 77,
    "start_time": "2025-07-05T22:12:49.500Z"
   },
   {
    "duration": 39,
    "start_time": "2025-07-05T22:12:49.579Z"
   },
   {
    "duration": 50,
    "start_time": "2025-07-05T22:12:49.619Z"
   },
   {
    "duration": 182,
    "start_time": "2025-07-05T22:12:49.670Z"
   },
   {
    "duration": 23,
    "start_time": "2025-07-05T22:12:49.853Z"
   },
   {
    "duration": 28,
    "start_time": "2025-07-05T22:12:49.878Z"
   },
   {
    "duration": 351,
    "start_time": "2025-07-05T22:12:49.908Z"
   },
   {
    "duration": 122,
    "start_time": "2025-07-05T22:12:50.261Z"
   },
   {
    "duration": 2638,
    "start_time": "2025-07-05T22:12:50.385Z"
   },
   {
    "duration": 194,
    "start_time": "2025-07-05T22:12:53.026Z"
   },
   {
    "duration": 145,
    "start_time": "2025-07-05T22:12:53.222Z"
   },
   {
    "duration": 115,
    "start_time": "2025-07-05T22:12:53.369Z"
   },
   {
    "duration": 32,
    "start_time": "2025-07-05T22:12:53.487Z"
   },
   {
    "duration": 179,
    "start_time": "2025-07-05T22:12:53.521Z"
   },
   {
    "duration": 77,
    "start_time": "2025-07-05T22:12:53.702Z"
   },
   {
    "duration": 127,
    "start_time": "2025-07-05T22:12:53.781Z"
   },
   {
    "duration": 237,
    "start_time": "2025-07-05T22:12:53.910Z"
   },
   {
    "duration": 430,
    "start_time": "2025-07-05T22:12:54.149Z"
   },
   {
    "duration": 20,
    "start_time": "2025-07-05T22:12:54.581Z"
   },
   {
    "duration": 44,
    "start_time": "2025-07-05T22:12:54.603Z"
   },
   {
    "duration": 27,
    "start_time": "2025-07-05T22:12:54.649Z"
   },
   {
    "duration": 22,
    "start_time": "2025-07-05T22:12:54.678Z"
   },
   {
    "duration": 20,
    "start_time": "2025-07-05T22:12:54.702Z"
   },
   {
    "duration": 53,
    "start_time": "2025-07-05T22:12:54.724Z"
   },
   {
    "duration": 2406,
    "start_time": "2025-07-05T22:21:18.680Z"
   },
   {
    "duration": 1265,
    "start_time": "2025-07-05T22:21:21.089Z"
   },
   {
    "duration": 2173,
    "start_time": "2025-07-05T22:21:22.356Z"
   },
   {
    "duration": 26,
    "start_time": "2025-07-05T22:21:24.531Z"
   },
   {
    "duration": 3,
    "start_time": "2025-07-05T22:21:24.559Z"
   },
   {
    "duration": 63,
    "start_time": "2025-07-05T22:21:24.563Z"
   },
   {
    "duration": 98,
    "start_time": "2025-07-05T22:21:24.627Z"
   },
   {
    "duration": 8,
    "start_time": "2025-07-05T22:21:24.726Z"
   },
   {
    "duration": 22,
    "start_time": "2025-07-05T22:21:24.736Z"
   },
   {
    "duration": 18,
    "start_time": "2025-07-05T22:21:24.760Z"
   },
   {
    "duration": 47,
    "start_time": "2025-07-05T22:21:24.779Z"
   },
   {
    "duration": 7,
    "start_time": "2025-07-05T22:21:24.828Z"
   },
   {
    "duration": 53,
    "start_time": "2025-07-05T22:21:24.836Z"
   },
   {
    "duration": 10,
    "start_time": "2025-07-05T22:21:24.890Z"
   },
   {
    "duration": 26,
    "start_time": "2025-07-05T22:21:24.902Z"
   },
   {
    "duration": 261,
    "start_time": "2025-07-05T22:21:24.929Z"
   },
   {
    "duration": 71,
    "start_time": "2025-07-05T22:21:25.192Z"
   },
   {
    "duration": 73,
    "start_time": "2025-07-05T22:21:25.277Z"
   },
   {
    "duration": 31,
    "start_time": "2025-07-05T22:21:25.351Z"
   },
   {
    "duration": 48,
    "start_time": "2025-07-05T22:21:25.384Z"
   },
   {
    "duration": 17,
    "start_time": "2025-07-05T22:21:25.434Z"
   },
   {
    "duration": 314,
    "start_time": "2025-07-05T22:21:25.453Z"
   },
   {
    "duration": 83,
    "start_time": "2025-07-05T22:21:25.768Z"
   },
   {
    "duration": 45,
    "start_time": "2025-07-05T22:21:25.853Z"
   },
   {
    "duration": 75,
    "start_time": "2025-07-05T22:21:25.900Z"
   },
   {
    "duration": 35,
    "start_time": "2025-07-05T22:21:25.977Z"
   },
   {
    "duration": 33,
    "start_time": "2025-07-05T22:21:26.014Z"
   },
   {
    "duration": 70,
    "start_time": "2025-07-05T22:21:26.050Z"
   },
   {
    "duration": 69,
    "start_time": "2025-07-05T22:21:26.122Z"
   },
   {
    "duration": 183,
    "start_time": "2025-07-05T22:21:26.193Z"
   },
   {
    "duration": 28,
    "start_time": "2025-07-05T22:21:26.378Z"
   },
   {
    "duration": 493,
    "start_time": "2025-07-05T22:21:26.407Z"
   },
   {
    "duration": 103,
    "start_time": "2025-07-05T22:21:26.902Z"
   },
   {
    "duration": 26,
    "start_time": "2025-07-05T22:21:27.007Z"
   },
   {
    "duration": 171,
    "start_time": "2025-07-05T22:21:27.034Z"
   },
   {
    "duration": 4,
    "start_time": "2025-07-05T22:21:27.207Z"
   },
   {
    "duration": 39,
    "start_time": "2025-07-05T22:21:27.212Z"
   },
   {
    "duration": 179,
    "start_time": "2025-07-05T22:21:27.253Z"
   },
   {
    "duration": 10,
    "start_time": "2025-07-05T22:21:27.434Z"
   },
   {
    "duration": 171,
    "start_time": "2025-07-05T22:21:27.446Z"
   },
   {
    "duration": 365,
    "start_time": "2025-07-05T22:21:27.619Z"
   },
   {
    "duration": 108,
    "start_time": "2025-07-05T22:21:27.986Z"
   },
   {
    "duration": 2456,
    "start_time": "2025-07-05T22:21:28.096Z"
   },
   {
    "duration": 172,
    "start_time": "2025-07-05T22:21:30.554Z"
   },
   {
    "duration": 141,
    "start_time": "2025-07-05T22:21:30.728Z"
   },
   {
    "duration": 91,
    "start_time": "2025-07-05T22:21:30.876Z"
   },
   {
    "duration": 31,
    "start_time": "2025-07-05T22:21:30.976Z"
   },
   {
    "duration": 193,
    "start_time": "2025-07-05T22:21:31.009Z"
   },
   {
    "duration": 73,
    "start_time": "2025-07-05T22:21:31.204Z"
   },
   {
    "duration": 107,
    "start_time": "2025-07-05T22:21:31.279Z"
   },
   {
    "duration": 244,
    "start_time": "2025-07-05T22:21:31.388Z"
   },
   {
    "duration": 455,
    "start_time": "2025-07-05T22:21:31.634Z"
   },
   {
    "duration": 20,
    "start_time": "2025-07-05T22:21:32.091Z"
   },
   {
    "duration": 24,
    "start_time": "2025-07-05T22:21:32.113Z"
   },
   {
    "duration": 43,
    "start_time": "2025-07-05T22:21:32.139Z"
   },
   {
    "duration": 18,
    "start_time": "2025-07-05T22:21:32.183Z"
   },
   {
    "duration": 17,
    "start_time": "2025-07-05T22:21:32.203Z"
   },
   {
    "duration": 64,
    "start_time": "2025-07-05T22:21:32.222Z"
   },
   {
    "duration": 2448,
    "start_time": "2025-07-05T22:30:11.689Z"
   },
   {
    "duration": 1206,
    "start_time": "2025-07-05T22:30:14.141Z"
   },
   {
    "duration": 3625,
    "start_time": "2025-07-06T08:39:05.027Z"
   },
   {
    "duration": 1417,
    "start_time": "2025-07-06T08:39:08.655Z"
   },
   {
    "duration": 101,
    "start_time": "2025-07-06T08:39:10.074Z"
   },
   {
    "duration": 0,
    "start_time": "2025-07-06T08:39:10.179Z"
   },
   {
    "duration": 0,
    "start_time": "2025-07-06T08:39:10.180Z"
   },
   {
    "duration": 0,
    "start_time": "2025-07-06T08:39:10.181Z"
   },
   {
    "duration": 0,
    "start_time": "2025-07-06T08:39:10.183Z"
   },
   {
    "duration": 1,
    "start_time": "2025-07-06T08:39:10.183Z"
   },
   {
    "duration": 0,
    "start_time": "2025-07-06T08:39:10.185Z"
   },
   {
    "duration": 0,
    "start_time": "2025-07-06T08:39:10.186Z"
   },
   {
    "duration": 0,
    "start_time": "2025-07-06T08:39:10.187Z"
   },
   {
    "duration": 0,
    "start_time": "2025-07-06T08:39:10.188Z"
   },
   {
    "duration": 0,
    "start_time": "2025-07-06T08:39:10.189Z"
   },
   {
    "duration": 0,
    "start_time": "2025-07-06T08:39:10.190Z"
   },
   {
    "duration": 0,
    "start_time": "2025-07-06T08:39:10.191Z"
   },
   {
    "duration": 0,
    "start_time": "2025-07-06T08:39:10.192Z"
   },
   {
    "duration": 0,
    "start_time": "2025-07-06T08:39:10.193Z"
   },
   {
    "duration": 0,
    "start_time": "2025-07-06T08:39:10.195Z"
   },
   {
    "duration": 0,
    "start_time": "2025-07-06T08:39:10.196Z"
   },
   {
    "duration": 0,
    "start_time": "2025-07-06T08:39:10.197Z"
   },
   {
    "duration": 0,
    "start_time": "2025-07-06T08:39:10.198Z"
   },
   {
    "duration": 0,
    "start_time": "2025-07-06T08:39:10.199Z"
   },
   {
    "duration": 0,
    "start_time": "2025-07-06T08:39:10.201Z"
   },
   {
    "duration": 0,
    "start_time": "2025-07-06T08:39:10.201Z"
   },
   {
    "duration": 0,
    "start_time": "2025-07-06T08:39:10.202Z"
   },
   {
    "duration": 0,
    "start_time": "2025-07-06T08:39:10.204Z"
   },
   {
    "duration": 0,
    "start_time": "2025-07-06T08:39:10.204Z"
   },
   {
    "duration": 0,
    "start_time": "2025-07-06T08:39:10.206Z"
   },
   {
    "duration": 1,
    "start_time": "2025-07-06T08:39:10.206Z"
   },
   {
    "duration": 0,
    "start_time": "2025-07-06T08:39:10.208Z"
   },
   {
    "duration": 0,
    "start_time": "2025-07-06T08:39:10.209Z"
   },
   {
    "duration": 0,
    "start_time": "2025-07-06T08:39:10.210Z"
   },
   {
    "duration": 0,
    "start_time": "2025-07-06T08:39:10.257Z"
   },
   {
    "duration": 0,
    "start_time": "2025-07-06T08:39:10.259Z"
   },
   {
    "duration": 0,
    "start_time": "2025-07-06T08:39:10.260Z"
   },
   {
    "duration": 0,
    "start_time": "2025-07-06T08:39:10.261Z"
   },
   {
    "duration": 0,
    "start_time": "2025-07-06T08:39:10.263Z"
   },
   {
    "duration": 0,
    "start_time": "2025-07-06T08:39:10.264Z"
   },
   {
    "duration": 0,
    "start_time": "2025-07-06T08:39:10.265Z"
   },
   {
    "duration": 0,
    "start_time": "2025-07-06T08:39:10.266Z"
   },
   {
    "duration": 0,
    "start_time": "2025-07-06T08:39:10.267Z"
   },
   {
    "duration": 0,
    "start_time": "2025-07-06T08:39:10.269Z"
   },
   {
    "duration": 0,
    "start_time": "2025-07-06T08:39:10.270Z"
   },
   {
    "duration": 0,
    "start_time": "2025-07-06T08:39:10.271Z"
   },
   {
    "duration": 0,
    "start_time": "2025-07-06T08:39:10.272Z"
   },
   {
    "duration": 0,
    "start_time": "2025-07-06T08:39:10.273Z"
   },
   {
    "duration": 0,
    "start_time": "2025-07-06T08:39:10.274Z"
   },
   {
    "duration": 0,
    "start_time": "2025-07-06T08:39:10.276Z"
   },
   {
    "duration": 0,
    "start_time": "2025-07-06T08:39:10.277Z"
   },
   {
    "duration": 0,
    "start_time": "2025-07-06T08:39:10.278Z"
   },
   {
    "duration": 0,
    "start_time": "2025-07-06T08:39:10.279Z"
   },
   {
    "duration": 0,
    "start_time": "2025-07-06T08:39:10.280Z"
   },
   {
    "duration": 0,
    "start_time": "2025-07-06T08:39:10.282Z"
   },
   {
    "duration": 0,
    "start_time": "2025-07-06T08:39:10.283Z"
   },
   {
    "duration": 0,
    "start_time": "2025-07-06T08:39:10.284Z"
   },
   {
    "duration": 0,
    "start_time": "2025-07-06T08:39:10.285Z"
   },
   {
    "duration": 0,
    "start_time": "2025-07-06T08:39:10.286Z"
   },
   {
    "duration": 2545,
    "start_time": "2025-07-06T08:41:51.022Z"
   },
   {
    "duration": 1172,
    "start_time": "2025-07-06T08:41:53.570Z"
   },
   {
    "duration": 3382,
    "start_time": "2025-07-06T08:41:54.744Z"
   },
   {
    "duration": 26,
    "start_time": "2025-07-06T08:41:58.128Z"
   },
   {
    "duration": 38,
    "start_time": "2025-07-06T08:41:58.155Z"
   },
   {
    "duration": 68,
    "start_time": "2025-07-06T08:41:58.195Z"
   },
   {
    "duration": 104,
    "start_time": "2025-07-06T08:41:58.265Z"
   },
   {
    "duration": 10,
    "start_time": "2025-07-06T08:41:58.371Z"
   },
   {
    "duration": 10,
    "start_time": "2025-07-06T08:41:58.384Z"
   },
   {
    "duration": 10,
    "start_time": "2025-07-06T08:41:58.397Z"
   },
   {
    "duration": 75,
    "start_time": "2025-07-06T08:41:58.408Z"
   },
   {
    "duration": 73,
    "start_time": "2025-07-06T08:41:58.485Z"
   },
   {
    "duration": 32,
    "start_time": "2025-07-06T08:41:58.560Z"
   },
   {
    "duration": 7,
    "start_time": "2025-07-06T08:41:58.594Z"
   },
   {
    "duration": 25,
    "start_time": "2025-07-06T08:41:58.603Z"
   },
   {
    "duration": 296,
    "start_time": "2025-07-06T08:41:58.629Z"
   },
   {
    "duration": 93,
    "start_time": "2025-07-06T08:41:58.927Z"
   },
   {
    "duration": 90,
    "start_time": "2025-07-06T08:41:59.022Z"
   },
   {
    "duration": 15,
    "start_time": "2025-07-06T08:41:59.115Z"
   },
   {
    "duration": 90,
    "start_time": "2025-07-06T08:41:59.132Z"
   },
   {
    "duration": 8,
    "start_time": "2025-07-06T08:41:59.224Z"
   },
   {
    "duration": 38,
    "start_time": "2025-07-06T08:41:59.233Z"
   },
   {
    "duration": 18,
    "start_time": "2025-07-06T08:41:59.273Z"
   },
   {
    "duration": 17,
    "start_time": "2025-07-06T08:41:59.292Z"
   },
   {
    "duration": 52,
    "start_time": "2025-07-06T08:41:59.311Z"
   },
   {
    "duration": 42,
    "start_time": "2025-07-06T08:41:59.365Z"
   },
   {
    "duration": 20,
    "start_time": "2025-07-06T08:41:59.409Z"
   },
   {
    "duration": 56,
    "start_time": "2025-07-06T08:41:59.432Z"
   },
   {
    "duration": 127,
    "start_time": "2025-07-06T08:41:59.490Z"
   },
   {
    "duration": 200,
    "start_time": "2025-07-06T08:41:59.618Z"
   },
   {
    "duration": 26,
    "start_time": "2025-07-06T08:41:59.819Z"
   },
   {
    "duration": 283,
    "start_time": "2025-07-06T08:41:59.857Z"
   },
   {
    "duration": 118,
    "start_time": "2025-07-06T08:42:00.141Z"
   },
   {
    "duration": 40,
    "start_time": "2025-07-06T08:42:00.262Z"
   },
   {
    "duration": 78,
    "start_time": "2025-07-06T08:42:00.303Z"
   },
   {
    "duration": 5,
    "start_time": "2025-07-06T08:42:00.383Z"
   },
   {
    "duration": 31,
    "start_time": "2025-07-06T08:42:00.389Z"
   },
   {
    "duration": 193,
    "start_time": "2025-07-06T08:42:00.422Z"
   },
   {
    "duration": 11,
    "start_time": "2025-07-06T08:42:00.617Z"
   },
   {
    "duration": 35,
    "start_time": "2025-07-06T08:42:00.629Z"
   },
   {
    "duration": 373,
    "start_time": "2025-07-06T08:42:00.666Z"
   },
   {
    "duration": 118,
    "start_time": "2025-07-06T08:42:01.040Z"
   },
   {
    "duration": 9072,
    "start_time": "2025-07-06T08:42:01.159Z"
   },
   {
    "duration": 171,
    "start_time": "2025-07-06T08:42:10.233Z"
   },
   {
    "duration": 136,
    "start_time": "2025-07-06T08:42:10.406Z"
   },
   {
    "duration": 105,
    "start_time": "2025-07-06T08:42:10.544Z"
   },
   {
    "duration": 30,
    "start_time": "2025-07-06T08:42:10.651Z"
   },
   {
    "duration": 62,
    "start_time": "2025-07-06T08:42:10.683Z"
   },
   {
    "duration": 69,
    "start_time": "2025-07-06T08:42:10.747Z"
   },
   {
    "duration": 109,
    "start_time": "2025-07-06T08:42:10.818Z"
   },
   {
    "duration": 229,
    "start_time": "2025-07-06T08:42:10.929Z"
   },
   {
    "duration": 460,
    "start_time": "2025-07-06T08:42:11.159Z"
   },
   {
    "duration": 22,
    "start_time": "2025-07-06T08:42:11.621Z"
   },
   {
    "duration": 23,
    "start_time": "2025-07-06T08:42:11.657Z"
   },
   {
    "duration": 17,
    "start_time": "2025-07-06T08:42:11.681Z"
   },
   {
    "duration": 17,
    "start_time": "2025-07-06T08:42:11.700Z"
   },
   {
    "duration": 47,
    "start_time": "2025-07-06T08:42:11.718Z"
   },
   {
    "duration": 30,
    "start_time": "2025-07-06T08:42:11.767Z"
   },
   {
    "duration": 75,
    "start_time": "2025-07-06T08:44:34.926Z"
   },
   {
    "duration": 127,
    "start_time": "2025-07-06T08:44:44.922Z"
   },
   {
    "duration": 2409,
    "start_time": "2025-07-06T08:45:31.805Z"
   },
   {
    "duration": 1121,
    "start_time": "2025-07-06T08:45:34.216Z"
   },
   {
    "duration": 2777,
    "start_time": "2025-07-06T08:45:35.338Z"
   },
   {
    "duration": 26,
    "start_time": "2025-07-06T08:45:38.117Z"
   },
   {
    "duration": 94,
    "start_time": "2025-07-06T08:45:38.144Z"
   },
   {
    "duration": 50,
    "start_time": "2025-07-06T08:45:38.240Z"
   },
   {
    "duration": 110,
    "start_time": "2025-07-06T08:45:38.292Z"
   },
   {
    "duration": 8,
    "start_time": "2025-07-06T08:45:38.403Z"
   },
   {
    "duration": 13,
    "start_time": "2025-07-06T08:45:38.413Z"
   },
   {
    "duration": 8,
    "start_time": "2025-07-06T08:45:38.428Z"
   },
   {
    "duration": 40,
    "start_time": "2025-07-06T08:45:38.458Z"
   },
   {
    "duration": 49,
    "start_time": "2025-07-06T08:45:38.499Z"
   },
   {
    "duration": 19,
    "start_time": "2025-07-06T08:45:38.550Z"
   },
   {
    "duration": 8,
    "start_time": "2025-07-06T08:45:38.570Z"
   },
   {
    "duration": 25,
    "start_time": "2025-07-06T08:45:38.579Z"
   },
   {
    "duration": 251,
    "start_time": "2025-07-06T08:45:38.605Z"
   },
   {
    "duration": 69,
    "start_time": "2025-07-06T08:45:38.858Z"
   },
   {
    "duration": 88,
    "start_time": "2025-07-06T08:45:38.928Z"
   },
   {
    "duration": 14,
    "start_time": "2025-07-06T08:45:39.018Z"
   },
   {
    "duration": 6,
    "start_time": "2025-07-06T08:45:39.033Z"
   },
   {
    "duration": 22,
    "start_time": "2025-07-06T08:45:39.040Z"
   },
   {
    "duration": 34,
    "start_time": "2025-07-06T08:45:39.064Z"
   },
   {
    "duration": 12,
    "start_time": "2025-07-06T08:45:39.100Z"
   },
   {
    "duration": 21,
    "start_time": "2025-07-06T08:45:39.114Z"
   },
   {
    "duration": 52,
    "start_time": "2025-07-06T08:45:39.136Z"
   },
   {
    "duration": 62,
    "start_time": "2025-07-06T08:45:39.190Z"
   },
   {
    "duration": 19,
    "start_time": "2025-07-06T08:45:39.253Z"
   },
   {
    "duration": 19,
    "start_time": "2025-07-06T08:45:39.276Z"
   },
   {
    "duration": 63,
    "start_time": "2025-07-06T08:45:39.297Z"
   },
   {
    "duration": 182,
    "start_time": "2025-07-06T08:45:39.362Z"
   },
   {
    "duration": 35,
    "start_time": "2025-07-06T08:45:39.546Z"
   },
   {
    "duration": 270,
    "start_time": "2025-07-06T08:45:39.582Z"
   },
   {
    "duration": 92,
    "start_time": "2025-07-06T08:45:39.857Z"
   },
   {
    "duration": 25,
    "start_time": "2025-07-06T08:45:39.957Z"
   },
   {
    "duration": 76,
    "start_time": "2025-07-06T08:45:39.984Z"
   },
   {
    "duration": 4,
    "start_time": "2025-07-06T08:45:40.061Z"
   },
   {
    "duration": 33,
    "start_time": "2025-07-06T08:45:40.066Z"
   },
   {
    "duration": 187,
    "start_time": "2025-07-06T08:45:40.100Z"
   },
   {
    "duration": 11,
    "start_time": "2025-07-06T08:45:40.288Z"
   },
   {
    "duration": 23,
    "start_time": "2025-07-06T08:45:40.300Z"
   },
   {
    "duration": 349,
    "start_time": "2025-07-06T08:45:40.325Z"
   },
   {
    "duration": 99,
    "start_time": "2025-07-06T08:45:40.675Z"
   },
   {
    "duration": 2431,
    "start_time": "2025-07-06T08:45:40.775Z"
   },
   {
    "duration": 164,
    "start_time": "2025-07-06T08:45:43.208Z"
   },
   {
    "duration": 127,
    "start_time": "2025-07-06T08:45:43.373Z"
   },
   {
    "duration": 89,
    "start_time": "2025-07-06T08:45:43.502Z"
   },
   {
    "duration": 30,
    "start_time": "2025-07-06T08:45:43.593Z"
   },
   {
    "duration": 77,
    "start_time": "2025-07-06T08:45:43.625Z"
   },
   {
    "duration": 65,
    "start_time": "2025-07-06T08:45:43.703Z"
   },
   {
    "duration": 100,
    "start_time": "2025-07-06T08:45:43.769Z"
   },
   {
    "duration": 209,
    "start_time": "2025-07-06T08:45:43.871Z"
   },
   {
    "duration": 377,
    "start_time": "2025-07-06T08:45:44.082Z"
   },
   {
    "duration": 16,
    "start_time": "2025-07-06T08:45:44.461Z"
   },
   {
    "duration": 113,
    "start_time": "2025-07-06T08:45:44.479Z"
   },
   {
    "duration": 16,
    "start_time": "2025-07-06T08:45:44.594Z"
   },
   {
    "duration": 17,
    "start_time": "2025-07-06T08:45:44.611Z"
   },
   {
    "duration": 16,
    "start_time": "2025-07-06T08:45:44.630Z"
   },
   {
    "duration": 35,
    "start_time": "2025-07-06T08:45:44.648Z"
   },
   {
    "duration": 3422,
    "start_time": "2025-07-07T07:09:17.185Z"
   },
   {
    "duration": 1785,
    "start_time": "2025-07-07T07:09:20.609Z"
   },
   {
    "duration": 1985,
    "start_time": "2025-07-07T07:09:22.395Z"
   },
   {
    "duration": 28,
    "start_time": "2025-07-07T07:09:24.381Z"
   },
   {
    "duration": 38,
    "start_time": "2025-07-07T07:09:24.412Z"
   },
   {
    "duration": 43,
    "start_time": "2025-07-07T07:09:24.452Z"
   },
   {
    "duration": 98,
    "start_time": "2025-07-07T07:09:24.497Z"
   },
   {
    "duration": 8,
    "start_time": "2025-07-07T07:09:24.597Z"
   },
   {
    "duration": 107,
    "start_time": "2025-07-07T07:09:24.606Z"
   },
   {
    "duration": 10,
    "start_time": "2025-07-07T07:09:24.715Z"
   },
   {
    "duration": 41,
    "start_time": "2025-07-07T07:09:24.727Z"
   },
   {
    "duration": 7,
    "start_time": "2025-07-07T07:09:24.770Z"
   },
   {
    "duration": 44,
    "start_time": "2025-07-07T07:09:24.779Z"
   },
   {
    "duration": 8,
    "start_time": "2025-07-07T07:09:24.827Z"
   },
   {
    "duration": 26,
    "start_time": "2025-07-07T07:09:24.837Z"
   },
   {
    "duration": 235,
    "start_time": "2025-07-07T07:09:24.864Z"
   },
   {
    "duration": 78,
    "start_time": "2025-07-07T07:09:25.101Z"
   },
   {
    "duration": 113,
    "start_time": "2025-07-07T07:09:25.181Z"
   },
   {
    "duration": 15,
    "start_time": "2025-07-07T07:09:25.296Z"
   },
   {
    "duration": 6,
    "start_time": "2025-07-07T07:09:25.312Z"
   },
   {
    "duration": 8,
    "start_time": "2025-07-07T07:09:25.319Z"
   },
   {
    "duration": 56,
    "start_time": "2025-07-07T07:09:25.328Z"
   },
   {
    "duration": 11,
    "start_time": "2025-07-07T07:09:25.386Z"
   },
   {
    "duration": 20,
    "start_time": "2025-07-07T07:09:25.398Z"
   },
   {
    "duration": 34,
    "start_time": "2025-07-07T07:09:25.419Z"
   },
   {
    "duration": 60,
    "start_time": "2025-07-07T07:09:25.455Z"
   },
   {
    "duration": 28,
    "start_time": "2025-07-07T07:09:25.517Z"
   },
   {
    "duration": 31,
    "start_time": "2025-07-07T07:09:25.546Z"
   },
   {
    "duration": 68,
    "start_time": "2025-07-07T07:09:25.579Z"
   },
   {
    "duration": 186,
    "start_time": "2025-07-07T07:09:25.648Z"
   },
   {
    "duration": 41,
    "start_time": "2025-07-07T07:09:25.836Z"
   },
   {
    "duration": 280,
    "start_time": "2025-07-07T07:09:25.879Z"
   },
   {
    "duration": 107,
    "start_time": "2025-07-07T07:09:26.161Z"
   },
   {
    "duration": 31,
    "start_time": "2025-07-07T07:09:26.269Z"
   },
   {
    "duration": 191,
    "start_time": "2025-07-07T07:09:26.302Z"
   },
   {
    "duration": 5,
    "start_time": "2025-07-07T07:09:26.494Z"
   },
   {
    "duration": 34,
    "start_time": "2025-07-07T07:09:26.501Z"
   },
   {
    "duration": 210,
    "start_time": "2025-07-07T07:09:26.537Z"
   },
   {
    "duration": 11,
    "start_time": "2025-07-07T07:09:26.749Z"
   },
   {
    "duration": 36,
    "start_time": "2025-07-07T07:09:26.761Z"
   },
   {
    "duration": 346,
    "start_time": "2025-07-07T07:09:26.801Z"
   },
   {
    "duration": 105,
    "start_time": "2025-07-07T07:09:27.149Z"
   },
   {
    "duration": 8360,
    "start_time": "2025-07-07T07:09:27.256Z"
   },
   {
    "duration": 206,
    "start_time": "2025-07-07T07:09:35.618Z"
   },
   {
    "duration": 159,
    "start_time": "2025-07-07T07:09:35.827Z"
   },
   {
    "duration": 106,
    "start_time": "2025-07-07T07:09:35.988Z"
   },
   {
    "duration": 30,
    "start_time": "2025-07-07T07:09:36.095Z"
   },
   {
    "duration": 87,
    "start_time": "2025-07-07T07:09:36.127Z"
   },
   {
    "duration": 69,
    "start_time": "2025-07-07T07:09:36.215Z"
   },
   {
    "duration": 97,
    "start_time": "2025-07-07T07:09:36.286Z"
   },
   {
    "duration": 258,
    "start_time": "2025-07-07T07:09:36.385Z"
   },
   {
    "duration": 443,
    "start_time": "2025-07-07T07:09:36.645Z"
   },
   {
    "duration": 27,
    "start_time": "2025-07-07T07:09:37.090Z"
   },
   {
    "duration": 162,
    "start_time": "2025-07-07T07:09:37.118Z"
   },
   {
    "duration": 20,
    "start_time": "2025-07-07T07:09:37.282Z"
   },
   {
    "duration": 18,
    "start_time": "2025-07-07T07:09:37.304Z"
   },
   {
    "duration": 27,
    "start_time": "2025-07-07T07:09:37.323Z"
   },
   {
    "duration": 65,
    "start_time": "2025-07-07T07:09:37.352Z"
   },
   {
    "duration": 11,
    "start_time": "2025-07-07T07:38:11.389Z"
   },
   {
    "duration": 10,
    "start_time": "2025-07-07T07:38:20.619Z"
   },
   {
    "duration": 3717,
    "start_time": "2025-07-07T10:29:12.798Z"
   },
   {
    "duration": 1590,
    "start_time": "2025-07-07T10:29:16.518Z"
   },
   {
    "duration": 2337,
    "start_time": "2025-07-07T10:29:18.110Z"
   },
   {
    "duration": 28,
    "start_time": "2025-07-07T10:29:20.449Z"
   },
   {
    "duration": 3,
    "start_time": "2025-07-07T10:29:20.479Z"
   },
   {
    "duration": 53,
    "start_time": "2025-07-07T10:29:20.484Z"
   },
   {
    "duration": 112,
    "start_time": "2025-07-07T10:29:20.540Z"
   },
   {
    "duration": 9,
    "start_time": "2025-07-07T10:29:20.653Z"
   },
   {
    "duration": 15,
    "start_time": "2025-07-07T10:29:20.664Z"
   },
   {
    "duration": 36,
    "start_time": "2025-07-07T10:29:20.681Z"
   },
   {
    "duration": 60,
    "start_time": "2025-07-07T10:29:20.719Z"
   },
   {
    "duration": 111,
    "start_time": "2025-07-07T10:29:20.780Z"
   },
   {
    "duration": 40,
    "start_time": "2025-07-07T10:29:20.893Z"
   },
   {
    "duration": 12,
    "start_time": "2025-07-07T10:29:20.936Z"
   },
   {
    "duration": 82,
    "start_time": "2025-07-07T10:29:20.950Z"
   },
   {
    "duration": 267,
    "start_time": "2025-07-07T10:29:21.034Z"
   },
   {
    "duration": 73,
    "start_time": "2025-07-07T10:29:21.307Z"
   },
   {
    "duration": 148,
    "start_time": "2025-07-07T10:29:21.381Z"
   },
   {
    "duration": 16,
    "start_time": "2025-07-07T10:29:21.531Z"
   },
   {
    "duration": 31,
    "start_time": "2025-07-07T10:29:21.548Z"
   },
   {
    "duration": 23,
    "start_time": "2025-07-07T10:29:21.580Z"
   },
   {
    "duration": 36,
    "start_time": "2025-07-07T10:29:21.608Z"
   },
   {
    "duration": 25,
    "start_time": "2025-07-07T10:29:21.646Z"
   },
   {
    "duration": 50,
    "start_time": "2025-07-07T10:29:21.673Z"
   },
   {
    "duration": 40,
    "start_time": "2025-07-07T10:29:21.725Z"
   },
   {
    "duration": 46,
    "start_time": "2025-07-07T10:29:21.767Z"
   },
   {
    "duration": 22,
    "start_time": "2025-07-07T10:29:21.816Z"
   },
   {
    "duration": 30,
    "start_time": "2025-07-07T10:29:21.840Z"
   },
   {
    "duration": 81,
    "start_time": "2025-07-07T10:29:21.871Z"
   },
   {
    "duration": 209,
    "start_time": "2025-07-07T10:29:21.954Z"
   },
   {
    "duration": 45,
    "start_time": "2025-07-07T10:29:22.165Z"
   },
   {
    "duration": 346,
    "start_time": "2025-07-07T10:29:22.218Z"
   },
   {
    "duration": 9,
    "start_time": "2025-07-07T10:29:22.566Z"
   },
   {
    "duration": 139,
    "start_time": "2025-07-07T10:29:22.576Z"
   },
   {
    "duration": 43,
    "start_time": "2025-07-07T10:29:22.718Z"
   },
   {
    "duration": 152,
    "start_time": "2025-07-07T10:29:22.762Z"
   },
   {
    "duration": 37,
    "start_time": "2025-07-07T10:29:22.916Z"
   },
   {
    "duration": 60,
    "start_time": "2025-07-07T10:29:22.955Z"
   },
   {
    "duration": 203,
    "start_time": "2025-07-07T10:29:23.017Z"
   },
   {
    "duration": 12,
    "start_time": "2025-07-07T10:29:23.222Z"
   },
   {
    "duration": 24,
    "start_time": "2025-07-07T10:29:23.239Z"
   },
   {
    "duration": 50,
    "start_time": "2025-07-07T10:29:23.264Z"
   },
   {
    "duration": 453,
    "start_time": "2025-07-07T10:29:23.318Z"
   },
   {
    "duration": 119,
    "start_time": "2025-07-07T10:29:23.772Z"
   },
   {
    "duration": 9396,
    "start_time": "2025-07-07T10:29:23.893Z"
   },
   {
    "duration": 213,
    "start_time": "2025-07-07T10:29:33.291Z"
   },
   {
    "duration": 165,
    "start_time": "2025-07-07T10:29:33.508Z"
   },
   {
    "duration": 111,
    "start_time": "2025-07-07T10:29:33.675Z"
   },
   {
    "duration": 43,
    "start_time": "2025-07-07T10:29:33.788Z"
   },
   {
    "duration": 81,
    "start_time": "2025-07-07T10:29:33.833Z"
   },
   {
    "duration": 103,
    "start_time": "2025-07-07T10:29:33.916Z"
   },
   {
    "duration": 179,
    "start_time": "2025-07-07T10:29:34.022Z"
   },
   {
    "duration": 278,
    "start_time": "2025-07-07T10:29:34.203Z"
   },
   {
    "duration": 568,
    "start_time": "2025-07-07T10:29:34.483Z"
   },
   {
    "duration": 19,
    "start_time": "2025-07-07T10:29:35.053Z"
   },
   {
    "duration": 51,
    "start_time": "2025-07-07T10:29:35.074Z"
   },
   {
    "duration": 17,
    "start_time": "2025-07-07T10:29:35.126Z"
   },
   {
    "duration": 19,
    "start_time": "2025-07-07T10:29:35.144Z"
   },
   {
    "duration": 52,
    "start_time": "2025-07-07T10:29:35.164Z"
   },
   {
    "duration": 32,
    "start_time": "2025-07-07T10:29:35.217Z"
   },
   {
    "duration": 121,
    "start_time": "2025-07-07T10:32:41.932Z"
   },
   {
    "duration": 2623,
    "start_time": "2025-07-07T10:32:54.959Z"
   },
   {
    "duration": 1322,
    "start_time": "2025-07-07T10:32:57.585Z"
   },
   {
    "duration": 2220,
    "start_time": "2025-07-07T10:32:58.909Z"
   },
   {
    "duration": 27,
    "start_time": "2025-07-07T10:33:01.131Z"
   },
   {
    "duration": 15,
    "start_time": "2025-07-07T10:33:01.161Z"
   },
   {
    "duration": 64,
    "start_time": "2025-07-07T10:33:01.178Z"
   },
   {
    "duration": 110,
    "start_time": "2025-07-07T10:33:01.243Z"
   },
   {
    "duration": 8,
    "start_time": "2025-07-07T10:33:01.355Z"
   },
   {
    "duration": 83,
    "start_time": "2025-07-07T10:33:01.364Z"
   },
   {
    "duration": 138,
    "start_time": "2025-07-07T10:33:01.448Z"
   },
   {
    "duration": 80,
    "start_time": "2025-07-07T10:33:01.588Z"
   },
   {
    "duration": 8,
    "start_time": "2025-07-07T10:33:01.670Z"
   },
   {
    "duration": 35,
    "start_time": "2025-07-07T10:33:01.679Z"
   },
   {
    "duration": 50,
    "start_time": "2025-07-07T10:33:01.718Z"
   },
   {
    "duration": 50,
    "start_time": "2025-07-07T10:33:01.769Z"
   },
   {
    "duration": 305,
    "start_time": "2025-07-07T10:33:01.821Z"
   },
   {
    "duration": 85,
    "start_time": "2025-07-07T10:33:02.128Z"
   },
   {
    "duration": 124,
    "start_time": "2025-07-07T10:33:02.218Z"
   },
   {
    "duration": 14,
    "start_time": "2025-07-07T10:33:02.344Z"
   },
   {
    "duration": 12,
    "start_time": "2025-07-07T10:33:02.360Z"
   },
   {
    "duration": 26,
    "start_time": "2025-07-07T10:33:02.374Z"
   },
   {
    "duration": 75,
    "start_time": "2025-07-07T10:33:02.401Z"
   },
   {
    "duration": 22,
    "start_time": "2025-07-07T10:33:02.477Z"
   },
   {
    "duration": 31,
    "start_time": "2025-07-07T10:33:02.502Z"
   },
   {
    "duration": 60,
    "start_time": "2025-07-07T10:33:02.535Z"
   },
   {
    "duration": 45,
    "start_time": "2025-07-07T10:33:02.596Z"
   },
   {
    "duration": 54,
    "start_time": "2025-07-07T10:33:02.642Z"
   },
   {
    "duration": 31,
    "start_time": "2025-07-07T10:33:02.698Z"
   },
   {
    "duration": 139,
    "start_time": "2025-07-07T10:33:02.731Z"
   },
   {
    "duration": 214,
    "start_time": "2025-07-07T10:33:02.872Z"
   },
   {
    "duration": 45,
    "start_time": "2025-07-07T10:33:03.088Z"
   },
   {
    "duration": 312,
    "start_time": "2025-07-07T10:33:03.134Z"
   },
   {
    "duration": 8,
    "start_time": "2025-07-07T10:33:03.448Z"
   },
   {
    "duration": 169,
    "start_time": "2025-07-07T10:33:03.458Z"
   },
   {
    "duration": 25,
    "start_time": "2025-07-07T10:33:03.629Z"
   },
   {
    "duration": 81,
    "start_time": "2025-07-07T10:33:03.656Z"
   },
   {
    "duration": 5,
    "start_time": "2025-07-07T10:33:03.738Z"
   },
   {
    "duration": 50,
    "start_time": "2025-07-07T10:33:03.744Z"
   },
   {
    "duration": 182,
    "start_time": "2025-07-07T10:33:03.796Z"
   },
   {
    "duration": 19,
    "start_time": "2025-07-07T10:33:03.979Z"
   },
   {
    "duration": 106,
    "start_time": "2025-07-07T10:33:04.006Z"
   },
   {
    "duration": 21,
    "start_time": "2025-07-07T10:33:04.119Z"
   },
   {
    "duration": 491,
    "start_time": "2025-07-07T10:33:04.142Z"
   },
   {
    "duration": 136,
    "start_time": "2025-07-07T10:33:04.635Z"
   },
   {
    "duration": 2607,
    "start_time": "2025-07-07T10:33:04.775Z"
   },
   {
    "duration": 189,
    "start_time": "2025-07-07T10:33:07.384Z"
   },
   {
    "duration": 152,
    "start_time": "2025-07-07T10:33:07.574Z"
   },
   {
    "duration": 105,
    "start_time": "2025-07-07T10:33:07.728Z"
   },
   {
    "duration": 30,
    "start_time": "2025-07-07T10:33:07.835Z"
   },
   {
    "duration": 81,
    "start_time": "2025-07-07T10:33:07.866Z"
   },
   {
    "duration": 74,
    "start_time": "2025-07-07T10:33:07.948Z"
   },
   {
    "duration": 127,
    "start_time": "2025-07-07T10:33:08.023Z"
   },
   {
    "duration": 240,
    "start_time": "2025-07-07T10:33:08.152Z"
   },
   {
    "duration": 476,
    "start_time": "2025-07-07T10:33:08.393Z"
   },
   {
    "duration": 38,
    "start_time": "2025-07-07T10:33:08.871Z"
   },
   {
    "duration": 33,
    "start_time": "2025-07-07T10:33:08.912Z"
   },
   {
    "duration": 18,
    "start_time": "2025-07-07T10:33:08.947Z"
   },
   {
    "duration": 51,
    "start_time": "2025-07-07T10:33:08.967Z"
   },
   {
    "duration": 19,
    "start_time": "2025-07-07T10:33:09.020Z"
   },
   {
    "duration": 46,
    "start_time": "2025-07-07T10:33:09.040Z"
   },
   {
    "duration": 107,
    "start_time": "2025-07-07T10:41:25.974Z"
   },
   {
    "duration": 96,
    "start_time": "2025-07-07T10:42:03.674Z"
   },
   {
    "duration": 130,
    "start_time": "2025-07-07T10:42:13.163Z"
   },
   {
    "duration": 31,
    "start_time": "2025-07-07T10:42:42.878Z"
   },
   {
    "duration": 17,
    "start_time": "2025-07-07T10:43:58.963Z"
   },
   {
    "duration": 10,
    "start_time": "2025-07-07T10:57:01.680Z"
   },
   {
    "duration": 9,
    "start_time": "2025-07-07T10:58:00.618Z"
   },
   {
    "duration": 14,
    "start_time": "2025-07-07T11:00:30.645Z"
   },
   {
    "duration": 12,
    "start_time": "2025-07-07T11:03:58.355Z"
   },
   {
    "duration": 18,
    "start_time": "2025-07-07T11:04:07.021Z"
   },
   {
    "duration": 69,
    "start_time": "2025-07-07T11:16:43.512Z"
   },
   {
    "duration": 11,
    "start_time": "2025-07-07T11:16:55.850Z"
   },
   {
    "duration": 10,
    "start_time": "2025-07-07T11:17:05.834Z"
   },
   {
    "duration": 10,
    "start_time": "2025-07-07T11:17:20.905Z"
   },
   {
    "duration": 2614,
    "start_time": "2025-07-07T11:17:39.911Z"
   },
   {
    "duration": 1266,
    "start_time": "2025-07-07T11:17:42.527Z"
   },
   {
    "duration": 2558,
    "start_time": "2025-07-07T11:17:43.794Z"
   },
   {
    "duration": 27,
    "start_time": "2025-07-07T11:17:46.354Z"
   },
   {
    "duration": 3,
    "start_time": "2025-07-07T11:17:46.383Z"
   },
   {
    "duration": 54,
    "start_time": "2025-07-07T11:17:46.387Z"
   },
   {
    "duration": 108,
    "start_time": "2025-07-07T11:17:46.443Z"
   },
   {
    "duration": 9,
    "start_time": "2025-07-07T11:17:46.552Z"
   },
   {
    "duration": 12,
    "start_time": "2025-07-07T11:17:46.562Z"
   },
   {
    "duration": 25,
    "start_time": "2025-07-07T11:17:46.576Z"
   },
   {
    "duration": 45,
    "start_time": "2025-07-07T11:17:46.603Z"
   },
   {
    "duration": 8,
    "start_time": "2025-07-07T11:17:46.649Z"
   },
   {
    "duration": 50,
    "start_time": "2025-07-07T11:17:46.658Z"
   },
   {
    "duration": 8,
    "start_time": "2025-07-07T11:17:46.711Z"
   },
   {
    "duration": 25,
    "start_time": "2025-07-07T11:17:46.720Z"
   },
   {
    "duration": 247,
    "start_time": "2025-07-07T11:17:46.746Z"
   },
   {
    "duration": 72,
    "start_time": "2025-07-07T11:17:46.994Z"
   },
   {
    "duration": 87,
    "start_time": "2025-07-07T11:17:47.067Z"
   },
   {
    "duration": 16,
    "start_time": "2025-07-07T11:17:47.156Z"
   },
   {
    "duration": 26,
    "start_time": "2025-07-07T11:17:47.174Z"
   },
   {
    "duration": 8,
    "start_time": "2025-07-07T11:17:47.201Z"
   },
   {
    "duration": 48,
    "start_time": "2025-07-07T11:17:47.210Z"
   },
   {
    "duration": 11,
    "start_time": "2025-07-07T11:17:47.259Z"
   },
   {
    "duration": 12,
    "start_time": "2025-07-07T11:17:47.272Z"
   },
   {
    "duration": 48,
    "start_time": "2025-07-07T11:17:47.285Z"
   },
   {
    "duration": 36,
    "start_time": "2025-07-07T11:17:47.335Z"
   },
   {
    "duration": 38,
    "start_time": "2025-07-07T11:17:47.373Z"
   },
   {
    "duration": 22,
    "start_time": "2025-07-07T11:17:47.412Z"
   },
   {
    "duration": 75,
    "start_time": "2025-07-07T11:17:47.436Z"
   },
   {
    "duration": 175,
    "start_time": "2025-07-07T11:17:47.512Z"
   },
   {
    "duration": 34,
    "start_time": "2025-07-07T11:17:47.689Z"
   },
   {
    "duration": 268,
    "start_time": "2025-07-07T11:17:47.724Z"
   },
   {
    "duration": 10,
    "start_time": "2025-07-07T11:17:47.994Z"
   },
   {
    "duration": 112,
    "start_time": "2025-07-07T11:17:48.005Z"
   },
   {
    "duration": 26,
    "start_time": "2025-07-07T11:17:48.118Z"
   },
   {
    "duration": 76,
    "start_time": "2025-07-07T11:17:48.146Z"
   },
   {
    "duration": 51,
    "start_time": "2025-07-07T11:17:48.224Z"
   },
   {
    "duration": 30,
    "start_time": "2025-07-07T11:17:48.277Z"
   },
   {
    "duration": 184,
    "start_time": "2025-07-07T11:17:48.309Z"
   },
   {
    "duration": 11,
    "start_time": "2025-07-07T11:17:48.499Z"
   },
   {
    "duration": 53,
    "start_time": "2025-07-07T11:17:48.515Z"
   },
   {
    "duration": 18,
    "start_time": "2025-07-07T11:17:48.570Z"
   },
   {
    "duration": 340,
    "start_time": "2025-07-07T11:17:48.590Z"
   },
   {
    "duration": 115,
    "start_time": "2025-07-07T11:17:48.932Z"
   },
   {
    "duration": 2727,
    "start_time": "2025-07-07T11:17:49.049Z"
   },
   {
    "duration": 189,
    "start_time": "2025-07-07T11:17:51.778Z"
   },
   {
    "duration": 151,
    "start_time": "2025-07-07T11:17:51.970Z"
   },
   {
    "duration": 104,
    "start_time": "2025-07-07T11:17:52.123Z"
   },
   {
    "duration": 31,
    "start_time": "2025-07-07T11:17:52.229Z"
   },
   {
    "duration": 111,
    "start_time": "2025-07-07T11:17:52.262Z"
   },
   {
    "duration": 65,
    "start_time": "2025-07-07T11:17:52.375Z"
   },
   {
    "duration": 149,
    "start_time": "2025-07-07T11:17:52.441Z"
   },
   {
    "duration": 239,
    "start_time": "2025-07-07T11:17:52.591Z"
   },
   {
    "duration": 413,
    "start_time": "2025-07-07T11:17:52.831Z"
   },
   {
    "duration": 18,
    "start_time": "2025-07-07T11:17:53.246Z"
   },
   {
    "duration": 41,
    "start_time": "2025-07-07T11:17:53.265Z"
   },
   {
    "duration": 17,
    "start_time": "2025-07-07T11:17:53.307Z"
   },
   {
    "duration": 18,
    "start_time": "2025-07-07T11:17:53.325Z"
   },
   {
    "duration": 19,
    "start_time": "2025-07-07T11:17:53.345Z"
   },
   {
    "duration": 59,
    "start_time": "2025-07-07T11:17:53.366Z"
   },
   {
    "duration": 39,
    "start_time": "2025-07-07T11:17:53.427Z"
   },
   {
    "duration": 60,
    "start_time": "2025-07-07T11:17:53.468Z"
   },
   {
    "duration": 149,
    "start_time": "2025-07-07T11:17:53.530Z"
   },
   {
    "duration": 64,
    "start_time": "2025-07-07T11:17:53.680Z"
   },
   {
    "duration": 11,
    "start_time": "2025-07-07T11:17:53.745Z"
   },
   {
    "duration": 270,
    "start_time": "2025-07-07T11:21:09.205Z"
   },
   {
    "duration": 151,
    "start_time": "2025-07-07T11:21:32.581Z"
   },
   {
    "duration": 2556,
    "start_time": "2025-07-07T11:23:29.599Z"
   },
   {
    "duration": 1173,
    "start_time": "2025-07-07T11:23:32.158Z"
   },
   {
    "duration": 1950,
    "start_time": "2025-07-07T11:23:33.333Z"
   },
   {
    "duration": 25,
    "start_time": "2025-07-07T11:23:35.285Z"
   },
   {
    "duration": 31,
    "start_time": "2025-07-07T11:23:35.312Z"
   },
   {
    "duration": 61,
    "start_time": "2025-07-07T11:23:35.345Z"
   },
   {
    "duration": 105,
    "start_time": "2025-07-07T11:23:35.408Z"
   },
   {
    "duration": 8,
    "start_time": "2025-07-07T11:23:35.515Z"
   },
   {
    "duration": 175,
    "start_time": "2025-07-07T11:23:35.524Z"
   },
   {
    "duration": 66,
    "start_time": "2025-07-07T11:23:35.701Z"
   },
   {
    "duration": 62,
    "start_time": "2025-07-07T11:23:35.769Z"
   },
   {
    "duration": 22,
    "start_time": "2025-07-07T11:23:35.833Z"
   },
   {
    "duration": 41,
    "start_time": "2025-07-07T11:23:35.857Z"
   },
   {
    "duration": 87,
    "start_time": "2025-07-07T11:23:35.901Z"
   },
   {
    "duration": 48,
    "start_time": "2025-07-07T11:23:35.989Z"
   },
   {
    "duration": 259,
    "start_time": "2025-07-07T11:23:36.039Z"
   },
   {
    "duration": 71,
    "start_time": "2025-07-07T11:23:36.300Z"
   },
   {
    "duration": 93,
    "start_time": "2025-07-07T11:23:36.373Z"
   },
   {
    "duration": 16,
    "start_time": "2025-07-07T11:23:36.468Z"
   },
   {
    "duration": 68,
    "start_time": "2025-07-07T11:23:36.497Z"
   },
   {
    "duration": 10,
    "start_time": "2025-07-07T11:23:36.567Z"
   },
   {
    "duration": 35,
    "start_time": "2025-07-07T11:23:36.578Z"
   },
   {
    "duration": 23,
    "start_time": "2025-07-07T11:23:36.615Z"
   },
   {
    "duration": 52,
    "start_time": "2025-07-07T11:23:36.639Z"
   },
   {
    "duration": 46,
    "start_time": "2025-07-07T11:23:36.694Z"
   },
   {
    "duration": 38,
    "start_time": "2025-07-07T11:23:36.742Z"
   },
   {
    "duration": 33,
    "start_time": "2025-07-07T11:23:36.782Z"
   },
   {
    "duration": 32,
    "start_time": "2025-07-07T11:23:36.816Z"
   },
   {
    "duration": 76,
    "start_time": "2025-07-07T11:23:36.850Z"
   },
   {
    "duration": 170,
    "start_time": "2025-07-07T11:23:36.928Z"
   },
   {
    "duration": 28,
    "start_time": "2025-07-07T11:23:37.100Z"
   },
   {
    "duration": 261,
    "start_time": "2025-07-07T11:23:37.129Z"
   },
   {
    "duration": 12,
    "start_time": "2025-07-07T11:23:37.392Z"
   },
   {
    "duration": 119,
    "start_time": "2025-07-07T11:23:37.406Z"
   },
   {
    "duration": 24,
    "start_time": "2025-07-07T11:23:37.527Z"
   },
   {
    "duration": 206,
    "start_time": "2025-07-07T11:23:37.553Z"
   },
   {
    "duration": 49,
    "start_time": "2025-07-07T11:23:37.760Z"
   },
   {
    "duration": 47,
    "start_time": "2025-07-07T11:23:37.810Z"
   },
   {
    "duration": 165,
    "start_time": "2025-07-07T11:23:37.858Z"
   },
   {
    "duration": 11,
    "start_time": "2025-07-07T11:23:38.024Z"
   },
   {
    "duration": 21,
    "start_time": "2025-07-07T11:23:38.038Z"
   },
   {
    "duration": 38,
    "start_time": "2025-07-07T11:23:38.061Z"
   },
   {
    "duration": 339,
    "start_time": "2025-07-07T11:23:38.101Z"
   },
   {
    "duration": 107,
    "start_time": "2025-07-07T11:23:38.441Z"
   },
   {
    "duration": 2556,
    "start_time": "2025-07-07T11:23:38.550Z"
   },
   {
    "duration": 185,
    "start_time": "2025-07-07T11:23:41.109Z"
   },
   {
    "duration": 147,
    "start_time": "2025-07-07T11:23:41.299Z"
   },
   {
    "duration": 99,
    "start_time": "2025-07-07T11:23:41.448Z"
   },
   {
    "duration": 32,
    "start_time": "2025-07-07T11:23:41.549Z"
   },
   {
    "duration": 91,
    "start_time": "2025-07-07T11:23:41.583Z"
   },
   {
    "duration": 65,
    "start_time": "2025-07-07T11:23:41.676Z"
   },
   {
    "duration": 103,
    "start_time": "2025-07-07T11:23:41.742Z"
   },
   {
    "duration": 220,
    "start_time": "2025-07-07T11:23:41.846Z"
   },
   {
    "duration": 406,
    "start_time": "2025-07-07T11:23:42.068Z"
   },
   {
    "duration": 29,
    "start_time": "2025-07-07T11:23:42.475Z"
   },
   {
    "duration": 106,
    "start_time": "2025-07-07T11:23:42.506Z"
   },
   {
    "duration": 17,
    "start_time": "2025-07-07T11:23:42.614Z"
   },
   {
    "duration": 18,
    "start_time": "2025-07-07T11:23:42.632Z"
   },
   {
    "duration": 17,
    "start_time": "2025-07-07T11:23:42.651Z"
   },
   {
    "duration": 55,
    "start_time": "2025-07-07T11:23:42.670Z"
   },
   {
    "duration": 24,
    "start_time": "2025-07-07T11:23:42.727Z"
   },
   {
    "duration": 16,
    "start_time": "2025-07-07T11:23:42.753Z"
   },
   {
    "duration": 29,
    "start_time": "2025-07-07T11:23:42.770Z"
   },
   {
    "duration": 178,
    "start_time": "2025-07-07T11:23:42.801Z"
   },
   {
    "duration": 151,
    "start_time": "2025-07-07T11:23:42.981Z"
   },
   {
    "duration": 5,
    "start_time": "2025-07-07T11:25:35.799Z"
   },
   {
    "duration": 11,
    "start_time": "2025-07-07T11:27:47.203Z"
   },
   {
    "duration": 11,
    "start_time": "2025-07-07T11:27:53.338Z"
   },
   {
    "duration": 190,
    "start_time": "2025-07-07T11:28:20.338Z"
   },
   {
    "duration": 188,
    "start_time": "2025-07-07T11:28:59.000Z"
   },
   {
    "duration": 194,
    "start_time": "2025-07-07T11:32:16.881Z"
   },
   {
    "duration": 514,
    "start_time": "2025-07-07T11:32:45.536Z"
   },
   {
    "duration": 124,
    "start_time": "2025-07-07T11:33:33.629Z"
   },
   {
    "duration": 12,
    "start_time": "2025-07-07T11:53:26.691Z"
   },
   {
    "duration": 2753,
    "start_time": "2025-07-07T11:54:13.690Z"
   },
   {
    "duration": 1246,
    "start_time": "2025-07-07T11:54:16.445Z"
   },
   {
    "duration": 2385,
    "start_time": "2025-07-07T11:54:17.693Z"
   },
   {
    "duration": 36,
    "start_time": "2025-07-07T11:54:20.080Z"
   },
   {
    "duration": 3,
    "start_time": "2025-07-07T11:54:20.118Z"
   },
   {
    "duration": 54,
    "start_time": "2025-07-07T11:54:20.123Z"
   },
   {
    "duration": 138,
    "start_time": "2025-07-07T11:54:20.179Z"
   },
   {
    "duration": 9,
    "start_time": "2025-07-07T11:54:20.319Z"
   },
   {
    "duration": 21,
    "start_time": "2025-07-07T11:54:20.330Z"
   },
   {
    "duration": 87,
    "start_time": "2025-07-07T11:54:20.353Z"
   },
   {
    "duration": 73,
    "start_time": "2025-07-07T11:54:20.442Z"
   },
   {
    "duration": 8,
    "start_time": "2025-07-07T11:54:20.518Z"
   },
   {
    "duration": 40,
    "start_time": "2025-07-07T11:54:20.528Z"
   },
   {
    "duration": 43,
    "start_time": "2025-07-07T11:54:20.571Z"
   },
   {
    "duration": 158,
    "start_time": "2025-07-07T11:54:20.616Z"
   },
   {
    "duration": 300,
    "start_time": "2025-07-07T11:54:20.776Z"
   },
   {
    "duration": 131,
    "start_time": "2025-07-07T11:54:21.079Z"
   },
   {
    "duration": 97,
    "start_time": "2025-07-07T11:54:21.213Z"
   },
   {
    "duration": 22,
    "start_time": "2025-07-07T11:54:21.315Z"
   },
   {
    "duration": 18,
    "start_time": "2025-07-07T11:54:21.339Z"
   },
   {
    "duration": 41,
    "start_time": "2025-07-07T11:54:21.359Z"
   },
   {
    "duration": 85,
    "start_time": "2025-07-07T11:54:21.402Z"
   },
   {
    "duration": 62,
    "start_time": "2025-07-07T11:54:21.489Z"
   },
   {
    "duration": 76,
    "start_time": "2025-07-07T11:54:21.553Z"
   },
   {
    "duration": 221,
    "start_time": "2025-07-07T11:54:21.630Z"
   },
   {
    "duration": 38,
    "start_time": "2025-07-07T11:54:21.853Z"
   },
   {
    "duration": 45,
    "start_time": "2025-07-07T11:54:21.893Z"
   },
   {
    "duration": 25,
    "start_time": "2025-07-07T11:54:21.940Z"
   },
   {
    "duration": 70,
    "start_time": "2025-07-07T11:54:21.967Z"
   },
   {
    "duration": 219,
    "start_time": "2025-07-07T11:54:22.039Z"
   },
   {
    "duration": 44,
    "start_time": "2025-07-07T11:54:22.260Z"
   },
   {
    "duration": 326,
    "start_time": "2025-07-07T11:54:22.307Z"
   },
   {
    "duration": 9,
    "start_time": "2025-07-07T11:54:22.634Z"
   },
   {
    "duration": 273,
    "start_time": "2025-07-07T11:54:22.645Z"
   },
   {
    "duration": 28,
    "start_time": "2025-07-07T11:54:22.920Z"
   },
   {
    "duration": 106,
    "start_time": "2025-07-07T11:54:22.950Z"
   },
   {
    "duration": 11,
    "start_time": "2025-07-07T11:54:23.058Z"
   },
   {
    "duration": 53,
    "start_time": "2025-07-07T11:54:23.070Z"
   },
   {
    "duration": 217,
    "start_time": "2025-07-07T11:54:23.124Z"
   },
   {
    "duration": 12,
    "start_time": "2025-07-07T11:54:23.343Z"
   },
   {
    "duration": 92,
    "start_time": "2025-07-07T11:54:23.360Z"
   },
   {
    "duration": 31,
    "start_time": "2025-07-07T11:54:23.501Z"
   },
   {
    "duration": 505,
    "start_time": "2025-07-07T11:54:23.534Z"
   },
   {
    "duration": 123,
    "start_time": "2025-07-07T11:54:24.041Z"
   },
   {
    "duration": 3076,
    "start_time": "2025-07-07T11:54:24.166Z"
   },
   {
    "duration": 208,
    "start_time": "2025-07-07T11:54:27.245Z"
   },
   {
    "duration": 160,
    "start_time": "2025-07-07T11:54:27.455Z"
   },
   {
    "duration": 110,
    "start_time": "2025-07-07T11:54:27.617Z"
   },
   {
    "duration": 43,
    "start_time": "2025-07-07T11:54:27.729Z"
   },
   {
    "duration": 185,
    "start_time": "2025-07-07T11:54:27.774Z"
   },
   {
    "duration": 87,
    "start_time": "2025-07-07T11:54:27.961Z"
   },
   {
    "duration": 129,
    "start_time": "2025-07-07T11:54:28.050Z"
   },
   {
    "duration": 281,
    "start_time": "2025-07-07T11:54:28.181Z"
   },
   {
    "duration": 473,
    "start_time": "2025-07-07T11:54:28.464Z"
   },
   {
    "duration": 18,
    "start_time": "2025-07-07T11:54:28.938Z"
   },
   {
    "duration": 44,
    "start_time": "2025-07-07T11:54:28.958Z"
   },
   {
    "duration": 22,
    "start_time": "2025-07-07T11:54:29.005Z"
   },
   {
    "duration": 19,
    "start_time": "2025-07-07T11:54:29.028Z"
   },
   {
    "duration": 18,
    "start_time": "2025-07-07T11:54:29.049Z"
   },
   {
    "duration": 39,
    "start_time": "2025-07-07T11:54:29.098Z"
   },
   {
    "duration": 25,
    "start_time": "2025-07-07T11:54:29.139Z"
   },
   {
    "duration": 45,
    "start_time": "2025-07-07T11:54:29.166Z"
   },
   {
    "duration": 213,
    "start_time": "2025-07-07T11:54:29.213Z"
   },
   {
    "duration": 11,
    "start_time": "2025-07-07T11:54:29.428Z"
   },
   {
    "duration": 177,
    "start_time": "2025-07-07T11:54:29.441Z"
   },
   {
    "duration": 2780,
    "start_time": "2025-07-07T11:55:56.740Z"
   },
   {
    "duration": 1486,
    "start_time": "2025-07-07T11:55:59.523Z"
   },
   {
    "duration": 3865,
    "start_time": "2025-07-07T11:56:01.012Z"
   },
   {
    "duration": 40,
    "start_time": "2025-07-07T11:56:04.880Z"
   },
   {
    "duration": 3,
    "start_time": "2025-07-07T11:56:04.922Z"
   },
   {
    "duration": 67,
    "start_time": "2025-07-07T11:56:04.926Z"
   },
   {
    "duration": 111,
    "start_time": "2025-07-07T11:56:04.994Z"
   },
   {
    "duration": 14,
    "start_time": "2025-07-07T11:56:05.108Z"
   },
   {
    "duration": 157,
    "start_time": "2025-07-07T11:56:05.124Z"
   },
   {
    "duration": 72,
    "start_time": "2025-07-07T11:56:05.283Z"
   },
   {
    "duration": 63,
    "start_time": "2025-07-07T11:56:05.358Z"
   },
   {
    "duration": 8,
    "start_time": "2025-07-07T11:56:05.424Z"
   },
   {
    "duration": 80,
    "start_time": "2025-07-07T11:56:05.433Z"
   },
   {
    "duration": 45,
    "start_time": "2025-07-07T11:56:05.516Z"
   },
   {
    "duration": 102,
    "start_time": "2025-07-07T11:56:05.563Z"
   },
   {
    "duration": 482,
    "start_time": "2025-07-07T11:56:05.667Z"
   },
   {
    "duration": 116,
    "start_time": "2025-07-07T11:56:06.151Z"
   },
   {
    "duration": 96,
    "start_time": "2025-07-07T11:56:06.269Z"
   },
   {
    "duration": 16,
    "start_time": "2025-07-07T11:56:06.367Z"
   },
   {
    "duration": 144,
    "start_time": "2025-07-07T11:56:06.399Z"
   },
   {
    "duration": 43,
    "start_time": "2025-07-07T11:56:06.545Z"
   },
   {
    "duration": 157,
    "start_time": "2025-07-07T11:56:06.590Z"
   },
   {
    "duration": 32,
    "start_time": "2025-07-07T11:56:06.749Z"
   },
   {
    "duration": 40,
    "start_time": "2025-07-07T11:56:06.783Z"
   },
   {
    "duration": 64,
    "start_time": "2025-07-07T11:56:06.827Z"
   },
   {
    "duration": 50,
    "start_time": "2025-07-07T11:56:06.893Z"
   },
   {
    "duration": 50,
    "start_time": "2025-07-07T11:56:06.944Z"
   },
   {
    "duration": 61,
    "start_time": "2025-07-07T11:56:06.996Z"
   },
   {
    "duration": 67,
    "start_time": "2025-07-07T11:56:07.059Z"
   },
   {
    "duration": 214,
    "start_time": "2025-07-07T11:56:07.129Z"
   },
   {
    "duration": 29,
    "start_time": "2025-07-07T11:56:07.345Z"
   },
   {
    "duration": 317,
    "start_time": "2025-07-07T11:56:07.376Z"
   },
   {
    "duration": 20,
    "start_time": "2025-07-07T11:56:07.695Z"
   },
   {
    "duration": 210,
    "start_time": "2025-07-07T11:56:07.718Z"
   },
   {
    "duration": 28,
    "start_time": "2025-07-07T11:56:07.930Z"
   },
   {
    "duration": 84,
    "start_time": "2025-07-07T11:56:07.959Z"
   },
   {
    "duration": 4,
    "start_time": "2025-07-07T11:56:08.044Z"
   },
   {
    "duration": 60,
    "start_time": "2025-07-07T11:56:08.050Z"
   },
   {
    "duration": 204,
    "start_time": "2025-07-07T11:56:08.114Z"
   },
   {
    "duration": 11,
    "start_time": "2025-07-07T11:56:08.320Z"
   },
   {
    "duration": 46,
    "start_time": "2025-07-07T11:56:08.335Z"
   },
   {
    "duration": 129,
    "start_time": "2025-07-07T11:56:08.383Z"
   },
   {
    "duration": 362,
    "start_time": "2025-07-07T11:56:08.514Z"
   },
   {
    "duration": 114,
    "start_time": "2025-07-07T11:56:08.877Z"
   },
   {
    "duration": 2848,
    "start_time": "2025-07-07T11:56:08.993Z"
   },
   {
    "duration": 220,
    "start_time": "2025-07-07T11:56:11.843Z"
   },
   {
    "duration": 162,
    "start_time": "2025-07-07T11:56:12.066Z"
   },
   {
    "duration": 119,
    "start_time": "2025-07-07T11:56:12.230Z"
   },
   {
    "duration": 32,
    "start_time": "2025-07-07T11:56:12.351Z"
   },
   {
    "duration": 170,
    "start_time": "2025-07-07T11:56:12.385Z"
   },
   {
    "duration": 82,
    "start_time": "2025-07-07T11:56:12.556Z"
   },
   {
    "duration": 124,
    "start_time": "2025-07-07T11:56:12.640Z"
   },
   {
    "duration": 269,
    "start_time": "2025-07-07T11:56:12.766Z"
   },
   {
    "duration": 485,
    "start_time": "2025-07-07T11:56:13.036Z"
   },
   {
    "duration": 18,
    "start_time": "2025-07-07T11:56:13.522Z"
   },
   {
    "duration": 21,
    "start_time": "2025-07-07T11:56:13.542Z"
   },
   {
    "duration": 41,
    "start_time": "2025-07-07T11:56:13.565Z"
   },
   {
    "duration": 22,
    "start_time": "2025-07-07T11:56:13.613Z"
   },
   {
    "duration": 19,
    "start_time": "2025-07-07T11:56:13.637Z"
   },
   {
    "duration": 200,
    "start_time": "2025-07-07T11:56:13.658Z"
   },
   {
    "duration": 25,
    "start_time": "2025-07-07T11:56:13.860Z"
   },
   {
    "duration": 24,
    "start_time": "2025-07-07T11:56:13.886Z"
   },
   {
    "duration": 55,
    "start_time": "2025-07-07T11:56:13.912Z"
   },
   {
    "duration": 294,
    "start_time": "2025-07-07T11:56:13.968Z"
   },
   {
    "duration": 11,
    "start_time": "2025-07-07T11:56:14.263Z"
   },
   {
    "duration": 33,
    "start_time": "2025-07-07T11:56:14.276Z"
   },
   {
    "duration": 11,
    "start_time": "2025-07-07T11:57:37.336Z"
   },
   {
    "duration": 10,
    "start_time": "2025-07-07T11:58:24.937Z"
   },
   {
    "duration": 25,
    "start_time": "2025-07-07T11:58:41.988Z"
   },
   {
    "duration": 9,
    "start_time": "2025-07-07T11:59:03.638Z"
   },
   {
    "duration": 2760,
    "start_time": "2025-07-07T11:59:57.285Z"
   },
   {
    "duration": 1346,
    "start_time": "2025-07-07T12:00:00.048Z"
   },
   {
    "duration": 2688,
    "start_time": "2025-07-07T12:00:01.396Z"
   },
   {
    "duration": 36,
    "start_time": "2025-07-07T12:00:04.085Z"
   },
   {
    "duration": 42,
    "start_time": "2025-07-07T12:00:04.122Z"
   },
   {
    "duration": 77,
    "start_time": "2025-07-07T12:00:04.166Z"
   },
   {
    "duration": 115,
    "start_time": "2025-07-07T12:00:04.246Z"
   },
   {
    "duration": 8,
    "start_time": "2025-07-07T12:00:04.363Z"
   },
   {
    "duration": 166,
    "start_time": "2025-07-07T12:00:04.373Z"
   },
   {
    "duration": 116,
    "start_time": "2025-07-07T12:00:04.542Z"
   },
   {
    "duration": 228,
    "start_time": "2025-07-07T12:00:04.660Z"
   },
   {
    "duration": 42,
    "start_time": "2025-07-07T12:00:04.889Z"
   },
   {
    "duration": 97,
    "start_time": "2025-07-07T12:00:04.932Z"
   },
   {
    "duration": 46,
    "start_time": "2025-07-07T12:00:05.031Z"
   },
   {
    "duration": 91,
    "start_time": "2025-07-07T12:00:05.079Z"
   },
   {
    "duration": 413,
    "start_time": "2025-07-07T12:00:05.172Z"
   },
   {
    "duration": 93,
    "start_time": "2025-07-07T12:00:05.586Z"
   },
   {
    "duration": 96,
    "start_time": "2025-07-07T12:00:05.681Z"
   },
   {
    "duration": 111,
    "start_time": "2025-07-07T12:00:05.779Z"
   },
   {
    "duration": 66,
    "start_time": "2025-07-07T12:00:05.892Z"
   },
   {
    "duration": 79,
    "start_time": "2025-07-07T12:00:05.961Z"
   },
   {
    "duration": 117,
    "start_time": "2025-07-07T12:00:06.042Z"
   },
   {
    "duration": 31,
    "start_time": "2025-07-07T12:00:06.162Z"
   },
   {
    "duration": 84,
    "start_time": "2025-07-07T12:00:06.195Z"
   },
   {
    "duration": 78,
    "start_time": "2025-07-07T12:00:06.281Z"
   },
   {
    "duration": 170,
    "start_time": "2025-07-07T12:00:06.361Z"
   },
   {
    "duration": 32,
    "start_time": "2025-07-07T12:00:06.533Z"
   },
   {
    "duration": 57,
    "start_time": "2025-07-07T12:00:06.569Z"
   },
   {
    "duration": 207,
    "start_time": "2025-07-07T12:00:06.628Z"
   },
   {
    "duration": 338,
    "start_time": "2025-07-07T12:00:06.837Z"
   },
   {
    "duration": 43,
    "start_time": "2025-07-07T12:00:07.177Z"
   },
   {
    "duration": 353,
    "start_time": "2025-07-07T12:00:07.221Z"
   },
   {
    "duration": 9,
    "start_time": "2025-07-07T12:00:07.576Z"
   },
   {
    "duration": 149,
    "start_time": "2025-07-07T12:00:07.605Z"
   },
   {
    "duration": 29,
    "start_time": "2025-07-07T12:00:07.756Z"
   },
   {
    "duration": 153,
    "start_time": "2025-07-07T12:00:07.787Z"
   },
   {
    "duration": 5,
    "start_time": "2025-07-07T12:00:07.942Z"
   },
   {
    "duration": 34,
    "start_time": "2025-07-07T12:00:07.948Z"
   },
   {
    "duration": 226,
    "start_time": "2025-07-07T12:00:08.000Z"
   },
   {
    "duration": 12,
    "start_time": "2025-07-07T12:00:08.228Z"
   },
   {
    "duration": 96,
    "start_time": "2025-07-07T12:00:08.241Z"
   },
   {
    "duration": 22,
    "start_time": "2025-07-07T12:00:08.339Z"
   },
   {
    "duration": 520,
    "start_time": "2025-07-07T12:00:08.363Z"
   },
   {
    "duration": 131,
    "start_time": "2025-07-07T12:00:08.884Z"
   },
   {
    "duration": 2959,
    "start_time": "2025-07-07T12:00:09.019Z"
   },
   {
    "duration": 215,
    "start_time": "2025-07-07T12:00:11.981Z"
   },
   {
    "duration": 166,
    "start_time": "2025-07-07T12:00:12.199Z"
   },
   {
    "duration": 113,
    "start_time": "2025-07-07T12:00:12.367Z"
   },
   {
    "duration": 47,
    "start_time": "2025-07-07T12:00:12.483Z"
   },
   {
    "duration": 84,
    "start_time": "2025-07-07T12:00:12.532Z"
   },
   {
    "duration": 67,
    "start_time": "2025-07-07T12:00:12.618Z"
   },
   {
    "duration": 176,
    "start_time": "2025-07-07T12:00:12.687Z"
   },
   {
    "duration": 264,
    "start_time": "2025-07-07T12:00:12.865Z"
   },
   {
    "duration": 475,
    "start_time": "2025-07-07T12:00:13.131Z"
   },
   {
    "duration": 22,
    "start_time": "2025-07-07T12:00:13.608Z"
   },
   {
    "duration": 23,
    "start_time": "2025-07-07T12:00:13.632Z"
   },
   {
    "duration": 43,
    "start_time": "2025-07-07T12:00:13.657Z"
   },
   {
    "duration": 28,
    "start_time": "2025-07-07T12:00:13.702Z"
   },
   {
    "duration": 123,
    "start_time": "2025-07-07T12:00:13.731Z"
   },
   {
    "duration": 31,
    "start_time": "2025-07-07T12:00:13.856Z"
   },
   {
    "duration": 33,
    "start_time": "2025-07-07T12:00:13.889Z"
   },
   {
    "duration": 16,
    "start_time": "2025-07-07T12:00:13.924Z"
   },
   {
    "duration": 79,
    "start_time": "2025-07-07T12:00:13.942Z"
   },
   {
    "duration": 305,
    "start_time": "2025-07-07T12:00:14.023Z"
   },
   {
    "duration": 11,
    "start_time": "2025-07-07T12:00:14.330Z"
   },
   {
    "duration": 17,
    "start_time": "2025-07-07T12:08:20.212Z"
   },
   {
    "duration": 11,
    "start_time": "2025-07-07T12:08:34.579Z"
   },
   {
    "duration": 2811,
    "start_time": "2025-07-07T12:08:57.681Z"
   },
   {
    "duration": 1463,
    "start_time": "2025-07-07T12:09:00.494Z"
   },
   {
    "duration": 2768,
    "start_time": "2025-07-07T12:09:01.959Z"
   },
   {
    "duration": 48,
    "start_time": "2025-07-07T12:09:04.733Z"
   },
   {
    "duration": 70,
    "start_time": "2025-07-07T12:09:04.785Z"
   },
   {
    "duration": 82,
    "start_time": "2025-07-07T12:09:04.857Z"
   },
   {
    "duration": 127,
    "start_time": "2025-07-07T12:09:04.941Z"
   },
   {
    "duration": 10,
    "start_time": "2025-07-07T12:09:05.070Z"
   },
   {
    "duration": 43,
    "start_time": "2025-07-07T12:09:05.082Z"
   },
   {
    "duration": 27,
    "start_time": "2025-07-07T12:09:05.127Z"
   },
   {
    "duration": 164,
    "start_time": "2025-07-07T12:09:05.156Z"
   },
   {
    "duration": 56,
    "start_time": "2025-07-07T12:09:05.322Z"
   },
   {
    "duration": 46,
    "start_time": "2025-07-07T12:09:05.380Z"
   },
   {
    "duration": 54,
    "start_time": "2025-07-07T12:09:05.429Z"
   },
   {
    "duration": 52,
    "start_time": "2025-07-07T12:09:05.485Z"
   },
   {
    "duration": 324,
    "start_time": "2025-07-07T12:09:05.538Z"
   },
   {
    "duration": 121,
    "start_time": "2025-07-07T12:09:05.863Z"
   },
   {
    "duration": 94,
    "start_time": "2025-07-07T12:09:05.986Z"
   },
   {
    "duration": 31,
    "start_time": "2025-07-07T12:09:06.082Z"
   },
   {
    "duration": 7,
    "start_time": "2025-07-07T12:09:06.117Z"
   },
   {
    "duration": 42,
    "start_time": "2025-07-07T12:09:06.125Z"
   },
   {
    "duration": 62,
    "start_time": "2025-07-07T12:09:06.169Z"
   },
   {
    "duration": 21,
    "start_time": "2025-07-07T12:09:06.233Z"
   },
   {
    "duration": 56,
    "start_time": "2025-07-07T12:09:06.257Z"
   },
   {
    "duration": 39,
    "start_time": "2025-07-07T12:09:06.319Z"
   },
   {
    "duration": 87,
    "start_time": "2025-07-07T12:09:06.360Z"
   },
   {
    "duration": 134,
    "start_time": "2025-07-07T12:09:06.449Z"
   },
   {
    "duration": 64,
    "start_time": "2025-07-07T12:09:06.584Z"
   },
   {
    "duration": 84,
    "start_time": "2025-07-07T12:09:06.650Z"
   },
   {
    "duration": 211,
    "start_time": "2025-07-07T12:09:06.736Z"
   },
   {
    "duration": 35,
    "start_time": "2025-07-07T12:09:06.949Z"
   },
   {
    "duration": 323,
    "start_time": "2025-07-07T12:09:06.986Z"
   },
   {
    "duration": 13,
    "start_time": "2025-07-07T12:09:07.312Z"
   },
   {
    "duration": 125,
    "start_time": "2025-07-07T12:09:07.327Z"
   },
   {
    "duration": 28,
    "start_time": "2025-07-07T12:09:07.454Z"
   },
   {
    "duration": 91,
    "start_time": "2025-07-07T12:09:07.484Z"
   },
   {
    "duration": 6,
    "start_time": "2025-07-07T12:09:07.576Z"
   },
   {
    "duration": 38,
    "start_time": "2025-07-07T12:09:07.600Z"
   },
   {
    "duration": 221,
    "start_time": "2025-07-07T12:09:07.640Z"
   },
   {
    "duration": 13,
    "start_time": "2025-07-07T12:09:07.863Z"
   },
   {
    "duration": 49,
    "start_time": "2025-07-07T12:09:07.881Z"
   },
   {
    "duration": 21,
    "start_time": "2025-07-07T12:09:07.932Z"
   },
   {
    "duration": 412,
    "start_time": "2025-07-07T12:09:07.955Z"
   },
   {
    "duration": 131,
    "start_time": "2025-07-07T12:09:08.369Z"
   },
   {
    "duration": 2779,
    "start_time": "2025-07-07T12:09:08.502Z"
   },
   {
    "duration": 197,
    "start_time": "2025-07-07T12:09:11.284Z"
   },
   {
    "duration": 180,
    "start_time": "2025-07-07T12:09:11.484Z"
   },
   {
    "duration": 115,
    "start_time": "2025-07-07T12:09:11.666Z"
   },
   {
    "duration": 41,
    "start_time": "2025-07-07T12:09:11.783Z"
   },
   {
    "duration": 136,
    "start_time": "2025-07-07T12:09:11.825Z"
   },
   {
    "duration": 85,
    "start_time": "2025-07-07T12:09:11.963Z"
   },
   {
    "duration": 115,
    "start_time": "2025-07-07T12:09:12.049Z"
   },
   {
    "duration": 264,
    "start_time": "2025-07-07T12:09:12.166Z"
   },
   {
    "duration": 497,
    "start_time": "2025-07-07T12:09:12.432Z"
   },
   {
    "duration": 22,
    "start_time": "2025-07-07T12:09:12.931Z"
   },
   {
    "duration": 48,
    "start_time": "2025-07-07T12:09:12.955Z"
   },
   {
    "duration": 22,
    "start_time": "2025-07-07T12:09:13.005Z"
   },
   {
    "duration": 21,
    "start_time": "2025-07-07T12:09:13.029Z"
   },
   {
    "duration": 18,
    "start_time": "2025-07-07T12:09:13.052Z"
   },
   {
    "duration": 38,
    "start_time": "2025-07-07T12:09:13.098Z"
   },
   {
    "duration": 24,
    "start_time": "2025-07-07T12:09:13.138Z"
   },
   {
    "duration": 52,
    "start_time": "2025-07-07T12:09:13.164Z"
   },
   {
    "duration": 160,
    "start_time": "2025-07-07T12:09:13.219Z"
   },
   {
    "duration": 295,
    "start_time": "2025-07-07T12:09:13.381Z"
   },
   {
    "duration": 5,
    "start_time": "2025-07-07T12:11:21.538Z"
   },
   {
    "duration": 6,
    "start_time": "2025-07-07T12:11:58.789Z"
   },
   {
    "duration": 27,
    "start_time": "2025-07-07T12:13:41.137Z"
   },
   {
    "duration": 23,
    "start_time": "2025-07-07T12:13:42.704Z"
   },
   {
    "duration": 11,
    "start_time": "2025-07-07T12:13:47.241Z"
   },
   {
    "duration": 175,
    "start_time": "2025-07-07T12:14:04.910Z"
   },
   {
    "duration": 185,
    "start_time": "2025-07-07T12:14:40.462Z"
   },
   {
    "duration": 3,
    "start_time": "2025-07-07T12:15:47.590Z"
   },
   {
    "duration": 14,
    "start_time": "2025-07-07T12:15:49.338Z"
   },
   {
    "duration": 187,
    "start_time": "2025-07-07T12:16:02.369Z"
   },
   {
    "duration": 17,
    "start_time": "2025-07-07T12:17:53.514Z"
   },
   {
    "duration": 3182,
    "start_time": "2025-07-07T12:18:47.363Z"
   },
   {
    "duration": 1474,
    "start_time": "2025-07-07T12:18:50.548Z"
   },
   {
    "duration": 2808,
    "start_time": "2025-07-07T12:18:52.028Z"
   },
   {
    "duration": 42,
    "start_time": "2025-07-07T12:18:54.842Z"
   },
   {
    "duration": 23,
    "start_time": "2025-07-07T12:18:54.886Z"
   },
   {
    "duration": 50,
    "start_time": "2025-07-07T12:18:54.915Z"
   },
   {
    "duration": 141,
    "start_time": "2025-07-07T12:18:54.968Z"
   },
   {
    "duration": 15,
    "start_time": "2025-07-07T12:18:55.112Z"
   },
   {
    "duration": 18,
    "start_time": "2025-07-07T12:18:55.129Z"
   },
   {
    "duration": 22,
    "start_time": "2025-07-07T12:18:55.149Z"
   },
   {
    "duration": 82,
    "start_time": "2025-07-07T12:18:55.173Z"
   },
   {
    "duration": 9,
    "start_time": "2025-07-07T12:18:55.257Z"
   },
   {
    "duration": 81,
    "start_time": "2025-07-07T12:18:55.269Z"
   },
   {
    "duration": 19,
    "start_time": "2025-07-07T12:18:55.354Z"
   },
   {
    "duration": 59,
    "start_time": "2025-07-07T12:18:55.375Z"
   },
   {
    "duration": 317,
    "start_time": "2025-07-07T12:18:55.436Z"
   },
   {
    "duration": 99,
    "start_time": "2025-07-07T12:18:55.755Z"
   },
   {
    "duration": 125,
    "start_time": "2025-07-07T12:18:55.856Z"
   },
   {
    "duration": 40,
    "start_time": "2025-07-07T12:18:55.983Z"
   },
   {
    "duration": 12,
    "start_time": "2025-07-07T12:18:56.028Z"
   },
   {
    "duration": 10,
    "start_time": "2025-07-07T12:18:56.042Z"
   },
   {
    "duration": 75,
    "start_time": "2025-07-07T12:18:56.054Z"
   },
   {
    "duration": 14,
    "start_time": "2025-07-07T12:18:56.131Z"
   },
   {
    "duration": 40,
    "start_time": "2025-07-07T12:18:56.147Z"
   },
   {
    "duration": 68,
    "start_time": "2025-07-07T12:18:56.189Z"
   },
   {
    "duration": 46,
    "start_time": "2025-07-07T12:18:56.259Z"
   },
   {
    "duration": 34,
    "start_time": "2025-07-07T12:18:56.309Z"
   },
   {
    "duration": 24,
    "start_time": "2025-07-07T12:18:56.345Z"
   },
   {
    "duration": 98,
    "start_time": "2025-07-07T12:18:56.371Z"
   },
   {
    "duration": 250,
    "start_time": "2025-07-07T12:18:56.471Z"
   },
   {
    "duration": 33,
    "start_time": "2025-07-07T12:18:56.726Z"
   },
   {
    "duration": 353,
    "start_time": "2025-07-07T12:18:56.761Z"
   },
   {
    "duration": 16,
    "start_time": "2025-07-07T12:18:57.116Z"
   },
   {
    "duration": 149,
    "start_time": "2025-07-07T12:18:57.134Z"
   },
   {
    "duration": 43,
    "start_time": "2025-07-07T12:18:57.285Z"
   },
   {
    "duration": 81,
    "start_time": "2025-07-07T12:18:57.330Z"
   },
   {
    "duration": 7,
    "start_time": "2025-07-07T12:18:57.415Z"
   },
   {
    "duration": 45,
    "start_time": "2025-07-07T12:18:57.424Z"
   },
   {
    "duration": 247,
    "start_time": "2025-07-07T12:18:57.471Z"
   },
   {
    "duration": 17,
    "start_time": "2025-07-07T12:18:57.721Z"
   },
   {
    "duration": 42,
    "start_time": "2025-07-07T12:18:57.742Z"
   },
   {
    "duration": 35,
    "start_time": "2025-07-07T12:18:57.785Z"
   },
   {
    "duration": 537,
    "start_time": "2025-07-07T12:18:57.823Z"
   },
   {
    "duration": 122,
    "start_time": "2025-07-07T12:18:58.362Z"
   },
   {
    "duration": 3004,
    "start_time": "2025-07-07T12:18:58.486Z"
   },
   {
    "duration": 230,
    "start_time": "2025-07-07T12:19:01.492Z"
   },
   {
    "duration": 160,
    "start_time": "2025-07-07T12:19:01.724Z"
   },
   {
    "duration": 192,
    "start_time": "2025-07-07T12:19:01.887Z"
   },
   {
    "duration": 42,
    "start_time": "2025-07-07T12:19:02.081Z"
   },
   {
    "duration": 77,
    "start_time": "2025-07-07T12:19:02.126Z"
   },
   {
    "duration": 77,
    "start_time": "2025-07-07T12:19:02.205Z"
   },
   {
    "duration": 133,
    "start_time": "2025-07-07T12:19:02.283Z"
   },
   {
    "duration": 269,
    "start_time": "2025-07-07T12:19:02.418Z"
   },
   {
    "duration": 474,
    "start_time": "2025-07-07T12:19:02.689Z"
   },
   {
    "duration": 19,
    "start_time": "2025-07-07T12:19:03.165Z"
   },
   {
    "duration": 47,
    "start_time": "2025-07-07T12:19:03.186Z"
   },
   {
    "duration": 17,
    "start_time": "2025-07-07T12:19:03.235Z"
   },
   {
    "duration": 186,
    "start_time": "2025-07-07T12:19:03.254Z"
   },
   {
    "duration": 36,
    "start_time": "2025-07-07T12:19:03.442Z"
   },
   {
    "duration": 53,
    "start_time": "2025-07-07T12:19:03.480Z"
   },
   {
    "duration": 170,
    "start_time": "2025-07-07T12:19:03.535Z"
   },
   {
    "duration": 0,
    "start_time": "2025-07-07T12:19:03.708Z"
   },
   {
    "duration": 0,
    "start_time": "2025-07-07T12:19:03.710Z"
   },
   {
    "duration": 0,
    "start_time": "2025-07-07T12:19:03.712Z"
   },
   {
    "duration": 0,
    "start_time": "2025-07-07T12:19:03.714Z"
   },
   {
    "duration": 18,
    "start_time": "2025-07-07T12:19:24.445Z"
   },
   {
    "duration": 17,
    "start_time": "2025-07-07T12:19:26.933Z"
   },
   {
    "duration": 200,
    "start_time": "2025-07-07T12:19:28.684Z"
   },
   {
    "duration": 4,
    "start_time": "2025-07-07T12:19:29.792Z"
   },
   {
    "duration": 181,
    "start_time": "2025-07-07T12:19:31.164Z"
   },
   {
    "duration": 12,
    "start_time": "2025-07-07T12:19:47.331Z"
   },
   {
    "duration": 550,
    "start_time": "2025-07-07T12:21:34.744Z"
   },
   {
    "duration": 435,
    "start_time": "2025-07-07T12:23:05.947Z"
   },
   {
    "duration": 2935,
    "start_time": "2025-07-07T12:23:48.731Z"
   },
   {
    "duration": 1256,
    "start_time": "2025-07-07T12:23:51.668Z"
   },
   {
    "duration": 2610,
    "start_time": "2025-07-07T12:23:52.928Z"
   },
   {
    "duration": 26,
    "start_time": "2025-07-07T12:23:55.540Z"
   },
   {
    "duration": 3,
    "start_time": "2025-07-07T12:23:55.568Z"
   },
   {
    "duration": 59,
    "start_time": "2025-07-07T12:23:55.572Z"
   },
   {
    "duration": 116,
    "start_time": "2025-07-07T12:23:55.632Z"
   },
   {
    "duration": 7,
    "start_time": "2025-07-07T12:23:55.750Z"
   },
   {
    "duration": 14,
    "start_time": "2025-07-07T12:23:55.759Z"
   },
   {
    "duration": 8,
    "start_time": "2025-07-07T12:23:55.775Z"
   },
   {
    "duration": 71,
    "start_time": "2025-07-07T12:23:55.785Z"
   },
   {
    "duration": 97,
    "start_time": "2025-07-07T12:23:55.858Z"
   },
   {
    "duration": 29,
    "start_time": "2025-07-07T12:23:55.957Z"
   },
   {
    "duration": 32,
    "start_time": "2025-07-07T12:23:55.988Z"
   },
   {
    "duration": 29,
    "start_time": "2025-07-07T12:23:56.024Z"
   },
   {
    "duration": 285,
    "start_time": "2025-07-07T12:23:56.054Z"
   },
   {
    "duration": 93,
    "start_time": "2025-07-07T12:23:56.341Z"
   },
   {
    "duration": 83,
    "start_time": "2025-07-07T12:23:56.435Z"
   },
   {
    "duration": 18,
    "start_time": "2025-07-07T12:23:56.520Z"
   },
   {
    "duration": 70,
    "start_time": "2025-07-07T12:23:56.540Z"
   },
   {
    "duration": 14,
    "start_time": "2025-07-07T12:23:56.611Z"
   },
   {
    "duration": 32,
    "start_time": "2025-07-07T12:23:56.627Z"
   },
   {
    "duration": 16,
    "start_time": "2025-07-07T12:23:56.660Z"
   },
   {
    "duration": 49,
    "start_time": "2025-07-07T12:23:56.677Z"
   },
   {
    "duration": 66,
    "start_time": "2025-07-07T12:23:56.730Z"
   },
   {
    "duration": 51,
    "start_time": "2025-07-07T12:23:56.797Z"
   },
   {
    "duration": 122,
    "start_time": "2025-07-07T12:23:56.850Z"
   },
   {
    "duration": 19,
    "start_time": "2025-07-07T12:23:56.976Z"
   },
   {
    "duration": 72,
    "start_time": "2025-07-07T12:23:56.996Z"
   },
   {
    "duration": 193,
    "start_time": "2025-07-07T12:23:57.070Z"
   },
   {
    "duration": 44,
    "start_time": "2025-07-07T12:23:57.264Z"
   },
   {
    "duration": 337,
    "start_time": "2025-07-07T12:23:57.322Z"
   },
   {
    "duration": 10,
    "start_time": "2025-07-07T12:23:57.661Z"
   },
   {
    "duration": 140,
    "start_time": "2025-07-07T12:23:57.673Z"
   },
   {
    "duration": 33,
    "start_time": "2025-07-07T12:23:57.817Z"
   },
   {
    "duration": 132,
    "start_time": "2025-07-07T12:23:57.852Z"
   },
   {
    "duration": 5,
    "start_time": "2025-07-07T12:23:57.986Z"
   },
   {
    "duration": 48,
    "start_time": "2025-07-07T12:23:57.993Z"
   },
   {
    "duration": 203,
    "start_time": "2025-07-07T12:23:58.043Z"
   },
   {
    "duration": 12,
    "start_time": "2025-07-07T12:23:58.248Z"
   },
   {
    "duration": 42,
    "start_time": "2025-07-07T12:23:58.262Z"
   },
   {
    "duration": 30,
    "start_time": "2025-07-07T12:23:58.309Z"
   },
   {
    "duration": 402,
    "start_time": "2025-07-07T12:23:58.341Z"
   },
   {
    "duration": 120,
    "start_time": "2025-07-07T12:23:58.745Z"
   },
   {
    "duration": 2776,
    "start_time": "2025-07-07T12:23:58.867Z"
   },
   {
    "duration": 214,
    "start_time": "2025-07-07T12:24:01.646Z"
   },
   {
    "duration": 154,
    "start_time": "2025-07-07T12:24:01.862Z"
   },
   {
    "duration": 113,
    "start_time": "2025-07-07T12:24:02.018Z"
   },
   {
    "duration": 30,
    "start_time": "2025-07-07T12:24:02.132Z"
   },
   {
    "duration": 276,
    "start_time": "2025-07-07T12:24:02.164Z"
   },
   {
    "duration": 70,
    "start_time": "2025-07-07T12:24:02.441Z"
   },
   {
    "duration": 110,
    "start_time": "2025-07-07T12:24:02.513Z"
   },
   {
    "duration": 292,
    "start_time": "2025-07-07T12:24:02.624Z"
   },
   {
    "duration": 462,
    "start_time": "2025-07-07T12:24:02.919Z"
   },
   {
    "duration": 42,
    "start_time": "2025-07-07T12:24:03.383Z"
   },
   {
    "duration": 22,
    "start_time": "2025-07-07T12:24:03.429Z"
   },
   {
    "duration": 55,
    "start_time": "2025-07-07T12:24:03.453Z"
   },
   {
    "duration": 25,
    "start_time": "2025-07-07T12:24:03.511Z"
   },
   {
    "duration": 20,
    "start_time": "2025-07-07T12:24:03.538Z"
   },
   {
    "duration": 61,
    "start_time": "2025-07-07T12:24:03.560Z"
   },
   {
    "duration": 28,
    "start_time": "2025-07-07T12:24:03.625Z"
   },
   {
    "duration": 18,
    "start_time": "2025-07-07T12:24:03.654Z"
   },
   {
    "duration": 612,
    "start_time": "2025-07-07T12:24:03.673Z"
   },
   {
    "duration": 99,
    "start_time": "2025-07-07T12:24:04.287Z"
   },
   {
    "duration": 0,
    "start_time": "2025-07-07T12:24:04.387Z"
   },
   {
    "duration": 57,
    "start_time": "2025-07-07T12:24:13.219Z"
   },
   {
    "duration": 11,
    "start_time": "2025-07-07T12:24:24.233Z"
   },
   {
    "duration": 14,
    "start_time": "2025-07-07T12:24:55.719Z"
   },
   {
    "duration": 16,
    "start_time": "2025-07-07T12:25:03.798Z"
   },
   {
    "duration": 98,
    "start_time": "2025-07-07T12:25:46.310Z"
   },
   {
    "duration": 79,
    "start_time": "2025-07-07T12:25:55.237Z"
   },
   {
    "duration": 97,
    "start_time": "2025-07-07T12:26:07.968Z"
   },
   {
    "duration": 176,
    "start_time": "2025-07-07T12:26:17.054Z"
   },
   {
    "duration": 157,
    "start_time": "2025-07-07T12:26:36.225Z"
   },
   {
    "duration": 418,
    "start_time": "2025-07-07T12:27:16.376Z"
   },
   {
    "duration": 122,
    "start_time": "2025-07-07T12:27:38.508Z"
   },
   {
    "duration": 29,
    "start_time": "2025-07-07T12:27:46.529Z"
   },
   {
    "duration": 15,
    "start_time": "2025-07-07T12:28:13.826Z"
   },
   {
    "duration": 10,
    "start_time": "2025-07-07T12:28:56.380Z"
   },
   {
    "duration": 20,
    "start_time": "2025-07-07T12:29:01.796Z"
   },
   {
    "duration": 3002,
    "start_time": "2025-07-07T12:29:11.987Z"
   },
   {
    "duration": 1439,
    "start_time": "2025-07-07T12:29:14.991Z"
   },
   {
    "duration": 4003,
    "start_time": "2025-07-07T12:29:16.432Z"
   },
   {
    "duration": 30,
    "start_time": "2025-07-07T12:29:20.437Z"
   },
   {
    "duration": 26,
    "start_time": "2025-07-07T12:29:20.470Z"
   },
   {
    "duration": 107,
    "start_time": "2025-07-07T12:29:20.498Z"
   },
   {
    "duration": 125,
    "start_time": "2025-07-07T12:29:20.608Z"
   },
   {
    "duration": 9,
    "start_time": "2025-07-07T12:29:20.734Z"
   },
   {
    "duration": 61,
    "start_time": "2025-07-07T12:29:20.744Z"
   },
   {
    "duration": 22,
    "start_time": "2025-07-07T12:29:20.807Z"
   },
   {
    "duration": 68,
    "start_time": "2025-07-07T12:29:20.832Z"
   },
   {
    "duration": 14,
    "start_time": "2025-07-07T12:29:20.902Z"
   },
   {
    "duration": 89,
    "start_time": "2025-07-07T12:29:20.919Z"
   },
   {
    "duration": 15,
    "start_time": "2025-07-07T12:29:21.014Z"
   },
   {
    "duration": 36,
    "start_time": "2025-07-07T12:29:21.031Z"
   },
   {
    "duration": 299,
    "start_time": "2025-07-07T12:29:21.069Z"
   },
   {
    "duration": 94,
    "start_time": "2025-07-07T12:29:21.370Z"
   },
   {
    "duration": 98,
    "start_time": "2025-07-07T12:29:21.465Z"
   },
   {
    "duration": 15,
    "start_time": "2025-07-07T12:29:21.566Z"
   },
   {
    "duration": 33,
    "start_time": "2025-07-07T12:29:21.583Z"
   },
   {
    "duration": 21,
    "start_time": "2025-07-07T12:29:21.618Z"
   },
   {
    "duration": 62,
    "start_time": "2025-07-07T12:29:21.641Z"
   },
   {
    "duration": 19,
    "start_time": "2025-07-07T12:29:21.706Z"
   },
   {
    "duration": 33,
    "start_time": "2025-07-07T12:29:21.726Z"
   },
   {
    "duration": 54,
    "start_time": "2025-07-07T12:29:21.760Z"
   },
   {
    "duration": 149,
    "start_time": "2025-07-07T12:29:21.818Z"
   },
   {
    "duration": 56,
    "start_time": "2025-07-07T12:29:21.970Z"
   },
   {
    "duration": 34,
    "start_time": "2025-07-07T12:29:22.027Z"
   },
   {
    "duration": 73,
    "start_time": "2025-07-07T12:29:22.062Z"
   },
   {
    "duration": 216,
    "start_time": "2025-07-07T12:29:22.137Z"
   },
   {
    "duration": 28,
    "start_time": "2025-07-07T12:29:22.355Z"
   },
   {
    "duration": 310,
    "start_time": "2025-07-07T12:29:22.404Z"
   },
   {
    "duration": 12,
    "start_time": "2025-07-07T12:29:22.717Z"
   },
   {
    "duration": 140,
    "start_time": "2025-07-07T12:29:22.731Z"
   },
   {
    "duration": 37,
    "start_time": "2025-07-07T12:29:22.873Z"
   },
   {
    "duration": 171,
    "start_time": "2025-07-07T12:29:22.915Z"
   },
   {
    "duration": 4,
    "start_time": "2025-07-07T12:29:23.088Z"
   },
   {
    "duration": 59,
    "start_time": "2025-07-07T12:29:23.094Z"
   },
   {
    "duration": 225,
    "start_time": "2025-07-07T12:29:23.155Z"
   },
   {
    "duration": 17,
    "start_time": "2025-07-07T12:29:23.382Z"
   },
   {
    "duration": 36,
    "start_time": "2025-07-07T12:29:23.406Z"
   },
   {
    "duration": 21,
    "start_time": "2025-07-07T12:29:23.444Z"
   },
   {
    "duration": 425,
    "start_time": "2025-07-07T12:29:23.467Z"
   },
   {
    "duration": 132,
    "start_time": "2025-07-07T12:29:23.894Z"
   },
   {
    "duration": 2941,
    "start_time": "2025-07-07T12:29:24.028Z"
   },
   {
    "duration": 198,
    "start_time": "2025-07-07T12:29:26.971Z"
   },
   {
    "duration": 162,
    "start_time": "2025-07-07T12:29:27.170Z"
   },
   {
    "duration": 110,
    "start_time": "2025-07-07T12:29:27.334Z"
   },
   {
    "duration": 32,
    "start_time": "2025-07-07T12:29:27.446Z"
   },
   {
    "duration": 95,
    "start_time": "2025-07-07T12:29:27.480Z"
   },
   {
    "duration": 81,
    "start_time": "2025-07-07T12:29:27.577Z"
   },
   {
    "duration": 122,
    "start_time": "2025-07-07T12:29:27.660Z"
   },
   {
    "duration": 269,
    "start_time": "2025-07-07T12:29:27.784Z"
   },
   {
    "duration": 472,
    "start_time": "2025-07-07T12:29:28.055Z"
   },
   {
    "duration": 19,
    "start_time": "2025-07-07T12:29:28.529Z"
   },
   {
    "duration": 86,
    "start_time": "2025-07-07T12:29:28.550Z"
   },
   {
    "duration": 19,
    "start_time": "2025-07-07T12:29:28.638Z"
   },
   {
    "duration": 19,
    "start_time": "2025-07-07T12:29:28.659Z"
   },
   {
    "duration": 39,
    "start_time": "2025-07-07T12:29:28.681Z"
   },
   {
    "duration": 30,
    "start_time": "2025-07-07T12:29:28.722Z"
   },
   {
    "duration": 29,
    "start_time": "2025-07-07T12:29:28.754Z"
   },
   {
    "duration": 38,
    "start_time": "2025-07-07T12:29:28.785Z"
   },
   {
    "duration": 643,
    "start_time": "2025-07-07T12:29:28.826Z"
   },
   {
    "duration": 72,
    "start_time": "2025-07-07T12:29:29.471Z"
   },
   {
    "duration": 81,
    "start_time": "2025-07-07T12:31:45.363Z"
   },
   {
    "duration": 77,
    "start_time": "2025-07-07T12:32:09.668Z"
   },
   {
    "duration": 13,
    "start_time": "2025-07-07T12:34:46.876Z"
   },
   {
    "duration": 117,
    "start_time": "2025-07-07T12:37:50.304Z"
   },
   {
    "duration": 12,
    "start_time": "2025-07-07T12:38:29.145Z"
   },
   {
    "duration": 11,
    "start_time": "2025-07-07T12:41:39.536Z"
   },
   {
    "duration": 9,
    "start_time": "2025-07-07T12:42:49.118Z"
   },
   {
    "duration": 11,
    "start_time": "2025-07-07T12:42:57.607Z"
   },
   {
    "duration": 2669,
    "start_time": "2025-07-07T12:43:16.975Z"
   },
   {
    "duration": 1261,
    "start_time": "2025-07-07T12:43:19.646Z"
   },
   {
    "duration": 2486,
    "start_time": "2025-07-07T12:43:20.912Z"
   },
   {
    "duration": 41,
    "start_time": "2025-07-07T12:43:23.401Z"
   },
   {
    "duration": 4,
    "start_time": "2025-07-07T12:43:23.444Z"
   },
   {
    "duration": 64,
    "start_time": "2025-07-07T12:43:23.449Z"
   },
   {
    "duration": 125,
    "start_time": "2025-07-07T12:43:23.516Z"
   },
   {
    "duration": 9,
    "start_time": "2025-07-07T12:43:23.642Z"
   },
   {
    "duration": 23,
    "start_time": "2025-07-07T12:43:23.653Z"
   },
   {
    "duration": 25,
    "start_time": "2025-07-07T12:43:23.680Z"
   },
   {
    "duration": 47,
    "start_time": "2025-07-07T12:43:23.707Z"
   },
   {
    "duration": 7,
    "start_time": "2025-07-07T12:43:23.756Z"
   },
   {
    "duration": 21,
    "start_time": "2025-07-07T12:43:23.765Z"
   },
   {
    "duration": 30,
    "start_time": "2025-07-07T12:43:23.788Z"
   },
   {
    "duration": 43,
    "start_time": "2025-07-07T12:43:23.820Z"
   },
   {
    "duration": 278,
    "start_time": "2025-07-07T12:43:23.865Z"
   },
   {
    "duration": 91,
    "start_time": "2025-07-07T12:43:24.144Z"
   },
   {
    "duration": 93,
    "start_time": "2025-07-07T12:43:24.237Z"
   },
   {
    "duration": 15,
    "start_time": "2025-07-07T12:43:24.332Z"
   },
   {
    "duration": 7,
    "start_time": "2025-07-07T12:43:24.348Z"
   },
   {
    "duration": 12,
    "start_time": "2025-07-07T12:43:24.357Z"
   },
   {
    "duration": 70,
    "start_time": "2025-07-07T12:43:24.371Z"
   },
   {
    "duration": 11,
    "start_time": "2025-07-07T12:43:24.443Z"
   },
   {
    "duration": 16,
    "start_time": "2025-07-07T12:43:24.456Z"
   },
   {
    "duration": 67,
    "start_time": "2025-07-07T12:43:24.475Z"
   },
   {
    "duration": 47,
    "start_time": "2025-07-07T12:43:24.543Z"
   },
   {
    "duration": 105,
    "start_time": "2025-07-07T12:43:24.592Z"
   },
   {
    "duration": 39,
    "start_time": "2025-07-07T12:43:24.704Z"
   },
   {
    "duration": 88,
    "start_time": "2025-07-07T12:43:24.746Z"
   },
   {
    "duration": 218,
    "start_time": "2025-07-07T12:43:24.836Z"
   },
   {
    "duration": 28,
    "start_time": "2025-07-07T12:43:25.057Z"
   },
   {
    "duration": 318,
    "start_time": "2025-07-07T12:43:25.087Z"
   },
   {
    "duration": 13,
    "start_time": "2025-07-07T12:43:25.407Z"
   },
   {
    "duration": 134,
    "start_time": "2025-07-07T12:43:25.422Z"
   },
   {
    "duration": 26,
    "start_time": "2025-07-07T12:43:25.557Z"
   },
   {
    "duration": 87,
    "start_time": "2025-07-07T12:43:25.584Z"
   },
   {
    "duration": 4,
    "start_time": "2025-07-07T12:43:25.672Z"
   },
   {
    "duration": 56,
    "start_time": "2025-07-07T12:43:25.678Z"
   },
   {
    "duration": 234,
    "start_time": "2025-07-07T12:43:25.735Z"
   },
   {
    "duration": 11,
    "start_time": "2025-07-07T12:43:25.971Z"
   },
   {
    "duration": 50,
    "start_time": "2025-07-07T12:43:25.985Z"
   },
   {
    "duration": 19,
    "start_time": "2025-07-07T12:43:26.036Z"
   },
   {
    "duration": 381,
    "start_time": "2025-07-07T12:43:26.056Z"
   },
   {
    "duration": 114,
    "start_time": "2025-07-07T12:43:26.438Z"
   },
   {
    "duration": 2735,
    "start_time": "2025-07-07T12:43:26.554Z"
   },
   {
    "duration": 202,
    "start_time": "2025-07-07T12:43:29.291Z"
   },
   {
    "duration": 172,
    "start_time": "2025-07-07T12:43:29.500Z"
   },
   {
    "duration": 112,
    "start_time": "2025-07-07T12:43:29.674Z"
   },
   {
    "duration": 43,
    "start_time": "2025-07-07T12:43:29.788Z"
   },
   {
    "duration": 86,
    "start_time": "2025-07-07T12:43:29.833Z"
   },
   {
    "duration": 66,
    "start_time": "2025-07-07T12:43:29.921Z"
   },
   {
    "duration": 134,
    "start_time": "2025-07-07T12:43:30.003Z"
   },
   {
    "duration": 256,
    "start_time": "2025-07-07T12:43:30.139Z"
   },
   {
    "duration": 463,
    "start_time": "2025-07-07T12:43:30.405Z"
   },
   {
    "duration": 32,
    "start_time": "2025-07-07T12:43:30.873Z"
   },
   {
    "duration": 34,
    "start_time": "2025-07-07T12:43:30.908Z"
   },
   {
    "duration": 227,
    "start_time": "2025-07-07T12:43:30.943Z"
   },
   {
    "duration": 34,
    "start_time": "2025-07-07T12:43:31.172Z"
   },
   {
    "duration": 19,
    "start_time": "2025-07-07T12:43:31.210Z"
   },
   {
    "duration": 47,
    "start_time": "2025-07-07T12:43:31.231Z"
   },
   {
    "duration": 38,
    "start_time": "2025-07-07T12:43:31.280Z"
   },
   {
    "duration": 17,
    "start_time": "2025-07-07T12:43:31.321Z"
   },
   {
    "duration": 714,
    "start_time": "2025-07-07T12:43:31.339Z"
   },
   {
    "duration": 62,
    "start_time": "2025-07-07T12:43:32.055Z"
   },
   {
    "duration": 13,
    "start_time": "2025-07-07T12:43:32.119Z"
   },
   {
    "duration": 17,
    "start_time": "2025-07-07T12:43:32.134Z"
   },
   {
    "duration": 27,
    "start_time": "2025-07-07T12:43:32.153Z"
   },
   {
    "duration": 12,
    "start_time": "2025-07-07T12:45:44.796Z"
   },
   {
    "duration": 9,
    "start_time": "2025-07-07T12:45:56.653Z"
   },
   {
    "duration": 3179,
    "start_time": "2025-07-07T12:46:28.929Z"
   },
   {
    "duration": 1422,
    "start_time": "2025-07-07T12:46:32.115Z"
   },
   {
    "duration": 2502,
    "start_time": "2025-07-07T12:46:33.538Z"
   },
   {
    "duration": 27,
    "start_time": "2025-07-07T12:46:36.042Z"
   },
   {
    "duration": 54,
    "start_time": "2025-07-07T12:46:36.071Z"
   },
   {
    "duration": 122,
    "start_time": "2025-07-07T12:46:36.128Z"
   },
   {
    "duration": 124,
    "start_time": "2025-07-07T12:46:36.251Z"
   },
   {
    "duration": 8,
    "start_time": "2025-07-07T12:46:36.378Z"
   },
   {
    "duration": 28,
    "start_time": "2025-07-07T12:46:36.388Z"
   },
   {
    "duration": 16,
    "start_time": "2025-07-07T12:46:36.420Z"
   },
   {
    "duration": 51,
    "start_time": "2025-07-07T12:46:36.437Z"
   },
   {
    "duration": 23,
    "start_time": "2025-07-07T12:46:36.489Z"
   },
   {
    "duration": 35,
    "start_time": "2025-07-07T12:46:36.519Z"
   },
   {
    "duration": 167,
    "start_time": "2025-07-07T12:46:36.556Z"
   },
   {
    "duration": 53,
    "start_time": "2025-07-07T12:46:36.727Z"
   },
   {
    "duration": 313,
    "start_time": "2025-07-07T12:46:36.782Z"
   },
   {
    "duration": 105,
    "start_time": "2025-07-07T12:46:37.100Z"
   },
   {
    "duration": 104,
    "start_time": "2025-07-07T12:46:37.209Z"
   },
   {
    "duration": 24,
    "start_time": "2025-07-07T12:46:37.318Z"
   },
   {
    "duration": 7,
    "start_time": "2025-07-07T12:46:37.343Z"
   },
   {
    "duration": 21,
    "start_time": "2025-07-07T12:46:37.351Z"
   },
   {
    "duration": 58,
    "start_time": "2025-07-07T12:46:37.374Z"
   },
   {
    "duration": 18,
    "start_time": "2025-07-07T12:46:37.434Z"
   },
   {
    "duration": 31,
    "start_time": "2025-07-07T12:46:37.454Z"
   },
   {
    "duration": 69,
    "start_time": "2025-07-07T12:46:37.486Z"
   },
   {
    "duration": 38,
    "start_time": "2025-07-07T12:46:37.557Z"
   },
   {
    "duration": 47,
    "start_time": "2025-07-07T12:46:37.597Z"
   },
   {
    "duration": 22,
    "start_time": "2025-07-07T12:46:37.649Z"
   },
   {
    "duration": 102,
    "start_time": "2025-07-07T12:46:37.673Z"
   },
   {
    "duration": 225,
    "start_time": "2025-07-07T12:46:37.777Z"
   },
   {
    "duration": 37,
    "start_time": "2025-07-07T12:46:38.005Z"
   },
   {
    "duration": 326,
    "start_time": "2025-07-07T12:46:38.045Z"
   },
   {
    "duration": 9,
    "start_time": "2025-07-07T12:46:38.373Z"
   },
   {
    "duration": 158,
    "start_time": "2025-07-07T12:46:38.383Z"
   },
   {
    "duration": 27,
    "start_time": "2025-07-07T12:46:38.543Z"
   },
   {
    "duration": 110,
    "start_time": "2025-07-07T12:46:38.572Z"
   },
   {
    "duration": 6,
    "start_time": "2025-07-07T12:46:38.684Z"
   },
   {
    "duration": 67,
    "start_time": "2025-07-07T12:46:38.692Z"
   },
   {
    "duration": 219,
    "start_time": "2025-07-07T12:46:38.761Z"
   },
   {
    "duration": 18,
    "start_time": "2025-07-07T12:46:38.982Z"
   },
   {
    "duration": 78,
    "start_time": "2025-07-07T12:46:39.003Z"
   },
   {
    "duration": 38,
    "start_time": "2025-07-07T12:46:39.083Z"
   },
   {
    "duration": 416,
    "start_time": "2025-07-07T12:46:39.127Z"
   },
   {
    "duration": 127,
    "start_time": "2025-07-07T12:46:39.544Z"
   },
   {
    "duration": 3052,
    "start_time": "2025-07-07T12:46:39.673Z"
   },
   {
    "duration": 209,
    "start_time": "2025-07-07T12:46:42.728Z"
   },
   {
    "duration": 160,
    "start_time": "2025-07-07T12:46:42.939Z"
   },
   {
    "duration": 128,
    "start_time": "2025-07-07T12:46:43.102Z"
   },
   {
    "duration": 33,
    "start_time": "2025-07-07T12:46:43.232Z"
   },
   {
    "duration": 107,
    "start_time": "2025-07-07T12:46:43.268Z"
   },
   {
    "duration": 81,
    "start_time": "2025-07-07T12:46:43.377Z"
   },
   {
    "duration": 125,
    "start_time": "2025-07-07T12:46:43.460Z"
   },
   {
    "duration": 298,
    "start_time": "2025-07-07T12:46:43.588Z"
   },
   {
    "duration": 489,
    "start_time": "2025-07-07T12:46:43.888Z"
   },
   {
    "duration": 21,
    "start_time": "2025-07-07T12:46:44.379Z"
   },
   {
    "duration": 39,
    "start_time": "2025-07-07T12:46:44.402Z"
   },
   {
    "duration": 18,
    "start_time": "2025-07-07T12:46:44.443Z"
   },
   {
    "duration": 45,
    "start_time": "2025-07-07T12:46:44.463Z"
   },
   {
    "duration": 29,
    "start_time": "2025-07-07T12:46:44.510Z"
   },
   {
    "duration": 29,
    "start_time": "2025-07-07T12:46:44.541Z"
   },
   {
    "duration": 71,
    "start_time": "2025-07-07T12:46:44.571Z"
   },
   {
    "duration": 76,
    "start_time": "2025-07-07T12:46:44.644Z"
   },
   {
    "duration": 693,
    "start_time": "2025-07-07T12:46:44.722Z"
   },
   {
    "duration": 48,
    "start_time": "2025-07-07T12:46:45.421Z"
   },
   {
    "duration": 12,
    "start_time": "2025-07-07T12:46:45.470Z"
   },
   {
    "duration": 33,
    "start_time": "2025-07-07T12:46:45.483Z"
   },
   {
    "duration": 15,
    "start_time": "2025-07-07T12:46:45.519Z"
   },
   {
    "duration": 2877,
    "start_time": "2025-07-07T12:55:27.595Z"
   },
   {
    "duration": 1355,
    "start_time": "2025-07-07T12:55:30.475Z"
   },
   {
    "duration": 2627,
    "start_time": "2025-07-07T12:55:31.831Z"
   },
   {
    "duration": 27,
    "start_time": "2025-07-07T12:55:34.460Z"
   },
   {
    "duration": 24,
    "start_time": "2025-07-07T12:55:34.489Z"
   },
   {
    "duration": 73,
    "start_time": "2025-07-07T12:55:34.518Z"
   },
   {
    "duration": 115,
    "start_time": "2025-07-07T12:55:34.593Z"
   },
   {
    "duration": 20,
    "start_time": "2025-07-07T12:55:34.711Z"
   },
   {
    "duration": 27,
    "start_time": "2025-07-07T12:55:34.733Z"
   },
   {
    "duration": 19,
    "start_time": "2025-07-07T12:55:34.764Z"
   },
   {
    "duration": 66,
    "start_time": "2025-07-07T12:55:34.786Z"
   },
   {
    "duration": 7,
    "start_time": "2025-07-07T12:55:34.854Z"
   },
   {
    "duration": 40,
    "start_time": "2025-07-07T12:55:34.862Z"
   },
   {
    "duration": 11,
    "start_time": "2025-07-07T12:55:34.909Z"
   },
   {
    "duration": 31,
    "start_time": "2025-07-07T12:55:34.921Z"
   },
   {
    "duration": 284,
    "start_time": "2025-07-07T12:55:34.954Z"
   },
   {
    "duration": 93,
    "start_time": "2025-07-07T12:55:35.239Z"
   },
   {
    "duration": 96,
    "start_time": "2025-07-07T12:55:35.334Z"
   },
   {
    "duration": 15,
    "start_time": "2025-07-07T12:55:35.432Z"
   },
   {
    "duration": 24,
    "start_time": "2025-07-07T12:55:35.449Z"
   },
   {
    "duration": 11,
    "start_time": "2025-07-07T12:55:35.475Z"
   },
   {
    "duration": 50,
    "start_time": "2025-07-07T12:55:35.488Z"
   },
   {
    "duration": 18,
    "start_time": "2025-07-07T12:55:35.539Z"
   },
   {
    "duration": 19,
    "start_time": "2025-07-07T12:55:35.559Z"
   },
   {
    "duration": 53,
    "start_time": "2025-07-07T12:55:35.580Z"
   },
   {
    "duration": 38,
    "start_time": "2025-07-07T12:55:35.635Z"
   },
   {
    "duration": 47,
    "start_time": "2025-07-07T12:55:35.675Z"
   },
   {
    "duration": 71,
    "start_time": "2025-07-07T12:55:35.726Z"
   },
   {
    "duration": 77,
    "start_time": "2025-07-07T12:55:35.800Z"
   },
   {
    "duration": 258,
    "start_time": "2025-07-07T12:55:35.879Z"
   },
   {
    "duration": 29,
    "start_time": "2025-07-07T12:55:36.138Z"
   },
   {
    "duration": 345,
    "start_time": "2025-07-07T12:55:36.169Z"
   },
   {
    "duration": 9,
    "start_time": "2025-07-07T12:55:36.516Z"
   },
   {
    "duration": 146,
    "start_time": "2025-07-07T12:55:36.527Z"
   },
   {
    "duration": 38,
    "start_time": "2025-07-07T12:55:36.674Z"
   },
   {
    "duration": 65,
    "start_time": "2025-07-07T12:55:36.716Z"
   },
   {
    "duration": 19,
    "start_time": "2025-07-07T12:55:36.799Z"
   },
   {
    "duration": 46,
    "start_time": "2025-07-07T12:55:36.820Z"
   },
   {
    "duration": 202,
    "start_time": "2025-07-07T12:55:36.868Z"
   },
   {
    "duration": 12,
    "start_time": "2025-07-07T12:55:37.071Z"
   },
   {
    "duration": 100,
    "start_time": "2025-07-07T12:55:37.085Z"
   },
   {
    "duration": 27,
    "start_time": "2025-07-07T12:55:37.187Z"
   },
   {
    "duration": 395,
    "start_time": "2025-07-07T12:55:37.220Z"
   },
   {
    "duration": 112,
    "start_time": "2025-07-07T12:55:37.618Z"
   },
   {
    "duration": 2875,
    "start_time": "2025-07-07T12:55:37.731Z"
   },
   {
    "duration": 207,
    "start_time": "2025-07-07T12:55:40.611Z"
   },
   {
    "duration": 153,
    "start_time": "2025-07-07T12:55:40.820Z"
   },
   {
    "duration": 120,
    "start_time": "2025-07-07T12:55:40.975Z"
   },
   {
    "duration": 42,
    "start_time": "2025-07-07T12:55:41.097Z"
   },
   {
    "duration": 104,
    "start_time": "2025-07-07T12:55:41.141Z"
   },
   {
    "duration": 76,
    "start_time": "2025-07-07T12:55:41.247Z"
   },
   {
    "duration": 111,
    "start_time": "2025-07-07T12:55:41.325Z"
   },
   {
    "duration": 285,
    "start_time": "2025-07-07T12:55:41.438Z"
   },
   {
    "duration": 468,
    "start_time": "2025-07-07T12:55:41.725Z"
   },
   {
    "duration": 31,
    "start_time": "2025-07-07T12:55:42.194Z"
   },
   {
    "duration": 22,
    "start_time": "2025-07-07T12:55:42.227Z"
   },
   {
    "duration": 20,
    "start_time": "2025-07-07T12:55:42.251Z"
   },
   {
    "duration": 51,
    "start_time": "2025-07-07T12:55:42.273Z"
   },
   {
    "duration": 18,
    "start_time": "2025-07-07T12:55:42.326Z"
   },
   {
    "duration": 64,
    "start_time": "2025-07-07T12:55:42.346Z"
   },
   {
    "duration": 26,
    "start_time": "2025-07-07T12:55:42.417Z"
   },
   {
    "duration": 17,
    "start_time": "2025-07-07T12:55:42.445Z"
   },
   {
    "duration": 645,
    "start_time": "2025-07-07T12:55:42.464Z"
   },
   {
    "duration": 47,
    "start_time": "2025-07-07T12:55:43.116Z"
   },
   {
    "duration": 11,
    "start_time": "2025-07-07T12:55:43.165Z"
   },
   {
    "duration": 22,
    "start_time": "2025-07-07T12:55:43.178Z"
   },
   {
    "duration": 15,
    "start_time": "2025-07-07T12:55:43.202Z"
   },
   {
    "duration": 178,
    "start_time": "2025-07-07T13:25:02.185Z"
   },
   {
    "duration": 181,
    "start_time": "2025-07-07T13:25:42.088Z"
   },
   {
    "duration": 172,
    "start_time": "2025-07-07T13:26:22.899Z"
   },
   {
    "duration": 82,
    "start_time": "2025-07-07T13:27:44.109Z"
   },
   {
    "duration": 179,
    "start_time": "2025-07-07T13:27:50.641Z"
   },
   {
    "duration": 2538,
    "start_time": "2025-07-07T13:29:29.479Z"
   },
   {
    "duration": 1249,
    "start_time": "2025-07-07T13:29:32.020Z"
   },
   {
    "duration": 2008,
    "start_time": "2025-07-07T13:29:33.271Z"
   },
   {
    "duration": 37,
    "start_time": "2025-07-07T13:29:35.280Z"
   },
   {
    "duration": 3,
    "start_time": "2025-07-07T13:29:35.319Z"
   },
   {
    "duration": 65,
    "start_time": "2025-07-07T13:29:35.323Z"
   },
   {
    "duration": 116,
    "start_time": "2025-07-07T13:29:35.389Z"
   },
   {
    "duration": 13,
    "start_time": "2025-07-07T13:29:35.512Z"
   },
   {
    "duration": 37,
    "start_time": "2025-07-07T13:29:35.527Z"
   },
   {
    "duration": 47,
    "start_time": "2025-07-07T13:29:35.565Z"
   },
   {
    "duration": 71,
    "start_time": "2025-07-07T13:29:35.619Z"
   },
   {
    "duration": 30,
    "start_time": "2025-07-07T13:29:35.692Z"
   },
   {
    "duration": 59,
    "start_time": "2025-07-07T13:29:35.724Z"
   },
   {
    "duration": 8,
    "start_time": "2025-07-07T13:29:35.786Z"
   },
   {
    "duration": 51,
    "start_time": "2025-07-07T13:29:35.795Z"
   },
   {
    "duration": 304,
    "start_time": "2025-07-07T13:29:35.848Z"
   },
   {
    "duration": 84,
    "start_time": "2025-07-07T13:29:36.154Z"
   },
   {
    "duration": 211,
    "start_time": "2025-07-07T13:29:36.239Z"
   },
   {
    "duration": 17,
    "start_time": "2025-07-07T13:29:36.451Z"
   },
   {
    "duration": 6,
    "start_time": "2025-07-07T13:29:36.469Z"
   },
   {
    "duration": 38,
    "start_time": "2025-07-07T13:29:36.477Z"
   },
   {
    "duration": 49,
    "start_time": "2025-07-07T13:29:36.518Z"
   },
   {
    "duration": 11,
    "start_time": "2025-07-07T13:29:36.569Z"
   },
   {
    "duration": 37,
    "start_time": "2025-07-07T13:29:36.582Z"
   },
   {
    "duration": 71,
    "start_time": "2025-07-07T13:29:36.620Z"
   },
   {
    "duration": 46,
    "start_time": "2025-07-07T13:29:36.692Z"
   },
   {
    "duration": 25,
    "start_time": "2025-07-07T13:29:36.739Z"
   },
   {
    "duration": 29,
    "start_time": "2025-07-07T13:29:36.765Z"
   },
   {
    "duration": 151,
    "start_time": "2025-07-07T13:29:36.798Z"
   },
   {
    "duration": 180,
    "start_time": "2025-07-07T13:29:36.951Z"
   },
   {
    "duration": 27,
    "start_time": "2025-07-07T13:29:37.133Z"
   },
   {
    "duration": 298,
    "start_time": "2025-07-07T13:29:37.161Z"
   },
   {
    "duration": 9,
    "start_time": "2025-07-07T13:29:37.460Z"
   },
   {
    "duration": 114,
    "start_time": "2025-07-07T13:29:37.471Z"
   },
   {
    "duration": 42,
    "start_time": "2025-07-07T13:29:37.588Z"
   },
   {
    "duration": 76,
    "start_time": "2025-07-07T13:29:37.631Z"
   },
   {
    "duration": 9,
    "start_time": "2025-07-07T13:29:37.710Z"
   },
   {
    "duration": 37,
    "start_time": "2025-07-07T13:29:37.724Z"
   },
   {
    "duration": 201,
    "start_time": "2025-07-07T13:29:37.763Z"
   },
   {
    "duration": 12,
    "start_time": "2025-07-07T13:29:37.965Z"
   },
   {
    "duration": 47,
    "start_time": "2025-07-07T13:29:37.982Z"
   },
   {
    "duration": 18,
    "start_time": "2025-07-07T13:29:38.031Z"
   },
   {
    "duration": 351,
    "start_time": "2025-07-07T13:29:38.050Z"
   },
   {
    "duration": 116,
    "start_time": "2025-07-07T13:29:38.405Z"
   },
   {
    "duration": 2584,
    "start_time": "2025-07-07T13:29:38.523Z"
   },
   {
    "duration": 168,
    "start_time": "2025-07-07T13:29:41.110Z"
   },
   {
    "duration": 144,
    "start_time": "2025-07-07T13:29:41.280Z"
   },
   {
    "duration": 109,
    "start_time": "2025-07-07T13:29:41.425Z"
   },
   {
    "duration": 29,
    "start_time": "2025-07-07T13:29:41.535Z"
   },
   {
    "duration": 85,
    "start_time": "2025-07-07T13:29:41.566Z"
   },
   {
    "duration": 74,
    "start_time": "2025-07-07T13:29:41.653Z"
   },
   {
    "duration": 108,
    "start_time": "2025-07-07T13:29:41.728Z"
   },
   {
    "duration": 226,
    "start_time": "2025-07-07T13:29:41.838Z"
   },
   {
    "duration": 407,
    "start_time": "2025-07-07T13:29:42.065Z"
   },
   {
    "duration": 17,
    "start_time": "2025-07-07T13:29:42.473Z"
   },
   {
    "duration": 31,
    "start_time": "2025-07-07T13:29:42.498Z"
   },
   {
    "duration": 16,
    "start_time": "2025-07-07T13:29:42.531Z"
   },
   {
    "duration": 17,
    "start_time": "2025-07-07T13:29:42.548Z"
   },
   {
    "duration": 45,
    "start_time": "2025-07-07T13:29:42.566Z"
   },
   {
    "duration": 38,
    "start_time": "2025-07-07T13:29:42.613Z"
   },
   {
    "duration": 47,
    "start_time": "2025-07-07T13:29:42.653Z"
   },
   {
    "duration": 23,
    "start_time": "2025-07-07T13:29:42.706Z"
   },
   {
    "duration": 164,
    "start_time": "2025-07-07T13:29:42.731Z"
   },
   {
    "duration": 263,
    "start_time": "2025-07-07T13:29:42.900Z"
   },
   {
    "duration": 109,
    "start_time": "2025-07-07T13:29:43.165Z"
   },
   {
    "duration": 0,
    "start_time": "2025-07-07T13:29:43.275Z"
   },
   {
    "duration": 0,
    "start_time": "2025-07-07T13:29:43.277Z"
   },
   {
    "duration": 0,
    "start_time": "2025-07-07T13:29:43.278Z"
   },
   {
    "duration": 9,
    "start_time": "2025-07-07T13:31:30.512Z"
   },
   {
    "duration": 8,
    "start_time": "2025-07-07T13:32:09.336Z"
   },
   {
    "duration": 5,
    "start_time": "2025-07-07T13:32:12.520Z"
   },
   {
    "duration": 6,
    "start_time": "2025-07-07T13:32:13.455Z"
   },
   {
    "duration": 73,
    "start_time": "2025-07-07T13:32:14.474Z"
   },
   {
    "duration": 5,
    "start_time": "2025-07-07T13:36:10.761Z"
   },
   {
    "duration": 95,
    "start_time": "2025-07-07T13:42:12.489Z"
   },
   {
    "duration": 78,
    "start_time": "2025-07-07T13:42:33.546Z"
   },
   {
    "duration": 22,
    "start_time": "2025-07-07T13:43:38.115Z"
   },
   {
    "duration": 18,
    "start_time": "2025-07-07T13:45:21.362Z"
   },
   {
    "duration": 14,
    "start_time": "2025-07-07T14:02:06.721Z"
   },
   {
    "duration": 39,
    "start_time": "2025-07-07T14:02:25.769Z"
   },
   {
    "duration": 45,
    "start_time": "2025-07-07T14:03:30.919Z"
   },
   {
    "duration": 54,
    "start_time": "2025-07-07T14:04:51.305Z"
   },
   {
    "duration": 52,
    "start_time": "2025-07-07T14:05:35.408Z"
   },
   {
    "duration": 45,
    "start_time": "2025-07-07T14:05:51.704Z"
   },
   {
    "duration": 33,
    "start_time": "2025-07-07T14:09:14.799Z"
   },
   {
    "duration": 29,
    "start_time": "2025-07-07T14:10:25.986Z"
   },
   {
    "duration": 26,
    "start_time": "2025-07-07T14:10:35.999Z"
   },
   {
    "duration": 44,
    "start_time": "2025-07-07T14:17:16.894Z"
   },
   {
    "duration": 10,
    "start_time": "2025-07-07T14:19:31.853Z"
   },
   {
    "duration": 20,
    "start_time": "2025-07-07T14:21:04.496Z"
   },
   {
    "duration": 2751,
    "start_time": "2025-07-07T14:21:13.341Z"
   },
   {
    "duration": 1372,
    "start_time": "2025-07-07T14:21:16.095Z"
   },
   {
    "duration": 2193,
    "start_time": "2025-07-07T14:21:17.469Z"
   },
   {
    "duration": 27,
    "start_time": "2025-07-07T14:21:19.663Z"
   },
   {
    "duration": 40,
    "start_time": "2025-07-07T14:21:19.692Z"
   },
   {
    "duration": 43,
    "start_time": "2025-07-07T14:21:19.734Z"
   },
   {
    "duration": 116,
    "start_time": "2025-07-07T14:21:19.779Z"
   },
   {
    "duration": 26,
    "start_time": "2025-07-07T14:21:19.897Z"
   },
   {
    "duration": 20,
    "start_time": "2025-07-07T14:21:19.927Z"
   },
   {
    "duration": 21,
    "start_time": "2025-07-07T14:21:19.949Z"
   },
   {
    "duration": 72,
    "start_time": "2025-07-07T14:21:19.971Z"
   },
   {
    "duration": 8,
    "start_time": "2025-07-07T14:21:20.044Z"
   },
   {
    "duration": 43,
    "start_time": "2025-07-07T14:21:20.053Z"
   },
   {
    "duration": 11,
    "start_time": "2025-07-07T14:21:20.099Z"
   },
   {
    "duration": 34,
    "start_time": "2025-07-07T14:21:20.112Z"
   },
   {
    "duration": 297,
    "start_time": "2025-07-07T14:21:20.148Z"
   },
   {
    "duration": 93,
    "start_time": "2025-07-07T14:21:20.446Z"
   },
   {
    "duration": 106,
    "start_time": "2025-07-07T14:21:20.540Z"
   },
   {
    "duration": 16,
    "start_time": "2025-07-07T14:21:20.647Z"
   },
   {
    "duration": 6,
    "start_time": "2025-07-07T14:21:20.665Z"
   },
   {
    "duration": 38,
    "start_time": "2025-07-07T14:21:20.673Z"
   },
   {
    "duration": 55,
    "start_time": "2025-07-07T14:21:20.713Z"
   },
   {
    "duration": 10,
    "start_time": "2025-07-07T14:21:20.770Z"
   },
   {
    "duration": 41,
    "start_time": "2025-07-07T14:21:20.781Z"
   },
   {
    "duration": 43,
    "start_time": "2025-07-07T14:21:20.824Z"
   },
   {
    "duration": 50,
    "start_time": "2025-07-07T14:21:20.869Z"
   },
   {
    "duration": 22,
    "start_time": "2025-07-07T14:21:20.926Z"
   },
   {
    "duration": 31,
    "start_time": "2025-07-07T14:21:20.949Z"
   },
   {
    "duration": 77,
    "start_time": "2025-07-07T14:21:20.982Z"
   },
   {
    "duration": 242,
    "start_time": "2025-07-07T14:21:21.062Z"
   },
   {
    "duration": 34,
    "start_time": "2025-07-07T14:21:21.310Z"
   },
   {
    "duration": 321,
    "start_time": "2025-07-07T14:21:21.346Z"
   },
   {
    "duration": 9,
    "start_time": "2025-07-07T14:21:21.669Z"
   },
   {
    "duration": 232,
    "start_time": "2025-07-07T14:21:21.679Z"
   },
   {
    "duration": 34,
    "start_time": "2025-07-07T14:21:21.915Z"
   },
   {
    "duration": 100,
    "start_time": "2025-07-07T14:21:21.951Z"
   },
   {
    "duration": 4,
    "start_time": "2025-07-07T14:21:22.053Z"
   },
   {
    "duration": 55,
    "start_time": "2025-07-07T14:21:22.059Z"
   },
   {
    "duration": 221,
    "start_time": "2025-07-07T14:21:22.116Z"
   },
   {
    "duration": 11,
    "start_time": "2025-07-07T14:21:22.338Z"
   },
   {
    "duration": 96,
    "start_time": "2025-07-07T14:21:22.353Z"
   },
   {
    "duration": 20,
    "start_time": "2025-07-07T14:21:22.451Z"
   },
   {
    "duration": 464,
    "start_time": "2025-07-07T14:21:22.472Z"
   },
   {
    "duration": 124,
    "start_time": "2025-07-07T14:21:22.938Z"
   },
   {
    "duration": 2957,
    "start_time": "2025-07-07T14:21:23.064Z"
   },
   {
    "duration": 200,
    "start_time": "2025-07-07T14:21:26.025Z"
   },
   {
    "duration": 143,
    "start_time": "2025-07-07T14:21:26.227Z"
   },
   {
    "duration": 115,
    "start_time": "2025-07-07T14:21:26.371Z"
   },
   {
    "duration": 45,
    "start_time": "2025-07-07T14:21:26.488Z"
   },
   {
    "duration": 104,
    "start_time": "2025-07-07T14:21:26.536Z"
   },
   {
    "duration": 91,
    "start_time": "2025-07-07T14:21:26.642Z"
   },
   {
    "duration": 117,
    "start_time": "2025-07-07T14:21:26.736Z"
   },
   {
    "duration": 271,
    "start_time": "2025-07-07T14:21:26.854Z"
   },
   {
    "duration": 454,
    "start_time": "2025-07-07T14:21:27.127Z"
   },
   {
    "duration": 34,
    "start_time": "2025-07-07T14:21:27.583Z"
   },
   {
    "duration": 112,
    "start_time": "2025-07-07T14:21:27.624Z"
   },
   {
    "duration": 104,
    "start_time": "2025-07-07T14:21:27.738Z"
   },
   {
    "duration": 19,
    "start_time": "2025-07-07T14:21:27.844Z"
   },
   {
    "duration": 18,
    "start_time": "2025-07-07T14:21:27.864Z"
   },
   {
    "duration": 40,
    "start_time": "2025-07-07T14:21:27.884Z"
   },
   {
    "duration": 28,
    "start_time": "2025-07-07T14:21:27.927Z"
   },
   {
    "duration": 16,
    "start_time": "2025-07-07T14:21:27.957Z"
   },
   {
    "duration": 221,
    "start_time": "2025-07-07T14:21:27.974Z"
   },
   {
    "duration": 328,
    "start_time": "2025-07-07T14:21:28.197Z"
   },
   {
    "duration": 12,
    "start_time": "2025-07-07T14:21:28.527Z"
   },
   {
    "duration": 34,
    "start_time": "2025-07-07T14:21:28.541Z"
   },
   {
    "duration": 8,
    "start_time": "2025-07-07T14:21:28.577Z"
   },
   {
    "duration": 64,
    "start_time": "2025-07-07T14:21:28.587Z"
   },
   {
    "duration": 81,
    "start_time": "2025-07-07T14:21:28.653Z"
   },
   {
    "duration": 83,
    "start_time": "2025-07-07T14:21:28.736Z"
   },
   {
    "duration": 2880,
    "start_time": "2025-07-07T14:24:46.709Z"
   },
   {
    "duration": 1577,
    "start_time": "2025-07-07T14:24:49.591Z"
   },
   {
    "duration": 2207,
    "start_time": "2025-07-07T14:24:51.170Z"
   },
   {
    "duration": 45,
    "start_time": "2025-07-07T14:24:53.379Z"
   },
   {
    "duration": 5,
    "start_time": "2025-07-07T14:24:53.428Z"
   },
   {
    "duration": 58,
    "start_time": "2025-07-07T14:24:53.434Z"
   },
   {
    "duration": 123,
    "start_time": "2025-07-07T14:24:53.494Z"
   },
   {
    "duration": 16,
    "start_time": "2025-07-07T14:24:53.619Z"
   },
   {
    "duration": 10,
    "start_time": "2025-07-07T14:24:53.638Z"
   },
   {
    "duration": 16,
    "start_time": "2025-07-07T14:24:53.649Z"
   },
   {
    "duration": 186,
    "start_time": "2025-07-07T14:24:53.666Z"
   },
   {
    "duration": 6,
    "start_time": "2025-07-07T14:24:53.854Z"
   },
   {
    "duration": 22,
    "start_time": "2025-07-07T14:24:53.862Z"
   },
   {
    "duration": 26,
    "start_time": "2025-07-07T14:24:53.887Z"
   },
   {
    "duration": 25,
    "start_time": "2025-07-07T14:24:53.925Z"
   },
   {
    "duration": 301,
    "start_time": "2025-07-07T14:24:53.951Z"
   },
   {
    "duration": 88,
    "start_time": "2025-07-07T14:24:54.253Z"
   },
   {
    "duration": 89,
    "start_time": "2025-07-07T14:24:54.342Z"
   },
   {
    "duration": 15,
    "start_time": "2025-07-07T14:24:54.434Z"
   },
   {
    "duration": 7,
    "start_time": "2025-07-07T14:24:54.451Z"
   },
   {
    "duration": 119,
    "start_time": "2025-07-07T14:24:54.460Z"
   },
   {
    "duration": 65,
    "start_time": "2025-07-07T14:24:54.580Z"
   },
   {
    "duration": 18,
    "start_time": "2025-07-07T14:24:54.647Z"
   },
   {
    "duration": 72,
    "start_time": "2025-07-07T14:24:54.667Z"
   },
   {
    "duration": 95,
    "start_time": "2025-07-07T14:24:54.741Z"
   },
   {
    "duration": 191,
    "start_time": "2025-07-07T14:24:54.839Z"
   },
   {
    "duration": 26,
    "start_time": "2025-07-07T14:24:55.034Z"
   },
   {
    "duration": 97,
    "start_time": "2025-07-07T14:24:55.062Z"
   },
   {
    "duration": 71,
    "start_time": "2025-07-07T14:24:55.160Z"
   },
   {
    "duration": 196,
    "start_time": "2025-07-07T14:24:55.235Z"
   },
   {
    "duration": 26,
    "start_time": "2025-07-07T14:24:55.433Z"
   },
   {
    "duration": 294,
    "start_time": "2025-07-07T14:24:55.461Z"
   },
   {
    "duration": 8,
    "start_time": "2025-07-07T14:24:55.757Z"
   },
   {
    "duration": 162,
    "start_time": "2025-07-07T14:24:55.766Z"
   },
   {
    "duration": 36,
    "start_time": "2025-07-07T14:24:55.930Z"
   },
   {
    "duration": 94,
    "start_time": "2025-07-07T14:24:55.968Z"
   },
   {
    "duration": 4,
    "start_time": "2025-07-07T14:24:56.064Z"
   },
   {
    "duration": 65,
    "start_time": "2025-07-07T14:24:56.070Z"
   },
   {
    "duration": 208,
    "start_time": "2025-07-07T14:24:56.137Z"
   },
   {
    "duration": 11,
    "start_time": "2025-07-07T14:24:56.347Z"
   },
   {
    "duration": 87,
    "start_time": "2025-07-07T14:24:56.363Z"
   },
   {
    "duration": 19,
    "start_time": "2025-07-07T14:24:56.452Z"
   },
   {
    "duration": 470,
    "start_time": "2025-07-07T14:24:56.472Z"
   },
   {
    "duration": 126,
    "start_time": "2025-07-07T14:24:56.944Z"
   },
   {
    "duration": 2832,
    "start_time": "2025-07-07T14:24:57.072Z"
   },
   {
    "duration": 236,
    "start_time": "2025-07-07T14:24:59.907Z"
   },
   {
    "duration": 145,
    "start_time": "2025-07-07T14:25:00.145Z"
   },
   {
    "duration": 103,
    "start_time": "2025-07-07T14:25:00.292Z"
   },
   {
    "duration": 50,
    "start_time": "2025-07-07T14:25:00.407Z"
   },
   {
    "duration": 187,
    "start_time": "2025-07-07T14:25:00.459Z"
   },
   {
    "duration": 89,
    "start_time": "2025-07-07T14:25:00.647Z"
   },
   {
    "duration": 116,
    "start_time": "2025-07-07T14:25:00.738Z"
   },
   {
    "duration": 276,
    "start_time": "2025-07-07T14:25:00.856Z"
   },
   {
    "duration": 482,
    "start_time": "2025-07-07T14:25:01.135Z"
   },
   {
    "duration": 25,
    "start_time": "2025-07-07T14:25:01.620Z"
   },
   {
    "duration": 35,
    "start_time": "2025-07-07T14:25:01.647Z"
   },
   {
    "duration": 156,
    "start_time": "2025-07-07T14:25:01.683Z"
   },
   {
    "duration": 37,
    "start_time": "2025-07-07T14:25:01.841Z"
   },
   {
    "duration": 18,
    "start_time": "2025-07-07T14:25:01.879Z"
   },
   {
    "duration": 50,
    "start_time": "2025-07-07T14:25:01.899Z"
   },
   {
    "duration": 40,
    "start_time": "2025-07-07T14:25:01.951Z"
   },
   {
    "duration": 29,
    "start_time": "2025-07-07T14:25:01.992Z"
   },
   {
    "duration": 225,
    "start_time": "2025-07-07T14:25:02.028Z"
   },
   {
    "duration": 312,
    "start_time": "2025-07-07T14:25:02.254Z"
   },
   {
    "duration": 8,
    "start_time": "2025-07-07T14:25:02.568Z"
   },
   {
    "duration": 21,
    "start_time": "2025-07-07T14:25:02.577Z"
   },
   {
    "duration": 88,
    "start_time": "2025-07-07T14:25:02.605Z"
   },
   {
    "duration": 84,
    "start_time": "2025-07-07T14:25:02.694Z"
   },
   {
    "duration": 153,
    "start_time": "2025-07-07T14:25:02.780Z"
   },
   {
    "duration": 17,
    "start_time": "2025-07-07T14:25:02.935Z"
   },
   {
    "duration": 9,
    "start_time": "2025-07-07T14:25:34.823Z"
   },
   {
    "duration": 25,
    "start_time": "2025-07-07T14:25:49.927Z"
   },
   {
    "duration": 24,
    "start_time": "2025-07-07T14:26:13.065Z"
   },
   {
    "duration": 32,
    "start_time": "2025-07-07T14:31:13.849Z"
   },
   {
    "duration": 3140,
    "start_time": "2025-07-07T14:31:19.452Z"
   },
   {
    "duration": 1312,
    "start_time": "2025-07-07T14:31:22.594Z"
   },
   {
    "duration": 3120,
    "start_time": "2025-07-07T14:31:23.917Z"
   },
   {
    "duration": 31,
    "start_time": "2025-07-07T14:31:27.039Z"
   },
   {
    "duration": 3,
    "start_time": "2025-07-07T14:31:27.071Z"
   },
   {
    "duration": 67,
    "start_time": "2025-07-07T14:31:27.076Z"
   },
   {
    "duration": 121,
    "start_time": "2025-07-07T14:31:27.145Z"
   },
   {
    "duration": 12,
    "start_time": "2025-07-07T14:31:27.268Z"
   },
   {
    "duration": 26,
    "start_time": "2025-07-07T14:31:27.282Z"
   },
   {
    "duration": 14,
    "start_time": "2025-07-07T14:31:27.316Z"
   },
   {
    "duration": 55,
    "start_time": "2025-07-07T14:31:27.332Z"
   },
   {
    "duration": 25,
    "start_time": "2025-07-07T14:31:27.388Z"
   },
   {
    "duration": 27,
    "start_time": "2025-07-07T14:31:27.417Z"
   },
   {
    "duration": 8,
    "start_time": "2025-07-07T14:31:27.446Z"
   },
   {
    "duration": 54,
    "start_time": "2025-07-07T14:31:27.456Z"
   },
   {
    "duration": 302,
    "start_time": "2025-07-07T14:31:27.512Z"
   },
   {
    "duration": 104,
    "start_time": "2025-07-07T14:31:27.816Z"
   },
   {
    "duration": 89,
    "start_time": "2025-07-07T14:31:27.922Z"
   },
   {
    "duration": 24,
    "start_time": "2025-07-07T14:31:28.012Z"
   },
   {
    "duration": 14,
    "start_time": "2025-07-07T14:31:28.038Z"
   },
   {
    "duration": 9,
    "start_time": "2025-07-07T14:31:28.054Z"
   },
   {
    "duration": 52,
    "start_time": "2025-07-07T14:31:28.065Z"
   },
   {
    "duration": 22,
    "start_time": "2025-07-07T14:31:28.122Z"
   },
   {
    "duration": 12,
    "start_time": "2025-07-07T14:31:28.146Z"
   },
   {
    "duration": 75,
    "start_time": "2025-07-07T14:31:28.160Z"
   },
   {
    "duration": 37,
    "start_time": "2025-07-07T14:31:28.237Z"
   },
   {
    "duration": 19,
    "start_time": "2025-07-07T14:31:28.276Z"
   },
   {
    "duration": 44,
    "start_time": "2025-07-07T14:31:28.305Z"
   },
   {
    "duration": 131,
    "start_time": "2025-07-07T14:31:28.351Z"
   },
   {
    "duration": 234,
    "start_time": "2025-07-07T14:31:28.484Z"
   },
   {
    "duration": 32,
    "start_time": "2025-07-07T14:31:28.721Z"
   },
   {
    "duration": 308,
    "start_time": "2025-07-07T14:31:28.755Z"
   },
   {
    "duration": 8,
    "start_time": "2025-07-07T14:31:29.065Z"
   },
   {
    "duration": 240,
    "start_time": "2025-07-07T14:31:29.075Z"
   },
   {
    "duration": 36,
    "start_time": "2025-07-07T14:31:29.316Z"
   },
   {
    "duration": 91,
    "start_time": "2025-07-07T14:31:29.354Z"
   },
   {
    "duration": 6,
    "start_time": "2025-07-07T14:31:29.447Z"
   },
   {
    "duration": 58,
    "start_time": "2025-07-07T14:31:29.454Z"
   },
   {
    "duration": 235,
    "start_time": "2025-07-07T14:31:29.519Z"
   },
   {
    "duration": 10,
    "start_time": "2025-07-07T14:31:29.756Z"
   },
   {
    "duration": 84,
    "start_time": "2025-07-07T14:31:29.768Z"
   },
   {
    "duration": 18,
    "start_time": "2025-07-07T14:31:29.853Z"
   },
   {
    "duration": 421,
    "start_time": "2025-07-07T14:31:29.872Z"
   },
   {
    "duration": 143,
    "start_time": "2025-07-07T14:31:30.294Z"
   },
   {
    "duration": 2974,
    "start_time": "2025-07-07T14:31:30.439Z"
   },
   {
    "duration": 247,
    "start_time": "2025-07-07T14:31:33.418Z"
   },
   {
    "duration": 189,
    "start_time": "2025-07-07T14:31:33.667Z"
   },
   {
    "duration": 111,
    "start_time": "2025-07-07T14:31:33.858Z"
   },
   {
    "duration": 52,
    "start_time": "2025-07-07T14:31:33.971Z"
   },
   {
    "duration": 83,
    "start_time": "2025-07-07T14:31:34.030Z"
   },
   {
    "duration": 75,
    "start_time": "2025-07-07T14:31:34.116Z"
   },
   {
    "duration": 115,
    "start_time": "2025-07-07T14:31:34.193Z"
   },
   {
    "duration": 308,
    "start_time": "2025-07-07T14:31:34.317Z"
   },
   {
    "duration": 587,
    "start_time": "2025-07-07T14:31:34.627Z"
   },
   {
    "duration": 30,
    "start_time": "2025-07-07T14:31:35.225Z"
   },
   {
    "duration": 24,
    "start_time": "2025-07-07T14:31:35.257Z"
   },
   {
    "duration": 32,
    "start_time": "2025-07-07T14:31:35.283Z"
   },
   {
    "duration": 37,
    "start_time": "2025-07-07T14:31:35.318Z"
   },
   {
    "duration": 18,
    "start_time": "2025-07-07T14:31:35.356Z"
   },
   {
    "duration": 67,
    "start_time": "2025-07-07T14:31:35.376Z"
   },
   {
    "duration": 43,
    "start_time": "2025-07-07T14:31:35.446Z"
   },
   {
    "duration": 32,
    "start_time": "2025-07-07T14:31:35.503Z"
   },
   {
    "duration": 232,
    "start_time": "2025-07-07T14:31:35.538Z"
   },
   {
    "duration": 371,
    "start_time": "2025-07-07T14:31:35.771Z"
   },
   {
    "duration": 9,
    "start_time": "2025-07-07T14:31:36.145Z"
   },
   {
    "duration": 32,
    "start_time": "2025-07-07T14:31:36.156Z"
   },
   {
    "duration": 6,
    "start_time": "2025-07-07T14:31:36.189Z"
   },
   {
    "duration": 75,
    "start_time": "2025-07-07T14:31:36.197Z"
   },
   {
    "duration": 74,
    "start_time": "2025-07-07T14:31:36.274Z"
   },
   {
    "duration": 36,
    "start_time": "2025-07-07T14:31:36.350Z"
   },
   {
    "duration": 22,
    "start_time": "2025-07-07T14:33:26.257Z"
   },
   {
    "duration": 2973,
    "start_time": "2025-07-07T14:33:37.111Z"
   },
   {
    "duration": 1323,
    "start_time": "2025-07-07T14:33:40.087Z"
   },
   {
    "duration": 2258,
    "start_time": "2025-07-07T14:33:41.413Z"
   },
   {
    "duration": 26,
    "start_time": "2025-07-07T14:33:43.673Z"
   },
   {
    "duration": 64,
    "start_time": "2025-07-07T14:33:43.701Z"
   },
   {
    "duration": 122,
    "start_time": "2025-07-07T14:33:43.767Z"
   },
   {
    "duration": 120,
    "start_time": "2025-07-07T14:33:43.890Z"
   },
   {
    "duration": 20,
    "start_time": "2025-07-07T14:33:44.012Z"
   },
   {
    "duration": 14,
    "start_time": "2025-07-07T14:33:44.033Z"
   },
   {
    "duration": 11,
    "start_time": "2025-07-07T14:33:44.048Z"
   },
   {
    "duration": 83,
    "start_time": "2025-07-07T14:33:44.060Z"
   },
   {
    "duration": 7,
    "start_time": "2025-07-07T14:33:44.145Z"
   },
   {
    "duration": 25,
    "start_time": "2025-07-07T14:33:44.155Z"
   },
   {
    "duration": 17,
    "start_time": "2025-07-07T14:33:44.204Z"
   },
   {
    "duration": 38,
    "start_time": "2025-07-07T14:33:44.223Z"
   },
   {
    "duration": 284,
    "start_time": "2025-07-07T14:33:44.263Z"
   },
   {
    "duration": 96,
    "start_time": "2025-07-07T14:33:44.548Z"
   },
   {
    "duration": 101,
    "start_time": "2025-07-07T14:33:44.646Z"
   },
   {
    "duration": 15,
    "start_time": "2025-07-07T14:33:44.749Z"
   },
   {
    "duration": 8,
    "start_time": "2025-07-07T14:33:44.765Z"
   },
   {
    "duration": 38,
    "start_time": "2025-07-07T14:33:44.775Z"
   },
   {
    "duration": 55,
    "start_time": "2025-07-07T14:33:44.815Z"
   },
   {
    "duration": 15,
    "start_time": "2025-07-07T14:33:44.872Z"
   },
   {
    "duration": 36,
    "start_time": "2025-07-07T14:33:44.888Z"
   },
   {
    "duration": 39,
    "start_time": "2025-07-07T14:33:44.926Z"
   },
   {
    "duration": 57,
    "start_time": "2025-07-07T14:33:44.967Z"
   },
   {
    "duration": 79,
    "start_time": "2025-07-07T14:33:45.028Z"
   },
   {
    "duration": 125,
    "start_time": "2025-07-07T14:33:45.109Z"
   },
   {
    "duration": 84,
    "start_time": "2025-07-07T14:33:45.235Z"
   },
   {
    "duration": 218,
    "start_time": "2025-07-07T14:33:45.322Z"
   },
   {
    "duration": 26,
    "start_time": "2025-07-07T14:33:45.542Z"
   },
   {
    "duration": 298,
    "start_time": "2025-07-07T14:33:45.570Z"
   },
   {
    "duration": 10,
    "start_time": "2025-07-07T14:33:45.870Z"
   },
   {
    "duration": 148,
    "start_time": "2025-07-07T14:33:45.884Z"
   },
   {
    "duration": 34,
    "start_time": "2025-07-07T14:33:46.034Z"
   },
   {
    "duration": 87,
    "start_time": "2025-07-07T14:33:46.069Z"
   },
   {
    "duration": 5,
    "start_time": "2025-07-07T14:33:46.158Z"
   },
   {
    "duration": 61,
    "start_time": "2025-07-07T14:33:46.164Z"
   },
   {
    "duration": 202,
    "start_time": "2025-07-07T14:33:46.227Z"
   },
   {
    "duration": 11,
    "start_time": "2025-07-07T14:33:46.431Z"
   },
   {
    "duration": 29,
    "start_time": "2025-07-07T14:33:46.446Z"
   },
   {
    "duration": 40,
    "start_time": "2025-07-07T14:33:46.477Z"
   },
   {
    "duration": 470,
    "start_time": "2025-07-07T14:33:46.519Z"
   },
   {
    "duration": 130,
    "start_time": "2025-07-07T14:33:46.991Z"
   },
   {
    "duration": 2853,
    "start_time": "2025-07-07T14:33:47.129Z"
   },
   {
    "duration": 244,
    "start_time": "2025-07-07T14:33:49.984Z"
   },
   {
    "duration": 150,
    "start_time": "2025-07-07T14:33:50.238Z"
   },
   {
    "duration": 138,
    "start_time": "2025-07-07T14:33:50.390Z"
   },
   {
    "duration": 35,
    "start_time": "2025-07-07T14:33:50.532Z"
   },
   {
    "duration": 111,
    "start_time": "2025-07-07T14:33:50.569Z"
   },
   {
    "duration": 93,
    "start_time": "2025-07-07T14:33:50.682Z"
   },
   {
    "duration": 116,
    "start_time": "2025-07-07T14:33:50.777Z"
   },
   {
    "duration": 268,
    "start_time": "2025-07-07T14:33:50.902Z"
   },
   {
    "duration": 477,
    "start_time": "2025-07-07T14:33:51.171Z"
   },
   {
    "duration": 17,
    "start_time": "2025-07-07T14:33:51.650Z"
   },
   {
    "duration": 53,
    "start_time": "2025-07-07T14:33:51.669Z"
   },
   {
    "duration": 18,
    "start_time": "2025-07-07T14:33:51.729Z"
   },
   {
    "duration": 112,
    "start_time": "2025-07-07T14:33:51.748Z"
   },
   {
    "duration": 18,
    "start_time": "2025-07-07T14:33:51.862Z"
   },
   {
    "duration": 51,
    "start_time": "2025-07-07T14:33:51.881Z"
   },
   {
    "duration": 28,
    "start_time": "2025-07-07T14:33:51.933Z"
   },
   {
    "duration": 16,
    "start_time": "2025-07-07T14:33:51.963Z"
   },
   {
    "duration": 191,
    "start_time": "2025-07-07T14:33:51.981Z"
   },
   {
    "duration": 303,
    "start_time": "2025-07-07T14:33:52.174Z"
   },
   {
    "duration": 9,
    "start_time": "2025-07-07T14:33:52.479Z"
   },
   {
    "duration": 90,
    "start_time": "2025-07-07T14:33:52.502Z"
   },
   {
    "duration": 41,
    "start_time": "2025-07-07T14:33:52.595Z"
   },
   {
    "duration": 103,
    "start_time": "2025-07-07T14:33:52.638Z"
   },
   {
    "duration": 66,
    "start_time": "2025-07-07T14:33:52.742Z"
   },
   {
    "duration": 37,
    "start_time": "2025-07-07T14:33:52.822Z"
   },
   {
    "duration": 84,
    "start_time": "2025-07-07T14:34:06.475Z"
   },
   {
    "duration": 11,
    "start_time": "2025-07-07T14:35:06.740Z"
   },
   {
    "duration": 2659,
    "start_time": "2025-07-07T14:35:17.822Z"
   },
   {
    "duration": 1286,
    "start_time": "2025-07-07T14:35:20.483Z"
   },
   {
    "duration": 1894,
    "start_time": "2025-07-07T14:35:21.770Z"
   },
   {
    "duration": 27,
    "start_time": "2025-07-07T14:35:23.666Z"
   },
   {
    "duration": 3,
    "start_time": "2025-07-07T14:35:23.694Z"
   },
   {
    "duration": 180,
    "start_time": "2025-07-07T14:35:23.703Z"
   },
   {
    "duration": 102,
    "start_time": "2025-07-07T14:35:23.885Z"
   },
   {
    "duration": 16,
    "start_time": "2025-07-07T14:35:23.989Z"
   },
   {
    "duration": 20,
    "start_time": "2025-07-07T14:35:24.007Z"
   },
   {
    "duration": 50,
    "start_time": "2025-07-07T14:35:24.030Z"
   },
   {
    "duration": 67,
    "start_time": "2025-07-07T14:35:24.082Z"
   },
   {
    "duration": 7,
    "start_time": "2025-07-07T14:35:24.151Z"
   },
   {
    "duration": 22,
    "start_time": "2025-07-07T14:35:24.159Z"
   },
   {
    "duration": 21,
    "start_time": "2025-07-07T14:35:24.183Z"
   },
   {
    "duration": 30,
    "start_time": "2025-07-07T14:35:24.206Z"
   },
   {
    "duration": 276,
    "start_time": "2025-07-07T14:35:24.238Z"
   },
   {
    "duration": 97,
    "start_time": "2025-07-07T14:35:24.518Z"
   },
   {
    "duration": 74,
    "start_time": "2025-07-07T14:35:24.618Z"
   },
   {
    "duration": 33,
    "start_time": "2025-07-07T14:35:24.694Z"
   },
   {
    "duration": 12,
    "start_time": "2025-07-07T14:35:24.731Z"
   },
   {
    "duration": 13,
    "start_time": "2025-07-07T14:35:24.745Z"
   },
   {
    "duration": 78,
    "start_time": "2025-07-07T14:35:24.760Z"
   },
   {
    "duration": 11,
    "start_time": "2025-07-07T14:35:24.840Z"
   },
   {
    "duration": 12,
    "start_time": "2025-07-07T14:35:24.852Z"
   },
   {
    "duration": 65,
    "start_time": "2025-07-07T14:35:24.865Z"
   },
   {
    "duration": 34,
    "start_time": "2025-07-07T14:35:24.932Z"
   },
   {
    "duration": 49,
    "start_time": "2025-07-07T14:35:24.968Z"
   },
   {
    "duration": 31,
    "start_time": "2025-07-07T14:35:25.021Z"
   },
   {
    "duration": 69,
    "start_time": "2025-07-07T14:35:25.053Z"
   },
   {
    "duration": 207,
    "start_time": "2025-07-07T14:35:25.125Z"
   },
   {
    "duration": 27,
    "start_time": "2025-07-07T14:35:25.334Z"
   },
   {
    "duration": 303,
    "start_time": "2025-07-07T14:35:25.363Z"
   },
   {
    "duration": 8,
    "start_time": "2025-07-07T14:35:25.668Z"
   },
   {
    "duration": 130,
    "start_time": "2025-07-07T14:35:25.677Z"
   },
   {
    "duration": 32,
    "start_time": "2025-07-07T14:35:25.814Z"
   },
   {
    "duration": 88,
    "start_time": "2025-07-07T14:35:25.847Z"
   },
   {
    "duration": 4,
    "start_time": "2025-07-07T14:35:25.937Z"
   },
   {
    "duration": 34,
    "start_time": "2025-07-07T14:35:25.943Z"
   },
   {
    "duration": 206,
    "start_time": "2025-07-07T14:35:25.979Z"
   },
   {
    "duration": 23,
    "start_time": "2025-07-07T14:35:26.187Z"
   },
   {
    "duration": 26,
    "start_time": "2025-07-07T14:35:26.212Z"
   },
   {
    "duration": 17,
    "start_time": "2025-07-07T14:35:26.240Z"
   },
   {
    "duration": 386,
    "start_time": "2025-07-07T14:35:26.259Z"
   },
   {
    "duration": 116,
    "start_time": "2025-07-07T14:35:26.647Z"
   },
   {
    "duration": 2658,
    "start_time": "2025-07-07T14:35:26.764Z"
   },
   {
    "duration": 197,
    "start_time": "2025-07-07T14:35:29.425Z"
   },
   {
    "duration": 143,
    "start_time": "2025-07-07T14:35:29.624Z"
   },
   {
    "duration": 105,
    "start_time": "2025-07-07T14:35:29.769Z"
   },
   {
    "duration": 46,
    "start_time": "2025-07-07T14:35:29.876Z"
   },
   {
    "duration": 91,
    "start_time": "2025-07-07T14:35:29.924Z"
   },
   {
    "duration": 58,
    "start_time": "2025-07-07T14:35:30.017Z"
   },
   {
    "duration": 102,
    "start_time": "2025-07-07T14:35:30.077Z"
   },
   {
    "duration": 250,
    "start_time": "2025-07-07T14:35:30.181Z"
   },
   {
    "duration": 436,
    "start_time": "2025-07-07T14:35:30.432Z"
   },
   {
    "duration": 34,
    "start_time": "2025-07-07T14:35:30.871Z"
   },
   {
    "duration": 24,
    "start_time": "2025-07-07T14:35:30.909Z"
   },
   {
    "duration": 22,
    "start_time": "2025-07-07T14:35:30.935Z"
   },
   {
    "duration": 16,
    "start_time": "2025-07-07T14:35:30.959Z"
   },
   {
    "duration": 43,
    "start_time": "2025-07-07T14:35:30.976Z"
   },
   {
    "duration": 51,
    "start_time": "2025-07-07T14:35:31.021Z"
   },
   {
    "duration": 35,
    "start_time": "2025-07-07T14:35:31.074Z"
   },
   {
    "duration": 16,
    "start_time": "2025-07-07T14:35:31.111Z"
   },
   {
    "duration": 258,
    "start_time": "2025-07-07T14:35:31.128Z"
   },
   {
    "duration": 281,
    "start_time": "2025-07-07T14:35:31.387Z"
   },
   {
    "duration": 9,
    "start_time": "2025-07-07T14:35:31.670Z"
   },
   {
    "duration": 88,
    "start_time": "2025-07-07T14:35:31.681Z"
   },
   {
    "duration": 142,
    "start_time": "2025-07-07T14:35:31.771Z"
   },
   {
    "duration": 98,
    "start_time": "2025-07-07T14:35:31.915Z"
   },
   {
    "duration": 51,
    "start_time": "2025-07-07T14:35:32.016Z"
   },
   {
    "duration": 22,
    "start_time": "2025-07-07T14:35:32.068Z"
   },
   {
    "duration": 27,
    "start_time": "2025-07-07T14:35:32.091Z"
   },
   {
    "duration": 2657,
    "start_time": "2025-07-07T14:35:47.992Z"
   },
   {
    "duration": 1239,
    "start_time": "2025-07-07T14:35:50.651Z"
   },
   {
    "duration": 2247,
    "start_time": "2025-07-07T14:35:51.892Z"
   },
   {
    "duration": 27,
    "start_time": "2025-07-07T14:35:54.141Z"
   },
   {
    "duration": 4,
    "start_time": "2025-07-07T14:35:54.169Z"
   },
   {
    "duration": 55,
    "start_time": "2025-07-07T14:35:54.175Z"
   },
   {
    "duration": 116,
    "start_time": "2025-07-07T14:35:54.231Z"
   },
   {
    "duration": 8,
    "start_time": "2025-07-07T14:35:54.349Z"
   },
   {
    "duration": 11,
    "start_time": "2025-07-07T14:35:54.359Z"
   },
   {
    "duration": 32,
    "start_time": "2025-07-07T14:35:54.373Z"
   },
   {
    "duration": 51,
    "start_time": "2025-07-07T14:35:54.408Z"
   },
   {
    "duration": 8,
    "start_time": "2025-07-07T14:35:54.461Z"
   },
   {
    "duration": 51,
    "start_time": "2025-07-07T14:35:54.470Z"
   },
   {
    "duration": 81,
    "start_time": "2025-07-07T14:35:54.524Z"
   },
   {
    "duration": 31,
    "start_time": "2025-07-07T14:35:54.608Z"
   },
   {
    "duration": 323,
    "start_time": "2025-07-07T14:35:54.640Z"
   },
   {
    "duration": 86,
    "start_time": "2025-07-07T14:35:54.964Z"
   },
   {
    "duration": 100,
    "start_time": "2025-07-07T14:35:55.051Z"
   },
   {
    "duration": 14,
    "start_time": "2025-07-07T14:35:55.153Z"
   },
   {
    "duration": 134,
    "start_time": "2025-07-07T14:35:55.169Z"
   },
   {
    "duration": 14,
    "start_time": "2025-07-07T14:35:55.307Z"
   },
   {
    "duration": 32,
    "start_time": "2025-07-07T14:35:55.323Z"
   },
   {
    "duration": 18,
    "start_time": "2025-07-07T14:35:55.357Z"
   },
   {
    "duration": 33,
    "start_time": "2025-07-07T14:35:55.377Z"
   },
   {
    "duration": 65,
    "start_time": "2025-07-07T14:35:55.412Z"
   },
   {
    "duration": 48,
    "start_time": "2025-07-07T14:35:55.478Z"
   },
   {
    "duration": 20,
    "start_time": "2025-07-07T14:35:55.529Z"
   },
   {
    "duration": 21,
    "start_time": "2025-07-07T14:35:55.552Z"
   },
   {
    "duration": 77,
    "start_time": "2025-07-07T14:35:55.574Z"
   },
   {
    "duration": 199,
    "start_time": "2025-07-07T14:35:55.653Z"
   },
   {
    "duration": 35,
    "start_time": "2025-07-07T14:35:55.853Z"
   },
   {
    "duration": 298,
    "start_time": "2025-07-07T14:35:55.890Z"
   },
   {
    "duration": 28,
    "start_time": "2025-07-07T14:35:56.189Z"
   },
   {
    "duration": 125,
    "start_time": "2025-07-07T14:35:56.219Z"
   },
   {
    "duration": 26,
    "start_time": "2025-07-07T14:35:56.346Z"
   },
   {
    "duration": 79,
    "start_time": "2025-07-07T14:35:56.374Z"
   },
   {
    "duration": 148,
    "start_time": "2025-07-07T14:35:56.455Z"
   },
   {
    "duration": 35,
    "start_time": "2025-07-07T14:35:56.605Z"
   },
   {
    "duration": 194,
    "start_time": "2025-07-07T14:35:56.642Z"
   },
   {
    "duration": 10,
    "start_time": "2025-07-07T14:35:56.837Z"
   },
   {
    "duration": 46,
    "start_time": "2025-07-07T14:35:56.849Z"
   },
   {
    "duration": 36,
    "start_time": "2025-07-07T14:35:56.896Z"
   },
   {
    "duration": 342,
    "start_time": "2025-07-07T14:35:56.934Z"
   },
   {
    "duration": 111,
    "start_time": "2025-07-07T14:35:57.277Z"
   },
   {
    "duration": 2574,
    "start_time": "2025-07-07T14:35:57.389Z"
   },
   {
    "duration": 194,
    "start_time": "2025-07-07T14:35:59.965Z"
   },
   {
    "duration": 156,
    "start_time": "2025-07-07T14:36:00.161Z"
   },
   {
    "duration": 105,
    "start_time": "2025-07-07T14:36:00.319Z"
   },
   {
    "duration": 31,
    "start_time": "2025-07-07T14:36:00.426Z"
   },
   {
    "duration": 216,
    "start_time": "2025-07-07T14:36:00.459Z"
   },
   {
    "duration": 73,
    "start_time": "2025-07-07T14:36:00.677Z"
   },
   {
    "duration": 112,
    "start_time": "2025-07-07T14:36:00.751Z"
   },
   {
    "duration": 245,
    "start_time": "2025-07-07T14:36:00.864Z"
   },
   {
    "duration": 442,
    "start_time": "2025-07-07T14:36:01.111Z"
   },
   {
    "duration": 17,
    "start_time": "2025-07-07T14:36:01.555Z"
   },
   {
    "duration": 57,
    "start_time": "2025-07-07T14:36:01.573Z"
   },
   {
    "duration": 27,
    "start_time": "2025-07-07T14:36:01.631Z"
   },
   {
    "duration": 51,
    "start_time": "2025-07-07T14:36:01.660Z"
   },
   {
    "duration": 139,
    "start_time": "2025-07-07T14:36:01.713Z"
   },
   {
    "duration": 73,
    "start_time": "2025-07-07T14:36:01.854Z"
   },
   {
    "duration": 27,
    "start_time": "2025-07-07T14:36:01.929Z"
   },
   {
    "duration": 62,
    "start_time": "2025-07-07T14:36:01.958Z"
   },
   {
    "duration": 211,
    "start_time": "2025-07-07T14:36:02.022Z"
   },
   {
    "duration": 285,
    "start_time": "2025-07-07T14:36:02.234Z"
   },
   {
    "duration": 8,
    "start_time": "2025-07-07T14:36:02.520Z"
   },
   {
    "duration": 92,
    "start_time": "2025-07-07T14:36:02.530Z"
   },
   {
    "duration": 59,
    "start_time": "2025-07-07T14:36:02.624Z"
   },
   {
    "duration": 133,
    "start_time": "2025-07-07T14:36:02.684Z"
   },
   {
    "duration": 66,
    "start_time": "2025-07-07T14:36:02.819Z"
   },
   {
    "duration": 73,
    "start_time": "2025-07-07T14:36:02.887Z"
   },
   {
    "duration": 34,
    "start_time": "2025-07-07T14:37:18.891Z"
   },
   {
    "duration": 6,
    "start_time": "2025-07-07T14:39:51.357Z"
   },
   {
    "duration": 8,
    "start_time": "2025-07-07T14:40:51.388Z"
   },
   {
    "duration": 11,
    "start_time": "2025-07-07T14:42:56.144Z"
   },
   {
    "duration": 2586,
    "start_time": "2025-07-07T14:56:27.584Z"
   },
   {
    "duration": 1296,
    "start_time": "2025-07-07T14:56:30.173Z"
   },
   {
    "duration": 2045,
    "start_time": "2025-07-07T14:56:31.471Z"
   },
   {
    "duration": 34,
    "start_time": "2025-07-07T14:56:33.518Z"
   },
   {
    "duration": 4,
    "start_time": "2025-07-07T14:56:33.553Z"
   },
   {
    "duration": 64,
    "start_time": "2025-07-07T14:56:33.558Z"
   },
   {
    "duration": 107,
    "start_time": "2025-07-07T14:56:33.624Z"
   },
   {
    "duration": 8,
    "start_time": "2025-07-07T14:56:33.733Z"
   },
   {
    "duration": 32,
    "start_time": "2025-07-07T14:56:33.743Z"
   },
   {
    "duration": 14,
    "start_time": "2025-07-07T14:56:33.779Z"
   },
   {
    "duration": 173,
    "start_time": "2025-07-07T14:56:33.795Z"
   },
   {
    "duration": 44,
    "start_time": "2025-07-07T14:56:33.970Z"
   },
   {
    "duration": 40,
    "start_time": "2025-07-07T14:56:34.016Z"
   },
   {
    "duration": 19,
    "start_time": "2025-07-07T14:56:34.058Z"
   },
   {
    "duration": 27,
    "start_time": "2025-07-07T14:56:34.079Z"
   },
   {
    "duration": 351,
    "start_time": "2025-07-07T14:56:34.109Z"
   },
   {
    "duration": 95,
    "start_time": "2025-07-07T14:56:34.462Z"
   },
   {
    "duration": 166,
    "start_time": "2025-07-07T14:56:34.559Z"
   },
   {
    "duration": 20,
    "start_time": "2025-07-07T14:56:34.730Z"
   },
   {
    "duration": 24,
    "start_time": "2025-07-07T14:56:34.752Z"
   },
   {
    "duration": 37,
    "start_time": "2025-07-07T14:56:34.779Z"
   },
   {
    "duration": 45,
    "start_time": "2025-07-07T14:56:34.818Z"
   },
   {
    "duration": 12,
    "start_time": "2025-07-07T14:56:34.865Z"
   },
   {
    "duration": 44,
    "start_time": "2025-07-07T14:56:34.878Z"
   },
   {
    "duration": 62,
    "start_time": "2025-07-07T14:56:34.923Z"
   },
   {
    "duration": 62,
    "start_time": "2025-07-07T14:56:34.986Z"
   },
   {
    "duration": 20,
    "start_time": "2025-07-07T14:56:35.049Z"
   },
   {
    "duration": 23,
    "start_time": "2025-07-07T14:56:35.073Z"
   },
   {
    "duration": 71,
    "start_time": "2025-07-07T14:56:35.098Z"
   },
   {
    "duration": 191,
    "start_time": "2025-07-07T14:56:35.170Z"
   },
   {
    "duration": 39,
    "start_time": "2025-07-07T14:56:35.363Z"
   },
   {
    "duration": 279,
    "start_time": "2025-07-07T14:56:35.407Z"
   },
   {
    "duration": 29,
    "start_time": "2025-07-07T14:56:35.688Z"
   },
   {
    "duration": 137,
    "start_time": "2025-07-07T14:56:35.720Z"
   },
   {
    "duration": 53,
    "start_time": "2025-07-07T14:56:35.859Z"
   },
   {
    "duration": 125,
    "start_time": "2025-07-07T14:56:35.913Z"
   },
   {
    "duration": 4,
    "start_time": "2025-07-07T14:56:36.039Z"
   },
   {
    "duration": 35,
    "start_time": "2025-07-07T14:56:36.045Z"
   },
   {
    "duration": 219,
    "start_time": "2025-07-07T14:56:36.081Z"
   },
   {
    "duration": 16,
    "start_time": "2025-07-07T14:56:36.306Z"
   },
   {
    "duration": 87,
    "start_time": "2025-07-07T14:56:36.324Z"
   },
   {
    "duration": 20,
    "start_time": "2025-07-07T14:56:36.414Z"
   },
   {
    "duration": 400,
    "start_time": "2025-07-07T14:56:36.435Z"
   },
   {
    "duration": 119,
    "start_time": "2025-07-07T14:56:36.837Z"
   },
   {
    "duration": 2517,
    "start_time": "2025-07-07T14:56:36.958Z"
   },
   {
    "duration": 194,
    "start_time": "2025-07-07T14:56:39.477Z"
   },
   {
    "duration": 146,
    "start_time": "2025-07-07T14:56:39.673Z"
   },
   {
    "duration": 103,
    "start_time": "2025-07-07T14:56:39.821Z"
   },
   {
    "duration": 30,
    "start_time": "2025-07-07T14:56:39.925Z"
   },
   {
    "duration": 89,
    "start_time": "2025-07-07T14:56:39.957Z"
   },
   {
    "duration": 83,
    "start_time": "2025-07-07T14:56:40.048Z"
   },
   {
    "duration": 109,
    "start_time": "2025-07-07T14:56:40.133Z"
   },
   {
    "duration": 227,
    "start_time": "2025-07-07T14:56:40.243Z"
   },
   {
    "duration": 417,
    "start_time": "2025-07-07T14:56:40.472Z"
   },
   {
    "duration": 28,
    "start_time": "2025-07-07T14:56:40.890Z"
   },
   {
    "duration": 21,
    "start_time": "2025-07-07T14:56:40.920Z"
   },
   {
    "duration": 15,
    "start_time": "2025-07-07T14:56:40.942Z"
   },
   {
    "duration": 47,
    "start_time": "2025-07-07T14:56:40.959Z"
   },
   {
    "duration": 20,
    "start_time": "2025-07-07T14:56:41.009Z"
   },
   {
    "duration": 27,
    "start_time": "2025-07-07T14:56:41.031Z"
   },
   {
    "duration": 155,
    "start_time": "2025-07-07T14:56:41.060Z"
   },
   {
    "duration": 82,
    "start_time": "2025-07-07T14:56:41.217Z"
   },
   {
    "duration": 26,
    "start_time": "2025-07-07T14:56:41.302Z"
   },
   {
    "duration": 177,
    "start_time": "2025-07-07T14:56:41.329Z"
   },
   {
    "duration": 270,
    "start_time": "2025-07-07T14:56:41.509Z"
   },
   {
    "duration": 60,
    "start_time": "2025-07-07T14:56:41.781Z"
   },
   {
    "duration": 21,
    "start_time": "2025-07-07T14:56:41.843Z"
   },
   {
    "duration": 71,
    "start_time": "2025-07-07T14:56:41.866Z"
   },
   {
    "duration": 168,
    "start_time": "2025-07-07T15:08:10.877Z"
   },
   {
    "duration": 95,
    "start_time": "2025-07-07T15:08:16.040Z"
   },
   {
    "duration": 2788,
    "start_time": "2025-07-07T15:08:23.743Z"
   },
   {
    "duration": 1323,
    "start_time": "2025-07-07T15:08:26.533Z"
   },
   {
    "duration": 3986,
    "start_time": "2025-07-07T15:08:27.858Z"
   },
   {
    "duration": 26,
    "start_time": "2025-07-07T15:08:31.846Z"
   },
   {
    "duration": 52,
    "start_time": "2025-07-07T15:08:31.874Z"
   },
   {
    "duration": 182,
    "start_time": "2025-07-07T15:08:31.932Z"
   },
   {
    "duration": 118,
    "start_time": "2025-07-07T15:08:32.117Z"
   },
   {
    "duration": 8,
    "start_time": "2025-07-07T15:08:32.237Z"
   },
   {
    "duration": 32,
    "start_time": "2025-07-07T15:08:32.246Z"
   },
   {
    "duration": 37,
    "start_time": "2025-07-07T15:08:32.279Z"
   },
   {
    "duration": 47,
    "start_time": "2025-07-07T15:08:32.318Z"
   },
   {
    "duration": 9,
    "start_time": "2025-07-07T15:08:32.366Z"
   },
   {
    "duration": 35,
    "start_time": "2025-07-07T15:08:32.376Z"
   },
   {
    "duration": 17,
    "start_time": "2025-07-07T15:08:32.415Z"
   },
   {
    "duration": 66,
    "start_time": "2025-07-07T15:08:32.434Z"
   },
   {
    "duration": 376,
    "start_time": "2025-07-07T15:08:32.508Z"
   },
   {
    "duration": 95,
    "start_time": "2025-07-07T15:08:32.887Z"
   },
   {
    "duration": 96,
    "start_time": "2025-07-07T15:08:32.983Z"
   },
   {
    "duration": 28,
    "start_time": "2025-07-07T15:08:33.080Z"
   },
   {
    "duration": 72,
    "start_time": "2025-07-07T15:08:33.118Z"
   },
   {
    "duration": 71,
    "start_time": "2025-07-07T15:08:33.192Z"
   },
   {
    "duration": 66,
    "start_time": "2025-07-07T15:08:33.265Z"
   },
   {
    "duration": 59,
    "start_time": "2025-07-07T15:08:33.333Z"
   },
   {
    "duration": 20,
    "start_time": "2025-07-07T15:08:33.393Z"
   },
   {
    "duration": 48,
    "start_time": "2025-07-07T15:08:33.415Z"
   },
   {
    "duration": 63,
    "start_time": "2025-07-07T15:08:33.465Z"
   },
   {
    "duration": 42,
    "start_time": "2025-07-07T15:08:33.531Z"
   },
   {
    "duration": 19,
    "start_time": "2025-07-07T15:08:33.574Z"
   },
   {
    "duration": 95,
    "start_time": "2025-07-07T15:08:33.595Z"
   },
   {
    "duration": 198,
    "start_time": "2025-07-07T15:08:33.691Z"
   },
   {
    "duration": 37,
    "start_time": "2025-07-07T15:08:33.898Z"
   },
   {
    "duration": 397,
    "start_time": "2025-07-07T15:08:33.937Z"
   },
   {
    "duration": 8,
    "start_time": "2025-07-07T15:08:34.336Z"
   },
   {
    "duration": 133,
    "start_time": "2025-07-07T15:08:34.346Z"
   },
   {
    "duration": 47,
    "start_time": "2025-07-07T15:08:34.485Z"
   },
   {
    "duration": 128,
    "start_time": "2025-07-07T15:08:34.537Z"
   },
   {
    "duration": 92,
    "start_time": "2025-07-07T15:08:34.667Z"
   },
   {
    "duration": 63,
    "start_time": "2025-07-07T15:08:34.762Z"
   },
   {
    "duration": 209,
    "start_time": "2025-07-07T15:08:34.839Z"
   },
   {
    "duration": 11,
    "start_time": "2025-07-07T15:08:35.050Z"
   },
   {
    "duration": 36,
    "start_time": "2025-07-07T15:08:35.065Z"
   },
   {
    "duration": 35,
    "start_time": "2025-07-07T15:08:35.108Z"
   },
   {
    "duration": 389,
    "start_time": "2025-07-07T15:08:35.145Z"
   },
   {
    "duration": 121,
    "start_time": "2025-07-07T15:08:35.536Z"
   },
   {
    "duration": 2880,
    "start_time": "2025-07-07T15:08:35.659Z"
   },
   {
    "duration": 208,
    "start_time": "2025-07-07T15:08:38.541Z"
   },
   {
    "duration": 184,
    "start_time": "2025-07-07T15:08:38.751Z"
   },
   {
    "duration": 122,
    "start_time": "2025-07-07T15:08:38.937Z"
   },
   {
    "duration": 45,
    "start_time": "2025-07-07T15:08:39.060Z"
   },
   {
    "duration": 74,
    "start_time": "2025-07-07T15:08:39.117Z"
   },
   {
    "duration": 93,
    "start_time": "2025-07-07T15:08:39.192Z"
   },
   {
    "duration": 138,
    "start_time": "2025-07-07T15:08:39.287Z"
   },
   {
    "duration": 294,
    "start_time": "2025-07-07T15:08:39.427Z"
   },
   {
    "duration": 505,
    "start_time": "2025-07-07T15:08:39.723Z"
   },
   {
    "duration": 24,
    "start_time": "2025-07-07T15:08:40.230Z"
   },
   {
    "duration": 49,
    "start_time": "2025-07-07T15:08:40.256Z"
   },
   {
    "duration": 26,
    "start_time": "2025-07-07T15:08:40.313Z"
   },
   {
    "duration": 18,
    "start_time": "2025-07-07T15:08:40.341Z"
   },
   {
    "duration": 18,
    "start_time": "2025-07-07T15:08:40.361Z"
   },
   {
    "duration": 62,
    "start_time": "2025-07-07T15:08:40.380Z"
   },
   {
    "duration": 174,
    "start_time": "2025-07-07T15:08:40.445Z"
   },
   {
    "duration": 97,
    "start_time": "2025-07-07T15:08:40.623Z"
   },
   {
    "duration": 25,
    "start_time": "2025-07-07T15:08:40.724Z"
   },
   {
    "duration": 204,
    "start_time": "2025-07-07T15:08:40.751Z"
   },
   {
    "duration": 304,
    "start_time": "2025-07-07T15:08:40.957Z"
   },
   {
    "duration": 64,
    "start_time": "2025-07-07T15:08:41.263Z"
   },
   {
    "duration": 55,
    "start_time": "2025-07-07T15:08:41.331Z"
   },
   {
    "duration": 14,
    "start_time": "2025-07-07T15:08:41.387Z"
   },
   {
    "duration": 2811,
    "start_time": "2025-07-07T15:09:06.095Z"
   },
   {
    "duration": 1633,
    "start_time": "2025-07-07T15:09:08.909Z"
   },
   {
    "duration": 2422,
    "start_time": "2025-07-07T15:09:10.544Z"
   },
   {
    "duration": 29,
    "start_time": "2025-07-07T15:09:12.968Z"
   },
   {
    "duration": 24,
    "start_time": "2025-07-07T15:09:13.001Z"
   },
   {
    "duration": 46,
    "start_time": "2025-07-07T15:09:13.029Z"
   },
   {
    "duration": 119,
    "start_time": "2025-07-07T15:09:13.077Z"
   },
   {
    "duration": 12,
    "start_time": "2025-07-07T15:09:13.205Z"
   },
   {
    "duration": 21,
    "start_time": "2025-07-07T15:09:13.219Z"
   },
   {
    "duration": 26,
    "start_time": "2025-07-07T15:09:13.243Z"
   },
   {
    "duration": 173,
    "start_time": "2025-07-07T15:09:13.271Z"
   },
   {
    "duration": 7,
    "start_time": "2025-07-07T15:09:13.446Z"
   },
   {
    "duration": 55,
    "start_time": "2025-07-07T15:09:13.454Z"
   },
   {
    "duration": 19,
    "start_time": "2025-07-07T15:09:13.511Z"
   },
   {
    "duration": 24,
    "start_time": "2025-07-07T15:09:13.533Z"
   },
   {
    "duration": 296,
    "start_time": "2025-07-07T15:09:13.559Z"
   },
   {
    "duration": 101,
    "start_time": "2025-07-07T15:09:13.856Z"
   },
   {
    "duration": 125,
    "start_time": "2025-07-07T15:09:13.959Z"
   },
   {
    "duration": 34,
    "start_time": "2025-07-07T15:09:14.086Z"
   },
   {
    "duration": 15,
    "start_time": "2025-07-07T15:09:14.123Z"
   },
   {
    "duration": 7,
    "start_time": "2025-07-07T15:09:14.140Z"
   },
   {
    "duration": 35,
    "start_time": "2025-07-07T15:09:14.148Z"
   },
   {
    "duration": 26,
    "start_time": "2025-07-07T15:09:14.185Z"
   },
   {
    "duration": 25,
    "start_time": "2025-07-07T15:09:14.214Z"
   },
   {
    "duration": 37,
    "start_time": "2025-07-07T15:09:14.241Z"
   },
   {
    "duration": 80,
    "start_time": "2025-07-07T15:09:14.279Z"
   },
   {
    "duration": 19,
    "start_time": "2025-07-07T15:09:14.361Z"
   },
   {
    "duration": 54,
    "start_time": "2025-07-07T15:09:14.383Z"
   },
   {
    "duration": 80,
    "start_time": "2025-07-07T15:09:14.439Z"
   },
   {
    "duration": 235,
    "start_time": "2025-07-07T15:09:14.523Z"
   },
   {
    "duration": 48,
    "start_time": "2025-07-07T15:09:14.763Z"
   },
   {
    "duration": 330,
    "start_time": "2025-07-07T15:09:14.818Z"
   },
   {
    "duration": 9,
    "start_time": "2025-07-07T15:09:15.150Z"
   },
   {
    "duration": 132,
    "start_time": "2025-07-07T15:09:15.160Z"
   },
   {
    "duration": 48,
    "start_time": "2025-07-07T15:09:15.293Z"
   },
   {
    "duration": 143,
    "start_time": "2025-07-07T15:09:15.342Z"
   },
   {
    "duration": 4,
    "start_time": "2025-07-07T15:09:15.487Z"
   },
   {
    "duration": 47,
    "start_time": "2025-07-07T15:09:15.493Z"
   },
   {
    "duration": 205,
    "start_time": "2025-07-07T15:09:15.542Z"
   },
   {
    "duration": 11,
    "start_time": "2025-07-07T15:09:15.749Z"
   },
   {
    "duration": 57,
    "start_time": "2025-07-07T15:09:15.762Z"
   },
   {
    "duration": 25,
    "start_time": "2025-07-07T15:09:15.822Z"
   },
   {
    "duration": 398,
    "start_time": "2025-07-07T15:09:15.849Z"
   },
   {
    "duration": 118,
    "start_time": "2025-07-07T15:09:16.249Z"
   },
   {
    "duration": 2823,
    "start_time": "2025-07-07T15:09:16.368Z"
   },
   {
    "duration": 234,
    "start_time": "2025-07-07T15:09:19.193Z"
   },
   {
    "duration": 161,
    "start_time": "2025-07-07T15:09:19.428Z"
   },
   {
    "duration": 129,
    "start_time": "2025-07-07T15:09:19.607Z"
   },
   {
    "duration": 32,
    "start_time": "2025-07-07T15:09:19.739Z"
   },
   {
    "duration": 97,
    "start_time": "2025-07-07T15:09:19.773Z"
   },
   {
    "duration": 96,
    "start_time": "2025-07-07T15:09:19.871Z"
   },
   {
    "duration": 159,
    "start_time": "2025-07-07T15:09:19.969Z"
   },
   {
    "duration": 301,
    "start_time": "2025-07-07T15:09:20.131Z"
   },
   {
    "duration": 518,
    "start_time": "2025-07-07T15:09:20.435Z"
   },
   {
    "duration": 20,
    "start_time": "2025-07-07T15:09:20.955Z"
   },
   {
    "duration": 62,
    "start_time": "2025-07-07T15:09:20.976Z"
   },
   {
    "duration": 24,
    "start_time": "2025-07-07T15:09:21.040Z"
   },
   {
    "duration": 19,
    "start_time": "2025-07-07T15:09:21.066Z"
   },
   {
    "duration": 29,
    "start_time": "2025-07-07T15:09:21.106Z"
   },
   {
    "duration": 54,
    "start_time": "2025-07-07T15:09:21.138Z"
   },
   {
    "duration": 166,
    "start_time": "2025-07-07T15:09:21.194Z"
   },
   {
    "duration": 93,
    "start_time": "2025-07-07T15:09:21.362Z"
   },
   {
    "duration": 22,
    "start_time": "2025-07-07T15:09:21.457Z"
   },
   {
    "duration": 226,
    "start_time": "2025-07-07T15:09:21.481Z"
   },
   {
    "duration": 308,
    "start_time": "2025-07-07T15:09:21.709Z"
   },
   {
    "duration": 57,
    "start_time": "2025-07-07T15:09:22.020Z"
   },
   {
    "duration": 54,
    "start_time": "2025-07-07T15:09:22.078Z"
   },
   {
    "duration": 8,
    "start_time": "2025-07-07T15:09:22.134Z"
   },
   {
    "duration": 43,
    "start_time": "2025-07-07T15:13:41.006Z"
   },
   {
    "duration": 2994,
    "start_time": "2025-07-07T15:13:47.726Z"
   },
   {
    "duration": 1328,
    "start_time": "2025-07-07T15:13:50.726Z"
   },
   {
    "duration": 2204,
    "start_time": "2025-07-07T15:13:52.055Z"
   },
   {
    "duration": 27,
    "start_time": "2025-07-07T15:13:54.261Z"
   },
   {
    "duration": 3,
    "start_time": "2025-07-07T15:13:54.290Z"
   },
   {
    "duration": 74,
    "start_time": "2025-07-07T15:13:54.295Z"
   },
   {
    "duration": 141,
    "start_time": "2025-07-07T15:13:54.371Z"
   },
   {
    "duration": 23,
    "start_time": "2025-07-07T15:13:54.521Z"
   },
   {
    "duration": 13,
    "start_time": "2025-07-07T15:13:54.549Z"
   },
   {
    "duration": 10,
    "start_time": "2025-07-07T15:13:54.563Z"
   },
   {
    "duration": 80,
    "start_time": "2025-07-07T15:13:54.575Z"
   },
   {
    "duration": 9,
    "start_time": "2025-07-07T15:13:54.658Z"
   },
   {
    "duration": 143,
    "start_time": "2025-07-07T15:13:54.669Z"
   },
   {
    "duration": 17,
    "start_time": "2025-07-07T15:13:54.820Z"
   },
   {
    "duration": 40,
    "start_time": "2025-07-07T15:13:54.841Z"
   },
   {
    "duration": 357,
    "start_time": "2025-07-07T15:13:54.883Z"
   },
   {
    "duration": 109,
    "start_time": "2025-07-07T15:13:55.245Z"
   },
   {
    "duration": 104,
    "start_time": "2025-07-07T15:13:55.356Z"
   },
   {
    "duration": 15,
    "start_time": "2025-07-07T15:13:55.462Z"
   },
   {
    "duration": 6,
    "start_time": "2025-07-07T15:13:55.479Z"
   },
   {
    "duration": 30,
    "start_time": "2025-07-07T15:13:55.486Z"
   },
   {
    "duration": 47,
    "start_time": "2025-07-07T15:13:55.526Z"
   },
   {
    "duration": 13,
    "start_time": "2025-07-07T15:13:55.576Z"
   },
   {
    "duration": 51,
    "start_time": "2025-07-07T15:13:55.591Z"
   },
   {
    "duration": 96,
    "start_time": "2025-07-07T15:13:55.649Z"
   },
   {
    "duration": 42,
    "start_time": "2025-07-07T15:13:55.748Z"
   },
   {
    "duration": 48,
    "start_time": "2025-07-07T15:13:55.792Z"
   },
   {
    "duration": 41,
    "start_time": "2025-07-07T15:13:55.842Z"
   },
   {
    "duration": 215,
    "start_time": "2025-07-07T15:13:55.885Z"
   },
   {
    "duration": 259,
    "start_time": "2025-07-07T15:13:56.101Z"
   },
   {
    "duration": 26,
    "start_time": "2025-07-07T15:13:56.362Z"
   },
   {
    "duration": 378,
    "start_time": "2025-07-07T15:13:56.390Z"
   },
   {
    "duration": 10,
    "start_time": "2025-07-07T15:13:56.769Z"
   },
   {
    "duration": 187,
    "start_time": "2025-07-07T15:13:56.781Z"
   },
   {
    "duration": 60,
    "start_time": "2025-07-07T15:13:56.970Z"
   },
   {
    "duration": 108,
    "start_time": "2025-07-07T15:13:57.039Z"
   },
   {
    "duration": 9,
    "start_time": "2025-07-07T15:13:57.149Z"
   },
   {
    "duration": 44,
    "start_time": "2025-07-07T15:13:57.160Z"
   },
   {
    "duration": 275,
    "start_time": "2025-07-07T15:13:57.206Z"
   },
   {
    "duration": 18,
    "start_time": "2025-07-07T15:13:57.483Z"
   },
   {
    "duration": 46,
    "start_time": "2025-07-07T15:13:57.515Z"
   },
   {
    "duration": 22,
    "start_time": "2025-07-07T15:13:57.563Z"
   },
   {
    "duration": 479,
    "start_time": "2025-07-07T15:13:57.587Z"
   },
   {
    "duration": 142,
    "start_time": "2025-07-07T15:13:58.068Z"
   },
   {
    "duration": 3271,
    "start_time": "2025-07-07T15:13:58.212Z"
   },
   {
    "duration": 271,
    "start_time": "2025-07-07T15:14:01.485Z"
   },
   {
    "duration": 193,
    "start_time": "2025-07-07T15:14:01.758Z"
   },
   {
    "duration": 118,
    "start_time": "2025-07-07T15:14:01.953Z"
   },
   {
    "duration": 87,
    "start_time": "2025-07-07T15:14:02.073Z"
   },
   {
    "duration": 90,
    "start_time": "2025-07-07T15:14:02.162Z"
   },
   {
    "duration": 84,
    "start_time": "2025-07-07T15:14:02.253Z"
   },
   {
    "duration": 142,
    "start_time": "2025-07-07T15:14:02.342Z"
   },
   {
    "duration": 291,
    "start_time": "2025-07-07T15:14:02.486Z"
   },
   {
    "duration": 549,
    "start_time": "2025-07-07T15:14:02.778Z"
   },
   {
    "duration": 27,
    "start_time": "2025-07-07T15:14:03.330Z"
   },
   {
    "duration": 97,
    "start_time": "2025-07-07T15:14:03.359Z"
   },
   {
    "duration": 17,
    "start_time": "2025-07-07T15:14:03.458Z"
   },
   {
    "duration": 21,
    "start_time": "2025-07-07T15:14:03.477Z"
   },
   {
    "duration": 56,
    "start_time": "2025-07-07T15:14:03.502Z"
   },
   {
    "duration": 27,
    "start_time": "2025-07-07T15:14:03.560Z"
   },
   {
    "duration": 183,
    "start_time": "2025-07-07T15:14:03.588Z"
   },
   {
    "duration": 86,
    "start_time": "2025-07-07T15:14:03.772Z"
   },
   {
    "duration": 21,
    "start_time": "2025-07-07T15:14:03.860Z"
   },
   {
    "duration": 372,
    "start_time": "2025-07-07T15:14:03.882Z"
   },
   {
    "duration": 366,
    "start_time": "2025-07-07T15:14:04.256Z"
   },
   {
    "duration": 63,
    "start_time": "2025-07-07T15:14:04.628Z"
   },
   {
    "duration": 65,
    "start_time": "2025-07-07T15:14:04.693Z"
   },
   {
    "duration": 52,
    "start_time": "2025-07-07T15:14:04.760Z"
   },
   {
    "duration": 197,
    "start_time": "2025-07-07T15:27:17.981Z"
   },
   {
    "duration": 164,
    "start_time": "2025-07-07T15:27:23.332Z"
   },
   {
    "duration": 2789,
    "start_time": "2025-07-07T15:27:50.231Z"
   },
   {
    "duration": 1333,
    "start_time": "2025-07-07T15:27:53.031Z"
   },
   {
    "duration": 2471,
    "start_time": "2025-07-07T15:27:54.366Z"
   },
   {
    "duration": 37,
    "start_time": "2025-07-07T15:27:56.839Z"
   },
   {
    "duration": 4,
    "start_time": "2025-07-07T15:27:56.878Z"
   },
   {
    "duration": 71,
    "start_time": "2025-07-07T15:27:56.884Z"
   },
   {
    "duration": 133,
    "start_time": "2025-07-07T15:27:56.957Z"
   },
   {
    "duration": 26,
    "start_time": "2025-07-07T15:27:57.092Z"
   },
   {
    "duration": 24,
    "start_time": "2025-07-07T15:27:57.121Z"
   },
   {
    "duration": 9,
    "start_time": "2025-07-07T15:27:57.147Z"
   },
   {
    "duration": 55,
    "start_time": "2025-07-07T15:27:57.158Z"
   },
   {
    "duration": 21,
    "start_time": "2025-07-07T15:27:57.215Z"
   },
   {
    "duration": 21,
    "start_time": "2025-07-07T15:27:57.238Z"
   },
   {
    "duration": 9,
    "start_time": "2025-07-07T15:27:57.262Z"
   },
   {
    "duration": 66,
    "start_time": "2025-07-07T15:27:57.273Z"
   },
   {
    "duration": 335,
    "start_time": "2025-07-07T15:27:57.341Z"
   },
   {
    "duration": 107,
    "start_time": "2025-07-07T15:27:57.678Z"
   },
   {
    "duration": 140,
    "start_time": "2025-07-07T15:27:57.787Z"
   },
   {
    "duration": 22,
    "start_time": "2025-07-07T15:27:57.929Z"
   },
   {
    "duration": 8,
    "start_time": "2025-07-07T15:27:57.953Z"
   },
   {
    "duration": 11,
    "start_time": "2025-07-07T15:27:57.962Z"
   },
   {
    "duration": 72,
    "start_time": "2025-07-07T15:27:57.975Z"
   },
   {
    "duration": 13,
    "start_time": "2025-07-07T15:27:58.049Z"
   },
   {
    "duration": 75,
    "start_time": "2025-07-07T15:27:58.063Z"
   },
   {
    "duration": 37,
    "start_time": "2025-07-07T15:27:58.141Z"
   },
   {
    "duration": 64,
    "start_time": "2025-07-07T15:27:58.180Z"
   },
   {
    "duration": 20,
    "start_time": "2025-07-07T15:27:58.246Z"
   },
   {
    "duration": 48,
    "start_time": "2025-07-07T15:27:58.268Z"
   },
   {
    "duration": 70,
    "start_time": "2025-07-07T15:27:58.318Z"
   },
   {
    "duration": 246,
    "start_time": "2025-07-07T15:27:58.390Z"
   },
   {
    "duration": 27,
    "start_time": "2025-07-07T15:27:58.638Z"
   },
   {
    "duration": 327,
    "start_time": "2025-07-07T15:27:58.667Z"
   },
   {
    "duration": 19,
    "start_time": "2025-07-07T15:27:59.001Z"
   },
   {
    "duration": 132,
    "start_time": "2025-07-07T15:27:59.026Z"
   },
   {
    "duration": 47,
    "start_time": "2025-07-07T15:27:59.160Z"
   },
   {
    "duration": 102,
    "start_time": "2025-07-07T15:27:59.209Z"
   },
   {
    "duration": 16,
    "start_time": "2025-07-07T15:27:59.313Z"
   },
   {
    "duration": 40,
    "start_time": "2025-07-07T15:27:59.334Z"
   },
   {
    "duration": 230,
    "start_time": "2025-07-07T15:27:59.376Z"
   },
   {
    "duration": 17,
    "start_time": "2025-07-07T15:27:59.612Z"
   },
   {
    "duration": 27,
    "start_time": "2025-07-07T15:27:59.641Z"
   },
   {
    "duration": 43,
    "start_time": "2025-07-07T15:27:59.670Z"
   },
   {
    "duration": 437,
    "start_time": "2025-07-07T15:27:59.715Z"
   },
   {
    "duration": 121,
    "start_time": "2025-07-07T15:28:00.154Z"
   },
   {
    "duration": 2934,
    "start_time": "2025-07-07T15:28:00.276Z"
   },
   {
    "duration": 217,
    "start_time": "2025-07-07T15:28:03.213Z"
   },
   {
    "duration": 148,
    "start_time": "2025-07-07T15:28:03.432Z"
   },
   {
    "duration": 138,
    "start_time": "2025-07-07T15:28:03.581Z"
   },
   {
    "duration": 33,
    "start_time": "2025-07-07T15:28:03.729Z"
   },
   {
    "duration": 86,
    "start_time": "2025-07-07T15:28:03.764Z"
   },
   {
    "duration": 88,
    "start_time": "2025-07-07T15:28:03.852Z"
   },
   {
    "duration": 126,
    "start_time": "2025-07-07T15:28:03.942Z"
   },
   {
    "duration": 305,
    "start_time": "2025-07-07T15:28:04.070Z"
   },
   {
    "duration": 567,
    "start_time": "2025-07-07T15:28:04.376Z"
   },
   {
    "duration": 21,
    "start_time": "2025-07-07T15:28:04.947Z"
   },
   {
    "duration": 41,
    "start_time": "2025-07-07T15:28:04.969Z"
   },
   {
    "duration": 32,
    "start_time": "2025-07-07T15:28:05.013Z"
   },
   {
    "duration": 18,
    "start_time": "2025-07-07T15:28:05.051Z"
   },
   {
    "duration": 66,
    "start_time": "2025-07-07T15:28:05.071Z"
   },
   {
    "duration": 37,
    "start_time": "2025-07-07T15:28:05.139Z"
   },
   {
    "duration": 200,
    "start_time": "2025-07-07T15:28:05.178Z"
   },
   {
    "duration": 106,
    "start_time": "2025-07-07T15:28:05.380Z"
   },
   {
    "duration": 54,
    "start_time": "2025-07-07T15:28:05.488Z"
   },
   {
    "duration": 233,
    "start_time": "2025-07-07T15:28:05.543Z"
   },
   {
    "duration": 399,
    "start_time": "2025-07-07T15:28:05.777Z"
   },
   {
    "duration": 77,
    "start_time": "2025-07-07T15:28:06.178Z"
   },
   {
    "duration": 0,
    "start_time": "2025-07-07T15:28:06.257Z"
   },
   {
    "duration": 0,
    "start_time": "2025-07-07T15:28:06.259Z"
   },
   {
    "duration": 0,
    "start_time": "2025-07-07T15:28:06.260Z"
   },
   {
    "duration": 13,
    "start_time": "2025-07-07T15:32:30.690Z"
   },
   {
    "duration": 75,
    "start_time": "2025-07-07T15:33:15.679Z"
   },
   {
    "duration": 77,
    "start_time": "2025-07-07T15:33:37.311Z"
   },
   {
    "duration": 23,
    "start_time": "2025-07-07T15:33:45.405Z"
   },
   {
    "duration": 13,
    "start_time": "2025-07-07T15:34:00.287Z"
   },
   {
    "duration": 13,
    "start_time": "2025-07-07T15:34:12.824Z"
   },
   {
    "duration": 11,
    "start_time": "2025-07-07T15:34:40.167Z"
   },
   {
    "duration": 112,
    "start_time": "2025-07-07T15:50:53.192Z"
   },
   {
    "duration": 10,
    "start_time": "2025-07-07T15:51:02.449Z"
   },
   {
    "duration": 16,
    "start_time": "2025-07-07T15:51:21.145Z"
   },
   {
    "duration": 21,
    "start_time": "2025-07-07T15:52:33.816Z"
   },
   {
    "duration": 14,
    "start_time": "2025-07-07T15:52:48.884Z"
   },
   {
    "duration": 13,
    "start_time": "2025-07-07T15:52:59.609Z"
   },
   {
    "duration": 13,
    "start_time": "2025-07-07T15:53:11.216Z"
   },
   {
    "duration": 14,
    "start_time": "2025-07-07T15:53:26.105Z"
   },
   {
    "duration": 10,
    "start_time": "2025-07-07T15:53:55.129Z"
   },
   {
    "duration": 16,
    "start_time": "2025-07-07T15:54:31.487Z"
   },
   {
    "duration": 79,
    "start_time": "2025-07-07T15:54:46.579Z"
   },
   {
    "duration": 9,
    "start_time": "2025-07-07T15:54:51.863Z"
   },
   {
    "duration": 10,
    "start_time": "2025-07-07T15:55:43.945Z"
   },
   {
    "duration": 1399,
    "start_time": "2025-07-07T15:57:48.170Z"
   },
   {
    "duration": 9,
    "start_time": "2025-07-07T15:58:21.177Z"
   },
   {
    "duration": 1451,
    "start_time": "2025-07-07T15:58:26.131Z"
   },
   {
    "duration": 0,
    "start_time": "2025-07-07T15:58:27.584Z"
   },
   {
    "duration": 3035,
    "start_time": "2025-07-07T15:59:26.336Z"
   },
   {
    "duration": 9,
    "start_time": "2025-07-07T15:59:30.467Z"
   },
   {
    "duration": 22,
    "start_time": "2025-07-07T16:00:02.567Z"
   },
   {
    "duration": 11,
    "start_time": "2025-07-07T16:00:29.783Z"
   },
   {
    "duration": 11,
    "start_time": "2025-07-07T16:02:04.483Z"
   },
   {
    "duration": 12,
    "start_time": "2025-07-07T16:02:15.696Z"
   },
   {
    "duration": 11,
    "start_time": "2025-07-07T16:02:22.342Z"
   },
   {
    "duration": 2552,
    "start_time": "2025-07-07T16:02:30.636Z"
   },
   {
    "duration": 1265,
    "start_time": "2025-07-07T16:02:33.191Z"
   },
   {
    "duration": 2525,
    "start_time": "2025-07-07T16:02:34.457Z"
   },
   {
    "duration": 28,
    "start_time": "2025-07-07T16:02:36.984Z"
   },
   {
    "duration": 46,
    "start_time": "2025-07-07T16:02:37.014Z"
   },
   {
    "duration": 117,
    "start_time": "2025-07-07T16:02:37.062Z"
   },
   {
    "duration": 101,
    "start_time": "2025-07-07T16:02:37.181Z"
   },
   {
    "duration": 8,
    "start_time": "2025-07-07T16:02:37.284Z"
   },
   {
    "duration": 14,
    "start_time": "2025-07-07T16:02:37.293Z"
   },
   {
    "duration": 20,
    "start_time": "2025-07-07T16:02:37.308Z"
   },
   {
    "duration": 49,
    "start_time": "2025-07-07T16:02:37.329Z"
   },
   {
    "duration": 7,
    "start_time": "2025-07-07T16:02:37.379Z"
   },
   {
    "duration": 19,
    "start_time": "2025-07-07T16:02:37.399Z"
   },
   {
    "duration": 10,
    "start_time": "2025-07-07T16:02:37.421Z"
   },
   {
    "duration": 26,
    "start_time": "2025-07-07T16:02:37.432Z"
   },
   {
    "duration": 265,
    "start_time": "2025-07-07T16:02:37.459Z"
   },
   {
    "duration": 80,
    "start_time": "2025-07-07T16:02:37.725Z"
   },
   {
    "duration": 72,
    "start_time": "2025-07-07T16:02:37.807Z"
   },
   {
    "duration": 27,
    "start_time": "2025-07-07T16:02:37.881Z"
   },
   {
    "duration": 6,
    "start_time": "2025-07-07T16:02:37.910Z"
   },
   {
    "duration": 21,
    "start_time": "2025-07-07T16:02:37.917Z"
   },
   {
    "duration": 37,
    "start_time": "2025-07-07T16:02:37.940Z"
   },
   {
    "duration": 28,
    "start_time": "2025-07-07T16:02:37.978Z"
   },
   {
    "duration": 13,
    "start_time": "2025-07-07T16:02:38.007Z"
   },
   {
    "duration": 33,
    "start_time": "2025-07-07T16:02:38.022Z"
   },
   {
    "duration": 59,
    "start_time": "2025-07-07T16:02:38.057Z"
   },
   {
    "duration": 59,
    "start_time": "2025-07-07T16:02:38.118Z"
   },
   {
    "duration": 34,
    "start_time": "2025-07-07T16:02:38.179Z"
   },
   {
    "duration": 81,
    "start_time": "2025-07-07T16:02:38.215Z"
   },
   {
    "duration": 181,
    "start_time": "2025-07-07T16:02:38.298Z"
   },
   {
    "duration": 36,
    "start_time": "2025-07-07T16:02:38.481Z"
   },
   {
    "duration": 269,
    "start_time": "2025-07-07T16:02:38.518Z"
   },
   {
    "duration": 11,
    "start_time": "2025-07-07T16:02:38.789Z"
   },
   {
    "duration": 113,
    "start_time": "2025-07-07T16:02:38.802Z"
   },
   {
    "duration": 25,
    "start_time": "2025-07-07T16:02:38.917Z"
   },
   {
    "duration": 126,
    "start_time": "2025-07-07T16:02:38.943Z"
   },
   {
    "duration": 4,
    "start_time": "2025-07-07T16:02:39.071Z"
   },
   {
    "duration": 35,
    "start_time": "2025-07-07T16:02:39.076Z"
   },
   {
    "duration": 194,
    "start_time": "2025-07-07T16:02:39.112Z"
   },
   {
    "duration": 12,
    "start_time": "2025-07-07T16:02:39.308Z"
   },
   {
    "duration": 23,
    "start_time": "2025-07-07T16:02:39.324Z"
   },
   {
    "duration": 19,
    "start_time": "2025-07-07T16:02:39.349Z"
   },
   {
    "duration": 371,
    "start_time": "2025-07-07T16:02:39.370Z"
   },
   {
    "duration": 108,
    "start_time": "2025-07-07T16:02:39.743Z"
   },
   {
    "duration": 2542,
    "start_time": "2025-07-07T16:02:39.852Z"
   },
   {
    "duration": 187,
    "start_time": "2025-07-07T16:02:42.397Z"
   },
   {
    "duration": 144,
    "start_time": "2025-07-07T16:02:42.586Z"
   },
   {
    "duration": 97,
    "start_time": "2025-07-07T16:02:42.731Z"
   },
   {
    "duration": 31,
    "start_time": "2025-07-07T16:02:42.830Z"
   },
   {
    "duration": 75,
    "start_time": "2025-07-07T16:02:42.863Z"
   },
   {
    "duration": 64,
    "start_time": "2025-07-07T16:02:42.939Z"
   },
   {
    "duration": 106,
    "start_time": "2025-07-07T16:02:43.004Z"
   },
   {
    "duration": 219,
    "start_time": "2025-07-07T16:02:43.112Z"
   },
   {
    "duration": 404,
    "start_time": "2025-07-07T16:02:43.333Z"
   },
   {
    "duration": 23,
    "start_time": "2025-07-07T16:02:43.739Z"
   },
   {
    "duration": 45,
    "start_time": "2025-07-07T16:02:43.764Z"
   },
   {
    "duration": 19,
    "start_time": "2025-07-07T16:02:43.811Z"
   },
   {
    "duration": 19,
    "start_time": "2025-07-07T16:02:43.832Z"
   },
   {
    "duration": 64,
    "start_time": "2025-07-07T16:02:43.853Z"
   },
   {
    "duration": 28,
    "start_time": "2025-07-07T16:02:43.918Z"
   },
   {
    "duration": 170,
    "start_time": "2025-07-07T16:02:43.948Z"
   },
   {
    "duration": 88,
    "start_time": "2025-07-07T16:02:44.120Z"
   },
   {
    "duration": 21,
    "start_time": "2025-07-07T16:02:44.209Z"
   },
   {
    "duration": 180,
    "start_time": "2025-07-07T16:02:44.232Z"
   },
   {
    "duration": 288,
    "start_time": "2025-07-07T16:02:44.414Z"
   },
   {
    "duration": 74,
    "start_time": "2025-07-07T16:02:44.704Z"
   },
   {
    "duration": 48,
    "start_time": "2025-07-07T16:02:44.781Z"
   },
   {
    "duration": 8,
    "start_time": "2025-07-07T16:02:44.830Z"
   },
   {
    "duration": 12,
    "start_time": "2025-07-07T16:02:44.839Z"
   },
   {
    "duration": 9,
    "start_time": "2025-07-07T16:02:44.852Z"
   },
   {
    "duration": 9,
    "start_time": "2025-07-07T16:03:30.155Z"
   },
   {
    "duration": 8,
    "start_time": "2025-07-07T16:03:49.684Z"
   },
   {
    "duration": 8,
    "start_time": "2025-07-07T16:03:55.133Z"
   },
   {
    "duration": 2483,
    "start_time": "2025-07-07T16:04:01.758Z"
   },
   {
    "duration": 1329,
    "start_time": "2025-07-07T16:04:04.244Z"
   },
   {
    "duration": 2434,
    "start_time": "2025-07-07T16:04:05.575Z"
   },
   {
    "duration": 27,
    "start_time": "2025-07-07T16:04:08.011Z"
   },
   {
    "duration": 7,
    "start_time": "2025-07-07T16:04:08.041Z"
   },
   {
    "duration": 65,
    "start_time": "2025-07-07T16:04:08.049Z"
   },
   {
    "duration": 128,
    "start_time": "2025-07-07T16:04:08.116Z"
   },
   {
    "duration": 8,
    "start_time": "2025-07-07T16:04:08.246Z"
   },
   {
    "duration": 28,
    "start_time": "2025-07-07T16:04:08.256Z"
   },
   {
    "duration": 38,
    "start_time": "2025-07-07T16:04:08.286Z"
   },
   {
    "duration": 81,
    "start_time": "2025-07-07T16:04:08.326Z"
   },
   {
    "duration": 7,
    "start_time": "2025-07-07T16:04:08.408Z"
   },
   {
    "duration": 21,
    "start_time": "2025-07-07T16:04:08.416Z"
   },
   {
    "duration": 23,
    "start_time": "2025-07-07T16:04:08.441Z"
   },
   {
    "duration": 33,
    "start_time": "2025-07-07T16:04:08.465Z"
   },
   {
    "duration": 257,
    "start_time": "2025-07-07T16:04:08.500Z"
   },
   {
    "duration": 85,
    "start_time": "2025-07-07T16:04:08.759Z"
   },
   {
    "duration": 80,
    "start_time": "2025-07-07T16:04:08.846Z"
   },
   {
    "duration": 16,
    "start_time": "2025-07-07T16:04:08.928Z"
   },
   {
    "duration": 119,
    "start_time": "2025-07-07T16:04:08.945Z"
   },
   {
    "duration": 47,
    "start_time": "2025-07-07T16:04:09.065Z"
   },
   {
    "duration": 45,
    "start_time": "2025-07-07T16:04:09.113Z"
   },
   {
    "duration": 10,
    "start_time": "2025-07-07T16:04:09.160Z"
   },
   {
    "duration": 14,
    "start_time": "2025-07-07T16:04:09.172Z"
   },
   {
    "duration": 59,
    "start_time": "2025-07-07T16:04:09.188Z"
   },
   {
    "duration": 35,
    "start_time": "2025-07-07T16:04:09.249Z"
   },
   {
    "duration": 40,
    "start_time": "2025-07-07T16:04:09.285Z"
   },
   {
    "duration": 48,
    "start_time": "2025-07-07T16:04:09.327Z"
   },
   {
    "duration": 89,
    "start_time": "2025-07-07T16:04:09.377Z"
   },
   {
    "duration": 188,
    "start_time": "2025-07-07T16:04:09.468Z"
   },
   {
    "duration": 40,
    "start_time": "2025-07-07T16:04:09.658Z"
   },
   {
    "duration": 282,
    "start_time": "2025-07-07T16:04:09.700Z"
   },
   {
    "duration": 15,
    "start_time": "2025-07-07T16:04:09.984Z"
   },
   {
    "duration": 115,
    "start_time": "2025-07-07T16:04:10.001Z"
   },
   {
    "duration": 27,
    "start_time": "2025-07-07T16:04:10.118Z"
   },
   {
    "duration": 89,
    "start_time": "2025-07-07T16:04:10.147Z"
   },
   {
    "duration": 4,
    "start_time": "2025-07-07T16:04:10.238Z"
   },
   {
    "duration": 33,
    "start_time": "2025-07-07T16:04:10.243Z"
   },
   {
    "duration": 201,
    "start_time": "2025-07-07T16:04:10.277Z"
   },
   {
    "duration": 21,
    "start_time": "2025-07-07T16:04:10.479Z"
   },
   {
    "duration": 29,
    "start_time": "2025-07-07T16:04:10.505Z"
   },
   {
    "duration": 20,
    "start_time": "2025-07-07T16:04:10.535Z"
   },
   {
    "duration": 372,
    "start_time": "2025-07-07T16:04:10.557Z"
   },
   {
    "duration": 105,
    "start_time": "2025-07-07T16:04:10.931Z"
   },
   {
    "duration": 2575,
    "start_time": "2025-07-07T16:04:16.852Z"
   },
   {
    "duration": 1243,
    "start_time": "2025-07-07T16:04:19.430Z"
   },
   {
    "duration": 1990,
    "start_time": "2025-07-07T16:04:20.676Z"
   },
   {
    "duration": 28,
    "start_time": "2025-07-07T16:04:22.669Z"
   },
   {
    "duration": 3,
    "start_time": "2025-07-07T16:04:22.699Z"
   },
   {
    "duration": 51,
    "start_time": "2025-07-07T16:04:22.704Z"
   },
   {
    "duration": 134,
    "start_time": "2025-07-07T16:04:22.757Z"
   },
   {
    "duration": 10,
    "start_time": "2025-07-07T16:04:22.893Z"
   },
   {
    "duration": 104,
    "start_time": "2025-07-07T16:04:22.905Z"
   },
   {
    "duration": 31,
    "start_time": "2025-07-07T16:04:23.012Z"
   },
   {
    "duration": 44,
    "start_time": "2025-07-07T16:04:23.044Z"
   },
   {
    "duration": 8,
    "start_time": "2025-07-07T16:04:23.090Z"
   },
   {
    "duration": 25,
    "start_time": "2025-07-07T16:04:23.099Z"
   },
   {
    "duration": 16,
    "start_time": "2025-07-07T16:04:23.126Z"
   },
   {
    "duration": 35,
    "start_time": "2025-07-07T16:04:23.143Z"
   },
   {
    "duration": 266,
    "start_time": "2025-07-07T16:04:23.180Z"
   },
   {
    "duration": 89,
    "start_time": "2025-07-07T16:04:23.448Z"
   },
   {
    "duration": 87,
    "start_time": "2025-07-07T16:04:23.539Z"
   },
   {
    "duration": 42,
    "start_time": "2025-07-07T16:04:23.627Z"
   },
   {
    "duration": 6,
    "start_time": "2025-07-07T16:04:23.671Z"
   },
   {
    "duration": 16,
    "start_time": "2025-07-07T16:04:23.679Z"
   },
   {
    "duration": 34,
    "start_time": "2025-07-07T16:04:23.697Z"
   },
   {
    "duration": 13,
    "start_time": "2025-07-07T16:04:23.732Z"
   },
   {
    "duration": 13,
    "start_time": "2025-07-07T16:04:23.747Z"
   },
   {
    "duration": 67,
    "start_time": "2025-07-07T16:04:23.762Z"
   },
   {
    "duration": 47,
    "start_time": "2025-07-07T16:04:23.831Z"
   },
   {
    "duration": 41,
    "start_time": "2025-07-07T16:04:23.881Z"
   },
   {
    "duration": 23,
    "start_time": "2025-07-07T16:04:23.927Z"
   },
   {
    "duration": 89,
    "start_time": "2025-07-07T16:04:23.951Z"
   },
   {
    "duration": 204,
    "start_time": "2025-07-07T16:04:24.041Z"
   },
   {
    "duration": 30,
    "start_time": "2025-07-07T16:04:24.247Z"
   },
   {
    "duration": 300,
    "start_time": "2025-07-07T16:04:24.278Z"
   },
   {
    "duration": 20,
    "start_time": "2025-07-07T16:04:24.580Z"
   },
   {
    "duration": 126,
    "start_time": "2025-07-07T16:04:24.602Z"
   },
   {
    "duration": 29,
    "start_time": "2025-07-07T16:04:24.730Z"
   },
   {
    "duration": 143,
    "start_time": "2025-07-07T16:04:24.761Z"
   },
   {
    "duration": 4,
    "start_time": "2025-07-07T16:04:24.906Z"
   },
   {
    "duration": 129,
    "start_time": "2025-07-07T16:04:24.912Z"
   },
   {
    "duration": 189,
    "start_time": "2025-07-07T16:04:25.043Z"
   },
   {
    "duration": 11,
    "start_time": "2025-07-07T16:04:25.234Z"
   },
   {
    "duration": 60,
    "start_time": "2025-07-07T16:04:25.247Z"
   },
   {
    "duration": 20,
    "start_time": "2025-07-07T16:04:25.308Z"
   },
   {
    "duration": 374,
    "start_time": "2025-07-07T16:04:25.330Z"
   },
   {
    "duration": 117,
    "start_time": "2025-07-07T16:04:25.706Z"
   },
   {
    "duration": 2554,
    "start_time": "2025-07-07T16:04:25.824Z"
   },
   {
    "duration": 180,
    "start_time": "2025-07-07T16:04:28.380Z"
   },
   {
    "duration": 147,
    "start_time": "2025-07-07T16:04:28.562Z"
   },
   {
    "duration": 107,
    "start_time": "2025-07-07T16:04:28.711Z"
   },
   {
    "duration": 31,
    "start_time": "2025-07-07T16:04:28.820Z"
   },
   {
    "duration": 80,
    "start_time": "2025-07-07T16:04:28.853Z"
   },
   {
    "duration": 64,
    "start_time": "2025-07-07T16:04:28.935Z"
   },
   {
    "duration": 120,
    "start_time": "2025-07-07T16:04:29.001Z"
   },
   {
    "duration": 238,
    "start_time": "2025-07-07T16:04:29.123Z"
   },
   {
    "duration": 430,
    "start_time": "2025-07-07T16:04:29.363Z"
   },
   {
    "duration": 23,
    "start_time": "2025-07-07T16:04:29.794Z"
   },
   {
    "duration": 24,
    "start_time": "2025-07-07T16:04:29.819Z"
   },
   {
    "duration": 17,
    "start_time": "2025-07-07T16:04:29.845Z"
   },
   {
    "duration": 52,
    "start_time": "2025-07-07T16:04:29.864Z"
   },
   {
    "duration": 30,
    "start_time": "2025-07-07T16:04:29.917Z"
   },
   {
    "duration": 51,
    "start_time": "2025-07-07T16:04:29.949Z"
   },
   {
    "duration": 147,
    "start_time": "2025-07-07T16:04:30.001Z"
   },
   {
    "duration": 96,
    "start_time": "2025-07-07T16:04:30.149Z"
   },
   {
    "duration": 22,
    "start_time": "2025-07-07T16:04:30.248Z"
   },
   {
    "duration": 494,
    "start_time": "2025-07-07T16:04:30.272Z"
   },
   {
    "duration": 285,
    "start_time": "2025-07-07T16:04:30.768Z"
   },
   {
    "duration": 83,
    "start_time": "2025-07-07T16:04:31.055Z"
   },
   {
    "duration": 30,
    "start_time": "2025-07-07T16:04:31.140Z"
   },
   {
    "duration": 7,
    "start_time": "2025-07-07T16:04:31.172Z"
   },
   {
    "duration": 10,
    "start_time": "2025-07-07T16:04:31.199Z"
   },
   {
    "duration": 38,
    "start_time": "2025-07-07T16:04:31.211Z"
   },
   {
    "duration": 115,
    "start_time": "2025-07-07T16:14:27.204Z"
   },
   {
    "duration": 144,
    "start_time": "2025-07-07T16:15:05.017Z"
   },
   {
    "duration": 13,
    "start_time": "2025-07-07T16:17:39.041Z"
   },
   {
    "duration": 6,
    "start_time": "2025-07-07T16:19:09.325Z"
   },
   {
    "duration": 11,
    "start_time": "2025-07-07T16:19:26.492Z"
   },
   {
    "duration": 2420,
    "start_time": "2025-07-07T16:19:38.227Z"
   },
   {
    "duration": 1216,
    "start_time": "2025-07-07T16:19:40.649Z"
   },
   {
    "duration": 2009,
    "start_time": "2025-07-07T16:19:41.866Z"
   },
   {
    "duration": 29,
    "start_time": "2025-07-07T16:19:43.877Z"
   },
   {
    "duration": 4,
    "start_time": "2025-07-07T16:19:43.908Z"
   },
   {
    "duration": 72,
    "start_time": "2025-07-07T16:19:43.913Z"
   },
   {
    "duration": 98,
    "start_time": "2025-07-07T16:19:43.986Z"
   },
   {
    "duration": 13,
    "start_time": "2025-07-07T16:19:44.087Z"
   },
   {
    "duration": 12,
    "start_time": "2025-07-07T16:19:44.102Z"
   },
   {
    "duration": 11,
    "start_time": "2025-07-07T16:19:44.115Z"
   },
   {
    "duration": 101,
    "start_time": "2025-07-07T16:19:44.127Z"
   },
   {
    "duration": 7,
    "start_time": "2025-07-07T16:19:44.230Z"
   },
   {
    "duration": 31,
    "start_time": "2025-07-07T16:19:44.239Z"
   },
   {
    "duration": 9,
    "start_time": "2025-07-07T16:19:44.273Z"
   },
   {
    "duration": 29,
    "start_time": "2025-07-07T16:19:44.283Z"
   },
   {
    "duration": 252,
    "start_time": "2025-07-07T16:19:44.314Z"
   },
   {
    "duration": 83,
    "start_time": "2025-07-07T16:19:44.568Z"
   },
   {
    "duration": 87,
    "start_time": "2025-07-07T16:19:44.653Z"
   },
   {
    "duration": 22,
    "start_time": "2025-07-07T16:19:44.743Z"
   },
   {
    "duration": 75,
    "start_time": "2025-07-07T16:19:44.767Z"
   },
   {
    "duration": 8,
    "start_time": "2025-07-07T16:19:44.844Z"
   },
   {
    "duration": 32,
    "start_time": "2025-07-07T16:19:44.854Z"
   },
   {
    "duration": 12,
    "start_time": "2025-07-07T16:19:44.888Z"
   },
   {
    "duration": 12,
    "start_time": "2025-07-07T16:19:44.901Z"
   },
   {
    "duration": 36,
    "start_time": "2025-07-07T16:19:44.915Z"
   },
   {
    "duration": 63,
    "start_time": "2025-07-07T16:19:44.953Z"
   },
   {
    "duration": 110,
    "start_time": "2025-07-07T16:19:45.018Z"
   },
   {
    "duration": 50,
    "start_time": "2025-07-07T16:19:45.130Z"
   },
   {
    "duration": 88,
    "start_time": "2025-07-07T16:19:45.181Z"
   },
   {
    "duration": 207,
    "start_time": "2025-07-07T16:19:45.271Z"
   },
   {
    "duration": 28,
    "start_time": "2025-07-07T16:19:45.481Z"
   },
   {
    "duration": 262,
    "start_time": "2025-07-07T16:19:45.510Z"
   },
   {
    "duration": 8,
    "start_time": "2025-07-07T16:19:45.773Z"
   },
   {
    "duration": 128,
    "start_time": "2025-07-07T16:19:45.783Z"
   },
   {
    "duration": 91,
    "start_time": "2025-07-07T16:19:45.913Z"
   },
   {
    "duration": 113,
    "start_time": "2025-07-07T16:19:46.005Z"
   },
   {
    "duration": 4,
    "start_time": "2025-07-07T16:19:46.119Z"
   },
   {
    "duration": 61,
    "start_time": "2025-07-07T16:19:46.124Z"
   },
   {
    "duration": 252,
    "start_time": "2025-07-07T16:19:46.186Z"
   },
   {
    "duration": 10,
    "start_time": "2025-07-07T16:19:46.439Z"
   },
   {
    "duration": 36,
    "start_time": "2025-07-07T16:19:46.453Z"
   },
   {
    "duration": 18,
    "start_time": "2025-07-07T16:19:46.491Z"
   },
   {
    "duration": 341,
    "start_time": "2025-07-07T16:19:46.511Z"
   },
   {
    "duration": 98,
    "start_time": "2025-07-07T16:19:46.854Z"
   },
   {
    "duration": 2510,
    "start_time": "2025-07-07T16:19:46.953Z"
   },
   {
    "duration": 181,
    "start_time": "2025-07-07T16:19:49.465Z"
   },
   {
    "duration": 141,
    "start_time": "2025-07-07T16:19:49.648Z"
   },
   {
    "duration": 96,
    "start_time": "2025-07-07T16:19:49.791Z"
   },
   {
    "duration": 41,
    "start_time": "2025-07-07T16:19:49.889Z"
   },
   {
    "duration": 104,
    "start_time": "2025-07-07T16:19:49.932Z"
   },
   {
    "duration": 72,
    "start_time": "2025-07-07T16:19:50.038Z"
   },
   {
    "duration": 108,
    "start_time": "2025-07-07T16:19:50.112Z"
   },
   {
    "duration": 233,
    "start_time": "2025-07-07T16:19:50.222Z"
   },
   {
    "duration": 454,
    "start_time": "2025-07-07T16:19:50.457Z"
   },
   {
    "duration": 19,
    "start_time": "2025-07-07T16:19:50.913Z"
   },
   {
    "duration": 36,
    "start_time": "2025-07-07T16:19:50.934Z"
   },
   {
    "duration": 133,
    "start_time": "2025-07-07T16:19:50.972Z"
   },
   {
    "duration": 33,
    "start_time": "2025-07-07T16:19:51.106Z"
   },
   {
    "duration": 64,
    "start_time": "2025-07-07T16:19:51.141Z"
   },
   {
    "duration": 28,
    "start_time": "2025-07-07T16:19:51.207Z"
   },
   {
    "duration": 144,
    "start_time": "2025-07-07T16:19:51.237Z"
   },
   {
    "duration": 80,
    "start_time": "2025-07-07T16:19:51.382Z"
   },
   {
    "duration": 22,
    "start_time": "2025-07-07T16:19:51.464Z"
   },
   {
    "duration": 173,
    "start_time": "2025-07-07T16:19:51.498Z"
   },
   {
    "duration": 277,
    "start_time": "2025-07-07T16:19:51.672Z"
   },
   {
    "duration": 58,
    "start_time": "2025-07-07T16:19:51.950Z"
   },
   {
    "duration": 27,
    "start_time": "2025-07-07T16:19:52.010Z"
   },
   {
    "duration": 24,
    "start_time": "2025-07-07T16:19:52.038Z"
   },
   {
    "duration": 29,
    "start_time": "2025-07-07T16:19:52.064Z"
   },
   {
    "duration": 11,
    "start_time": "2025-07-07T16:19:52.094Z"
   },
   {
    "duration": 9,
    "start_time": "2025-07-07T16:22:08.237Z"
   },
   {
    "duration": 10,
    "start_time": "2025-07-07T16:22:21.392Z"
   },
   {
    "duration": 8,
    "start_time": "2025-07-07T16:23:51.675Z"
   },
   {
    "duration": 2411,
    "start_time": "2025-07-07T16:24:04.638Z"
   },
   {
    "duration": 1192,
    "start_time": "2025-07-07T16:24:07.051Z"
   },
   {
    "duration": 2210,
    "start_time": "2025-07-07T16:24:08.244Z"
   },
   {
    "duration": 29,
    "start_time": "2025-07-07T16:24:10.456Z"
   },
   {
    "duration": 34,
    "start_time": "2025-07-07T16:24:10.486Z"
   },
   {
    "duration": 47,
    "start_time": "2025-07-07T16:24:10.522Z"
   },
   {
    "duration": 100,
    "start_time": "2025-07-07T16:24:10.571Z"
   },
   {
    "duration": 8,
    "start_time": "2025-07-07T16:24:10.673Z"
   },
   {
    "duration": 22,
    "start_time": "2025-07-07T16:24:10.683Z"
   },
   {
    "duration": 12,
    "start_time": "2025-07-07T16:24:10.714Z"
   },
   {
    "duration": 40,
    "start_time": "2025-07-07T16:24:10.728Z"
   },
   {
    "duration": 49,
    "start_time": "2025-07-07T16:24:10.769Z"
   },
   {
    "duration": 67,
    "start_time": "2025-07-07T16:24:10.819Z"
   },
   {
    "duration": 14,
    "start_time": "2025-07-07T16:24:10.887Z"
   },
   {
    "duration": 24,
    "start_time": "2025-07-07T16:24:10.904Z"
   },
   {
    "duration": 248,
    "start_time": "2025-07-07T16:24:10.930Z"
   },
   {
    "duration": 76,
    "start_time": "2025-07-07T16:24:11.180Z"
   },
   {
    "duration": 81,
    "start_time": "2025-07-07T16:24:11.258Z"
   },
   {
    "duration": 13,
    "start_time": "2025-07-07T16:24:11.340Z"
   },
   {
    "duration": 5,
    "start_time": "2025-07-07T16:24:11.355Z"
   },
   {
    "duration": 6,
    "start_time": "2025-07-07T16:24:11.361Z"
   },
   {
    "duration": 52,
    "start_time": "2025-07-07T16:24:11.368Z"
   },
   {
    "duration": 11,
    "start_time": "2025-07-07T16:24:11.422Z"
   },
   {
    "duration": 19,
    "start_time": "2025-07-07T16:24:11.434Z"
   },
   {
    "duration": 48,
    "start_time": "2025-07-07T16:24:11.455Z"
   },
   {
    "duration": 37,
    "start_time": "2025-07-07T16:24:11.506Z"
   },
   {
    "duration": 21,
    "start_time": "2025-07-07T16:24:11.544Z"
   },
   {
    "duration": 47,
    "start_time": "2025-07-07T16:24:11.570Z"
   },
   {
    "duration": 123,
    "start_time": "2025-07-07T16:24:11.619Z"
   },
   {
    "duration": 189,
    "start_time": "2025-07-07T16:24:11.744Z"
   },
   {
    "duration": 27,
    "start_time": "2025-07-07T16:24:11.934Z"
   },
   {
    "duration": 287,
    "start_time": "2025-07-07T16:24:11.962Z"
   },
   {
    "duration": 8,
    "start_time": "2025-07-07T16:24:12.250Z"
   },
   {
    "duration": 109,
    "start_time": "2025-07-07T16:24:12.259Z"
   },
   {
    "duration": 35,
    "start_time": "2025-07-07T16:24:12.369Z"
   },
   {
    "duration": 186,
    "start_time": "2025-07-07T16:24:12.406Z"
   },
   {
    "duration": 4,
    "start_time": "2025-07-07T16:24:12.594Z"
   },
   {
    "duration": 34,
    "start_time": "2025-07-07T16:24:12.600Z"
   },
   {
    "duration": 202,
    "start_time": "2025-07-07T16:24:12.635Z"
   },
   {
    "duration": 12,
    "start_time": "2025-07-07T16:24:12.839Z"
   },
   {
    "duration": 25,
    "start_time": "2025-07-07T16:24:12.853Z"
   },
   {
    "duration": 19,
    "start_time": "2025-07-07T16:24:12.899Z"
   },
   {
    "duration": 361,
    "start_time": "2025-07-07T16:24:12.919Z"
   },
   {
    "duration": 102,
    "start_time": "2025-07-07T16:24:13.282Z"
   },
   {
    "duration": 2462,
    "start_time": "2025-07-07T16:24:13.385Z"
   },
   {
    "duration": 194,
    "start_time": "2025-07-07T16:24:15.849Z"
   },
   {
    "duration": 138,
    "start_time": "2025-07-07T16:24:16.045Z"
   },
   {
    "duration": 101,
    "start_time": "2025-07-07T16:24:16.185Z"
   },
   {
    "duration": 38,
    "start_time": "2025-07-07T16:24:16.288Z"
   },
   {
    "duration": 69,
    "start_time": "2025-07-07T16:24:16.328Z"
   },
   {
    "duration": 61,
    "start_time": "2025-07-07T16:24:16.399Z"
   },
   {
    "duration": 132,
    "start_time": "2025-07-07T16:24:16.461Z"
   },
   {
    "duration": 232,
    "start_time": "2025-07-07T16:24:16.595Z"
   },
   {
    "duration": 383,
    "start_time": "2025-07-07T16:24:16.829Z"
   },
   {
    "duration": 17,
    "start_time": "2025-07-07T16:24:17.214Z"
   },
   {
    "duration": 32,
    "start_time": "2025-07-07T16:24:17.232Z"
   },
   {
    "duration": 15,
    "start_time": "2025-07-07T16:24:17.265Z"
   },
   {
    "duration": 32,
    "start_time": "2025-07-07T16:24:17.282Z"
   },
   {
    "duration": 27,
    "start_time": "2025-07-07T16:24:17.316Z"
   },
   {
    "duration": 27,
    "start_time": "2025-07-07T16:24:17.345Z"
   },
   {
    "duration": 161,
    "start_time": "2025-07-07T16:24:17.374Z"
   },
   {
    "duration": 82,
    "start_time": "2025-07-07T16:24:17.537Z"
   },
   {
    "duration": 19,
    "start_time": "2025-07-07T16:24:17.621Z"
   },
   {
    "duration": 218,
    "start_time": "2025-07-07T16:24:17.641Z"
   },
   {
    "duration": 262,
    "start_time": "2025-07-07T16:24:17.860Z"
   },
   {
    "duration": 42,
    "start_time": "2025-07-07T16:24:18.124Z"
   },
   {
    "duration": 39,
    "start_time": "2025-07-07T16:24:18.168Z"
   },
   {
    "duration": 43,
    "start_time": "2025-07-07T16:24:18.209Z"
   },
   {
    "duration": 15,
    "start_time": "2025-07-07T16:24:18.253Z"
   },
   {
    "duration": 9,
    "start_time": "2025-07-07T16:24:18.269Z"
   },
   {
    "duration": 12,
    "start_time": "2025-07-07T16:24:18.280Z"
   },
   {
    "duration": 9,
    "start_time": "2025-07-07T16:24:48.179Z"
   },
   {
    "duration": 2740,
    "start_time": "2025-07-07T16:25:01.522Z"
   },
   {
    "duration": 1299,
    "start_time": "2025-07-07T16:25:04.265Z"
   },
   {
    "duration": 1956,
    "start_time": "2025-07-07T16:25:05.565Z"
   },
   {
    "duration": 37,
    "start_time": "2025-07-07T16:25:07.524Z"
   },
   {
    "duration": 126,
    "start_time": "2025-07-07T16:25:07.564Z"
   },
   {
    "duration": 67,
    "start_time": "2025-07-07T16:25:07.692Z"
   },
   {
    "duration": 108,
    "start_time": "2025-07-07T16:25:07.761Z"
   },
   {
    "duration": 8,
    "start_time": "2025-07-07T16:25:07.871Z"
   },
   {
    "duration": 37,
    "start_time": "2025-07-07T16:25:07.881Z"
   },
   {
    "duration": 42,
    "start_time": "2025-07-07T16:25:07.920Z"
   },
   {
    "duration": 75,
    "start_time": "2025-07-07T16:25:07.964Z"
   },
   {
    "duration": 9,
    "start_time": "2025-07-07T16:25:08.041Z"
   },
   {
    "duration": 34,
    "start_time": "2025-07-07T16:25:08.051Z"
   },
   {
    "duration": 20,
    "start_time": "2025-07-07T16:25:08.100Z"
   },
   {
    "duration": 68,
    "start_time": "2025-07-07T16:25:08.122Z"
   },
   {
    "duration": 399,
    "start_time": "2025-07-07T16:25:08.192Z"
   },
   {
    "duration": 91,
    "start_time": "2025-07-07T16:25:08.593Z"
   },
   {
    "duration": 105,
    "start_time": "2025-07-07T16:25:08.686Z"
   },
   {
    "duration": 26,
    "start_time": "2025-07-07T16:25:08.793Z"
   },
   {
    "duration": 52,
    "start_time": "2025-07-07T16:25:08.822Z"
   },
   {
    "duration": 52,
    "start_time": "2025-07-07T16:25:08.876Z"
   },
   {
    "duration": 33,
    "start_time": "2025-07-07T16:25:08.930Z"
   },
   {
    "duration": 15,
    "start_time": "2025-07-07T16:25:08.965Z"
   },
   {
    "duration": 109,
    "start_time": "2025-07-07T16:25:08.982Z"
   },
   {
    "duration": 57,
    "start_time": "2025-07-07T16:25:09.092Z"
   },
   {
    "duration": 46,
    "start_time": "2025-07-07T16:25:09.151Z"
   },
   {
    "duration": 70,
    "start_time": "2025-07-07T16:25:09.204Z"
   },
   {
    "duration": 56,
    "start_time": "2025-07-07T16:25:09.276Z"
   },
   {
    "duration": 61,
    "start_time": "2025-07-07T16:25:09.334Z"
   },
   {
    "duration": 208,
    "start_time": "2025-07-07T16:25:09.397Z"
   },
   {
    "duration": 28,
    "start_time": "2025-07-07T16:25:09.614Z"
   },
   {
    "duration": 335,
    "start_time": "2025-07-07T16:25:09.644Z"
   },
   {
    "duration": 35,
    "start_time": "2025-07-07T16:25:09.981Z"
   },
   {
    "duration": 137,
    "start_time": "2025-07-07T16:25:10.018Z"
   },
   {
    "duration": 28,
    "start_time": "2025-07-07T16:25:10.157Z"
   },
   {
    "duration": 136,
    "start_time": "2025-07-07T16:25:10.186Z"
   },
   {
    "duration": 5,
    "start_time": "2025-07-07T16:25:10.327Z"
   },
   {
    "duration": 41,
    "start_time": "2025-07-07T16:25:10.333Z"
   },
   {
    "duration": 227,
    "start_time": "2025-07-07T16:25:10.375Z"
   },
   {
    "duration": 18,
    "start_time": "2025-07-07T16:25:10.603Z"
   },
   {
    "duration": 25,
    "start_time": "2025-07-07T16:25:10.626Z"
   },
   {
    "duration": 18,
    "start_time": "2025-07-07T16:25:10.653Z"
   },
   {
    "duration": 378,
    "start_time": "2025-07-07T16:25:10.673Z"
   },
   {
    "duration": 118,
    "start_time": "2025-07-07T16:25:11.053Z"
   },
   {
    "duration": 2576,
    "start_time": "2025-07-07T16:25:11.173Z"
   },
   {
    "duration": 211,
    "start_time": "2025-07-07T16:25:13.752Z"
   },
   {
    "duration": 156,
    "start_time": "2025-07-07T16:25:13.965Z"
   },
   {
    "duration": 117,
    "start_time": "2025-07-07T16:25:14.123Z"
   },
   {
    "duration": 29,
    "start_time": "2025-07-07T16:25:14.241Z"
   },
   {
    "duration": 88,
    "start_time": "2025-07-07T16:25:14.272Z"
   },
   {
    "duration": 81,
    "start_time": "2025-07-07T16:25:14.362Z"
   },
   {
    "duration": 121,
    "start_time": "2025-07-07T16:25:14.445Z"
   },
   {
    "duration": 262,
    "start_time": "2025-07-07T16:25:14.568Z"
   },
   {
    "duration": 445,
    "start_time": "2025-07-07T16:25:14.834Z"
   },
   {
    "duration": 39,
    "start_time": "2025-07-07T16:25:15.281Z"
   },
   {
    "duration": 22,
    "start_time": "2025-07-07T16:25:15.322Z"
   },
   {
    "duration": 17,
    "start_time": "2025-07-07T16:25:15.345Z"
   },
   {
    "duration": 48,
    "start_time": "2025-07-07T16:25:15.363Z"
   },
   {
    "duration": 35,
    "start_time": "2025-07-07T16:25:15.412Z"
   },
   {
    "duration": 29,
    "start_time": "2025-07-07T16:25:15.449Z"
   },
   {
    "duration": 188,
    "start_time": "2025-07-07T16:25:15.480Z"
   },
   {
    "duration": 99,
    "start_time": "2025-07-07T16:25:15.670Z"
   },
   {
    "duration": 20,
    "start_time": "2025-07-07T16:25:15.771Z"
   },
   {
    "duration": 227,
    "start_time": "2025-07-07T16:25:15.793Z"
   },
   {
    "duration": 266,
    "start_time": "2025-07-07T16:25:16.021Z"
   },
   {
    "duration": 55,
    "start_time": "2025-07-07T16:25:16.288Z"
   },
   {
    "duration": 26,
    "start_time": "2025-07-07T16:25:16.344Z"
   },
   {
    "duration": 35,
    "start_time": "2025-07-07T16:25:16.372Z"
   },
   {
    "duration": 120,
    "start_time": "2025-07-07T16:25:16.410Z"
   },
   {
    "duration": 10,
    "start_time": "2025-07-07T16:25:16.531Z"
   },
   {
    "duration": 8,
    "start_time": "2025-07-07T16:25:16.542Z"
   },
   {
    "duration": 141,
    "start_time": "2025-07-07T16:25:39.550Z"
   },
   {
    "duration": 7,
    "start_time": "2025-07-07T16:25:51.011Z"
   },
   {
    "duration": 11,
    "start_time": "2025-07-07T16:25:52.354Z"
   },
   {
    "duration": 6,
    "start_time": "2025-07-07T16:26:00.041Z"
   },
   {
    "duration": 2563,
    "start_time": "2025-07-07T16:26:27.714Z"
   },
   {
    "duration": 1284,
    "start_time": "2025-07-07T16:26:30.279Z"
   },
   {
    "duration": 3784,
    "start_time": "2025-07-07T16:26:31.564Z"
   },
   {
    "duration": 27,
    "start_time": "2025-07-07T16:26:35.350Z"
   },
   {
    "duration": 42,
    "start_time": "2025-07-07T16:26:35.378Z"
   },
   {
    "duration": 68,
    "start_time": "2025-07-07T16:26:35.422Z"
   },
   {
    "duration": 98,
    "start_time": "2025-07-07T16:26:35.491Z"
   },
   {
    "duration": 13,
    "start_time": "2025-07-07T16:26:35.591Z"
   },
   {
    "duration": 136,
    "start_time": "2025-07-07T16:26:35.605Z"
   },
   {
    "duration": 8,
    "start_time": "2025-07-07T16:26:35.744Z"
   },
   {
    "duration": 116,
    "start_time": "2025-07-07T16:26:35.754Z"
   },
   {
    "duration": 10,
    "start_time": "2025-07-07T16:26:35.873Z"
   },
   {
    "duration": 59,
    "start_time": "2025-07-07T16:26:35.884Z"
   },
   {
    "duration": 11,
    "start_time": "2025-07-07T16:26:35.946Z"
   },
   {
    "duration": 63,
    "start_time": "2025-07-07T16:26:35.960Z"
   },
   {
    "duration": 251,
    "start_time": "2025-07-07T16:26:36.025Z"
   },
   {
    "duration": 80,
    "start_time": "2025-07-07T16:26:36.279Z"
   },
   {
    "duration": 85,
    "start_time": "2025-07-07T16:26:36.361Z"
   },
   {
    "duration": 15,
    "start_time": "2025-07-07T16:26:36.448Z"
   },
   {
    "duration": 87,
    "start_time": "2025-07-07T16:26:36.464Z"
   },
   {
    "duration": 13,
    "start_time": "2025-07-07T16:26:36.552Z"
   },
   {
    "duration": 53,
    "start_time": "2025-07-07T16:26:36.566Z"
   },
   {
    "duration": 30,
    "start_time": "2025-07-07T16:26:36.620Z"
   },
   {
    "duration": 39,
    "start_time": "2025-07-07T16:26:36.651Z"
   },
   {
    "duration": 54,
    "start_time": "2025-07-07T16:26:36.692Z"
   },
   {
    "duration": 38,
    "start_time": "2025-07-07T16:26:36.748Z"
   },
   {
    "duration": 120,
    "start_time": "2025-07-07T16:26:36.787Z"
   },
   {
    "duration": 37,
    "start_time": "2025-07-07T16:26:36.911Z"
   },
   {
    "duration": 61,
    "start_time": "2025-07-07T16:26:36.949Z"
   },
   {
    "duration": 178,
    "start_time": "2025-07-07T16:26:37.012Z"
   },
   {
    "duration": 31,
    "start_time": "2025-07-07T16:26:37.191Z"
   },
   {
    "duration": 260,
    "start_time": "2025-07-07T16:26:37.224Z"
   },
   {
    "duration": 14,
    "start_time": "2025-07-07T16:26:37.485Z"
   },
   {
    "duration": 107,
    "start_time": "2025-07-07T16:26:37.501Z"
   },
   {
    "duration": 26,
    "start_time": "2025-07-07T16:26:37.609Z"
   },
   {
    "duration": 140,
    "start_time": "2025-07-07T16:26:37.636Z"
   },
   {
    "duration": 7,
    "start_time": "2025-07-07T16:26:37.778Z"
   },
   {
    "duration": 38,
    "start_time": "2025-07-07T16:26:37.786Z"
   },
   {
    "duration": 182,
    "start_time": "2025-07-07T16:26:37.826Z"
   },
   {
    "duration": 11,
    "start_time": "2025-07-07T16:26:38.009Z"
   },
   {
    "duration": 39,
    "start_time": "2025-07-07T16:26:38.022Z"
   },
   {
    "duration": 20,
    "start_time": "2025-07-07T16:26:38.062Z"
   },
   {
    "duration": 347,
    "start_time": "2025-07-07T16:26:38.083Z"
   },
   {
    "duration": 103,
    "start_time": "2025-07-07T16:26:38.431Z"
   },
   {
    "duration": 2418,
    "start_time": "2025-07-07T16:26:38.536Z"
   },
   {
    "duration": 176,
    "start_time": "2025-07-07T16:26:40.956Z"
   },
   {
    "duration": 136,
    "start_time": "2025-07-07T16:26:41.134Z"
   },
   {
    "duration": 92,
    "start_time": "2025-07-07T16:26:41.272Z"
   },
   {
    "duration": 37,
    "start_time": "2025-07-07T16:26:41.365Z"
   },
   {
    "duration": 101,
    "start_time": "2025-07-07T16:26:41.404Z"
   },
   {
    "duration": 59,
    "start_time": "2025-07-07T16:26:41.507Z"
   },
   {
    "duration": 104,
    "start_time": "2025-07-07T16:26:41.567Z"
   },
   {
    "duration": 209,
    "start_time": "2025-07-07T16:26:41.673Z"
   },
   {
    "duration": 420,
    "start_time": "2025-07-07T16:26:41.884Z"
   },
   {
    "duration": 18,
    "start_time": "2025-07-07T16:26:42.306Z"
   },
   {
    "duration": 21,
    "start_time": "2025-07-07T16:26:42.325Z"
   },
   {
    "duration": 16,
    "start_time": "2025-07-07T16:26:42.348Z"
   },
   {
    "duration": 46,
    "start_time": "2025-07-07T16:26:42.366Z"
   },
   {
    "duration": 29,
    "start_time": "2025-07-07T16:26:42.413Z"
   },
   {
    "duration": 97,
    "start_time": "2025-07-07T16:26:42.444Z"
   },
   {
    "duration": 128,
    "start_time": "2025-07-07T16:26:42.543Z"
   },
   {
    "duration": 79,
    "start_time": "2025-07-07T16:26:42.672Z"
   },
   {
    "duration": 19,
    "start_time": "2025-07-07T16:26:42.753Z"
   },
   {
    "duration": 236,
    "start_time": "2025-07-07T16:26:42.773Z"
   },
   {
    "duration": 261,
    "start_time": "2025-07-07T16:26:43.011Z"
   },
   {
    "duration": 53,
    "start_time": "2025-07-07T16:26:43.274Z"
   },
   {
    "duration": 22,
    "start_time": "2025-07-07T16:26:43.328Z"
   },
   {
    "duration": 43,
    "start_time": "2025-07-07T16:26:43.352Z"
   },
   {
    "duration": 19,
    "start_time": "2025-07-07T16:26:43.397Z"
   },
   {
    "duration": 9,
    "start_time": "2025-07-07T16:26:43.417Z"
   },
   {
    "duration": 6,
    "start_time": "2025-07-07T16:26:43.428Z"
   },
   {
    "duration": 8,
    "start_time": "2025-07-07T16:29:46.279Z"
   },
   {
    "duration": 6,
    "start_time": "2025-07-07T16:30:46.564Z"
   },
   {
    "duration": 6,
    "start_time": "2025-07-07T16:30:50.483Z"
   },
   {
    "duration": 8,
    "start_time": "2025-07-07T16:31:08.389Z"
   },
   {
    "duration": 8,
    "start_time": "2025-07-07T16:31:31.208Z"
   },
   {
    "duration": 8,
    "start_time": "2025-07-07T16:31:48.033Z"
   },
   {
    "duration": 8,
    "start_time": "2025-07-07T16:32:08.825Z"
   },
   {
    "duration": 2410,
    "start_time": "2025-07-07T16:32:13.355Z"
   },
   {
    "duration": 1201,
    "start_time": "2025-07-07T16:32:15.768Z"
   },
   {
    "duration": 1824,
    "start_time": "2025-07-07T16:32:16.970Z"
   },
   {
    "duration": 27,
    "start_time": "2025-07-07T16:32:18.796Z"
   },
   {
    "duration": 83,
    "start_time": "2025-07-07T16:32:18.825Z"
   },
   {
    "duration": 43,
    "start_time": "2025-07-07T16:32:18.909Z"
   },
   {
    "duration": 99,
    "start_time": "2025-07-07T16:32:18.954Z"
   },
   {
    "duration": 7,
    "start_time": "2025-07-07T16:32:19.055Z"
   },
   {
    "duration": 61,
    "start_time": "2025-07-07T16:32:19.064Z"
   },
   {
    "duration": 10,
    "start_time": "2025-07-07T16:32:19.127Z"
   },
   {
    "duration": 41,
    "start_time": "2025-07-07T16:32:19.138Z"
   },
   {
    "duration": 7,
    "start_time": "2025-07-07T16:32:19.181Z"
   },
   {
    "duration": 31,
    "start_time": "2025-07-07T16:32:19.190Z"
   },
   {
    "duration": 14,
    "start_time": "2025-07-07T16:32:19.224Z"
   },
   {
    "duration": 33,
    "start_time": "2025-07-07T16:32:19.239Z"
   },
   {
    "duration": 246,
    "start_time": "2025-07-07T16:32:19.274Z"
   },
   {
    "duration": 80,
    "start_time": "2025-07-07T16:32:19.522Z"
   },
   {
    "duration": 76,
    "start_time": "2025-07-07T16:32:19.604Z"
   },
   {
    "duration": 37,
    "start_time": "2025-07-07T16:32:19.681Z"
   },
   {
    "duration": 11,
    "start_time": "2025-07-07T16:32:19.719Z"
   },
   {
    "duration": 103,
    "start_time": "2025-07-07T16:32:19.731Z"
   },
   {
    "duration": 100,
    "start_time": "2025-07-07T16:32:19.836Z"
   },
   {
    "duration": 11,
    "start_time": "2025-07-07T16:32:19.938Z"
   },
   {
    "duration": 34,
    "start_time": "2025-07-07T16:32:19.950Z"
   },
   {
    "duration": 47,
    "start_time": "2025-07-07T16:32:19.986Z"
   },
   {
    "duration": 59,
    "start_time": "2025-07-07T16:32:20.034Z"
   },
   {
    "duration": 21,
    "start_time": "2025-07-07T16:32:20.094Z"
   },
   {
    "duration": 46,
    "start_time": "2025-07-07T16:32:20.117Z"
   },
   {
    "duration": 143,
    "start_time": "2025-07-07T16:32:20.165Z"
   },
   {
    "duration": 200,
    "start_time": "2025-07-07T16:32:20.309Z"
   },
   {
    "duration": 31,
    "start_time": "2025-07-07T16:32:20.511Z"
   },
   {
    "duration": 319,
    "start_time": "2025-07-07T16:32:20.544Z"
   },
   {
    "duration": 8,
    "start_time": "2025-07-07T16:32:20.865Z"
   },
   {
    "duration": 169,
    "start_time": "2025-07-07T16:32:20.875Z"
   },
   {
    "duration": 26,
    "start_time": "2025-07-07T16:32:21.045Z"
   },
   {
    "duration": 115,
    "start_time": "2025-07-07T16:32:21.073Z"
   },
   {
    "duration": 13,
    "start_time": "2025-07-07T16:32:21.190Z"
   },
   {
    "duration": 51,
    "start_time": "2025-07-07T16:32:21.205Z"
   },
   {
    "duration": 172,
    "start_time": "2025-07-07T16:32:21.257Z"
   },
   {
    "duration": 10,
    "start_time": "2025-07-07T16:32:21.431Z"
   },
   {
    "duration": 48,
    "start_time": "2025-07-07T16:32:21.445Z"
   },
   {
    "duration": 54,
    "start_time": "2025-07-07T16:32:21.494Z"
   },
   {
    "duration": 343,
    "start_time": "2025-07-07T16:32:21.549Z"
   },
   {
    "duration": 94,
    "start_time": "2025-07-07T16:32:21.893Z"
   },
   {
    "duration": 2409,
    "start_time": "2025-07-07T16:32:21.989Z"
   },
   {
    "duration": 181,
    "start_time": "2025-07-07T16:32:24.401Z"
   },
   {
    "duration": 146,
    "start_time": "2025-07-07T16:32:24.584Z"
   },
   {
    "duration": 119,
    "start_time": "2025-07-07T16:32:24.733Z"
   },
   {
    "duration": 33,
    "start_time": "2025-07-07T16:32:24.855Z"
   },
   {
    "duration": 75,
    "start_time": "2025-07-07T16:32:24.899Z"
   },
   {
    "duration": 61,
    "start_time": "2025-07-07T16:32:24.976Z"
   },
   {
    "duration": 167,
    "start_time": "2025-07-07T16:32:25.038Z"
   },
   {
    "duration": 222,
    "start_time": "2025-07-07T16:32:25.206Z"
   },
   {
    "duration": 411,
    "start_time": "2025-07-07T16:32:25.429Z"
   },
   {
    "duration": 17,
    "start_time": "2025-07-07T16:32:25.842Z"
   },
   {
    "duration": 41,
    "start_time": "2025-07-07T16:32:25.860Z"
   },
   {
    "duration": 18,
    "start_time": "2025-07-07T16:32:25.902Z"
   },
   {
    "duration": 18,
    "start_time": "2025-07-07T16:32:25.922Z"
   },
   {
    "duration": 56,
    "start_time": "2025-07-07T16:32:25.943Z"
   },
   {
    "duration": 26,
    "start_time": "2025-07-07T16:32:26.000Z"
   },
   {
    "duration": 136,
    "start_time": "2025-07-07T16:32:26.028Z"
   },
   {
    "duration": 81,
    "start_time": "2025-07-07T16:32:26.165Z"
   },
   {
    "duration": 19,
    "start_time": "2025-07-07T16:32:26.248Z"
   },
   {
    "duration": 166,
    "start_time": "2025-07-07T16:32:26.269Z"
   },
   {
    "duration": 255,
    "start_time": "2025-07-07T16:32:26.436Z"
   },
   {
    "duration": 43,
    "start_time": "2025-07-07T16:32:26.693Z"
   },
   {
    "duration": 22,
    "start_time": "2025-07-07T16:32:26.737Z"
   },
   {
    "duration": 5,
    "start_time": "2025-07-07T16:32:26.761Z"
   },
   {
    "duration": 34,
    "start_time": "2025-07-07T16:32:26.768Z"
   },
   {
    "duration": 7,
    "start_time": "2025-07-07T16:32:26.804Z"
   },
   {
    "duration": 6,
    "start_time": "2025-07-07T16:32:33.358Z"
   },
   {
    "duration": 9,
    "start_time": "2025-07-07T16:32:47.092Z"
   },
   {
    "duration": 6,
    "start_time": "2025-07-07T16:33:16.800Z"
   },
   {
    "duration": 4,
    "start_time": "2025-07-07T16:39:00.592Z"
   },
   {
    "duration": 6,
    "start_time": "2025-07-07T16:39:15.554Z"
   },
   {
    "duration": 6,
    "start_time": "2025-07-07T16:39:28.467Z"
   },
   {
    "duration": 6,
    "start_time": "2025-07-07T16:40:42.212Z"
   },
   {
    "duration": 6,
    "start_time": "2025-07-07T16:40:48.753Z"
   },
   {
    "duration": 6,
    "start_time": "2025-07-07T16:41:02.446Z"
   },
   {
    "duration": 555,
    "start_time": "2025-07-07T16:47:54.628Z"
   },
   {
    "duration": 500,
    "start_time": "2025-07-07T16:49:15.996Z"
   },
   {
    "duration": 111,
    "start_time": "2025-07-07T16:50:02.281Z"
   },
   {
    "duration": 464,
    "start_time": "2025-07-07T16:50:12.787Z"
   },
   {
    "duration": 15,
    "start_time": "2025-07-07T16:52:28.230Z"
   },
   {
    "duration": 1432,
    "start_time": "2025-07-07T16:52:42.830Z"
   },
   {
    "duration": 19,
    "start_time": "2025-07-07T16:53:04.534Z"
   },
   {
    "duration": 600,
    "start_time": "2025-07-07T16:53:12.309Z"
   },
   {
    "duration": 489,
    "start_time": "2025-07-07T16:55:20.804Z"
   },
   {
    "duration": 499,
    "start_time": "2025-07-07T16:56:24.630Z"
   },
   {
    "duration": 7,
    "start_time": "2025-07-07T17:00:11.158Z"
   },
   {
    "duration": 96,
    "start_time": "2025-07-07T17:00:27.258Z"
   },
   {
    "duration": 9,
    "start_time": "2025-07-07T17:00:31.164Z"
   },
   {
    "duration": 9,
    "start_time": "2025-07-07T17:02:50.833Z"
   },
   {
    "duration": 25,
    "start_time": "2025-07-07T17:05:02.974Z"
   },
   {
    "duration": 6,
    "start_time": "2025-07-07T17:05:14.117Z"
   },
   {
    "duration": 2547,
    "start_time": "2025-07-07T17:19:46.621Z"
   },
   {
    "duration": 1312,
    "start_time": "2025-07-07T17:19:49.172Z"
   },
   {
    "duration": 2354,
    "start_time": "2025-07-07T17:19:50.486Z"
   },
   {
    "duration": 26,
    "start_time": "2025-07-07T17:19:52.842Z"
   },
   {
    "duration": 8,
    "start_time": "2025-07-07T17:19:52.869Z"
   },
   {
    "duration": 76,
    "start_time": "2025-07-07T17:19:52.878Z"
   },
   {
    "duration": 102,
    "start_time": "2025-07-07T17:19:52.956Z"
   },
   {
    "duration": 9,
    "start_time": "2025-07-07T17:19:53.059Z"
   },
   {
    "duration": 15,
    "start_time": "2025-07-07T17:19:53.069Z"
   },
   {
    "duration": 23,
    "start_time": "2025-07-07T17:19:53.100Z"
   },
   {
    "duration": 45,
    "start_time": "2025-07-07T17:19:53.125Z"
   },
   {
    "duration": 8,
    "start_time": "2025-07-07T17:19:53.172Z"
   },
   {
    "duration": 35,
    "start_time": "2025-07-07T17:19:53.181Z"
   },
   {
    "duration": 12,
    "start_time": "2025-07-07T17:19:53.218Z"
   },
   {
    "duration": 37,
    "start_time": "2025-07-07T17:19:53.233Z"
   },
   {
    "duration": 381,
    "start_time": "2025-07-07T17:19:53.273Z"
   },
   {
    "duration": 81,
    "start_time": "2025-07-07T17:19:53.656Z"
   },
   {
    "duration": 79,
    "start_time": "2025-07-07T17:19:53.739Z"
   },
   {
    "duration": 16,
    "start_time": "2025-07-07T17:19:53.820Z"
   },
   {
    "duration": 123,
    "start_time": "2025-07-07T17:19:53.838Z"
   },
   {
    "duration": 41,
    "start_time": "2025-07-07T17:19:53.963Z"
   },
   {
    "duration": 57,
    "start_time": "2025-07-07T17:19:54.007Z"
   },
   {
    "duration": 13,
    "start_time": "2025-07-07T17:19:54.067Z"
   },
   {
    "duration": 31,
    "start_time": "2025-07-07T17:19:54.081Z"
   },
   {
    "duration": 67,
    "start_time": "2025-07-07T17:19:54.115Z"
   },
   {
    "duration": 37,
    "start_time": "2025-07-07T17:19:54.183Z"
   },
   {
    "duration": 72,
    "start_time": "2025-07-07T17:19:54.222Z"
   },
   {
    "duration": 22,
    "start_time": "2025-07-07T17:19:54.300Z"
   },
   {
    "duration": 97,
    "start_time": "2025-07-07T17:19:54.324Z"
   },
   {
    "duration": 283,
    "start_time": "2025-07-07T17:19:54.423Z"
   },
   {
    "duration": 35,
    "start_time": "2025-07-07T17:19:54.708Z"
   },
   {
    "duration": 349,
    "start_time": "2025-07-07T17:19:54.746Z"
   },
   {
    "duration": 9,
    "start_time": "2025-07-07T17:19:55.097Z"
   },
   {
    "duration": 134,
    "start_time": "2025-07-07T17:19:55.108Z"
   },
   {
    "duration": 47,
    "start_time": "2025-07-07T17:19:55.244Z"
   },
   {
    "duration": 141,
    "start_time": "2025-07-07T17:19:55.298Z"
   },
   {
    "duration": 5,
    "start_time": "2025-07-07T17:19:55.441Z"
   },
   {
    "duration": 54,
    "start_time": "2025-07-07T17:19:55.448Z"
   },
   {
    "duration": 196,
    "start_time": "2025-07-07T17:19:55.504Z"
   },
   {
    "duration": 12,
    "start_time": "2025-07-07T17:19:55.702Z"
   },
   {
    "duration": 36,
    "start_time": "2025-07-07T17:19:55.716Z"
   },
   {
    "duration": 45,
    "start_time": "2025-07-07T17:19:55.754Z"
   },
   {
    "duration": 404,
    "start_time": "2025-07-07T17:19:55.801Z"
   },
   {
    "duration": 108,
    "start_time": "2025-07-07T17:19:56.207Z"
   },
   {
    "duration": 2591,
    "start_time": "2025-07-07T17:19:56.317Z"
   },
   {
    "duration": 207,
    "start_time": "2025-07-07T17:19:58.911Z"
   },
   {
    "duration": 160,
    "start_time": "2025-07-07T17:19:59.121Z"
   },
   {
    "duration": 103,
    "start_time": "2025-07-07T17:19:59.283Z"
   },
   {
    "duration": 36,
    "start_time": "2025-07-07T17:19:59.387Z"
   },
   {
    "duration": 78,
    "start_time": "2025-07-07T17:19:59.425Z"
   },
   {
    "duration": 66,
    "start_time": "2025-07-07T17:19:59.505Z"
   },
   {
    "duration": 119,
    "start_time": "2025-07-07T17:19:59.573Z"
   },
   {
    "duration": 263,
    "start_time": "2025-07-07T17:19:59.700Z"
   },
   {
    "duration": 479,
    "start_time": "2025-07-07T17:19:59.966Z"
   },
   {
    "duration": 21,
    "start_time": "2025-07-07T17:20:00.446Z"
   },
   {
    "duration": 131,
    "start_time": "2025-07-07T17:20:00.470Z"
   },
   {
    "duration": 19,
    "start_time": "2025-07-07T17:20:00.603Z"
   },
   {
    "duration": 78,
    "start_time": "2025-07-07T17:20:00.623Z"
   },
   {
    "duration": 33,
    "start_time": "2025-07-07T17:20:00.702Z"
   },
   {
    "duration": 63,
    "start_time": "2025-07-07T17:20:00.737Z"
   },
   {
    "duration": 152,
    "start_time": "2025-07-07T17:20:00.802Z"
   },
   {
    "duration": 89,
    "start_time": "2025-07-07T17:20:00.956Z"
   },
   {
    "duration": 89,
    "start_time": "2025-07-07T17:20:01.047Z"
   },
   {
    "duration": 191,
    "start_time": "2025-07-07T17:20:01.137Z"
   },
   {
    "duration": 314,
    "start_time": "2025-07-07T17:20:01.330Z"
   },
   {
    "duration": 65,
    "start_time": "2025-07-07T17:20:01.646Z"
   },
   {
    "duration": 27,
    "start_time": "2025-07-07T17:20:01.713Z"
   },
   {
    "duration": 110,
    "start_time": "2025-07-07T17:20:01.742Z"
   },
   {
    "duration": 151,
    "start_time": "2025-07-07T17:20:01.855Z"
   },
   {
    "duration": 65,
    "start_time": "2025-07-07T17:20:02.009Z"
   },
   {
    "duration": 58,
    "start_time": "2025-07-07T17:20:02.076Z"
   },
   {
    "duration": 28,
    "start_time": "2025-07-07T17:20:02.136Z"
   },
   {
    "duration": 602,
    "start_time": "2025-07-07T17:20:02.166Z"
   },
   {
    "duration": 74,
    "start_time": "2025-07-07T18:14:18.749Z"
   },
   {
    "duration": 72,
    "start_time": "2025-07-07T18:15:19.414Z"
   },
   {
    "duration": 15,
    "start_time": "2025-07-07T18:16:14.567Z"
   },
   {
    "duration": 2505,
    "start_time": "2025-07-07T18:18:11.734Z"
   },
   {
    "duration": 1244,
    "start_time": "2025-07-07T18:18:14.242Z"
   },
   {
    "duration": 2453,
    "start_time": "2025-07-07T18:18:15.488Z"
   },
   {
    "duration": 26,
    "start_time": "2025-07-07T18:18:17.943Z"
   },
   {
    "duration": 21,
    "start_time": "2025-07-07T18:18:17.970Z"
   },
   {
    "duration": 62,
    "start_time": "2025-07-07T18:18:17.993Z"
   },
   {
    "duration": 98,
    "start_time": "2025-07-07T18:18:18.056Z"
   },
   {
    "duration": 9,
    "start_time": "2025-07-07T18:18:18.155Z"
   },
   {
    "duration": 24,
    "start_time": "2025-07-07T18:18:18.165Z"
   },
   {
    "duration": 40,
    "start_time": "2025-07-07T18:18:18.192Z"
   },
   {
    "duration": 50,
    "start_time": "2025-07-07T18:18:18.234Z"
   },
   {
    "duration": 8,
    "start_time": "2025-07-07T18:18:18.286Z"
   },
   {
    "duration": 42,
    "start_time": "2025-07-07T18:18:18.295Z"
   },
   {
    "duration": 8,
    "start_time": "2025-07-07T18:18:18.338Z"
   },
   {
    "duration": 39,
    "start_time": "2025-07-07T18:18:18.348Z"
   },
   {
    "duration": 260,
    "start_time": "2025-07-07T18:18:18.389Z"
   },
   {
    "duration": 76,
    "start_time": "2025-07-07T18:18:18.650Z"
   },
   {
    "duration": 90,
    "start_time": "2025-07-07T18:18:18.727Z"
   },
   {
    "duration": 17,
    "start_time": "2025-07-07T18:18:18.819Z"
   },
   {
    "duration": 6,
    "start_time": "2025-07-07T18:18:18.838Z"
   },
   {
    "duration": 10,
    "start_time": "2025-07-07T18:18:18.846Z"
   },
   {
    "duration": 56,
    "start_time": "2025-07-07T18:18:18.858Z"
   },
   {
    "duration": 11,
    "start_time": "2025-07-07T18:18:18.916Z"
   },
   {
    "duration": 17,
    "start_time": "2025-07-07T18:18:18.929Z"
   },
   {
    "duration": 54,
    "start_time": "2025-07-07T18:18:18.948Z"
   },
   {
    "duration": 35,
    "start_time": "2025-07-07T18:18:19.004Z"
   },
   {
    "duration": 19,
    "start_time": "2025-07-07T18:18:19.041Z"
   },
   {
    "duration": 40,
    "start_time": "2025-07-07T18:18:19.064Z"
   },
   {
    "duration": 59,
    "start_time": "2025-07-07T18:18:19.105Z"
   },
   {
    "duration": 195,
    "start_time": "2025-07-07T18:18:19.165Z"
   },
   {
    "duration": 26,
    "start_time": "2025-07-07T18:18:19.361Z"
   },
   {
    "duration": 267,
    "start_time": "2025-07-07T18:18:19.389Z"
   },
   {
    "duration": 8,
    "start_time": "2025-07-07T18:18:19.658Z"
   },
   {
    "duration": 113,
    "start_time": "2025-07-07T18:18:19.667Z"
   },
   {
    "duration": 30,
    "start_time": "2025-07-07T18:18:19.782Z"
   },
   {
    "duration": 96,
    "start_time": "2025-07-07T18:18:19.813Z"
   },
   {
    "duration": 4,
    "start_time": "2025-07-07T18:18:19.911Z"
   },
   {
    "duration": 39,
    "start_time": "2025-07-07T18:18:19.917Z"
   },
   {
    "duration": 192,
    "start_time": "2025-07-07T18:18:19.958Z"
   },
   {
    "duration": 10,
    "start_time": "2025-07-07T18:18:20.152Z"
   },
   {
    "duration": 40,
    "start_time": "2025-07-07T18:18:20.164Z"
   },
   {
    "duration": 60,
    "start_time": "2025-07-07T18:18:20.206Z"
   },
   {
    "duration": 407,
    "start_time": "2025-07-07T18:18:20.269Z"
   },
   {
    "duration": 107,
    "start_time": "2025-07-07T18:18:20.677Z"
   },
   {
    "duration": 2445,
    "start_time": "2025-07-07T18:18:20.785Z"
   },
   {
    "duration": 169,
    "start_time": "2025-07-07T18:18:23.231Z"
   },
   {
    "duration": 134,
    "start_time": "2025-07-07T18:18:23.402Z"
   },
   {
    "duration": 98,
    "start_time": "2025-07-07T18:18:23.538Z"
   },
   {
    "duration": 29,
    "start_time": "2025-07-07T18:18:23.638Z"
   },
   {
    "duration": 79,
    "start_time": "2025-07-07T18:18:23.669Z"
   },
   {
    "duration": 67,
    "start_time": "2025-07-07T18:18:23.749Z"
   },
   {
    "duration": 97,
    "start_time": "2025-07-07T18:18:23.818Z"
   },
   {
    "duration": 215,
    "start_time": "2025-07-07T18:18:23.917Z"
   },
   {
    "duration": 401,
    "start_time": "2025-07-07T18:18:24.134Z"
   },
   {
    "duration": 24,
    "start_time": "2025-07-07T18:18:24.538Z"
   },
   {
    "duration": 75,
    "start_time": "2025-07-07T18:18:24.564Z"
   },
   {
    "duration": 15,
    "start_time": "2025-07-07T18:18:24.641Z"
   },
   {
    "duration": 68,
    "start_time": "2025-07-07T18:18:24.658Z"
   },
   {
    "duration": 39,
    "start_time": "2025-07-07T18:18:24.729Z"
   },
   {
    "duration": 39,
    "start_time": "2025-07-07T18:18:24.770Z"
   },
   {
    "duration": 131,
    "start_time": "2025-07-07T18:18:24.811Z"
   },
   {
    "duration": 87,
    "start_time": "2025-07-07T18:18:24.943Z"
   },
   {
    "duration": 19,
    "start_time": "2025-07-07T18:18:25.032Z"
   },
   {
    "duration": 182,
    "start_time": "2025-07-07T18:18:25.052Z"
   },
   {
    "duration": 253,
    "start_time": "2025-07-07T18:18:25.236Z"
   },
   {
    "duration": 44,
    "start_time": "2025-07-07T18:18:25.499Z"
   },
   {
    "duration": 70,
    "start_time": "2025-07-07T18:18:25.545Z"
   },
   {
    "duration": 9,
    "start_time": "2025-07-07T18:18:25.617Z"
   },
   {
    "duration": 21,
    "start_time": "2025-07-07T18:18:25.628Z"
   },
   {
    "duration": 14,
    "start_time": "2025-07-07T18:18:25.651Z"
   },
   {
    "duration": 32,
    "start_time": "2025-07-07T18:18:25.667Z"
   },
   {
    "duration": 22,
    "start_time": "2025-07-07T18:18:25.701Z"
   },
   {
    "duration": 501,
    "start_time": "2025-07-07T18:18:25.725Z"
   }
  ],
  "colab": {
   "provenance": []
  },
  "kernelspec": {
   "display_name": "Python [conda env:base] *",
   "language": "python",
   "name": "conda-base-py"
  },
  "language_info": {
   "codemirror_mode": {
    "name": "ipython",
    "version": 3
   },
   "file_extension": ".py",
   "mimetype": "text/x-python",
   "name": "python",
   "nbconvert_exporter": "python",
   "pygments_lexer": "ipython3",
   "version": "3.12.7"
  },
  "toc": {
   "base_numbering": 1,
   "nav_menu": {},
   "number_sections": true,
   "sideBar": true,
   "skip_h1_title": true,
   "title_cell": "Table of Contents",
   "title_sidebar": "Contents",
   "toc_cell": false,
   "toc_position": {},
   "toc_section_display": true,
   "toc_window_display": false
  }
 },
 "nbformat": 4,
 "nbformat_minor": 4
}
